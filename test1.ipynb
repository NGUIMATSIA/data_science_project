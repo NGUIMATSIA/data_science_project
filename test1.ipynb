{
 "cells": [
  {
   "cell_type": "code",
   "execution_count": 2,
   "id": "4d50c3c3-4689-4071-be58-bc16a19b96b2",
   "metadata": {},
   "outputs": [],
   "source": [
    "# FIRST LINES OF THE Project CODE ?\n",
    "import numpy as np\n",
    "import pandas as pd"
   ]
  },
  {
   "cell_type": "code",
   "execution_count": 3,
   "id": "285876e8-3498-4eb1-8693-f5835d53d597",
   "metadata": {},
   "outputs": [],
   "source": [
    "# This file is to import data fram ademe\n",
    "\n",
    "import requests\n",
    "import pandas as pd\n",
    "import geopandas as gpd"
   ]
  },
  {
   "cell_type": "code",
   "execution_count": 8,
   "id": "14453e1c-c454-43c9-bd9f-d3772b3e16b4",
   "metadata": {},
   "outputs": [
    {
     "name": "stdout",
     "output_type": "stream",
     "text": [
      "  TYPECOM    COM   REG DEP CTCD  ARR  TNCC                    NCC  \\\n",
      "0     COM  01001  84.0  01  01D  012     5  ABERGEMENT CLEMENCIAT   \n",
      "1     COM  01002  84.0  01  01D  011     5    ABERGEMENT DE VAREY   \n",
      "2     COM  01004  84.0  01  01D  011     1      AMBERIEU EN BUGEY   \n",
      "3     COM  01005  84.0  01  01D  012     1    AMBERIEUX EN DOMBES   \n",
      "4     COM  01006  84.0  01  01D  011     1                AMBLEON   \n",
      "\n",
      "                  NCCENR                  LIBELLE   CAN  COMPARENT  \n",
      "0  Abergement-Clémenciat  L'Abergement-Clémenciat  0108        NaN  \n",
      "1    Abergement-de-Varey    L'Abergement-de-Varey  0101        NaN  \n",
      "2      Ambérieu-en-Bugey        Ambérieu-en-Bugey  0101        NaN  \n",
      "3    Ambérieux-en-Dombes      Ambérieux-en-Dombes  0122        NaN  \n",
      "4                Ambléon                  Ambléon  0104        NaN  \n",
      "1288\n",
      "1288\n"
     ]
    }
   ],
   "source": [
    "# Recherche de la Liste des codes de communes\n",
    "\n",
    "co_com = pd.read_csv(\"https://www.insee.fr/fr/statistiques/fichier/6051727/commune_2022.csv\")\n",
    "print(co_com.head())\n",
    "\n",
    "# Sélection des communes de la région ile-de-France\n",
    "CODES = co_com.loc[co_com[\"REG\"]==11,\"COM\"].unique()\n",
    "co_com2 = co_com.loc[co_com[\"REG\"]==11,]\n",
    "print(len(co_com2))\n",
    "print(len(CODES))  #1288\n"
   ]
  },
  {
   "cell_type": "code",
   "execution_count": 5,
   "id": "554a2aa4-585e-43da-a507-e7e928fc87c7",
   "metadata": {},
   "outputs": [],
   "source": [
    "# Définition de la fonction d'extraction de données\n",
    "\n",
    "def get_dpe_from_url(url):\n",
    "\n",
    "    req = requests.get(url)\n",
    "    wb = req.json()\n",
    "    try:\n",
    "        df = pd.json_normalize(wb[\"results\"]) # Conversion du fichier Json en dataframe pandas\n",
    "    except json.JSONDecodeError:\n",
    "        print(\"A file was empty\")\n",
    "    \n",
    "    if 'longitude' in df.columns.tolist() and 'latitude' in df.columns.tolist():\n",
    "    # Conversion du dataframe classique en dataframe géographique \n",
    "        dpe = gpd.GeoDataFrame(df, geometry=gpd.points_from_xy(df[\"longitude\"], df[\"latitude\"]), crs = 4326) \n",
    "        dpe = dpe.dropna(subset = ['longitude', 'latitude'])\n",
    "\n",
    "        return dpe\n"
   ]
  },
  {
   "cell_type": "code",
   "execution_count": null,
   "id": "e1b68a96-c2a8-4b35-b204-3c4b34e075e9",
   "metadata": {},
   "outputs": [],
   "source": []
  },
  {
   "cell_type": "code",
   "execution_count": 9,
   "id": "4735ac5b-3669-458f-b9f0-ded5c316f212",
   "metadata": {},
   "outputs": [],
   "source": [
    "# Fixation des paramètres pour le requêtage\n",
    "    #code_commune=\"01450\"\n",
    "code_commune = CODES[53]\n",
    "size = 10000\n",
    "root=\"https://data.ademe.fr/data-fair/api/v1/datasets/dpe-france/lines\"\n",
    "url_api = f\"{root}?page=1&after=100&format=json&q_mode=simple&qs=code_insee_commune_actualise\" + \"%3A%22\" + f\"{code_commune}\" + \"%22\" + f\"&size={size}&select=\" + \"%2A&sampling=max\"\n",
    "url_api2 = f\"{root}?after=100&format=json&q_mode=simple&qs=code_insee_commune_actualise\" + \"%3A%22\" + f\"{code_commune}\" + \"%22\" + f\"&size={size}&select=\" + \"%2A&sampling=neighbors\"\n"
   ]
  },
  {
   "cell_type": "code",
   "execution_count": null,
   "id": "520955c1-502b-4910-8317-5928b2a8f3cc",
   "metadata": {},
   "outputs": [],
   "source": []
  },
  {
   "cell_type": "code",
   "execution_count": 6,
   "id": "a89852dd-ad16-443e-94c4-43a59f618e31",
   "metadata": {},
   "outputs": [],
   "source": [
    "# Fonction qui retourne l'url à partir du code_commune\n",
    "def ret_url (cod,size_):\n",
    "    return f\"{root}?after=100&format=json&q_mode=simple&qs=code_insee_commune_actualise\" + \"%3A%22\" + f\"{cod}\" + \"%22\" + f\"&size={size_}&select=\" + \"%2A&sampling=neighbors\""
   ]
  },
  {
   "cell_type": "code",
   "execution_count": null,
   "id": "fccded08-cb10-422f-956e-5fc3d3536338",
   "metadata": {},
   "outputs": [],
   "source": [
    "# Construction d'un dataframe complet des données pour la Région île-de-France\n",
    "\n",
    "dpe_f = get_dpe_from_url(ret_url(CODES[0],10000))\n",
    "\n",
    "for i in range(len(CODES)):                                                  # len(CODES)\n",
    "    \n",
    "    dpei = get_dpe_from_url(ret_url(CODES[i+1],10000))\n",
    "    if dpei is not None:\n",
    "        Commune = co_com2.loc[co_com2[\"COM\"]==CODES[i],\"NCC\"].tolist()[0]\n",
    "        dpei[\"Commune\"] = Commune\n",
    "        #dpei.set_index(\"Commune\")\n",
    "        dpe_f = pd.concat([dpe_f, dpei])\n",
    "    \n",
    "#dpe_f.head(5)\n",
    "dpe_f.info()"
   ]
  },
  {
   "cell_type": "code",
   "execution_count": null,
   "id": "31d583ff-e918-4e9d-8a89-5f7e20130553",
   "metadata": {},
   "outputs": [],
   "source": []
  }
 ],
 "metadata": {
  "kernelspec": {
   "display_name": "Python 3 (ipykernel)",
   "language": "python",
   "name": "python3"
  },
  "language_info": {
   "codemirror_mode": {
    "name": "ipython",
    "version": 3
   },
   "file_extension": ".py",
   "mimetype": "text/x-python",
   "name": "python",
   "nbconvert_exporter": "python",
   "pygments_lexer": "ipython3",
   "version": "3.10.4"
  }
 },
 "nbformat": 4,
 "nbformat_minor": 5
}
