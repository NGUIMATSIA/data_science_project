{
 "cells": [
  {
   "cell_type": "markdown",
   "id": "1c4e050b-1177-4eda-9c9d-1d8426714973",
   "metadata": {},
   "source": [
    "# Récupération et retraitement des données"
   ]
  },
  {
   "cell_type": "markdown",
   "id": "9f39bbc7-4f3f-4728-b797-6060a6e43518",
   "metadata": {},
   "source": [
    "## A) Récupération des données"
   ]
  },
  {
   "cell_type": "markdown",
   "id": "4703c373-e403-49c5-b243-75f69d6c7092",
   "metadata": {},
   "source": [
    "Le projet repose sur deux sources de données principales:\n",
    "1. Les données relatives aux diagnostics de performance énergétique (DPE) des logements. Source: Ademe.\n",
    "2. Les données socio-démographiques caractéristiques des communes (dispositif Filosofi). Source: Insee.\n",
    "Le premier jeu de données est importé via l'API mise à disposition par l'Ademe sur son portail Opendata. Le second jeu de données est lui importé via le package Pyinsee (permettant de disposer d'une version \"propre\" d'un grand nombre de fichiers de données de l'Insee)."
   ]
  },
  {
   "cell_type": "markdown",
   "id": "374ff12f-fcf3-46c5-8934-a38c2c3a491a",
   "metadata": {},
   "source": [
    "### 1) Récupération du premier jeu de données via l'API publique \"APE logements\" (portail Open data de l'ADEME)"
   ]
  },
  {
   "cell_type": "code",
   "execution_count": 1,
   "id": "2857731a-ba7f-497a-a2fa-66501abfc0d2",
   "metadata": {},
   "outputs": [],
   "source": [
    "# Importations:\n",
    "import requests\n",
    "import pandas as pd\n",
    "import geopandas as gpd"
   ]
  },
  {
   "cell_type": "markdown",
   "id": "01843f17-80c1-4380-9672-08c3e2966e63",
   "metadata": {},
   "source": [
    "#### a) Récupération préalable de l'ensemble des codes communes situés dans la région Ile-de-france:"
   ]
  },
  {
   "cell_type": "code",
   "execution_count": 2,
   "id": "b5d6e873-6f56-46ca-b1d4-7c6f4ac25aff",
   "metadata": {},
   "outputs": [
    {
     "name": "stdout",
     "output_type": "stream",
     "text": [
      "  TYPECOM    COM   REG DEP CTCD  ARR  TNCC                    NCC  \\\n",
      "0     COM  01001  84.0  01  01D  012     5  ABERGEMENT CLEMENCIAT   \n",
      "1     COM  01002  84.0  01  01D  011     5    ABERGEMENT DE VAREY   \n",
      "2     COM  01004  84.0  01  01D  011     1      AMBERIEU EN BUGEY   \n",
      "3     COM  01005  84.0  01  01D  012     1    AMBERIEUX EN DOMBES   \n",
      "4     COM  01006  84.0  01  01D  011     1                AMBLEON   \n",
      "\n",
      "                  NCCENR                  LIBELLE   CAN  COMPARENT  \n",
      "0  Abergement-Clémenciat  L'Abergement-Clémenciat  0108        NaN  \n",
      "1    Abergement-de-Varey    L'Abergement-de-Varey  0101        NaN  \n",
      "2      Ambérieu-en-Bugey        Ambérieu-en-Bugey  0101        NaN  \n",
      "3    Ambérieux-en-Dombes      Ambérieux-en-Dombes  0122        NaN  \n",
      "4                Ambléon                  Ambléon  0104        NaN  \n",
      "1288\n",
      "1288\n"
     ]
    }
   ],
   "source": [
    "# Recherche de la Liste des codes de communes\n",
    "\n",
    "co_com = pd.read_csv(\"https://www.insee.fr/fr/statistiques/fichier/6051727/commune_2022.csv\")\n",
    "print(co_com.head())\n",
    "\n",
    "# Sélection des communes de la région ile-de-France\n",
    "CODES = co_com.loc[co_com[\"REG\"]==11,\"COM\"].unique()\n",
    "co_com2 = co_com.loc[co_com[\"REG\"]==11,]\n",
    "print(len(co_com2))\n",
    "print(len(CODES))  #1288"
   ]
  },
  {
   "cell_type": "markdown",
   "id": "984485a0-8018-4757-b6ed-324e84683608",
   "metadata": {},
   "source": [
    "#### b) Définition des fonctions permettant la connexion à l'API et la récupération des données selon les termes clés"
   ]
  },
  {
   "cell_type": "code",
   "execution_count": 3,
   "id": "2f455ed2-36d7-4950-b217-fbb4a032da4a",
   "metadata": {},
   "outputs": [],
   "source": [
    "# Définition de la fonction d'extraction de données\n",
    "\n",
    "def get_dpe_from_url(url):\n",
    "\n",
    "    req = requests.get(url)\n",
    "    wb = req.json()\n",
    "    try:\n",
    "        df = pd.json_normalize(wb[\"results\"]) # Conversion du fichier Json en dataframe pandas\n",
    "    except json.JSONDecodeError:\n",
    "        print(\"A file was empty\")\n",
    "    \n",
    "    if 'longitude' in df.columns.tolist() and 'latitude' in df.columns.tolist():\n",
    "    # Conversion du dataframe classique en dataframe géographique \n",
    "        dpe = gpd.GeoDataFrame(df, geometry=gpd.points_from_xy(df[\"longitude\"], df[\"latitude\"]), crs = 4326) \n",
    "        dpe = dpe.dropna(subset = ['longitude', 'latitude'])\n",
    "\n",
    "        return dpe"
   ]
  },
  {
   "cell_type": "code",
   "execution_count": 4,
   "id": "128520cd-b355-48cb-ac73-057c92d86422",
   "metadata": {},
   "outputs": [],
   "source": [
    "# Fixation des paramètres pour le requêtage\n",
    "    #code_commune=\"01450\"\n",
    "code_commune = CODES[53]\n",
    "size = 10000\n",
    "root=\"https://data.ademe.fr/data-fair/api/v1/datasets/dpe-france/lines\"\n",
    "url_api = f\"{root}?page=1&after=100&format=json&q_mode=simple&qs=code_insee_commune_actualise\" + \"%3A%22\" + f\"{code_commune}\" + \"%22\" + f\"&size={size}&select=\" + \"%2A&sampling=max\"\n",
    "url_api2 = f\"{root}?after=100&format=json&q_mode=simple&qs=code_insee_commune_actualise\" + \"%3A%22\" + f\"{code_commune}\" + \"%22\" + f\"&size={size}&select=\" + \"%2A&sampling=neighbors\"\n"
   ]
  },
  {
   "cell_type": "code",
   "execution_count": 5,
   "id": "066085b1-6741-4295-9a76-316b1e327fff",
   "metadata": {},
   "outputs": [],
   "source": [
    "# Fonction qui retourne l'url à partir du code_commune\n",
    "def ret_url (cod,size_):\n",
    "    return f\"{root}?after=100&format=json&q_mode=simple&qs=code_insee_commune_actualise\" + \"%3A%22\" + f\"{cod}\" + \"%22\" + f\"&size={size_}&select=\" + \"%2A&sampling=neighbors\"\n"
   ]
  },
  {
   "cell_type": "markdown",
   "id": "c05e57e9-52aa-4ff6-81d8-1819680c6432",
   "metadata": {},
   "source": [
    "### c) Récupération des données relatives à l'ensemble des DPE réalisés en Ile-de-France et mises à disposition dans le portail Open data de l'Ademe"
   ]
  },
  {
   "cell_type": "markdown",
   "id": "e9bff34d-58de-40e6-aee5-7e2419134007",
   "metadata": {},
   "source": [
    "En requêtant l'API \"DPE logements\", on récupère tous les DPE disponibles pour chaque commune d'Ile-de-France puis on les unifie en un seul dataframe \"dpe_f\"."
   ]
  },
  {
   "cell_type": "code",
   "execution_count": 6,
   "id": "e35f3128-9c13-4e76-8943-f2630856fd7c",
   "metadata": {},
   "outputs": [],
   "source": [
    "# Construction d'un dataframe complet des données pour la Région île-de-France\n",
    "\n",
    "dpe_f = get_dpe_from_url(ret_url(CODES[0],10000))\n",
    "\n",
    "for i in range(len(CODES)-1):                                                  # len(CODES)\n",
    "    \n",
    "    dpei = get_dpe_from_url(ret_url(CODES[i+1],10000))\n",
    "    if dpei is not None:\n",
    "        Commune = co_com2.loc[co_com2[\"COM\"]==CODES[i],\"NCC\"].tolist()[0]\n",
    "        dpei[\"Commune\"] = Commune\n",
    "        #dpei.set_index(\"Commune\")\n",
    "        dpe_f = pd.concat([dpe_f, dpei])\n",
    "    \n"
   ]
  },
  {
   "cell_type": "code",
   "execution_count": 7,
   "id": "ab53504b-6afd-411e-8a05-a84673ce1953",
   "metadata": {},
   "outputs": [
    {
     "data": {
      "text/html": [
       "<div>\n",
       "<style scoped>\n",
       "    .dataframe tbody tr th:only-of-type {\n",
       "        vertical-align: middle;\n",
       "    }\n",
       "\n",
       "    .dataframe tbody tr th {\n",
       "        vertical-align: top;\n",
       "    }\n",
       "\n",
       "    .dataframe thead th {\n",
       "        text-align: right;\n",
       "    }\n",
       "</style>\n",
       "<table border=\"1\" class=\"dataframe\">\n",
       "  <thead>\n",
       "    <tr style=\"text-align: right;\">\n",
       "      <th></th>\n",
       "      <th>classe_consommation_energie</th>\n",
       "      <th>tr001_modele_dpe_type_libelle</th>\n",
       "      <th>annee_construction</th>\n",
       "      <th>_geopoint</th>\n",
       "      <th>latitude</th>\n",
       "      <th>surface_thermique_lot</th>\n",
       "      <th>_i</th>\n",
       "      <th>tr002_type_batiment_description</th>\n",
       "      <th>geo_adresse</th>\n",
       "      <th>_rand</th>\n",
       "      <th>...</th>\n",
       "      <th>version_methode_dpe</th>\n",
       "      <th>nom_methode_dpe</th>\n",
       "      <th>tv016_departement_code</th>\n",
       "      <th>consommation_energie</th>\n",
       "      <th>date_etablissement_dpe</th>\n",
       "      <th>longitude</th>\n",
       "      <th>_score</th>\n",
       "      <th>_id</th>\n",
       "      <th>geometry</th>\n",
       "      <th>Commune</th>\n",
       "    </tr>\n",
       "  </thead>\n",
       "  <tbody>\n",
       "    <tr>\n",
       "      <th>0</th>\n",
       "      <td>F</td>\n",
       "      <td>Vente</td>\n",
       "      <td>1970</td>\n",
       "      <td>48.829392,2.374836</td>\n",
       "      <td>48.829392</td>\n",
       "      <td>80.00</td>\n",
       "      <td>101</td>\n",
       "      <td>Logement</td>\n",
       "      <td>15 Rue de Tolbiac 75013 Paris</td>\n",
       "      <td>531934</td>\n",
       "      <td>...</td>\n",
       "      <td>V2012</td>\n",
       "      <td>3CL - DPE</td>\n",
       "      <td>75</td>\n",
       "      <td>434.00</td>\n",
       "      <td>2013-05-09</td>\n",
       "      <td>2.374836</td>\n",
       "      <td>None</td>\n",
       "      <td>T7b7O-zAyMijXFdlyWl7M</td>\n",
       "      <td>POINT (2.37484 48.82939)</td>\n",
       "      <td>NaN</td>\n",
       "    </tr>\n",
       "    <tr>\n",
       "      <th>1</th>\n",
       "      <td>F</td>\n",
       "      <td>Vente</td>\n",
       "      <td>1970</td>\n",
       "      <td>48.829392,2.374836</td>\n",
       "      <td>48.829392</td>\n",
       "      <td>80.00</td>\n",
       "      <td>108</td>\n",
       "      <td>Logement</td>\n",
       "      <td>15 Rue de Tolbiac 75013 Paris</td>\n",
       "      <td>457143</td>\n",
       "      <td>...</td>\n",
       "      <td>V2012</td>\n",
       "      <td>3CL - DPE</td>\n",
       "      <td>75</td>\n",
       "      <td>434.00</td>\n",
       "      <td>2013-05-11</td>\n",
       "      <td>2.374836</td>\n",
       "      <td>None</td>\n",
       "      <td>99qI3IKDlsdqj_LgNBzmX</td>\n",
       "      <td>POINT (2.37484 48.82939)</td>\n",
       "      <td>NaN</td>\n",
       "    </tr>\n",
       "    <tr>\n",
       "      <th>2</th>\n",
       "      <td>F</td>\n",
       "      <td>Vente</td>\n",
       "      <td>1970</td>\n",
       "      <td>48.829392,2.374836</td>\n",
       "      <td>48.829392</td>\n",
       "      <td>80.00</td>\n",
       "      <td>109</td>\n",
       "      <td>Logement</td>\n",
       "      <td>15 Rue de Tolbiac 75013 Paris</td>\n",
       "      <td>885078</td>\n",
       "      <td>...</td>\n",
       "      <td>V2012</td>\n",
       "      <td>3CL - DPE</td>\n",
       "      <td>75</td>\n",
       "      <td>434.00</td>\n",
       "      <td>2013-05-11</td>\n",
       "      <td>2.374836</td>\n",
       "      <td>None</td>\n",
       "      <td>RIrNiQLnIG9Iqsg19e8aC</td>\n",
       "      <td>POINT (2.37484 48.82939)</td>\n",
       "      <td>NaN</td>\n",
       "    </tr>\n",
       "    <tr>\n",
       "      <th>3</th>\n",
       "      <td>D</td>\n",
       "      <td>Vente</td>\n",
       "      <td>1940</td>\n",
       "      <td>48.847662,2.28565</td>\n",
       "      <td>48.847662</td>\n",
       "      <td>29.00</td>\n",
       "      <td>119</td>\n",
       "      <td>Logement</td>\n",
       "      <td>11 Rue Beaugrenelle 75015 Paris</td>\n",
       "      <td>700764</td>\n",
       "      <td>...</td>\n",
       "      <td>V2012</td>\n",
       "      <td>3CL - DPE</td>\n",
       "      <td>75</td>\n",
       "      <td>170.02</td>\n",
       "      <td>2013-05-13</td>\n",
       "      <td>2.285650</td>\n",
       "      <td>None</td>\n",
       "      <td>XZIHgdlUOrEuAIrcpa9xa</td>\n",
       "      <td>POINT (2.28565 48.84766)</td>\n",
       "      <td>NaN</td>\n",
       "    </tr>\n",
       "    <tr>\n",
       "      <th>4</th>\n",
       "      <td>N</td>\n",
       "      <td>Vente</td>\n",
       "      <td>1900</td>\n",
       "      <td>48.839935,2.332912</td>\n",
       "      <td>48.839935</td>\n",
       "      <td>6.99</td>\n",
       "      <td>123</td>\n",
       "      <td>Logement</td>\n",
       "      <td>11 Rue Campagne Première 75014 Paris</td>\n",
       "      <td>215124</td>\n",
       "      <td>...</td>\n",
       "      <td>V2012</td>\n",
       "      <td>3CL - DPE</td>\n",
       "      <td>75</td>\n",
       "      <td>0.00</td>\n",
       "      <td>2013-05-13</td>\n",
       "      <td>2.332912</td>\n",
       "      <td>None</td>\n",
       "      <td>uVKCNovGIFXlkwZwxcXWD</td>\n",
       "      <td>POINT (2.33291 48.83993)</td>\n",
       "      <td>NaN</td>\n",
       "    </tr>\n",
       "  </tbody>\n",
       "</table>\n",
       "<p>5 rows × 24 columns</p>\n",
       "</div>"
      ],
      "text/plain": [
       "  classe_consommation_energie tr001_modele_dpe_type_libelle  \\\n",
       "0                           F                         Vente   \n",
       "1                           F                         Vente   \n",
       "2                           F                         Vente   \n",
       "3                           D                         Vente   \n",
       "4                           N                         Vente   \n",
       "\n",
       "   annee_construction           _geopoint   latitude  surface_thermique_lot  \\\n",
       "0                1970  48.829392,2.374836  48.829392                  80.00   \n",
       "1                1970  48.829392,2.374836  48.829392                  80.00   \n",
       "2                1970  48.829392,2.374836  48.829392                  80.00   \n",
       "3                1940   48.847662,2.28565  48.847662                  29.00   \n",
       "4                1900  48.839935,2.332912  48.839935                   6.99   \n",
       "\n",
       "    _i tr002_type_batiment_description                           geo_adresse  \\\n",
       "0  101                        Logement         15 Rue de Tolbiac 75013 Paris   \n",
       "1  108                        Logement         15 Rue de Tolbiac 75013 Paris   \n",
       "2  109                        Logement         15 Rue de Tolbiac 75013 Paris   \n",
       "3  119                        Logement       11 Rue Beaugrenelle 75015 Paris   \n",
       "4  123                        Logement  11 Rue Campagne Première 75014 Paris   \n",
       "\n",
       "    _rand  ... version_methode_dpe  nom_methode_dpe  tv016_departement_code  \\\n",
       "0  531934  ...               V2012        3CL - DPE                      75   \n",
       "1  457143  ...               V2012        3CL - DPE                      75   \n",
       "2  885078  ...               V2012        3CL - DPE                      75   \n",
       "3  700764  ...               V2012        3CL - DPE                      75   \n",
       "4  215124  ...               V2012        3CL - DPE                      75   \n",
       "\n",
       "  consommation_energie date_etablissement_dpe longitude _score  \\\n",
       "0               434.00             2013-05-09  2.374836   None   \n",
       "1               434.00             2013-05-11  2.374836   None   \n",
       "2               434.00             2013-05-11  2.374836   None   \n",
       "3               170.02             2013-05-13  2.285650   None   \n",
       "4                 0.00             2013-05-13  2.332912   None   \n",
       "\n",
       "                     _id                  geometry  Commune  \n",
       "0  T7b7O-zAyMijXFdlyWl7M  POINT (2.37484 48.82939)      NaN  \n",
       "1  99qI3IKDlsdqj_LgNBzmX  POINT (2.37484 48.82939)      NaN  \n",
       "2  RIrNiQLnIG9Iqsg19e8aC  POINT (2.37484 48.82939)      NaN  \n",
       "3  XZIHgdlUOrEuAIrcpa9xa  POINT (2.28565 48.84766)      NaN  \n",
       "4  uVKCNovGIFXlkwZwxcXWD  POINT (2.33291 48.83993)      NaN  \n",
       "\n",
       "[5 rows x 24 columns]"
      ]
     },
     "execution_count": 7,
     "metadata": {},
     "output_type": "execute_result"
    }
   ],
   "source": [
    "dpe_f.head()"
   ]
  },
  {
   "cell_type": "code",
   "execution_count": 8,
   "id": "2bca78d8-cdea-4318-9ad5-7dafabd4f315",
   "metadata": {},
   "outputs": [
    {
     "name": "stdout",
     "output_type": "stream",
     "text": [
      "<class 'geopandas.geodataframe.GeoDataFrame'>\n",
      "Int64Index: 1323802 entries, 0 to 23\n",
      "Data columns (total 24 columns):\n",
      " #   Column                           Non-Null Count    Dtype   \n",
      "---  ------                           --------------    -----   \n",
      " 0   classe_consommation_energie      1323802 non-null  object  \n",
      " 1   tr001_modele_dpe_type_libelle    1323802 non-null  object  \n",
      " 2   annee_construction               1323802 non-null  int64   \n",
      " 3   _geopoint                        1323802 non-null  object  \n",
      " 4   latitude                         1323802 non-null  float64 \n",
      " 5   surface_thermique_lot            1323726 non-null  float64 \n",
      " 6   _i                               1323802 non-null  int64   \n",
      " 7   tr002_type_batiment_description  1323802 non-null  object  \n",
      " 8   geo_adresse                      1323802 non-null  object  \n",
      " 9   _rand                            1323802 non-null  int64   \n",
      " 10  code_insee_commune_actualise     1323802 non-null  object  \n",
      " 11  estimation_ges                   1323802 non-null  float64 \n",
      " 12  geo_score                        1323802 non-null  float64 \n",
      " 13  classe_estimation_ges            1323802 non-null  object  \n",
      " 14  version_methode_dpe              1091803 non-null  object  \n",
      " 15  nom_methode_dpe                  1323802 non-null  object  \n",
      " 16  tv016_departement_code           1323802 non-null  object  \n",
      " 17  consommation_energie             1323802 non-null  float64 \n",
      " 18  date_etablissement_dpe           1323802 non-null  object  \n",
      " 19  longitude                        1323802 non-null  float64 \n",
      " 20  _score                           0 non-null        object  \n",
      " 21  _id                              1323802 non-null  object  \n",
      " 22  geometry                         1323802 non-null  geometry\n",
      " 23  Commune                          1313850 non-null  object  \n",
      "dtypes: float64(6), geometry(1), int64(3), object(14)\n",
      "memory usage: 252.5+ MB\n"
     ]
    }
   ],
   "source": [
    "dpe_f.info()"
   ]
  },
  {
   "cell_type": "markdown",
   "id": "aad8fbda-0335-4fa2-b84c-0868a637d12b",
   "metadata": {},
   "source": [
    "### 2) Récupération du second jeu de données via le package Pynsee: données socio-démographiques sur les communes (source: dispositif Filosofi, Insee)"
   ]
  },
  {
   "cell_type": "markdown",
   "id": "1ecd6af7-aeb7-48f5-bd15-22e4f501d522",
   "metadata": {},
   "source": [
    "#### a) Installation du package pynsee disponible seulement sous Github"
   ]
  },
  {
   "cell_type": "code",
   "execution_count": 9,
   "id": "47db26ea-e24c-4120-ad8d-97b64adcae0d",
   "metadata": {},
   "outputs": [
    {
     "name": "stdout",
     "output_type": "stream",
     "text": [
      "Collecting pathlib2\n",
      "  Downloading pathlib2-2.3.7.post1-py2.py3-none-any.whl (18 kB)\n",
      "Requirement already satisfied: six in /opt/mamba/lib/python3.10/site-packages (from pathlib2) (1.16.0)\n",
      "Installing collected packages: pathlib2\n",
      "Successfully installed pathlib2-2.3.7.post1\n",
      "Collecting python-Levenshtein\n",
      "  Downloading python_Levenshtein-0.20.8-py3-none-any.whl (9.4 kB)\n",
      "Collecting Levenshtein==0.20.8\n",
      "  Downloading Levenshtein-0.20.8-cp310-cp310-manylinux_2_17_x86_64.manylinux2014_x86_64.whl (174 kB)\n",
      "\u001b[2K     \u001b[90m━━━━━━━━━━━━━━━━━━━━━━━━━━━━━━━━━━━━━━━\u001b[0m \u001b[32m174.1/174.1 kB\u001b[0m \u001b[31m7.8 MB/s\u001b[0m eta \u001b[36m0:00:00\u001b[0m\n",
      "\u001b[?25hCollecting rapidfuzz<3.0.0,>=2.3.0\n",
      "  Downloading rapidfuzz-2.13.6-cp310-cp310-manylinux_2_17_x86_64.manylinux2014_x86_64.whl (2.2 MB)\n",
      "\u001b[2K     \u001b[90m━━━━━━━━━━━━━━━━━━━━━━━━━━━━━━━━━━━━━━━━\u001b[0m \u001b[32m2.2/2.2 MB\u001b[0m \u001b[31m26.8 MB/s\u001b[0m eta \u001b[36m0:00:00\u001b[0ma \u001b[36m0:00:01\u001b[0m\n",
      "\u001b[?25hInstalling collected packages: rapidfuzz, Levenshtein, python-Levenshtein\n",
      "Successfully installed Levenshtein-0.20.8 python-Levenshtein-0.20.8 rapidfuzz-2.13.6\n",
      "Collecting xlrd\n",
      "  Downloading xlrd-2.0.1-py2.py3-none-any.whl (96 kB)\n",
      "\u001b[2K     \u001b[90m━━━━━━━━━━━━━━━━━━━━━━━━━━━━━━━━━━━━━━━━\u001b[0m \u001b[32m96.5/96.5 kB\u001b[0m \u001b[31m5.1 MB/s\u001b[0m eta \u001b[36m0:00:00\u001b[0m\n",
      "\u001b[?25hInstalling collected packages: xlrd\n",
      "Successfully installed xlrd-2.0.1\n",
      "Collecting git+https://github.com/InseeFrLab/Py-Insee-Data.git\n",
      "  Cloning https://github.com/InseeFrLab/Py-Insee-Data.git to /tmp/pip-req-build-pi1sbsy_\n",
      "  Running command git clone --filter=blob:none --quiet https://github.com/InseeFrLab/Py-Insee-Data.git /tmp/pip-req-build-pi1sbsy_\n",
      "  Resolved https://github.com/InseeFrLab/Py-Insee-Data.git to commit e74df7d0125aeba38402b735af7872b2c381d803\n",
      "  Installing build dependencies ... \u001b[?25ldone\n",
      "\u001b[?25h  Getting requirements to build wheel ... \u001b[?25ldone\n",
      "\u001b[?25h  Preparing metadata (pyproject.toml) ... \u001b[?25ldone\n",
      "\u001b[?25hRequirement already satisfied: shapely<2.0,>=1.8.0 in /opt/mamba/lib/python3.10/site-packages (from pynsee==0.1.2) (1.8.5.post1)\n",
      "Collecting pathlib\n",
      "  Downloading pathlib-1.0.1-py3-none-any.whl (14 kB)\n",
      "Requirement already satisfied: pandas>=0.24.2 in /opt/mamba/lib/python3.10/site-packages (from pynsee==0.1.2) (1.5.1)\n",
      "Collecting appdirs>=1.4.4\n",
      "  Downloading appdirs-1.4.4-py2.py3-none-any.whl (9.6 kB)\n",
      "Collecting unidecode>=1.1.0\n",
      "  Downloading Unidecode-1.3.6-py3-none-any.whl (235 kB)\n",
      "\u001b[2K     \u001b[90m━━━━━━━━━━━━━━━━━━━━━━━━━━━━━━━━━━━━━━\u001b[0m \u001b[32m235.9/235.9 kB\u001b[0m \u001b[31m13.5 MB/s\u001b[0m eta \u001b[36m0:00:00\u001b[0m\n",
      "\u001b[?25hRequirement already satisfied: requests>=2.23 in /opt/mamba/lib/python3.10/site-packages (from pynsee==0.1.2) (2.28.1)\n",
      "Requirement already satisfied: tqdm>=4.56.0 in /opt/mamba/lib/python3.10/site-packages (from pynsee==0.1.2) (4.64.1)\n",
      "Requirement already satisfied: urllib3 in /opt/mamba/lib/python3.10/site-packages (from pynsee==0.1.2) (1.26.11)\n",
      "Requirement already satisfied: python-dateutil>=2.8.1 in /opt/mamba/lib/python3.10/site-packages (from pandas>=0.24.2->pynsee==0.1.2) (2.8.2)\n",
      "Requirement already satisfied: pytz>=2020.1 in /opt/mamba/lib/python3.10/site-packages (from pandas>=0.24.2->pynsee==0.1.2) (2022.6)\n",
      "Requirement already satisfied: numpy>=1.21.0 in /opt/mamba/lib/python3.10/site-packages (from pandas>=0.24.2->pynsee==0.1.2) (1.23.5)\n",
      "Requirement already satisfied: charset-normalizer<3,>=2 in /opt/mamba/lib/python3.10/site-packages (from requests>=2.23->pynsee==0.1.2) (2.1.1)\n",
      "Requirement already satisfied: idna<4,>=2.5 in /opt/mamba/lib/python3.10/site-packages (from requests>=2.23->pynsee==0.1.2) (3.4)\n",
      "Requirement already satisfied: certifi>=2017.4.17 in /opt/mamba/lib/python3.10/site-packages (from requests>=2.23->pynsee==0.1.2) (2022.9.24)\n",
      "Requirement already satisfied: six>=1.5 in /opt/mamba/lib/python3.10/site-packages (from python-dateutil>=2.8.1->pandas>=0.24.2->pynsee==0.1.2) (1.16.0)\n",
      "Building wheels for collected packages: pynsee\n",
      "  Building wheel for pynsee (pyproject.toml) ... \u001b[?25ldone\n",
      "\u001b[?25h  Created wheel for pynsee: filename=pynsee-0.1.2-py3-none-any.whl size=9805116 sha256=ee15768942bda7a9abda15cfe27b468c4a7ea30a5b26a2e41be0f6494f900e3e\n",
      "  Stored in directory: /tmp/pip-ephem-wheel-cache-uy89mzjt/wheels/d5/60/69/031da6e25434c8b85e049f8f93ed11c2bfe3da9369f7a1dfba\n",
      "Successfully built pynsee\n",
      "Installing collected packages: pathlib, appdirs, unidecode, pynsee\n",
      "Successfully installed appdirs-1.4.4 pathlib-1.0.1 pynsee-0.1.2 unidecode-1.3.6\n"
     ]
    }
   ],
   "source": [
    "!pip install pathlib2\n",
    "!pip install python-Levenshtein\n",
    "!pip install --upgrade xlrd\n",
    "!pip install git+https://github.com/InseeFrLab/Py-Insee-Data.git"
   ]
  },
  {
   "cell_type": "code",
   "execution_count": 10,
   "id": "c1731bd5-5958-471f-8612-91861ac236f1",
   "metadata": {},
   "outputs": [],
   "source": [
    "# Importation du package:\n",
    "import pynsee\n",
    "import pynsee.download"
   ]
  },
  {
   "cell_type": "markdown",
   "id": "e019d3d9-bde0-4f3c-b79a-9e330acffbd7",
   "metadata": {},
   "source": [
    "#### b) Récupération du fichier Filosofi 2016 au niveau communal"
   ]
  },
  {
   "cell_type": "code",
   "execution_count": 11,
   "id": "a78a18e9-ea76-4235-9419-5c834a083981",
   "metadata": {},
   "outputs": [
    {
     "name": "stderr",
     "output_type": "stream",
     "text": [
      "Downloading: 100%|██████████| 2.67M/2.67M [00:00<00:00, 8.09MiB/s]\n",
      "Extracting: 100%|██████████| 10.6M/10.6M [00:00<00:00, 123MB/s]\n"
     ]
    }
   ],
   "source": [
    "Filosofi = pynsee.download.download_file(\"FILOSOFI_COM_2016\")"
   ]
  },
  {
   "cell_type": "code",
   "execution_count": 12,
   "id": "13ea0a25-e9cd-4e38-8ef9-de3f244995a4",
   "metadata": {},
   "outputs": [
    {
     "data": {
      "text/html": [
       "<div>\n",
       "<style scoped>\n",
       "    .dataframe tbody tr th:only-of-type {\n",
       "        vertical-align: middle;\n",
       "    }\n",
       "\n",
       "    .dataframe tbody tr th {\n",
       "        vertical-align: top;\n",
       "    }\n",
       "\n",
       "    .dataframe thead th {\n",
       "        text-align: right;\n",
       "    }\n",
       "</style>\n",
       "<table border=\"1\" class=\"dataframe\">\n",
       "  <thead>\n",
       "    <tr style=\"text-align: right;\">\n",
       "      <th></th>\n",
       "      <th>CODGEO</th>\n",
       "      <th>LIBGEO</th>\n",
       "      <th>NBMENFISC16</th>\n",
       "      <th>NBPERSMENFISC16</th>\n",
       "      <th>MED16</th>\n",
       "      <th>PIMP16</th>\n",
       "      <th>TP6016</th>\n",
       "      <th>TP60AGE116</th>\n",
       "      <th>TP60AGE216</th>\n",
       "      <th>TP60AGE316</th>\n",
       "      <th>...</th>\n",
       "      <th>PPEN16</th>\n",
       "      <th>PPAT16</th>\n",
       "      <th>PPSOC16</th>\n",
       "      <th>PPFAM16</th>\n",
       "      <th>PPMINI16</th>\n",
       "      <th>PPLOGT16</th>\n",
       "      <th>PIMPOT16</th>\n",
       "      <th>D116</th>\n",
       "      <th>D916</th>\n",
       "      <th>RD16</th>\n",
       "    </tr>\n",
       "  </thead>\n",
       "  <tbody>\n",
       "    <tr>\n",
       "      <th>0</th>\n",
       "      <td>01001</td>\n",
       "      <td>L'Abergement-Clémenciat</td>\n",
       "      <td>313</td>\n",
       "      <td>795.5</td>\n",
       "      <td>22679</td>\n",
       "      <td>NaN</td>\n",
       "      <td>NaN</td>\n",
       "      <td>NaN</td>\n",
       "      <td>NaN</td>\n",
       "      <td>NaN</td>\n",
       "      <td>...</td>\n",
       "      <td>NaN</td>\n",
       "      <td>NaN</td>\n",
       "      <td>NaN</td>\n",
       "      <td>NaN</td>\n",
       "      <td>NaN</td>\n",
       "      <td>NaN</td>\n",
       "      <td>NaN</td>\n",
       "      <td>NaN</td>\n",
       "      <td>NaN</td>\n",
       "      <td>NaN</td>\n",
       "    </tr>\n",
       "    <tr>\n",
       "      <th>1</th>\n",
       "      <td>01002</td>\n",
       "      <td>L'Abergement-de-Varey</td>\n",
       "      <td>101</td>\n",
       "      <td>248</td>\n",
       "      <td>24382.083333333336</td>\n",
       "      <td>NaN</td>\n",
       "      <td>NaN</td>\n",
       "      <td>NaN</td>\n",
       "      <td>NaN</td>\n",
       "      <td>NaN</td>\n",
       "      <td>...</td>\n",
       "      <td>NaN</td>\n",
       "      <td>NaN</td>\n",
       "      <td>NaN</td>\n",
       "      <td>NaN</td>\n",
       "      <td>NaN</td>\n",
       "      <td>NaN</td>\n",
       "      <td>NaN</td>\n",
       "      <td>NaN</td>\n",
       "      <td>NaN</td>\n",
       "      <td>NaN</td>\n",
       "    </tr>\n",
       "    <tr>\n",
       "      <th>2</th>\n",
       "      <td>01004</td>\n",
       "      <td>Ambérieu-en-Bugey</td>\n",
       "      <td>6363</td>\n",
       "      <td>14228</td>\n",
       "      <td>19721</td>\n",
       "      <td>49</td>\n",
       "      <td>17</td>\n",
       "      <td>19</td>\n",
       "      <td>22</td>\n",
       "      <td>22</td>\n",
       "      <td>...</td>\n",
       "      <td>27</td>\n",
       "      <td>8.8</td>\n",
       "      <td>6.9</td>\n",
       "      <td>2.8</td>\n",
       "      <td>2.1</td>\n",
       "      <td>2</td>\n",
       "      <td>-15.7</td>\n",
       "      <td>10457.083333333334</td>\n",
       "      <td>33880.555555555555</td>\n",
       "      <td>3.239962279688143</td>\n",
       "    </tr>\n",
       "    <tr>\n",
       "      <th>3</th>\n",
       "      <td>01005</td>\n",
       "      <td>Ambérieux-en-Dombes</td>\n",
       "      <td>633</td>\n",
       "      <td>1662.5</td>\n",
       "      <td>23378</td>\n",
       "      <td>NaN</td>\n",
       "      <td>NaN</td>\n",
       "      <td>NaN</td>\n",
       "      <td>NaN</td>\n",
       "      <td>NaN</td>\n",
       "      <td>...</td>\n",
       "      <td>NaN</td>\n",
       "      <td>NaN</td>\n",
       "      <td>NaN</td>\n",
       "      <td>NaN</td>\n",
       "      <td>NaN</td>\n",
       "      <td>NaN</td>\n",
       "      <td>NaN</td>\n",
       "      <td>NaN</td>\n",
       "      <td>NaN</td>\n",
       "      <td>NaN</td>\n",
       "    </tr>\n",
       "    <tr>\n",
       "      <th>4</th>\n",
       "      <td>01006</td>\n",
       "      <td>Ambléon</td>\n",
       "      <td>NaN</td>\n",
       "      <td>NaN</td>\n",
       "      <td>NaN</td>\n",
       "      <td>NaN</td>\n",
       "      <td>NaN</td>\n",
       "      <td>NaN</td>\n",
       "      <td>NaN</td>\n",
       "      <td>NaN</td>\n",
       "      <td>...</td>\n",
       "      <td>NaN</td>\n",
       "      <td>NaN</td>\n",
       "      <td>NaN</td>\n",
       "      <td>NaN</td>\n",
       "      <td>NaN</td>\n",
       "      <td>NaN</td>\n",
       "      <td>NaN</td>\n",
       "      <td>NaN</td>\n",
       "      <td>NaN</td>\n",
       "      <td>NaN</td>\n",
       "    </tr>\n",
       "  </tbody>\n",
       "</table>\n",
       "<p>5 rows × 29 columns</p>\n",
       "</div>"
      ],
      "text/plain": [
       "  CODGEO                   LIBGEO NBMENFISC16 NBPERSMENFISC16  \\\n",
       "0  01001  L'Abergement-Clémenciat         313           795.5   \n",
       "1  01002    L'Abergement-de-Varey         101             248   \n",
       "2  01004        Ambérieu-en-Bugey        6363           14228   \n",
       "3  01005      Ambérieux-en-Dombes         633          1662.5   \n",
       "4  01006                  Ambléon         NaN             NaN   \n",
       "\n",
       "                MED16 PIMP16 TP6016 TP60AGE116 TP60AGE216 TP60AGE316  ...  \\\n",
       "0               22679    NaN    NaN        NaN        NaN        NaN  ...   \n",
       "1  24382.083333333336    NaN    NaN        NaN        NaN        NaN  ...   \n",
       "2               19721     49     17         19         22         22  ...   \n",
       "3               23378    NaN    NaN        NaN        NaN        NaN  ...   \n",
       "4                 NaN    NaN    NaN        NaN        NaN        NaN  ...   \n",
       "\n",
       "  PPEN16 PPAT16 PPSOC16 PPFAM16 PPMINI16 PPLOGT16 PIMPOT16  \\\n",
       "0    NaN    NaN     NaN     NaN      NaN      NaN      NaN   \n",
       "1    NaN    NaN     NaN     NaN      NaN      NaN      NaN   \n",
       "2     27    8.8     6.9     2.8      2.1        2    -15.7   \n",
       "3    NaN    NaN     NaN     NaN      NaN      NaN      NaN   \n",
       "4    NaN    NaN     NaN     NaN      NaN      NaN      NaN   \n",
       "\n",
       "                 D116                D916               RD16  \n",
       "0                 NaN                 NaN                NaN  \n",
       "1                 NaN                 NaN                NaN  \n",
       "2  10457.083333333334  33880.555555555555  3.239962279688143  \n",
       "3                 NaN                 NaN                NaN  \n",
       "4                 NaN                 NaN                NaN  \n",
       "\n",
       "[5 rows x 29 columns]"
      ]
     },
     "execution_count": 12,
     "metadata": {},
     "output_type": "execute_result"
    }
   ],
   "source": [
    "Filosofi.head()"
   ]
  },
  {
   "cell_type": "code",
   "execution_count": 13,
   "id": "6e659ddb-b573-41a5-b7e9-69eab64c15bc",
   "metadata": {},
   "outputs": [
    {
     "name": "stdout",
     "output_type": "stream",
     "text": [
      "<class 'pandas.core.frame.DataFrame'>\n",
      "RangeIndex: 34932 entries, 0 to 34931\n",
      "Data columns (total 29 columns):\n",
      " #   Column           Non-Null Count  Dtype \n",
      "---  ------           --------------  ----- \n",
      " 0   CODGEO           34932 non-null  object\n",
      " 1   LIBGEO           34932 non-null  object\n",
      " 2   NBMENFISC16      31405 non-null  object\n",
      " 3   NBPERSMENFISC16  31405 non-null  object\n",
      " 4   MED16            31405 non-null  object\n",
      " 5   PIMP16           5293 non-null   object\n",
      " 6   TP6016           4372 non-null   object\n",
      " 7   TP60AGE116       759 non-null    object\n",
      " 8   TP60AGE216       1414 non-null   object\n",
      " 9   TP60AGE316       1826 non-null   object\n",
      " 10  TP60AGE416       1292 non-null   object\n",
      " 11  TP60AGE516       890 non-null    object\n",
      " 12  TP60AGE616       403 non-null    object\n",
      " 13  TP60TOL116       2155 non-null   object\n",
      " 14  TP60TOL216       3174 non-null   object\n",
      " 15  PACT16           5293 non-null   object\n",
      " 16  PTSA16           5293 non-null   object\n",
      " 17  PCHO16           5293 non-null   object\n",
      " 18  PBEN16           5293 non-null   object\n",
      " 19  PPEN16           5293 non-null   object\n",
      " 20  PPAT16           5293 non-null   object\n",
      " 21  PPSOC16          5293 non-null   object\n",
      " 22  PPFAM16          5293 non-null   object\n",
      " 23  PPMINI16         5293 non-null   object\n",
      " 24  PPLOGT16         5293 non-null   object\n",
      " 25  PIMPOT16         5293 non-null   object\n",
      " 26  D116             5293 non-null   object\n",
      " 27  D916             5293 non-null   object\n",
      " 28  RD16             5293 non-null   object\n",
      "dtypes: object(29)\n",
      "memory usage: 7.7+ MB\n"
     ]
    }
   ],
   "source": [
    "Filosofi.info()"
   ]
  },
  {
   "cell_type": "markdown",
   "id": "47d370ba-bb4b-4e90-af6e-cbf6f40cc779",
   "metadata": {},
   "source": [
    "## B) Retraitement des données"
   ]
  },
  {
   "cell_type": "markdown",
   "id": "2e62fc05-31a7-4c4c-8c8c-9f7a4d4720eb",
   "metadata": {},
   "source": [
    "### 1) Sélection des variables pertinentes pour l'étude"
   ]
  },
  {
   "cell_type": "markdown",
   "id": "530b465b-b88d-4f23-94b5-10077287e8e5",
   "metadata": {},
   "source": [
    "#### a) Dans le dataframe dpe_f"
   ]
  },
  {
   "cell_type": "code",
   "execution_count": 14,
   "id": "604ec5a9-b9e7-4a3b-ae83-29b69e86b75b",
   "metadata": {},
   "outputs": [
    {
     "name": "stdout",
     "output_type": "stream",
     "text": [
      "<class 'geopandas.geodataframe.GeoDataFrame'>\n",
      "Int64Index: 1323802 entries, 0 to 23\n",
      "Data columns (total 16 columns):\n",
      " #   Column                           Non-Null Count    Dtype   \n",
      "---  ------                           --------------    -----   \n",
      " 0   _id                              1323802 non-null  object  \n",
      " 1   date_etablissement_dpe           1323802 non-null  object  \n",
      " 2   consommation_energie             1323802 non-null  float64 \n",
      " 3   classe_consommation_energie      1323802 non-null  object  \n",
      " 4   estimation_ges                   1323802 non-null  float64 \n",
      " 5   classe_estimation_ges            1323802 non-null  object  \n",
      " 6   annee_construction               1323802 non-null  int64   \n",
      " 7   surface_thermique_lot            1323726 non-null  float64 \n",
      " 8   Commune                          1313850 non-null  object  \n",
      " 9   code_insee_commune_actualise     1323802 non-null  object  \n",
      " 10  longitude                        1323802 non-null  float64 \n",
      " 11  latitude                         1323802 non-null  float64 \n",
      " 12  tr002_type_batiment_description  1323802 non-null  object  \n",
      " 13  tv016_departement_code           1323802 non-null  object  \n",
      " 14  _geopoint                        1323802 non-null  object  \n",
      " 15  geometry                         1323802 non-null  geometry\n",
      "dtypes: float64(5), geometry(1), int64(1), object(9)\n",
      "memory usage: 171.7+ MB\n"
     ]
    }
   ],
   "source": [
    "dpe_f=dpe_f.loc[:,[\"_id\",\"date_etablissement_dpe\",\"consommation_energie\",\"classe_consommation_energie\",\"estimation_ges\",\"classe_estimation_ges\",\"annee_construction\",\"surface_thermique_lot\",\"Commune\",\"code_insee_commune_actualise\",\"longitude\",\"latitude\",\"tr002_type_batiment_description\",\"tv016_departement_code\",\"_geopoint\",\"geometry\"]]\n",
    "dpe_f.info()"
   ]
  },
  {
   "cell_type": "markdown",
   "id": "8f81be4f-2c2c-4cca-a1d2-7255f9c1aab2",
   "metadata": {},
   "source": [
    "On se concentre ici sur les seules variables en lien direct avec la performance énergétique des logements, ainsi que les variables permettant de géolocaliser précisément chaque logement."
   ]
  },
  {
   "cell_type": "markdown",
   "id": "66193f87-8b66-493b-99a6-0621cc388969",
   "metadata": {},
   "source": [
    "#### b) Dans le dataframe Filosofi"
   ]
  },
  {
   "cell_type": "code",
   "execution_count": 15,
   "id": "39eef739-ab52-4a52-9a3d-a0122afc8596",
   "metadata": {},
   "outputs": [
    {
     "name": "stdout",
     "output_type": "stream",
     "text": [
      "<class 'pandas.core.frame.DataFrame'>\n",
      "RangeIndex: 34932 entries, 0 to 34931\n",
      "Data columns (total 5 columns):\n",
      " #   Column           Non-Null Count  Dtype \n",
      "---  ------           --------------  ----- \n",
      " 0   CODGEO           34932 non-null  object\n",
      " 1   LIBGEO           34932 non-null  object\n",
      " 2   NBMENFISC16      31405 non-null  object\n",
      " 3   NBPERSMENFISC16  31405 non-null  object\n",
      " 4   MED16            31405 non-null  object\n",
      "dtypes: object(5)\n",
      "memory usage: 1.3+ MB\n"
     ]
    }
   ],
   "source": [
    "Filosofi=Filosofi.loc[:,[\"CODGEO\",\"LIBGEO\",\"NBMENFISC16\",\"NBPERSMENFISC16\",\"MED16\"]]\n",
    "Filosofi.info()"
   ]
  },
  {
   "cell_type": "markdown",
   "id": "9871b2e4-6123-4a7c-b886-5446cf951e14",
   "metadata": {},
   "source": [
    "Cette sélection de variables est assez restrictive, mais il s'avère que les autres variables socio-économiques ne sont renseignées que pour les plus grosses communes."
   ]
  },
  {
   "cell_type": "markdown",
   "id": "fffcfbd8-80c2-45c2-8788-8e309053d8f8",
   "metadata": {},
   "source": [
    "### 2) Nettoyage et mise en forme de certaines variables"
   ]
  },
  {
   "cell_type": "markdown",
   "id": "1e8acec5-b83a-4a10-aaec-2e880902e1e7",
   "metadata": {},
   "source": [
    "#### a) Cleaning de la variable \"code_commune_actualise\" dans le df \"dpe_f\""
   ]
  },
  {
   "cell_type": "markdown",
   "id": "06769902-77fa-42ae-9b31-a8af776a8b4b",
   "metadata": {},
   "source": [
    "En examinant les données, il est apparu que la variable \"code_commune_actualise\" comportait un certain nombre de modalités mal renseignées: des codes commune de moins de 5 chiffres,des codes communes comportant le signe \".\", des codes commune comportant des noms de commune, etc. Aussi un nettoyage de cette variable clé s'impose: "
   ]
  },
  {
   "cell_type": "code",
   "execution_count": 16,
   "id": "f9142769-dbc0-4f95-b040-ea98adfcd1b1",
   "metadata": {},
   "outputs": [
    {
     "name": "stdout",
     "output_type": "stream",
     "text": [
      "1027\n"
     ]
    },
    {
     "data": {
      "text/plain": [
       "(1134380, 16)"
      ]
     },
     "execution_count": 16,
     "metadata": {},
     "output_type": "execute_result"
    }
   ],
   "source": [
    "\n",
    "# liste des codes commune exisistant initialement dans le fichier DPE brut:\n",
    "a=dpe_f[\"code_insee_commune_actualise\"].unique().tolist()\n",
    "\n",
    "# on transforme les éléments de la liste en str:\n",
    "b=[str(x) for x in a]\n",
    "\n",
    "# on code le filtre de \"nettoyage\" à appliquer à notre df \"dpe_f\":\n",
    "filtre = [x for x in b if len(x) == 5 if \".\" not in x if x[:2] in ([\"75\",\"77\",\"91\",\"92\",\"93\",\"94\",\"95\"])]\n",
    "# on ne garde que les code commune composés de 5 chiffres, sans \".\" et débutant par les nombres suivants:\n",
    "# 75, 77, 91, 92, 93, 94 et 95.\n",
    "\n",
    "print(len(filtre)) # nombre de codes commune retenus in fine pour l'IDF.\n",
    "\n",
    "# Application du filtre au df \"dpe_f\":\n",
    "dpe_f2=dpe_f[dpe_f[\"code_insee_commune_actualise\"].isin(filtre)].copy()\n",
    "# tous les codes commune sont clean dans \"dpe_f2\".\n",
    "dpe_f2.shape"
   ]
  },
  {
   "cell_type": "code",
   "execution_count": 17,
   "id": "002c2565-409f-4cef-bbcb-d4ae3907293c",
   "metadata": {},
   "outputs": [
    {
     "data": {
      "text/plain": [
       "(1323802, 16)"
      ]
     },
     "execution_count": 17,
     "metadata": {},
     "output_type": "execute_result"
    }
   ],
   "source": [
    "dpe_f.shape # on a donc supprimé 189 422 lignes du df \"dpe_f\" suite au nettoyage des codes commune."
   ]
  },
  {
   "cell_type": "markdown",
   "id": "9c97d60f-7cda-4c01-97b8-d9adf809ed01",
   "metadata": {},
   "source": [
    "#### b) Dans le df \"Filosofi\", passage au format numérique des variables \"NBMENFISC16\", \"NBPERSMENFISC16\" et \"MED16\"  "
   ]
  },
  {
   "cell_type": "code",
   "execution_count": 19,
   "id": "a9a1b166-f733-4dfd-9b0b-b6a4b509afa8",
   "metadata": {},
   "outputs": [
    {
     "name": "stdout",
     "output_type": "stream",
     "text": [
      "<class 'pandas.core.frame.DataFrame'>\n",
      "RangeIndex: 34932 entries, 0 to 34931\n",
      "Data columns (total 5 columns):\n",
      " #   Column           Non-Null Count  Dtype  \n",
      "---  ------           --------------  -----  \n",
      " 0   CODGEO           34932 non-null  object \n",
      " 1   LIBGEO           34932 non-null  object \n",
      " 2   NBMENFISC16      31405 non-null  float64\n",
      " 3   NBPERSMENFISC16  31405 non-null  float64\n",
      " 4   MED16            31405 non-null  float64\n",
      "dtypes: float64(3), object(2)\n",
      "memory usage: 1.3+ MB\n"
     ]
    }
   ],
   "source": [
    "# Modification des types des variables: passage au format numérique de toutes les variables sauf codgeo et libgeo.\n",
    "liste_var=Filosofi.columns.tolist()[2:]\n",
    "for var in liste_var:\n",
    "    Filosofi[var]=pd.to_numeric(Filosofi[var])\n",
    "Filosofi.info()"
   ]
  },
  {
   "cell_type": "markdown",
   "id": "82b15b4e-d4ce-4095-86a9-864d2f9f60ae",
   "metadata": {
    "tags": []
   },
   "source": [
    "#### c) Subsetting du df \"Filosofi\" en ne gardant que les codes commune d'Ile-de-France"
   ]
  },
  {
   "cell_type": "code",
   "execution_count": 21,
   "id": "8995e2bf-6ca2-40c6-80d0-b6edcb08fcac",
   "metadata": {},
   "outputs": [],
   "source": [
    "# Création d'une variable \"département\":\n",
    "Filosofi[\"DEP\"]=Filosofi[\"CODGEO\"].str[:2]\n",
    "# Filtrage géographique: on ne garde que les départements d'Ile-de-France:\n",
    "Filosofi_IDF=Filosofi[Filosofi[\"DEP\"].isin([\"75\",\"91\",\"92\",\"93\",\"94\",\"95\",\"77\",\"78\"])].reset_index(drop=True)"
   ]
  },
  {
   "cell_type": "code",
   "execution_count": 22,
   "id": "0e5c5093-56e6-4cee-a7cf-f9e48dd0c129",
   "metadata": {},
   "outputs": [
    {
     "data": {
      "text/html": [
       "<div>\n",
       "<style scoped>\n",
       "    .dataframe tbody tr th:only-of-type {\n",
       "        vertical-align: middle;\n",
       "    }\n",
       "\n",
       "    .dataframe tbody tr th {\n",
       "        vertical-align: top;\n",
       "    }\n",
       "\n",
       "    .dataframe thead th {\n",
       "        text-align: right;\n",
       "    }\n",
       "</style>\n",
       "<table border=\"1\" class=\"dataframe\">\n",
       "  <thead>\n",
       "    <tr style=\"text-align: right;\">\n",
       "      <th></th>\n",
       "      <th>CODGEO</th>\n",
       "      <th>LIBGEO</th>\n",
       "      <th>NBMENFISC16</th>\n",
       "      <th>NBPERSMENFISC16</th>\n",
       "      <th>MED16</th>\n",
       "      <th>DEP</th>\n",
       "    </tr>\n",
       "  </thead>\n",
       "  <tbody>\n",
       "    <tr>\n",
       "      <th>0</th>\n",
       "      <td>75056</td>\n",
       "      <td>Paris</td>\n",
       "      <td>1027657.0</td>\n",
       "      <td>2074629.5</td>\n",
       "      <td>26808.000000</td>\n",
       "      <td>75</td>\n",
       "    </tr>\n",
       "    <tr>\n",
       "      <th>1</th>\n",
       "      <td>75101</td>\n",
       "      <td>Paris 1er Arrondissement</td>\n",
       "      <td>8483.0</td>\n",
       "      <td>15477.0</td>\n",
       "      <td>32697.333333</td>\n",
       "      <td>75</td>\n",
       "    </tr>\n",
       "    <tr>\n",
       "      <th>2</th>\n",
       "      <td>75102</td>\n",
       "      <td>Paris 2e Arrondissement</td>\n",
       "      <td>11362.0</td>\n",
       "      <td>20563.0</td>\n",
       "      <td>30566.500000</td>\n",
       "      <td>75</td>\n",
       "    </tr>\n",
       "    <tr>\n",
       "      <th>3</th>\n",
       "      <td>75103</td>\n",
       "      <td>Paris 3e Arrondissement</td>\n",
       "      <td>17727.0</td>\n",
       "      <td>32292.5</td>\n",
       "      <td>31333.000000</td>\n",
       "      <td>75</td>\n",
       "    </tr>\n",
       "    <tr>\n",
       "      <th>4</th>\n",
       "      <td>75104</td>\n",
       "      <td>Paris 4e Arrondissement</td>\n",
       "      <td>13955.0</td>\n",
       "      <td>25585.5</td>\n",
       "      <td>31007.222222</td>\n",
       "      <td>75</td>\n",
       "    </tr>\n",
       "  </tbody>\n",
       "</table>\n",
       "</div>"
      ],
      "text/plain": [
       "  CODGEO                    LIBGEO  NBMENFISC16  NBPERSMENFISC16  \\\n",
       "0  75056                     Paris    1027657.0        2074629.5   \n",
       "1  75101  Paris 1er Arrondissement       8483.0          15477.0   \n",
       "2  75102   Paris 2e Arrondissement      11362.0          20563.0   \n",
       "3  75103   Paris 3e Arrondissement      17727.0          32292.5   \n",
       "4  75104   Paris 4e Arrondissement      13955.0          25585.5   \n",
       "\n",
       "          MED16 DEP  \n",
       "0  26808.000000  75  \n",
       "1  32697.333333  75  \n",
       "2  30566.500000  75  \n",
       "3  31333.000000  75  \n",
       "4  31007.222222  75  "
      ]
     },
     "execution_count": 22,
     "metadata": {},
     "output_type": "execute_result"
    }
   ],
   "source": [
    "Filosofi_IDF.head()"
   ]
  },
  {
   "cell_type": "markdown",
   "id": "f4e03b1b-34ff-45a9-bbf4-5379c22c353b",
   "metadata": {},
   "source": [
    "### 3) Création de nouvelles variables utiles pour l'analyse statistique des données"
   ]
  },
  {
   "cell_type": "markdown",
   "id": "f8ece5e7-0756-430a-8d37-4c1cd7a55600",
   "metadata": {},
   "source": [
    "#### a) Dans le df dpe_f2:"
   ]
  },
  {
   "cell_type": "code",
   "execution_count": 23,
   "id": "221b3c5c-70f0-4f12-84d1-8b570591c513",
   "metadata": {},
   "outputs": [],
   "source": [
    "# Calcul de nouvelles variables dans dpe_f: année du DPE, âge du logement, département.\n",
    "\n",
    "# 1) Création d'une variable \"année\" de réalisation du DPE:\n",
    "dpe_f2[\"annee\"]=dpe_f2.date_etablissement_dpe.str[:4]\n",
    "\n",
    "# 2) Création d'une variable \"âge\" du logement:\n",
    "# il faut d'abord transformer la variable \"année\" en int64:\n",
    "dpe_f2[\"annee2\"]=pd.to_numeric(dpe_f2[\"annee\"])\n",
    "dpe_f2[\"age_logement\"]=dpe_f2[\"annee2\"]-dpe_f2[\"annee_construction\"]\n",
    "\n",
    "# 3) Création d'une variable \"département\" à partir du code de la commune du DPE:\n",
    "dpe_f2[\"dep\"]=dpe_f2.code_insee_commune_actualise.str[:2]\n",
    "\n",
    "# Discrétisation de variables quantitatives:\n",
    "\n",
    "# Classes d'âge:\n",
    "dpe_f2['classe_age'] = pd.cut(dpe_f2['age_logement'],bins=[dpe_f2['age_logement'].min(),5,10,25,50,100,\n",
    "                                                          dpe_f2['age_logement'].max()],\\\n",
    "                                      labels=[\"Neuf (<5ans)\",\"Récent (entre 5 et 10 ans)\",\\\n",
    "                                              \"Entre 10 et 25 ans\",\"Entre 25 et 50 ans\",\\\n",
    "                                              \"Entre 50 et 100 ans\",\"Plus de 100 ans\"],\\\n",
    "                                     include_lowest=True)\n",
    "# Classes de surface thermique: \n",
    "dpe_f2['classe_surface'] = pd.cut(dpe_f2['surface_thermique_lot'],bins=[dpe_f2['surface_thermique_lot'].min(),\n",
    "                                                            30,60,100,dpe_f2['surface_thermique_lot'].max()],\\\n",
    "                                                          labels=[\"Moins de 30 m2\",\n",
    "                                                                  \"Entre 30 et 60 m2\",\n",
    "                                              \"Entre 60 et 100 m2\",\"Plus de 100 m2\"],\\\n",
    "                                     include_lowest=True)\n",
    "\n",
    "# Quintiles de niveaux de conso d'énergie:\n",
    "dpe_f2[\"conso_energie_quintiles\"]=pd.qcut(dpe_f2[\"consommation_energie\"],q=5,labels=[\"Q1\",\"Q2\",\"Q3\",\"Q4\",\"Q5\"])\n",
    "\n",
    "# Quintiles de niveaux d'émission de GES:\n",
    "dpe_f2[\"estimation_ges_quintiles\"]=pd.qcut(dpe_f2[\"estimation_ges\"],q=5,labels=[\"Q1\",\"Q2\",\"Q3\",\"Q4\",\"Q5\"])\n"
   ]
  },
  {
   "cell_type": "code",
   "execution_count": 24,
   "id": "3e1c4c14-80ba-4928-a039-362b540053fc",
   "metadata": {},
   "outputs": [
    {
     "data": {
      "text/html": [
       "<div>\n",
       "<style scoped>\n",
       "    .dataframe tbody tr th:only-of-type {\n",
       "        vertical-align: middle;\n",
       "    }\n",
       "\n",
       "    .dataframe tbody tr th {\n",
       "        vertical-align: top;\n",
       "    }\n",
       "\n",
       "    .dataframe thead th {\n",
       "        text-align: right;\n",
       "    }\n",
       "</style>\n",
       "<table border=\"1\" class=\"dataframe\">\n",
       "  <thead>\n",
       "    <tr style=\"text-align: right;\">\n",
       "      <th></th>\n",
       "      <th>_id</th>\n",
       "      <th>date_etablissement_dpe</th>\n",
       "      <th>consommation_energie</th>\n",
       "      <th>classe_consommation_energie</th>\n",
       "      <th>estimation_ges</th>\n",
       "      <th>classe_estimation_ges</th>\n",
       "      <th>annee_construction</th>\n",
       "      <th>surface_thermique_lot</th>\n",
       "      <th>Commune</th>\n",
       "      <th>code_insee_commune_actualise</th>\n",
       "      <th>...</th>\n",
       "      <th>_geopoint</th>\n",
       "      <th>geometry</th>\n",
       "      <th>annee</th>\n",
       "      <th>annee2</th>\n",
       "      <th>age_logement</th>\n",
       "      <th>dep</th>\n",
       "      <th>classe_age</th>\n",
       "      <th>classe_surface</th>\n",
       "      <th>conso_energie_quintiles</th>\n",
       "      <th>estimation_ges_quintiles</th>\n",
       "    </tr>\n",
       "  </thead>\n",
       "  <tbody>\n",
       "    <tr>\n",
       "      <th>0</th>\n",
       "      <td>T7b7O-zAyMijXFdlyWl7M</td>\n",
       "      <td>2013-05-09</td>\n",
       "      <td>434.00</td>\n",
       "      <td>F</td>\n",
       "      <td>25.00</td>\n",
       "      <td>D</td>\n",
       "      <td>1970</td>\n",
       "      <td>80.00</td>\n",
       "      <td>NaN</td>\n",
       "      <td>75056</td>\n",
       "      <td>...</td>\n",
       "      <td>48.829392,2.374836</td>\n",
       "      <td>POINT (2.37484 48.82939)</td>\n",
       "      <td>2013</td>\n",
       "      <td>2013</td>\n",
       "      <td>43</td>\n",
       "      <td>75</td>\n",
       "      <td>Entre 25 et 50 ans</td>\n",
       "      <td>Entre 60 et 100 m2</td>\n",
       "      <td>Q5</td>\n",
       "      <td>Q4</td>\n",
       "    </tr>\n",
       "    <tr>\n",
       "      <th>1</th>\n",
       "      <td>99qI3IKDlsdqj_LgNBzmX</td>\n",
       "      <td>2013-05-11</td>\n",
       "      <td>434.00</td>\n",
       "      <td>F</td>\n",
       "      <td>25.00</td>\n",
       "      <td>D</td>\n",
       "      <td>1970</td>\n",
       "      <td>80.00</td>\n",
       "      <td>NaN</td>\n",
       "      <td>75056</td>\n",
       "      <td>...</td>\n",
       "      <td>48.829392,2.374836</td>\n",
       "      <td>POINT (2.37484 48.82939)</td>\n",
       "      <td>2013</td>\n",
       "      <td>2013</td>\n",
       "      <td>43</td>\n",
       "      <td>75</td>\n",
       "      <td>Entre 25 et 50 ans</td>\n",
       "      <td>Entre 60 et 100 m2</td>\n",
       "      <td>Q5</td>\n",
       "      <td>Q4</td>\n",
       "    </tr>\n",
       "    <tr>\n",
       "      <th>2</th>\n",
       "      <td>RIrNiQLnIG9Iqsg19e8aC</td>\n",
       "      <td>2013-05-11</td>\n",
       "      <td>434.00</td>\n",
       "      <td>F</td>\n",
       "      <td>25.00</td>\n",
       "      <td>D</td>\n",
       "      <td>1970</td>\n",
       "      <td>80.00</td>\n",
       "      <td>NaN</td>\n",
       "      <td>75056</td>\n",
       "      <td>...</td>\n",
       "      <td>48.829392,2.374836</td>\n",
       "      <td>POINT (2.37484 48.82939)</td>\n",
       "      <td>2013</td>\n",
       "      <td>2013</td>\n",
       "      <td>43</td>\n",
       "      <td>75</td>\n",
       "      <td>Entre 25 et 50 ans</td>\n",
       "      <td>Entre 60 et 100 m2</td>\n",
       "      <td>Q5</td>\n",
       "      <td>Q4</td>\n",
       "    </tr>\n",
       "    <tr>\n",
       "      <th>3</th>\n",
       "      <td>XZIHgdlUOrEuAIrcpa9xa</td>\n",
       "      <td>2013-05-13</td>\n",
       "      <td>170.02</td>\n",
       "      <td>D</td>\n",
       "      <td>39.78</td>\n",
       "      <td>E</td>\n",
       "      <td>1940</td>\n",
       "      <td>29.00</td>\n",
       "      <td>NaN</td>\n",
       "      <td>75056</td>\n",
       "      <td>...</td>\n",
       "      <td>48.847662,2.28565</td>\n",
       "      <td>POINT (2.28565 48.84766)</td>\n",
       "      <td>2013</td>\n",
       "      <td>2013</td>\n",
       "      <td>73</td>\n",
       "      <td>75</td>\n",
       "      <td>Entre 50 et 100 ans</td>\n",
       "      <td>Moins de 30 m2</td>\n",
       "      <td>Q3</td>\n",
       "      <td>Q4</td>\n",
       "    </tr>\n",
       "    <tr>\n",
       "      <th>4</th>\n",
       "      <td>uVKCNovGIFXlkwZwxcXWD</td>\n",
       "      <td>2013-05-13</td>\n",
       "      <td>0.00</td>\n",
       "      <td>N</td>\n",
       "      <td>0.00</td>\n",
       "      <td>N</td>\n",
       "      <td>1900</td>\n",
       "      <td>6.99</td>\n",
       "      <td>NaN</td>\n",
       "      <td>75056</td>\n",
       "      <td>...</td>\n",
       "      <td>48.839935,2.332912</td>\n",
       "      <td>POINT (2.33291 48.83993)</td>\n",
       "      <td>2013</td>\n",
       "      <td>2013</td>\n",
       "      <td>113</td>\n",
       "      <td>75</td>\n",
       "      <td>Plus de 100 ans</td>\n",
       "      <td>Moins de 30 m2</td>\n",
       "      <td>Q1</td>\n",
       "      <td>Q1</td>\n",
       "    </tr>\n",
       "  </tbody>\n",
       "</table>\n",
       "<p>5 rows × 24 columns</p>\n",
       "</div>"
      ],
      "text/plain": [
       "                     _id date_etablissement_dpe  consommation_energie  \\\n",
       "0  T7b7O-zAyMijXFdlyWl7M             2013-05-09                434.00   \n",
       "1  99qI3IKDlsdqj_LgNBzmX             2013-05-11                434.00   \n",
       "2  RIrNiQLnIG9Iqsg19e8aC             2013-05-11                434.00   \n",
       "3  XZIHgdlUOrEuAIrcpa9xa             2013-05-13                170.02   \n",
       "4  uVKCNovGIFXlkwZwxcXWD             2013-05-13                  0.00   \n",
       "\n",
       "  classe_consommation_energie  estimation_ges classe_estimation_ges  \\\n",
       "0                           F           25.00                     D   \n",
       "1                           F           25.00                     D   \n",
       "2                           F           25.00                     D   \n",
       "3                           D           39.78                     E   \n",
       "4                           N            0.00                     N   \n",
       "\n",
       "   annee_construction  surface_thermique_lot Commune  \\\n",
       "0                1970                  80.00     NaN   \n",
       "1                1970                  80.00     NaN   \n",
       "2                1970                  80.00     NaN   \n",
       "3                1940                  29.00     NaN   \n",
       "4                1900                   6.99     NaN   \n",
       "\n",
       "  code_insee_commune_actualise  ...           _geopoint  \\\n",
       "0                        75056  ...  48.829392,2.374836   \n",
       "1                        75056  ...  48.829392,2.374836   \n",
       "2                        75056  ...  48.829392,2.374836   \n",
       "3                        75056  ...   48.847662,2.28565   \n",
       "4                        75056  ...  48.839935,2.332912   \n",
       "\n",
       "                   geometry annee annee2 age_logement dep  \\\n",
       "0  POINT (2.37484 48.82939)  2013   2013           43  75   \n",
       "1  POINT (2.37484 48.82939)  2013   2013           43  75   \n",
       "2  POINT (2.37484 48.82939)  2013   2013           43  75   \n",
       "3  POINT (2.28565 48.84766)  2013   2013           73  75   \n",
       "4  POINT (2.33291 48.83993)  2013   2013          113  75   \n",
       "\n",
       "            classe_age      classe_surface  conso_energie_quintiles  \\\n",
       "0   Entre 25 et 50 ans  Entre 60 et 100 m2                       Q5   \n",
       "1   Entre 25 et 50 ans  Entre 60 et 100 m2                       Q5   \n",
       "2   Entre 25 et 50 ans  Entre 60 et 100 m2                       Q5   \n",
       "3  Entre 50 et 100 ans      Moins de 30 m2                       Q3   \n",
       "4      Plus de 100 ans      Moins de 30 m2                       Q1   \n",
       "\n",
       "  estimation_ges_quintiles  \n",
       "0                       Q4  \n",
       "1                       Q4  \n",
       "2                       Q4  \n",
       "3                       Q4  \n",
       "4                       Q1  \n",
       "\n",
       "[5 rows x 24 columns]"
      ]
     },
     "execution_count": 24,
     "metadata": {},
     "output_type": "execute_result"
    }
   ],
   "source": [
    "dpe_f2.head()"
   ]
  },
  {
   "cell_type": "markdown",
   "id": "8f8c4cda-5c6b-44df-9b2d-0e43fd19133f",
   "metadata": {},
   "source": [
    "#### b) Dans le df Filosofi_IDF"
   ]
  },
  {
   "cell_type": "code",
   "execution_count": 25,
   "id": "7f389476-cbc8-44b0-913c-d1c67d0c7f1a",
   "metadata": {},
   "outputs": [],
   "source": [
    "# Discrétisation de la variable \"MED16\": niveau de vie médian de la commune en 2016\n",
    "Filosofi_IDF[\"MED16_quintiles\"]=pd.qcut(Filosofi_IDF[\"MED16\"],q=5,labels=[\"Q1\",\"Q2\",\"Q3\",\"Q4\",\"Q5\"])"
   ]
  },
  {
   "cell_type": "markdown",
   "id": "e71eb742-ee2b-46b0-9e83-4b0efd2d48ae",
   "metadata": {},
   "source": [
    "### 4) Agrégation des variables du df \"dpe_f2\" par commune"
   ]
  },
  {
   "cell_type": "markdown",
   "id": "16ca8051-0095-43a6-8879-85eab58aad4e",
   "metadata": {},
   "source": [
    "#### a) Comptage préalable des dpe par modalité des différentes variables catégorielles"
   ]
  },
  {
   "cell_type": "markdown",
   "id": "d463d3c8-8ae2-405f-b180-e29d26382c99",
   "metadata": {},
   "source": [
    "- Variable \"classe de consommation énergétique des logements\"(classe_consommation_energie):"
   ]
  },
  {
   "cell_type": "code",
   "execution_count": 26,
   "id": "fa05f37f-3935-4ddb-a53d-a97173997ded",
   "metadata": {},
   "outputs": [
    {
     "data": {
      "text/plain": [
       "D    262922\n",
       "B    217961\n",
       "E    217040\n",
       "N    156347\n",
       "C    116650\n",
       "F     80697\n",
       "A     53212\n",
       "G     29550\n",
       "H         1\n",
       "Name: classe_consommation_energie, dtype: int64"
      ]
     },
     "execution_count": 26,
     "metadata": {},
     "output_type": "execute_result"
    }
   ],
   "source": [
    "dpe_f2[\"classe_consommation_energie\"].value_counts()"
   ]
  },
  {
   "cell_type": "markdown",
   "id": "5c9ac025-edd8-48a3-b6cf-9c77272f1a31",
   "metadata": {},
   "source": [
    "On peut observer que 156 348 dpe sont mal ou pas renseignés (catégories N et H). Par conséquent, nous procédons à un filtrage de dpe_f2 pour exclure ces observations de l'analyse:"
   ]
  },
  {
   "cell_type": "code",
   "execution_count": 27,
   "id": "db309699-a726-4332-ac65-52216c058e51",
   "metadata": {},
   "outputs": [],
   "source": [
    "dpe_f3=dpe_f2[dpe_f2[\"classe_consommation_energie\"].isin([\"A\",\"B\",\"C\",\"D\",\"E\",\"F\",\"G\"])].reset_index(drop=True)"
   ]
  },
  {
   "cell_type": "code",
   "execution_count": 28,
   "id": "fcb6b4d5-aa3d-4f05-bca9-ef76b3ac63a4",
   "metadata": {},
   "outputs": [
    {
     "data": {
      "text/plain": [
       "(978032, 24)"
      ]
     },
     "execution_count": 28,
     "metadata": {},
     "output_type": "execute_result"
    }
   ],
   "source": [
    "dpe_f3.shape"
   ]
  },
  {
   "cell_type": "code",
   "execution_count": 29,
   "id": "3d4488dd-be08-44f4-9710-d21fc1427e32",
   "metadata": {},
   "outputs": [
    {
     "data": {
      "text/plain": [
       "(1134380, 24)"
      ]
     },
     "execution_count": 29,
     "metadata": {},
     "output_type": "execute_result"
    }
   ],
   "source": [
    "dpe_f2.shape"
   ]
  },
  {
   "cell_type": "markdown",
   "id": "af26e60f-0fae-482e-b555-777e9d1ef565",
   "metadata": {},
   "source": [
    "On a ainsi exclu 156 348 dpe avec une classe de consommation énergétique mal ou pas renseignée."
   ]
  },
  {
   "cell_type": "markdown",
   "id": "ad315b36-c510-41a6-b47b-f5478e6706d9",
   "metadata": {},
   "source": [
    "- Variable \"classe d'émission de gaz à effet de serre des logements\"(classe_estimation_ges):"
   ]
  },
  {
   "cell_type": "code",
   "execution_count": 30,
   "id": "42e80785-7131-4d8d-9622-0b5e5f5240da",
   "metadata": {},
   "outputs": [
    {
     "data": {
      "text/plain": [
       "C    306023\n",
       "E    170906\n",
       "D    150697\n",
       "B    143414\n",
       "F     94861\n",
       "A     71886\n",
       "G     40244\n",
       "N         1\n",
       "Name: classe_estimation_ges, dtype: int64"
      ]
     },
     "execution_count": 30,
     "metadata": {},
     "output_type": "execute_result"
    }
   ],
   "source": [
    "dpe_f3[\"classe_estimation_ges\"].value_counts()"
   ]
  },
  {
   "cell_type": "markdown",
   "id": "4fb8422e-76c1-4dd1-8bb4-0f8cdce5a9c9",
   "metadata": {},
   "source": [
    "Sur la base du df \"dpe_f3\", on constate qu'un seul dpe avec une classe d'émission de ges mal renseignée. On l'exclut de l'analyse:"
   ]
  },
  {
   "cell_type": "code",
   "execution_count": 31,
   "id": "0da67c9d-6cc0-434f-adff-eb1d8d202492",
   "metadata": {},
   "outputs": [],
   "source": [
    "dpe_f4=dpe_f3[dpe_f3[\"classe_estimation_ges\"].isin([\"A\",\"B\",\"C\",\"D\",\"E\",\"F\",\"G\"])].reset_index(drop=True)"
   ]
  },
  {
   "cell_type": "markdown",
   "id": "501b0bd5-2e17-4cbd-ad07-b11c553273a6",
   "metadata": {},
   "source": [
    "- Variable \"type de logement\" (tr002_type_batiment_description):"
   ]
  },
  {
   "cell_type": "code",
   "execution_count": 32,
   "id": "ab1a12a1-0731-4759-a694-f17b5747b659",
   "metadata": {},
   "outputs": [
    {
     "data": {
      "text/plain": [
       "Logement                                             641451\n",
       "Maison Individuelle                                  228335\n",
       "Bâtiment collectif à usage principal d'habitation    108245\n",
       "Name: tr002_type_batiment_description, dtype: int64"
      ]
     },
     "execution_count": 32,
     "metadata": {},
     "output_type": "execute_result"
    }
   ],
   "source": [
    "dpe_f4[\"tr002_type_batiment_description\"].value_counts()"
   ]
  },
  {
   "cell_type": "markdown",
   "id": "24565162-fcbb-429d-92e9-d9896d95cd6c",
   "metadata": {},
   "source": [
    "On constate que pour la grande majorité des DPE, le type de logement n'est pas renseigné, ce qui rend peu opératoire cette variable dans la suite de l'anlyse."
   ]
  },
  {
   "cell_type": "markdown",
   "id": "1815ad88-4ce1-4400-a821-ce7b2e58d321",
   "metadata": {},
   "source": [
    "- Variable \"Classes d'âge du logement\" (classe_age):"
   ]
  },
  {
   "cell_type": "code",
   "execution_count": 33,
   "id": "0aa8b2c5-2761-4fba-ba8c-59d58233f23b",
   "metadata": {},
   "outputs": [
    {
     "data": {
      "text/plain": [
       "Entre 25 et 50 ans            283165\n",
       "Entre 50 et 100 ans           256253\n",
       "Neuf (<5ans)                  251017\n",
       "Entre 10 et 25 ans            101727\n",
       "Plus de 100 ans                54057\n",
       "Récent (entre 5 et 10 ans)     31812\n",
       "Name: classe_age, dtype: int64"
      ]
     },
     "execution_count": 33,
     "metadata": {},
     "output_type": "execute_result"
    }
   ],
   "source": [
    "dpe_f4[\"classe_age\"].value_counts()"
   ]
  },
  {
   "cell_type": "markdown",
   "id": "68771421-95d3-4ff2-a522-67b4b1110b0e",
   "metadata": {},
   "source": [
    "- Variable \"Classes de surface thermique du logement\" (classe_surface):"
   ]
  },
  {
   "cell_type": "code",
   "execution_count": 34,
   "id": "b39199ba-9c12-43d1-a031-5d78d6086423",
   "metadata": {},
   "outputs": [
    {
     "data": {
      "text/plain": [
       "Entre 60 et 100 m2    372427\n",
       "Entre 30 et 60 m2     309215\n",
       "Plus de 100 m2        177272\n",
       "Moins de 30 m2        119073\n",
       "Name: classe_surface, dtype: int64"
      ]
     },
     "execution_count": 34,
     "metadata": {},
     "output_type": "execute_result"
    }
   ],
   "source": [
    "dpe_f4[\"classe_surface\"].value_counts()"
   ]
  },
  {
   "cell_type": "markdown",
   "id": "aa4d565f-b833-4f4b-b34b-f78f0d81bf1d",
   "metadata": {},
   "source": [
    "#### b) Transformation des variables catégorielles en indicatrices"
   ]
  },
  {
   "cell_type": "code",
   "execution_count": 35,
   "id": "19508474-3017-48de-96fd-ceeb46b54e86",
   "metadata": {},
   "outputs": [
    {
     "name": "stdout",
     "output_type": "stream",
     "text": [
      "<class 'geopandas.geodataframe.GeoDataFrame'>\n",
      "RangeIndex: 978031 entries, 0 to 978030\n",
      "Data columns (total 52 columns):\n",
      " #   Column                                 Non-Null Count   Dtype   \n",
      "---  ------                                 --------------   -----   \n",
      " 0   _id                                    978031 non-null  object  \n",
      " 1   date_etablissement_dpe                 978031 non-null  object  \n",
      " 2   consommation_energie                   978031 non-null  float64 \n",
      " 3   estimation_ges                         978031 non-null  float64 \n",
      " 4   annee_construction                     978031 non-null  int64   \n",
      " 5   surface_thermique_lot                  977987 non-null  float64 \n",
      " 6   Commune                                970266 non-null  object  \n",
      " 7   code_insee_commune_actualise           978031 non-null  object  \n",
      " 8   longitude                              978031 non-null  float64 \n",
      " 9   latitude                               978031 non-null  float64 \n",
      " 10  tr002_type_batiment_description        978031 non-null  object  \n",
      " 11  tv016_departement_code                 978031 non-null  object  \n",
      " 12  _geopoint                              978031 non-null  object  \n",
      " 13  geometry                               978031 non-null  geometry\n",
      " 14  annee                                  978031 non-null  object  \n",
      " 15  annee2                                 978031 non-null  int64   \n",
      " 16  age_logement                           978031 non-null  int64   \n",
      " 17  dep                                    978031 non-null  object  \n",
      " 18  classe_consommation_energie_A          978031 non-null  uint8   \n",
      " 19  classe_consommation_energie_B          978031 non-null  uint8   \n",
      " 20  classe_consommation_energie_C          978031 non-null  uint8   \n",
      " 21  classe_consommation_energie_D          978031 non-null  uint8   \n",
      " 22  classe_consommation_energie_E          978031 non-null  uint8   \n",
      " 23  classe_consommation_energie_F          978031 non-null  uint8   \n",
      " 24  classe_consommation_energie_G          978031 non-null  uint8   \n",
      " 25  classe_estimation_ges_A                978031 non-null  uint8   \n",
      " 26  classe_estimation_ges_B                978031 non-null  uint8   \n",
      " 27  classe_estimation_ges_C                978031 non-null  uint8   \n",
      " 28  classe_estimation_ges_D                978031 non-null  uint8   \n",
      " 29  classe_estimation_ges_E                978031 non-null  uint8   \n",
      " 30  classe_estimation_ges_F                978031 non-null  uint8   \n",
      " 31  classe_estimation_ges_G                978031 non-null  uint8   \n",
      " 32  classe_age_Neuf (<5ans)                978031 non-null  uint8   \n",
      " 33  classe_age_Récent (entre 5 et 10 ans)  978031 non-null  uint8   \n",
      " 34  classe_age_Entre 10 et 25 ans          978031 non-null  uint8   \n",
      " 35  classe_age_Entre 25 et 50 ans          978031 non-null  uint8   \n",
      " 36  classe_age_Entre 50 et 100 ans         978031 non-null  uint8   \n",
      " 37  classe_age_Plus de 100 ans             978031 non-null  uint8   \n",
      " 38  classe_surface_Moins de 30 m2          978031 non-null  uint8   \n",
      " 39  classe_surface_Entre 30 et 60 m2       978031 non-null  uint8   \n",
      " 40  classe_surface_Entre 60 et 100 m2      978031 non-null  uint8   \n",
      " 41  classe_surface_Plus de 100 m2          978031 non-null  uint8   \n",
      " 42  conso_energie_quintiles_Q1             978031 non-null  uint8   \n",
      " 43  conso_energie_quintiles_Q2             978031 non-null  uint8   \n",
      " 44  conso_energie_quintiles_Q3             978031 non-null  uint8   \n",
      " 45  conso_energie_quintiles_Q4             978031 non-null  uint8   \n",
      " 46  conso_energie_quintiles_Q5             978031 non-null  uint8   \n",
      " 47  estimation_ges_quintiles_Q1            978031 non-null  uint8   \n",
      " 48  estimation_ges_quintiles_Q2            978031 non-null  uint8   \n",
      " 49  estimation_ges_quintiles_Q3            978031 non-null  uint8   \n",
      " 50  estimation_ges_quintiles_Q4            978031 non-null  uint8   \n",
      " 51  estimation_ges_quintiles_Q5            978031 non-null  uint8   \n",
      "dtypes: float64(5), geometry(1), int64(3), object(9), uint8(34)\n",
      "memory usage: 166.0+ MB\n"
     ]
    }
   ],
   "source": [
    "dpe_IDF=pd.get_dummies(data=dpe_f4, columns=['classe_consommation_energie','classe_estimation_ges',\n",
    "                                    'classe_age','classe_surface','conso_energie_quintiles',\n",
    "                                    'estimation_ges_quintiles'])\n",
    "dpe_IDF.info()"
   ]
  },
  {
   "cell_type": "markdown",
   "id": "0cfe4404-838f-4525-9297-8dad209b0c5c",
   "metadata": {},
   "source": [
    "#### c) Agrégation des principales variables numériques par commune (moyenne/médiane):"
   ]
  },
  {
   "cell_type": "code",
   "execution_count": 36,
   "id": "aae94788-5c7a-4e31-86a7-ee2548689663",
   "metadata": {},
   "outputs": [],
   "source": [
    "liste_var=dpe_IDF.columns.tolist()\n",
    "\n",
    "# 1) on sélectionne les variables dont on veut calculer la moyenne par commune (+ le code commune):\n",
    "var_filtre1=[var for var in liste_var if var[:6]==\"classe\" or var[:5]==\"conso\" or var[:10]==\"estimation\" \\\n",
    "            or var==\"surface_thermique_lot\" or var==\"age_logement\" or var==\"code_insee_commune_actualise\"]\n",
    "dpe_IDF_filtre1=dpe_IDF[var_filtre1]\n",
    "# agrégation: calcul de la moyenne par commune:\n",
    "dpe_IDF_filtre1_com=dpe_IDF_filtre1.groupby('code_insee_commune_actualise').mean().reset_index()\n",
    "\n",
    "#2) on sélectionne les variables dont on veut calculer la médiane par commune (+le code commune)\n",
    "var_filtre2=['code_insee_commune_actualise','surface_thermique_lot','age_logement','consommation_energie',\n",
    "            'estimation_ges']\n",
    "dpe_IDF_filtre2=dpe_IDF[var_filtre2]\n",
    "# agrégation: calcul de la moyenne par commune:\n",
    "dpe_IDF_filtre2_com=dpe_IDF_filtre2.groupby('code_insee_commune_actualise').median().reset_index()\n",
    "del dpe_IDF_filtre2_com['code_insee_commune_actualise']\n",
    "dpe_IDF_filtre2_com=dpe_IDF_filtre2_com.rename(columns = {'surface_thermique_lot': 'surface_thermique_lot_median',\n",
    "                                                         'age_logement':'age_logement_median',\n",
    "                                                         'consommation_energie':'consommation_energie_median',\n",
    "                                                         'estimation_ges':'estimation_ges_median'})\n",
    "\n",
    "#3) on crée enfin une variable \"nombre de dpe par commune\":\n",
    "var_filtre3=['code_insee_commune_actualise','_id']\n",
    "dpe_IDF_filtre3=dpe_IDF[var_filtre3]\n",
    "dpe_IDF_filtre3_com=dpe_IDF_filtre3.groupby('code_insee_commune_actualise').count().reset_index()\n",
    "del dpe_IDF_filtre3_com['code_insee_commune_actualise']\n",
    "dpe_IDF_filtre3_com=dpe_IDF_filtre3_com.rename(columns = {'_id': 'nombre_dpe'})\n",
    "\n",
    "dpe_IDF_com=pd.concat([dpe_IDF_filtre1_com,dpe_IDF_filtre2_com,dpe_IDF_filtre3_com],axis=1)"
   ]
  },
  {
   "cell_type": "code",
   "execution_count": 37,
   "id": "ee4a1046-f18b-4dd8-83bf-ccc12484d92d",
   "metadata": {},
   "outputs": [
    {
     "name": "stdout",
     "output_type": "stream",
     "text": [
      "<class 'pandas.core.frame.DataFrame'>\n",
      "RangeIndex: 1026 entries, 0 to 1025\n",
      "Data columns (total 44 columns):\n",
      " #   Column                                 Non-Null Count  Dtype  \n",
      "---  ------                                 --------------  -----  \n",
      " 0   code_insee_commune_actualise           1026 non-null   object \n",
      " 1   consommation_energie                   1026 non-null   float64\n",
      " 2   estimation_ges                         1026 non-null   float64\n",
      " 3   surface_thermique_lot                  1026 non-null   float64\n",
      " 4   age_logement                           1026 non-null   float64\n",
      " 5   classe_consommation_energie_A          1026 non-null   float64\n",
      " 6   classe_consommation_energie_B          1026 non-null   float64\n",
      " 7   classe_consommation_energie_C          1026 non-null   float64\n",
      " 8   classe_consommation_energie_D          1026 non-null   float64\n",
      " 9   classe_consommation_energie_E          1026 non-null   float64\n",
      " 10  classe_consommation_energie_F          1026 non-null   float64\n",
      " 11  classe_consommation_energie_G          1026 non-null   float64\n",
      " 12  classe_estimation_ges_A                1026 non-null   float64\n",
      " 13  classe_estimation_ges_B                1026 non-null   float64\n",
      " 14  classe_estimation_ges_C                1026 non-null   float64\n",
      " 15  classe_estimation_ges_D                1026 non-null   float64\n",
      " 16  classe_estimation_ges_E                1026 non-null   float64\n",
      " 17  classe_estimation_ges_F                1026 non-null   float64\n",
      " 18  classe_estimation_ges_G                1026 non-null   float64\n",
      " 19  classe_age_Neuf (<5ans)                1026 non-null   float64\n",
      " 20  classe_age_Récent (entre 5 et 10 ans)  1026 non-null   float64\n",
      " 21  classe_age_Entre 10 et 25 ans          1026 non-null   float64\n",
      " 22  classe_age_Entre 25 et 50 ans          1026 non-null   float64\n",
      " 23  classe_age_Entre 50 et 100 ans         1026 non-null   float64\n",
      " 24  classe_age_Plus de 100 ans             1026 non-null   float64\n",
      " 25  classe_surface_Moins de 30 m2          1026 non-null   float64\n",
      " 26  classe_surface_Entre 30 et 60 m2       1026 non-null   float64\n",
      " 27  classe_surface_Entre 60 et 100 m2      1026 non-null   float64\n",
      " 28  classe_surface_Plus de 100 m2          1026 non-null   float64\n",
      " 29  conso_energie_quintiles_Q1             1026 non-null   float64\n",
      " 30  conso_energie_quintiles_Q2             1026 non-null   float64\n",
      " 31  conso_energie_quintiles_Q3             1026 non-null   float64\n",
      " 32  conso_energie_quintiles_Q4             1026 non-null   float64\n",
      " 33  conso_energie_quintiles_Q5             1026 non-null   float64\n",
      " 34  estimation_ges_quintiles_Q1            1026 non-null   float64\n",
      " 35  estimation_ges_quintiles_Q2            1026 non-null   float64\n",
      " 36  estimation_ges_quintiles_Q3            1026 non-null   float64\n",
      " 37  estimation_ges_quintiles_Q4            1026 non-null   float64\n",
      " 38  estimation_ges_quintiles_Q5            1026 non-null   float64\n",
      " 39  surface_thermique_lot_median           1026 non-null   float64\n",
      " 40  age_logement_median                    1026 non-null   float64\n",
      " 41  consommation_energie_median            1026 non-null   float64\n",
      " 42  estimation_ges_median                  1026 non-null   float64\n",
      " 43  nombre_dpe                             1026 non-null   int64  \n",
      "dtypes: float64(42), int64(1), object(1)\n",
      "memory usage: 352.8+ KB\n"
     ]
    }
   ],
   "source": [
    "dpe_IDF_com.info()"
   ]
  },
  {
   "cell_type": "markdown",
   "id": "5c10ce46-7c37-4c2a-a7c9-42c7d5693508",
   "metadata": {},
   "source": [
    "### 5) Jointure entre les dataframes \"Filisofi\" et \"df_dpe_com\": création du df \"df_dpe_filo_com\""
   ]
  },
  {
   "cell_type": "markdown",
   "id": "020a39de-14bd-4026-87e5-40585907bfef",
   "metadata": {},
   "source": [
    "On enrichit le dataframe dpe_IDF_com avec les données socio-économiques des communes contenues dans le dataframe Filosofi_com. On procède à une jointure des deux dataframes:"
   ]
  },
  {
   "cell_type": "code",
   "execution_count": 38,
   "id": "a9a1859c-40f8-4972-8f01-4c4593f6016f",
   "metadata": {},
   "outputs": [
    {
     "name": "stdout",
     "output_type": "stream",
     "text": [
      "<class 'pandas.core.frame.DataFrame'>\n",
      "Int64Index: 1288 entries, 0 to 1287\n",
      "Data columns (total 51 columns):\n",
      " #   Column                                 Non-Null Count  Dtype   \n",
      "---  ------                                 --------------  -----   \n",
      " 0   CODGEO                                 1288 non-null   object  \n",
      " 1   LIBGEO                                 1288 non-null   object  \n",
      " 2   NBMENFISC16                            1270 non-null   float64 \n",
      " 3   NBPERSMENFISC16                        1270 non-null   float64 \n",
      " 4   MED16                                  1270 non-null   float64 \n",
      " 5   DEP                                    1288 non-null   object  \n",
      " 6   MED16_quintiles                        1270 non-null   category\n",
      " 7   code_insee_commune_actualise           1026 non-null   object  \n",
      " 8   consommation_energie                   1026 non-null   float64 \n",
      " 9   estimation_ges                         1026 non-null   float64 \n",
      " 10  surface_thermique_lot                  1026 non-null   float64 \n",
      " 11  age_logement                           1026 non-null   float64 \n",
      " 12  classe_consommation_energie_A          1026 non-null   float64 \n",
      " 13  classe_consommation_energie_B          1026 non-null   float64 \n",
      " 14  classe_consommation_energie_C          1026 non-null   float64 \n",
      " 15  classe_consommation_energie_D          1026 non-null   float64 \n",
      " 16  classe_consommation_energie_E          1026 non-null   float64 \n",
      " 17  classe_consommation_energie_F          1026 non-null   float64 \n",
      " 18  classe_consommation_energie_G          1026 non-null   float64 \n",
      " 19  classe_estimation_ges_A                1026 non-null   float64 \n",
      " 20  classe_estimation_ges_B                1026 non-null   float64 \n",
      " 21  classe_estimation_ges_C                1026 non-null   float64 \n",
      " 22  classe_estimation_ges_D                1026 non-null   float64 \n",
      " 23  classe_estimation_ges_E                1026 non-null   float64 \n",
      " 24  classe_estimation_ges_F                1026 non-null   float64 \n",
      " 25  classe_estimation_ges_G                1026 non-null   float64 \n",
      " 26  classe_age_Neuf (<5ans)                1026 non-null   float64 \n",
      " 27  classe_age_Récent (entre 5 et 10 ans)  1026 non-null   float64 \n",
      " 28  classe_age_Entre 10 et 25 ans          1026 non-null   float64 \n",
      " 29  classe_age_Entre 25 et 50 ans          1026 non-null   float64 \n",
      " 30  classe_age_Entre 50 et 100 ans         1026 non-null   float64 \n",
      " 31  classe_age_Plus de 100 ans             1026 non-null   float64 \n",
      " 32  classe_surface_Moins de 30 m2          1026 non-null   float64 \n",
      " 33  classe_surface_Entre 30 et 60 m2       1026 non-null   float64 \n",
      " 34  classe_surface_Entre 60 et 100 m2      1026 non-null   float64 \n",
      " 35  classe_surface_Plus de 100 m2          1026 non-null   float64 \n",
      " 36  conso_energie_quintiles_Q1             1026 non-null   float64 \n",
      " 37  conso_energie_quintiles_Q2             1026 non-null   float64 \n",
      " 38  conso_energie_quintiles_Q3             1026 non-null   float64 \n",
      " 39  conso_energie_quintiles_Q4             1026 non-null   float64 \n",
      " 40  conso_energie_quintiles_Q5             1026 non-null   float64 \n",
      " 41  estimation_ges_quintiles_Q1            1026 non-null   float64 \n",
      " 42  estimation_ges_quintiles_Q2            1026 non-null   float64 \n",
      " 43  estimation_ges_quintiles_Q3            1026 non-null   float64 \n",
      " 44  estimation_ges_quintiles_Q4            1026 non-null   float64 \n",
      " 45  estimation_ges_quintiles_Q5            1026 non-null   float64 \n",
      " 46  surface_thermique_lot_median           1026 non-null   float64 \n",
      " 47  age_logement_median                    1026 non-null   float64 \n",
      " 48  consommation_energie_median            1026 non-null   float64 \n",
      " 49  estimation_ges_median                  1026 non-null   float64 \n",
      " 50  nombre_dpe                             1026 non-null   float64 \n",
      "dtypes: category(1), float64(46), object(4)\n",
      "memory usage: 514.7+ KB\n"
     ]
    }
   ],
   "source": [
    "Filosofi_dpe_IDF_com=pd.merge(Filosofi_IDF,dpe_IDF_com,left_on=\"CODGEO\",right_on=\"code_insee_commune_actualise\",how=\"left\")\n",
    "Filosofi_dpe_IDF_com.info()"
   ]
  },
  {
   "cell_type": "markdown",
   "id": "5c360a2e-0f33-4cf2-bee3-30e29b1afb8f",
   "metadata": {},
   "source": [
    "### 6) Export des dataframe finaux au format CSV"
   ]
  },
  {
   "cell_type": "markdown",
   "id": "5c2aad85-3b34-4f5c-be99-9a9e20610429",
   "metadata": {},
   "source": [
    "On sauvegarde les dataframes finaux sous forme de fichiers .csv dans le repository \"data_science_project\" de Github:"
   ]
  },
  {
   "cell_type": "markdown",
   "id": "587f2914-96d4-45f5-b2be-54aaaf7c9578",
   "metadata": {},
   "source": [
    "#### a) Export du dataframe dpe_IDF: ensemble de caractéristiques pour chaque DPE d'Ile-de-France"
   ]
  },
  {
   "cell_type": "code",
   "execution_count": 39,
   "id": "98a26d88-12a0-4e3e-a823-0a07c73bb2af",
   "metadata": {},
   "outputs": [],
   "source": [
    "dpe_IDF.to_csv(\"~/work/data_science_project/dpe_IDF.csv\", index=False,header=True)"
   ]
  },
  {
   "cell_type": "markdown",
   "id": "5e8e1213-9b09-4213-a3f0-cc1c59f6ebba",
   "metadata": {},
   "source": [
    "#### b) Export du dataframe Filosofi_dpe_IDF_com: caractéristiques des communes d'Ile-de-France en terme de performance énergétique des logement et de niveau de vie des ménages"
   ]
  },
  {
   "cell_type": "code",
   "execution_count": 40,
   "id": "e135593e-ef2f-4c10-8963-5cf4e9cc1832",
   "metadata": {},
   "outputs": [],
   "source": [
    "Filosofi_dpe_IDF_com.to_csv(\"~/work/data_science_project/Filosofi_dpe_IDF_com.csv\", index=False,header=True)"
   ]
  }
 ],
 "metadata": {
  "kernelspec": {
   "display_name": "Python 3 (ipykernel)",
   "language": "python",
   "name": "python3"
  },
  "language_info": {
   "codemirror_mode": {
    "name": "ipython",
    "version": 3
   },
   "file_extension": ".py",
   "mimetype": "text/x-python",
   "name": "python",
   "nbconvert_exporter": "python",
   "pygments_lexer": "ipython3",
   "version": "3.10.4"
  }
 },
 "nbformat": 4,
 "nbformat_minor": 5
}
