{
 "cells": [
  {
   "cell_type": "markdown",
   "id": "6cbe2822-4d0f-4eb9-9fac-43e2083cfdbe",
   "metadata": {},
   "source": [
    "# Retraitement des données"
   ]
  },
  {
   "cell_type": "markdown",
   "id": "b0dd39c4-e1ef-40c8-95ad-5c56215cc879",
   "metadata": {},
   "source": [
    "## A) Sélection des variables pertinentes pour l'étude"
   ]
  },
  {
   "cell_type": "code",
   "execution_count": 1,
   "id": "b5137319-1f6f-4848-bdb3-5e116f89314f",
   "metadata": {},
   "outputs": [
    {
     "ename": "NameError",
     "evalue": "name 'dpe_f' is not defined",
     "output_type": "error",
     "traceback": [
      "\u001b[0;31m---------------------------------------------------------------------------\u001b[0m",
      "\u001b[0;31mNameError\u001b[0m                                 Traceback (most recent call last)",
      "Cell \u001b[0;32mIn [1], line 2\u001b[0m\n\u001b[1;32m      1\u001b[0m \u001b[38;5;66;03m# Dans le dataframe dpe_f:\u001b[39;00m\n\u001b[0;32m----> 2\u001b[0m dpe_f\u001b[38;5;241m=\u001b[39m\u001b[43mdpe_f\u001b[49m\u001b[38;5;241m.\u001b[39mloc[:,[\u001b[38;5;124m\"\u001b[39m\u001b[38;5;124mid\u001b[39m\u001b[38;5;124m\"\u001b[39m,\u001b[38;5;124m\"\u001b[39m\u001b[38;5;124mdate_etablissement_dpe\u001b[39m\u001b[38;5;124m\"\u001b[39m,\u001b[38;5;124m\"\u001b[39m\u001b[38;5;124mconsommation_energie\u001b[39m\u001b[38;5;124m\"\u001b[39m,\u001b[38;5;124m\"\u001b[39m\u001b[38;5;124mclasse_consommation_energie\u001b[39m\u001b[38;5;124m\"\u001b[39m,\u001b[38;5;124m\"\u001b[39m\u001b[38;5;124mestimation_ges\u001b[39m\u001b[38;5;124m\"\u001b[39m,\u001b[38;5;124m\"\u001b[39m\u001b[38;5;124mclasse_estimation_ges\u001b[39m\u001b[38;5;124m\"\u001b[39m,\u001b[38;5;124m\"\u001b[39m\u001b[38;5;124mannee_construction\u001b[39m\u001b[38;5;124m\"\u001b[39m,\u001b[38;5;124m\"\u001b[39m\u001b[38;5;124msurface_thermique_lot\u001b[39m\u001b[38;5;124m\"\u001b[39m,\u001b[38;5;124m\"\u001b[39m\u001b[38;5;124mcommune\u001b[39m\u001b[38;5;124m\"\u001b[39m,\u001b[38;5;124m\"\u001b[39m\u001b[38;5;124mcode_insee_commune_actualise\u001b[39m\u001b[38;5;124m\"\u001b[39m,\u001b[38;5;124m\"\u001b[39m\u001b[38;5;124mlongitude\u001b[39m\u001b[38;5;124m\"\u001b[39m,\u001b[38;5;124m\"\u001b[39m\u001b[38;5;124mlatitude\u001b[39m\u001b[38;5;124m\"\u001b[39m,\u001b[38;5;124m\"\u001b[39m\u001b[38;5;124mtr002_type_batiment_description\u001b[39m\u001b[38;5;124m\"\u001b[39m,\u001b[38;5;124m\"\u001b[39m\u001b[38;5;124mtv016_departement_code\u001b[39m\u001b[38;5;124m\"\u001b[39m,\u001b[38;5;124m\"\u001b[39m\u001b[38;5;124m_geopoint\u001b[39m\u001b[38;5;124m\"\u001b[39m,\u001b[38;5;124m\"\u001b[39m\u001b[38;5;124mgeometry\u001b[39m\u001b[38;5;124m\"\u001b[39m]]\n\u001b[1;32m      3\u001b[0m dpe_f\u001b[38;5;241m.\u001b[39mhead()\n",
      "\u001b[0;31mNameError\u001b[0m: name 'dpe_f' is not defined"
     ]
    }
   ],
   "source": [
    "# Dans le dataframe dpe_f:\n",
    "dpe_f=dpe_f.loc[:,[\"id\",\"date_etablissement_dpe\",\"consommation_energie\",\"classe_consommation_energie\",\"estimation_ges\",\"classe_estimation_ges\",\"annee_construction\",\"surface_thermique_lot\",\"commune\",\"code_insee_commune_actualise\",\"longitude\",\"latitude\",\"tr002_type_batiment_description\",\"tv016_departement_code\",\"_geopoint\",\"geometry\"]]\n",
    "dpe_f.head()"
   ]
  },
  {
   "cell_type": "code",
   "execution_count": null,
   "id": "33038aa9-2801-437c-a8e7-ec826f062f4c",
   "metadata": {},
   "outputs": [],
   "source": [
    "# Dans le dataframe Filosofi:\n",
    "Filosofi=Filosofi.loc[:,[\"\",\"\",\"\",\"\",\"\"]]\n",
    "Filosofi.head()"
   ]
  },
  {
   "cell_type": "code",
   "execution_count": null,
   "id": "5272aa57-e530-4884-8e9c-3547336292a3",
   "metadata": {},
   "outputs": [],
   "source": []
  },
  {
   "cell_type": "markdown",
   "id": "86405741-a70b-4d2f-9cca-34fff8263697",
   "metadata": {},
   "source": [
    "## B) Nettoyage et mise en forme de certaines variables"
   ]
  },
  {
   "cell_type": "code",
   "execution_count": null,
   "id": "bb94692e-b47e-425d-bfe4-1b62066a110a",
   "metadata": {},
   "outputs": [],
   "source": [
    "# Nettoyage de la variable \"code_insee_commune\" dans le df \"dpe_f\":\n",
    "# Nettoyage de la variable \"code_insee_commune\":\n",
    "# liste des codes commune exisistant initialement dans le fichier DPE brut:\n",
    "a=DPE_IDF_clean2[\"code_insee_commune\"].unique().tolist()\n",
    "# on transforme les éléments de la liste en str:\n",
    "b=[str(x) for x in a]\n",
    "# on code le filtre à appliquer à notre df DPE_IDF_clean3:\n",
    "filtre = [x for x in b if len(x) == 5 if \".\" not in x if x[:2] in ([\"75\",\"77\",\"91\",\"92\",\"93\",\"94\",\"95\"])]\n",
    "print(len(filtre)) # nombre de codes commune retenus in fine pour l'IDF (sur la période 2014-2020).\n",
    "# Filtrage de DPE_IDF_clean3:\n",
    "DPE_IDF_clean3=DPE_IDF_clean2[DPE_IDF_clean3[\"code_insee_commune\"].isin(filtre)]"
   ]
  },
  {
   "cell_type": "code",
   "execution_count": null,
   "id": "89914658-a5c7-4b41-a781-6b51c2719b66",
   "metadata": {},
   "outputs": [],
   "source": []
  },
  {
   "cell_type": "code",
   "execution_count": null,
   "id": "e75d390d-3789-4d05-b33a-99a0f044e20e",
   "metadata": {},
   "outputs": [],
   "source": [
    "# Modification des types des variables: passage au format numérique de toutes les variables sauf codgeo et libgeo.\n",
    "liste_var=Filosofi.columns.tolist()[2:]\n",
    "for var in liste_var:\n",
    "    Filosofi[var]=pd.to_numeric(Filosofi[var])\n",
    "Filosofi.info()"
   ]
  },
  {
   "cell_type": "code",
   "execution_count": null,
   "id": "ba4211d7-4d7d-479b-9b74-aba9748c41e6",
   "metadata": {},
   "outputs": [],
   "source": [
    "# Création d'une variable \"département\":\n",
    "Filosofi[\"DEP\"]=Filosofi[\"CODGEO\"].str[:2]\n",
    "# Filtrage géographique: on ne garde que les départements d'Ile-de-France:\n",
    "Filosofi_IDF=Filosofi[Filosofi[\"DEP\"].isin([\"75\",\"91\",\"92\",\"93\",\"94\",\"95\",\"77\",\"78\"])]"
   ]
  },
  {
   "cell_type": "markdown",
   "id": "86e1e717-65cf-4c41-9db3-275e3a20beec",
   "metadata": {},
   "source": [
    "## C) Création de nouvelles variables "
   ]
  },
  {
   "cell_type": "code",
   "execution_count": null,
   "id": "464190d2-91ee-43f1-bed7-9db9450a4901",
   "metadata": {},
   "outputs": [],
   "source": [
    "# Calcul de nouvelles variables dans dpe_f: année du DPE, âge du logement, département.\n",
    "\n",
    "# 1) Création d'une variable \"année\" de réalisation du DPE:\n",
    "dpe_f[\"annee\"]=dpe_f.date_visite_diagnostiqueur.str[:4]\n",
    "\n",
    "# 2) Création d'une variable \"âge\" du logement:\n",
    "# il faut d'abord transformer la variable \"année\" en int64:\n",
    "\n",
    "dpe_f[\"age_logement\"]=dpe_f[\"annee\"]-dpe_f[\"annee_construction\"]\n",
    "\n",
    "# 3) Création d'une variable \"département\" à partir du code de la commune du DPE:\n",
    "dpe_f[\"dep\"]=dpe_f.code_insee_commune.str[:2]"
   ]
  },
  {
   "cell_type": "markdown",
   "id": "60941cdb-c658-426c-b1bb-363198ae4d40",
   "metadata": {},
   "source": [
    "## D) Agrégation du df \"dpe_f\" par commune: création du df \"df_dpe_com\" "
   ]
  },
  {
   "cell_type": "code",
   "execution_count": null,
   "id": "bb41be5c-7169-4814-ade8-3a2f8bc367d4",
   "metadata": {},
   "outputs": [],
   "source": [
    "# On commence par transformer les variables catégorielles en indicatrices:\n",
    "Classe_conso_IDF=pd.get_dummies(DPE_IDF_clean3[\"classe_consommation_energie\"])"
   ]
  },
  {
   "cell_type": "markdown",
   "id": "b939535e-33a5-4859-b220-9bc1277b3856",
   "metadata": {},
   "source": [
    "## E) Jointure avec le dataframe \"Filisofi\" par commune: création du df \"df_dpe_filo_com\""
   ]
  },
  {
   "cell_type": "code",
   "execution_count": null,
   "id": "a092ab7c-f7ec-48ef-9b35-345bdf1d5393",
   "metadata": {},
   "outputs": [],
   "source": []
  }
 ],
 "metadata": {
  "kernelspec": {
   "display_name": "Python 3 (ipykernel)",
   "language": "python",
   "name": "python3"
  },
  "language_info": {
   "codemirror_mode": {
    "name": "ipython",
    "version": 3
   },
   "file_extension": ".py",
   "mimetype": "text/x-python",
   "name": "python",
   "nbconvert_exporter": "python",
   "pygments_lexer": "ipython3",
   "version": "3.10.4"
  }
 },
 "nbformat": 4,
 "nbformat_minor": 5
}
