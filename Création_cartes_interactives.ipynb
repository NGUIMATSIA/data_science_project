{
 "cells": [
  {
   "cell_type": "markdown",
   "id": "08218470-a49b-491c-a7b4-7fdb0357bbab",
   "metadata": {},
   "source": [
    "# Création de cartes interactives relatives à la performance énergétique des logements et au niveau de vie des ménage (visualisation à l'échelle des communes d'Ile-de-France)"
   ]
  },
  {
   "cell_type": "code",
   "execution_count": 1,
   "id": "51db3bfd-b6ee-4bda-91f5-2e3b494b9da5",
   "metadata": {},
   "outputs": [
    {
     "name": "stdout",
     "output_type": "stream",
     "text": [
      "\u001b[33mWARNING: Ignoring invalid distribution -rllib3 (/opt/mamba/lib/python3.10/site-packages)\u001b[0m\u001b[33m\n",
      "\u001b[0m\u001b[33mWARNING: Ignoring invalid distribution -rllib3 (/opt/mamba/lib/python3.10/site-packages)\u001b[0m\u001b[33m\n",
      "\u001b[0mRequirement already satisfied: botocore==1.23.26 in /opt/mamba/lib/python3.10/site-packages (1.23.26)\n",
      "^C\n",
      "\u001b[31mERROR: Operation cancelled by user\u001b[0m\u001b[31m\n",
      "\u001b[0m\u001b[33mWARNING: Ignoring invalid distribution -rllib3 (/opt/mamba/lib/python3.10/site-packages)\u001b[0m\u001b[33m\n",
      "\u001b[0m\u001b[33mWARNING: Ignoring invalid distribution -rllib3 (/opt/mamba/lib/python3.10/site-packages)\u001b[0m\u001b[33m\n",
      "\u001b[0m\u001b[33mWARNING: Ignoring invalid distribution -rllib3 (/opt/mamba/lib/python3.10/site-packages)\u001b[0m\u001b[33m\n",
      "\u001b[0m\u001b[33mWARNING: Ignoring invalid distribution -rllib3 (/opt/mamba/lib/python3.10/site-packages)\u001b[0m\u001b[33m\n",
      "\u001b[0m\u001b[33mWARNING: Ignoring invalid distribution -rllib3 (/opt/mamba/lib/python3.10/site-packages)\u001b[0m\u001b[33m\n",
      "\u001b[0mCollecting urllib3==1.22.0\n",
      "  Using cached urllib3-1.22-py2.py3-none-any.whl (132 kB)\n",
      "\u001b[33mWARNING: Ignoring invalid distribution -rllib3 (/opt/mamba/lib/python3.10/site-packages)\u001b[0m\u001b[33m\n",
      "\u001b[0mInstalling collected packages: urllib3\n",
      "  Attempting uninstall: urllib3\n",
      "\u001b[33m    WARNING: Ignoring invalid distribution -rllib3 (/opt/mamba/lib/python3.10/site-packages)\u001b[0m\u001b[33m\n",
      "\u001b[0m    Found existing installation: urllib3 1.26.13\n",
      "    Uninstalling urllib3-1.26.13:\n",
      "      Successfully uninstalled urllib3-1.26.13\n",
      "\u001b[33mWARNING: Ignoring invalid distribution -rllib3 (/opt/mamba/lib/python3.10/site-packages)\u001b[0m\u001b[33m\n",
      "\u001b[0m\u001b[31mERROR: pip's dependency resolver does not currently take into account all the packages that are installed. This behaviour is the source of the following dependency conflicts.\n",
      "botocore 1.23.26 requires urllib3<1.27,>=1.25.4, but you have urllib3 1.22 which is incompatible.\n",
      "boto3 1.26.13 requires botocore<1.30.0,>=1.29.13, but you have botocore 1.23.26 which is incompatible.\u001b[0m\u001b[31m\n",
      "\u001b[0mSuccessfully installed urllib3-1.22\n",
      "\u001b[33mWARNING: Ignoring invalid distribution -rllib3 (/opt/mamba/lib/python3.10/site-packages)\u001b[0m\u001b[33m\n",
      "\u001b[0m\u001b[33mWARNING: Ignoring invalid distribution -rllib3 (/opt/mamba/lib/python3.10/site-packages)\u001b[0m\u001b[33m\n",
      "\u001b[0m\u001b[33mWARNING: Ignoring invalid distribution -rllib3 (/opt/mamba/lib/python3.10/site-packages)\u001b[0m\u001b[33m\n",
      "\u001b[0m\u001b[33mWARNING: Ignoring invalid distribution -rllib3 (/opt/mamba/lib/python3.10/site-packages)\u001b[0m\u001b[33m\n",
      "\u001b[0m\u001b[33mWARNING: Ignoring invalid distribution -rllib3 (/opt/mamba/lib/python3.10/site-packages)\u001b[0m\u001b[33m\n",
      "\u001b[0mRequirement already satisfied: py7zr in /opt/mamba/lib/python3.10/site-packages (0.20.2)\n",
      "Requirement already satisfied: pycryptodomex>=3.6.6 in /opt/mamba/lib/python3.10/site-packages (from py7zr) (3.16.0)\n",
      "Requirement already satisfied: inflate64>=0.3.1 in /opt/mamba/lib/python3.10/site-packages (from py7zr) (0.3.1)\n",
      "Requirement already satisfied: pyzstd>=0.14.4 in /opt/mamba/lib/python3.10/site-packages (from py7zr) (0.15.3)\n",
      "Requirement already satisfied: pyppmd<1.1.0,>=0.18.1 in /opt/mamba/lib/python3.10/site-packages (from py7zr) (1.0.0)\n",
      "Requirement already satisfied: texttable in /opt/mamba/lib/python3.10/site-packages (from py7zr) (1.6.7)\n",
      "Requirement already satisfied: brotli>=1.0.9 in /opt/mamba/lib/python3.10/site-packages (from py7zr) (1.0.9)\n",
      "Requirement already satisfied: psutil in /opt/mamba/lib/python3.10/site-packages (from py7zr) (5.9.4)\n",
      "Requirement already satisfied: pybcj>=0.6.0 in /opt/mamba/lib/python3.10/site-packages (from py7zr) (1.0.1)\n",
      "Requirement already satisfied: multivolumefile>=0.2.3 in /opt/mamba/lib/python3.10/site-packages (from py7zr) (0.2.3)\n",
      "\u001b[33mWARNING: Ignoring invalid distribution -rllib3 (/opt/mamba/lib/python3.10/site-packages)\u001b[0m\u001b[33m\n",
      "\u001b[0m\u001b[33mWARNING: Ignoring invalid distribution -rllib3 (/opt/mamba/lib/python3.10/site-packages)\u001b[0m\u001b[33m\n",
      "\u001b[0m\u001b[33mWARNING: Ignoring invalid distribution -rllib3 (/opt/mamba/lib/python3.10/site-packages)\u001b[0m\u001b[33m\n",
      "\u001b[0m\u001b[33mWARNING: Ignoring invalid distribution -rllib3 (/opt/mamba/lib/python3.10/site-packages)\u001b[0m\u001b[33m\n",
      "\u001b[0m\u001b[33mWARNING: Ignoring invalid distribution -rllib3 (/opt/mamba/lib/python3.10/site-packages)\u001b[0m\u001b[33m\n",
      "\u001b[0m\u001b[33mWARNING: Ignoring invalid distribution -rllib3 (/opt/mamba/lib/python3.10/site-packages)\u001b[0m\u001b[33m\n",
      "\u001b[0mRequirement already satisfied: s3fs in /opt/mamba/lib/python3.10/site-packages (0.4.2)\n",
      "Requirement already satisfied: fsspec>=0.6.0 in /opt/mamba/lib/python3.10/site-packages (from s3fs) (2022.11.0)\n",
      "Requirement already satisfied: botocore>=1.12.91 in /opt/mamba/lib/python3.10/site-packages (from s3fs) (1.23.26)\n",
      "Requirement already satisfied: jmespath<1.0.0,>=0.7.1 in /opt/mamba/lib/python3.10/site-packages (from botocore>=1.12.91->s3fs) (0.10.0)\n",
      "Requirement already satisfied: python-dateutil<3.0.0,>=2.1 in /opt/mamba/lib/python3.10/site-packages (from botocore>=1.12.91->s3fs) (2.8.2)\n",
      "Collecting urllib3<1.27,>=1.25.4\n",
      "  Using cached urllib3-1.26.13-py2.py3-none-any.whl (140 kB)\n",
      "Requirement already satisfied: six>=1.5 in /opt/mamba/lib/python3.10/site-packages (from python-dateutil<3.0.0,>=2.1->botocore>=1.12.91->s3fs) (1.16.0)\n",
      "\u001b[33mWARNING: Ignoring invalid distribution -rllib3 (/opt/mamba/lib/python3.10/site-packages)\u001b[0m\u001b[33m\n",
      "\u001b[0mInstalling collected packages: urllib3\n",
      "  Attempting uninstall: urllib3\n",
      "\u001b[33m    WARNING: Ignoring invalid distribution -rllib3 (/opt/mamba/lib/python3.10/site-packages)\u001b[0m\u001b[33m\n",
      "\u001b[0m    Found existing installation: urllib3 1.22\n",
      "    Uninstalling urllib3-1.22:\n",
      "      Successfully uninstalled urllib3-1.22\n",
      "\u001b[33mWARNING: Ignoring invalid distribution -rllib3 (/opt/mamba/lib/python3.10/site-packages)\u001b[0m\u001b[33m\n",
      "\u001b[0m\u001b[31mERROR: pip's dependency resolver does not currently take into account all the packages that are installed. This behaviour is the source of the following dependency conflicts.\n",
      "boto3 1.26.13 requires botocore<1.30.0,>=1.29.13, but you have botocore 1.23.26 which is incompatible.\u001b[0m\u001b[31m\n",
      "\u001b[0mSuccessfully installed urllib3-1.26.13\n",
      "\u001b[33mWARNING: Ignoring invalid distribution -rllib3 (/opt/mamba/lib/python3.10/site-packages)\u001b[0m\u001b[33m\n",
      "\u001b[0m\u001b[33mWARNING: Ignoring invalid distribution -rllib3 (/opt/mamba/lib/python3.10/site-packages)\u001b[0m\u001b[33m\n",
      "\u001b[0m\u001b[33mWARNING: Ignoring invalid distribution -rllib3 (/opt/mamba/lib/python3.10/site-packages)\u001b[0m\u001b[33m\n",
      "\u001b[0mfatal: destination path 'cartogether' already exists and is not an empty directory.\n",
      "/home/onyxia/work/data_science_project/cartogether\n",
      "\u001b[33mWARNING: Ignoring invalid distribution -rllib3 (/opt/mamba/lib/python3.10/site-packages)\u001b[0m\u001b[33m\n",
      "\u001b[0m\u001b[33mWARNING: Ignoring invalid distribution -rllib3 (/opt/mamba/lib/python3.10/site-packages)\u001b[0m\u001b[33m\n",
      "\u001b[0mRequirement already satisfied: requests in /opt/mamba/lib/python3.10/site-packages (from -r requirements.txt (line 1)) (2.28.1)\n",
      "Requirement already satisfied: py7zr in /opt/mamba/lib/python3.10/site-packages (from -r requirements.txt (line 2)) (0.20.2)\n",
      "Requirement already satisfied: geopandas in /opt/mamba/lib/python3.10/site-packages (from -r requirements.txt (line 3)) (0.12.1)\n",
      "Requirement already satisfied: openpyxl in /opt/mamba/lib/python3.10/site-packages (from -r requirements.txt (line 4)) (3.0.10)\n",
      "Requirement already satisfied: tqdm in /opt/mamba/lib/python3.10/site-packages (from -r requirements.txt (line 5)) (4.64.1)\n",
      "Requirement already satisfied: s3fs in /opt/mamba/lib/python3.10/site-packages (from -r requirements.txt (line 6)) (0.4.2)\n",
      "Requirement already satisfied: PyYAML in /opt/mamba/lib/python3.10/site-packages (from -r requirements.txt (line 7)) (6.0)\n",
      "Requirement already satisfied: xlrd in /opt/mamba/lib/python3.10/site-packages (from -r requirements.txt (line 8)) (2.0.1)\n",
      "Requirement already satisfied: urllib3<1.27,>=1.21.1 in /opt/mamba/lib/python3.10/site-packages (from requests->-r requirements.txt (line 1)) (1.26.13)\n",
      "Requirement already satisfied: idna<4,>=2.5 in /opt/mamba/lib/python3.10/site-packages (from requests->-r requirements.txt (line 1)) (3.4)\n",
      "Requirement already satisfied: certifi>=2017.4.17 in /opt/mamba/lib/python3.10/site-packages (from requests->-r requirements.txt (line 1)) (2022.9.24)\n",
      "Requirement already satisfied: charset-normalizer<3,>=2 in /opt/mamba/lib/python3.10/site-packages (from requests->-r requirements.txt (line 1)) (2.1.1)\n",
      "Requirement already satisfied: texttable in /opt/mamba/lib/python3.10/site-packages (from py7zr->-r requirements.txt (line 2)) (1.6.7)\n",
      "Requirement already satisfied: brotli>=1.0.9 in /opt/mamba/lib/python3.10/site-packages (from py7zr->-r requirements.txt (line 2)) (1.0.9)\n",
      "Requirement already satisfied: pycryptodomex>=3.6.6 in /opt/mamba/lib/python3.10/site-packages (from py7zr->-r requirements.txt (line 2)) (3.16.0)\n",
      "Requirement already satisfied: inflate64>=0.3.1 in /opt/mamba/lib/python3.10/site-packages (from py7zr->-r requirements.txt (line 2)) (0.3.1)\n",
      "Requirement already satisfied: psutil in /opt/mamba/lib/python3.10/site-packages (from py7zr->-r requirements.txt (line 2)) (5.9.4)\n",
      "Requirement already satisfied: pyppmd<1.1.0,>=0.18.1 in /opt/mamba/lib/python3.10/site-packages (from py7zr->-r requirements.txt (line 2)) (1.0.0)\n",
      "Requirement already satisfied: pybcj>=0.6.0 in /opt/mamba/lib/python3.10/site-packages (from py7zr->-r requirements.txt (line 2)) (1.0.1)\n",
      "Requirement already satisfied: multivolumefile>=0.2.3 in /opt/mamba/lib/python3.10/site-packages (from py7zr->-r requirements.txt (line 2)) (0.2.3)\n",
      "Requirement already satisfied: pyzstd>=0.14.4 in /opt/mamba/lib/python3.10/site-packages (from py7zr->-r requirements.txt (line 2)) (0.15.3)\n",
      "Requirement already satisfied: shapely>=1.7 in /opt/mamba/lib/python3.10/site-packages (from geopandas->-r requirements.txt (line 3)) (1.8.5.post1)\n",
      "Requirement already satisfied: pandas>=1.0.0 in /opt/mamba/lib/python3.10/site-packages (from geopandas->-r requirements.txt (line 3)) (1.5.1)\n",
      "Requirement already satisfied: pyproj>=2.6.1.post1 in /opt/mamba/lib/python3.10/site-packages (from geopandas->-r requirements.txt (line 3)) (3.4.0)\n",
      "Requirement already satisfied: packaging in /opt/mamba/lib/python3.10/site-packages (from geopandas->-r requirements.txt (line 3)) (21.3)\n",
      "Requirement already satisfied: fiona>=1.8 in /opt/mamba/lib/python3.10/site-packages (from geopandas->-r requirements.txt (line 3)) (1.8.22)\n",
      "Requirement already satisfied: et-xmlfile in /opt/mamba/lib/python3.10/site-packages (from openpyxl->-r requirements.txt (line 4)) (1.1.0)\n",
      "Requirement already satisfied: botocore>=1.12.91 in /opt/mamba/lib/python3.10/site-packages (from s3fs->-r requirements.txt (line 6)) (1.23.26)\n",
      "Requirement already satisfied: fsspec>=0.6.0 in /opt/mamba/lib/python3.10/site-packages (from s3fs->-r requirements.txt (line 6)) (2022.11.0)\n",
      "Requirement already satisfied: jmespath<1.0.0,>=0.7.1 in /opt/mamba/lib/python3.10/site-packages (from botocore>=1.12.91->s3fs->-r requirements.txt (line 6)) (0.10.0)\n",
      "Requirement already satisfied: python-dateutil<3.0.0,>=2.1 in /opt/mamba/lib/python3.10/site-packages (from botocore>=1.12.91->s3fs->-r requirements.txt (line 6)) (2.8.2)\n",
      "Requirement already satisfied: six>=1.7 in /opt/mamba/lib/python3.10/site-packages (from fiona>=1.8->geopandas->-r requirements.txt (line 3)) (1.16.0)\n",
      "Requirement already satisfied: cligj>=0.5 in /opt/mamba/lib/python3.10/site-packages (from fiona>=1.8->geopandas->-r requirements.txt (line 3)) (0.7.2)\n",
      "Requirement already satisfied: attrs>=17 in /opt/mamba/lib/python3.10/site-packages (from fiona>=1.8->geopandas->-r requirements.txt (line 3)) (22.1.0)\n",
      "Requirement already satisfied: setuptools in /opt/mamba/lib/python3.10/site-packages (from fiona>=1.8->geopandas->-r requirements.txt (line 3)) (65.5.1)\n",
      "Requirement already satisfied: click>=4.0 in /opt/mamba/lib/python3.10/site-packages (from fiona>=1.8->geopandas->-r requirements.txt (line 3)) (8.1.3)\n",
      "Requirement already satisfied: click-plugins>=1.0 in /opt/mamba/lib/python3.10/site-packages (from fiona>=1.8->geopandas->-r requirements.txt (line 3)) (1.1.1)\n",
      "Requirement already satisfied: munch in /opt/mamba/lib/python3.10/site-packages (from fiona>=1.8->geopandas->-r requirements.txt (line 3)) (2.5.0)\n",
      "Requirement already satisfied: pytz>=2020.1 in /opt/mamba/lib/python3.10/site-packages (from pandas>=1.0.0->geopandas->-r requirements.txt (line 3)) (2022.6)\n",
      "Requirement already satisfied: numpy>=1.21.0 in /opt/mamba/lib/python3.10/site-packages (from pandas>=1.0.0->geopandas->-r requirements.txt (line 3)) (1.23.5)\n",
      "Requirement already satisfied: pyparsing!=3.0.5,>=2.0.2 in /opt/mamba/lib/python3.10/site-packages (from packaging->geopandas->-r requirements.txt (line 3)) (3.0.9)\n",
      "\u001b[33mWARNING: Ignoring invalid distribution -rllib3 (/opt/mamba/lib/python3.10/site-packages)\u001b[0m\u001b[33m\n",
      "\u001b[0m\u001b[33mWARNING: Ignoring invalid distribution -rllib3 (/opt/mamba/lib/python3.10/site-packages)\u001b[0m\u001b[33m\n",
      "\u001b[0m\u001b[33mWARNING: Ignoring invalid distribution -rllib3 (/opt/mamba/lib/python3.10/site-packages)\u001b[0m\u001b[33m\n",
      "\u001b[0m\u001b[33mWARNING: Ignoring invalid distribution -rllib3 (/opt/mamba/lib/python3.10/site-packages)\u001b[0m\u001b[33m\n",
      "\u001b[0m^C\n",
      "Traceback (most recent call last):\n",
      "  File \"/opt/mamba/bin/pip\", line 6, in <module>\n",
      "    from pip._internal.cli.main import main\n",
      "  File \"/opt/mamba/lib/python3.10/site-packages/pip/_internal/cli/main.py\", line 9, in <module>\n",
      "    from pip._internal.cli.autocompletion import autocomplete\n",
      "  File \"/opt/mamba/lib/python3.10/site-packages/pip/_internal/cli/autocompletion.py\", line 10, in <module>\n",
      "    from pip._internal.cli.main_parser import create_main_parser\n",
      "  File \"/opt/mamba/lib/python3.10/site-packages/pip/_internal/cli/main_parser.py\", line 9, in <module>\n",
      "    from pip._internal.build_env import get_runnable_pip\n",
      "  File \"/opt/mamba/lib/python3.10/site-packages/pip/_internal/build_env.py\", line 20, in <module>\n",
      "    from pip._internal.cli.spinners import open_spinner\n",
      "  File \"/opt/mamba/lib/python3.10/site-packages/pip/_internal/cli/spinners.py\", line 9, in <module>\n",
      "    from pip._internal.utils.logging import get_indentation\n",
      "  File \"/opt/mamba/lib/python3.10/site-packages/pip/_internal/utils/logging.py\", line 29, in <module>\n",
      "    from pip._internal.utils.misc import ensure_dir\n",
      "  File \"/opt/mamba/lib/python3.10/site-packages/pip/_internal/utils/misc.py\", line 7, in <module>\n",
      "    import hashlib\n",
      "  File \"/opt/mamba/lib/python3.10/hashlib.py\", line 170, in <module>\n",
      "    import _hashlib\n",
      "KeyboardInterrupt\n"
     ]
    },
    {
     "name": "stderr",
     "output_type": "stream",
     "text": [
      "Downloading: : 63.3kiB [00:00, 25.9MiB/s]\n",
      "ERROR 1: PROJ: proj_create_from_database: Open of /opt/mamba/share/proj failed\n",
      "Downloading: : 3.68MiB [00:00, 63.6MiB/s]\n"
     ]
    },
    {
     "ename": "KeyboardInterrupt",
     "evalue": "",
     "output_type": "error",
     "traceback": [
      "\u001b[0;31m---------------------------------------------------------------------------\u001b[0m",
      "\u001b[0;31mKeyboardInterrupt\u001b[0m                         Traceback (most recent call last)",
      "File \u001b[0;32m/tmp/ipykernel_18233/2424511291.py:3\u001b[0m\n\u001b[1;32m      1\u001b[0m \u001b[38;5;28;01mimport\u001b[39;00m \u001b[38;5;21;01mcartiflette\u001b[39;00m\u001b[38;5;21;01m.\u001b[39;00m\u001b[38;5;21;01ms3\u001b[39;00m\n\u001b[0;32m----> 3\u001b[0m communes_IDF \u001b[38;5;241m=\u001b[39m \u001b[43mcartiflette\u001b[49m\u001b[38;5;241;43m.\u001b[39;49m\u001b[43ms3\u001b[49m\u001b[38;5;241;43m.\u001b[39;49m\u001b[43mdownload_vectorfile_url_all\u001b[49m\u001b[43m(\u001b[49m\n\u001b[1;32m      4\u001b[0m \u001b[43m    \u001b[49m\u001b[43mvalues\u001b[49m\u001b[43m \u001b[49m\u001b[38;5;241;43m=\u001b[39;49m\u001b[43m \u001b[49m\u001b[43m[\u001b[49m\u001b[38;5;124;43m\"\u001b[39;49m\u001b[38;5;124;43m75\u001b[39;49m\u001b[38;5;124;43m\"\u001b[39;49m\u001b[43m,\u001b[49m\u001b[38;5;124;43m\"\u001b[39;49m\u001b[38;5;124;43m91\u001b[39;49m\u001b[38;5;124;43m\"\u001b[39;49m\u001b[43m,\u001b[49m\u001b[38;5;124;43m\"\u001b[39;49m\u001b[38;5;124;43m92\u001b[39;49m\u001b[38;5;124;43m\"\u001b[39;49m\u001b[43m,\u001b[49m\u001b[38;5;124;43m\"\u001b[39;49m\u001b[38;5;124;43m93\u001b[39;49m\u001b[38;5;124;43m\"\u001b[39;49m\u001b[43m,\u001b[49m\u001b[38;5;124;43m\"\u001b[39;49m\u001b[38;5;124;43m94\u001b[39;49m\u001b[38;5;124;43m\"\u001b[39;49m\u001b[43m,\u001b[49m\u001b[38;5;124;43m\"\u001b[39;49m\u001b[38;5;124;43m95\u001b[39;49m\u001b[38;5;124;43m\"\u001b[39;49m\u001b[43m,\u001b[49m\u001b[38;5;124;43m\"\u001b[39;49m\u001b[38;5;124;43m77\u001b[39;49m\u001b[38;5;124;43m\"\u001b[39;49m\u001b[43m,\u001b[49m\u001b[38;5;124;43m\"\u001b[39;49m\u001b[38;5;124;43m78\u001b[39;49m\u001b[38;5;124;43m\"\u001b[39;49m\u001b[43m]\u001b[49m\u001b[43m,\u001b[49m\n\u001b[1;32m      5\u001b[0m \u001b[43m    \u001b[49m\u001b[43mlevel\u001b[49m\u001b[38;5;241;43m=\u001b[39;49m\u001b[38;5;124;43m\"\u001b[39;49m\u001b[38;5;124;43mCOMMUNE\u001b[39;49m\u001b[38;5;124;43m\"\u001b[39;49m\u001b[43m,\u001b[49m\n\u001b[1;32m      6\u001b[0m \u001b[43m    \u001b[49m\u001b[43mvectorfile_format\u001b[49m\u001b[38;5;241;43m=\u001b[39;49m\u001b[38;5;124;43m\"\u001b[39;49m\u001b[38;5;124;43mgeojson\u001b[39;49m\u001b[38;5;124;43m\"\u001b[39;49m\u001b[43m,\u001b[49m\n\u001b[1;32m      7\u001b[0m \u001b[43m    \u001b[49m\u001b[43mdecoupage\u001b[49m\u001b[38;5;241;43m=\u001b[39;49m\u001b[38;5;124;43m\"\u001b[39;49m\u001b[38;5;124;43mdepartement\u001b[39;49m\u001b[38;5;124;43m\"\u001b[39;49m\u001b[43m,\u001b[49m\n\u001b[1;32m      8\u001b[0m \u001b[43m    \u001b[49m\u001b[43myear\u001b[49m\u001b[38;5;241;43m=\u001b[39;49m\u001b[38;5;241;43m2022\u001b[39;49m\u001b[43m)\u001b[49m\n\u001b[1;32m     10\u001b[0m \u001b[38;5;66;03m#communes_IDF.head()\u001b[39;00m\n",
      "File \u001b[0;32m~/work/data_science_project/cartogether/cartiflette/s3/s3.py:103\u001b[0m, in \u001b[0;36mdownload_vectorfile_url_all\u001b[0;34m(values, level, vectorfile_format, decoupage, year)\u001b[0m\n\u001b[1;32m    100\u001b[0m \u001b[38;5;28;01mif\u001b[39;00m \u001b[38;5;28misinstance\u001b[39m(values, (\u001b[38;5;28mstr\u001b[39m, \u001b[38;5;28mint\u001b[39m, \u001b[38;5;28mfloat\u001b[39m)):\n\u001b[1;32m    101\u001b[0m     values \u001b[38;5;241m=\u001b[39m [\u001b[38;5;28mstr\u001b[39m(values)]\n\u001b[0;32m--> 103\u001b[0m vectors \u001b[38;5;241m=\u001b[39m [\n\u001b[1;32m    104\u001b[0m     download_vectorfile_url_single(\n\u001b[1;32m    105\u001b[0m         value\u001b[38;5;241m=\u001b[39mval,\n\u001b[1;32m    106\u001b[0m         level\u001b[38;5;241m=\u001b[39mlevel,\n\u001b[1;32m    107\u001b[0m         vectorfile_format\u001b[38;5;241m=\u001b[39mvectorfile_format,\n\u001b[1;32m    108\u001b[0m         decoupage\u001b[38;5;241m=\u001b[39mdecoupage,\n\u001b[1;32m    109\u001b[0m         year\u001b[38;5;241m=\u001b[39myear) \u001b[38;5;28;01mfor\u001b[39;00m val \u001b[38;5;129;01min\u001b[39;00m values\n\u001b[1;32m    110\u001b[0m ]\n\u001b[1;32m    112\u001b[0m vectors \u001b[38;5;241m=\u001b[39m pd\u001b[38;5;241m.\u001b[39mconcat(vectors)\n\u001b[1;32m    114\u001b[0m \u001b[38;5;28;01mreturn\u001b[39;00m vectors\n",
      "File \u001b[0;32m~/work/data_science_project/cartogether/cartiflette/s3/s3.py:104\u001b[0m, in \u001b[0;36m<listcomp>\u001b[0;34m(.0)\u001b[0m\n\u001b[1;32m    100\u001b[0m \u001b[38;5;28;01mif\u001b[39;00m \u001b[38;5;28misinstance\u001b[39m(values, (\u001b[38;5;28mstr\u001b[39m, \u001b[38;5;28mint\u001b[39m, \u001b[38;5;28mfloat\u001b[39m)):\n\u001b[1;32m    101\u001b[0m     values \u001b[38;5;241m=\u001b[39m [\u001b[38;5;28mstr\u001b[39m(values)]\n\u001b[1;32m    103\u001b[0m vectors \u001b[38;5;241m=\u001b[39m [\n\u001b[0;32m--> 104\u001b[0m     \u001b[43mdownload_vectorfile_url_single\u001b[49m\u001b[43m(\u001b[49m\n\u001b[1;32m    105\u001b[0m \u001b[43m        \u001b[49m\u001b[43mvalue\u001b[49m\u001b[38;5;241;43m=\u001b[39;49m\u001b[43mval\u001b[49m\u001b[43m,\u001b[49m\n\u001b[1;32m    106\u001b[0m \u001b[43m        \u001b[49m\u001b[43mlevel\u001b[49m\u001b[38;5;241;43m=\u001b[39;49m\u001b[43mlevel\u001b[49m\u001b[43m,\u001b[49m\n\u001b[1;32m    107\u001b[0m \u001b[43m        \u001b[49m\u001b[43mvectorfile_format\u001b[49m\u001b[38;5;241;43m=\u001b[39;49m\u001b[43mvectorfile_format\u001b[49m\u001b[43m,\u001b[49m\n\u001b[1;32m    108\u001b[0m \u001b[43m        \u001b[49m\u001b[43mdecoupage\u001b[49m\u001b[38;5;241;43m=\u001b[39;49m\u001b[43mdecoupage\u001b[49m\u001b[43m,\u001b[49m\n\u001b[1;32m    109\u001b[0m \u001b[43m        \u001b[49m\u001b[43myear\u001b[49m\u001b[38;5;241;43m=\u001b[39;49m\u001b[43myear\u001b[49m\u001b[43m)\u001b[49m \u001b[38;5;28;01mfor\u001b[39;00m val \u001b[38;5;129;01min\u001b[39;00m values\n\u001b[1;32m    110\u001b[0m ]\n\u001b[1;32m    112\u001b[0m vectors \u001b[38;5;241m=\u001b[39m pd\u001b[38;5;241m.\u001b[39mconcat(vectors)\n\u001b[1;32m    114\u001b[0m \u001b[38;5;28;01mreturn\u001b[39;00m vectors\n",
      "File \u001b[0;32m~/work/data_science_project/cartogether/cartiflette/s3/s3.py:204\u001b[0m, in \u001b[0;36mdownload_vectorfile_url_single\u001b[0;34m(value, level, vectorfile_format, decoupage, year, bucket, path_within_bucket)\u001b[0m\n\u001b[1;32m    202\u001b[0m     tmp \u001b[38;5;241m=\u001b[39m tempfile\u001b[38;5;241m.\u001b[39mNamedTemporaryFile(delete\u001b[38;5;241m=\u001b[39m\u001b[38;5;28;01mFalse\u001b[39;00m)\n\u001b[1;32m    203\u001b[0m     download_pb(url, tmp\u001b[38;5;241m.\u001b[39mname)\n\u001b[0;32m--> 204\u001b[0m     \u001b[38;5;28mobject\u001b[39m \u001b[38;5;241m=\u001b[39m \u001b[43mgpd\u001b[49m\u001b[38;5;241;43m.\u001b[39;49m\u001b[43mread_file\u001b[49m\u001b[43m(\u001b[49m\n\u001b[1;32m    205\u001b[0m \u001b[43m        \u001b[49m\u001b[43murl\u001b[49m\u001b[43m,\u001b[49m\u001b[43m \u001b[49m\u001b[43mdriver\u001b[49m\u001b[38;5;241;43m=\u001b[39;49m\u001b[43mdriver\u001b[49m\n\u001b[1;32m    206\u001b[0m \u001b[43m        \u001b[49m\u001b[43m)\u001b[49m\n\u001b[1;32m    208\u001b[0m \u001b[38;5;28;01mreturn\u001b[39;00m \u001b[38;5;28mobject\u001b[39m\n",
      "File \u001b[0;32m/opt/mamba/lib/python3.10/site-packages/geopandas/io/file.py:259\u001b[0m, in \u001b[0;36m_read_file\u001b[0;34m(filename, bbox, mask, rows, engine, **kwargs)\u001b[0m\n\u001b[1;32m    256\u001b[0m     path_or_bytes \u001b[38;5;241m=\u001b[39m filename\n\u001b[1;32m    258\u001b[0m \u001b[38;5;28;01mif\u001b[39;00m engine \u001b[38;5;241m==\u001b[39m \u001b[38;5;124m\"\u001b[39m\u001b[38;5;124mfiona\u001b[39m\u001b[38;5;124m\"\u001b[39m:\n\u001b[0;32m--> 259\u001b[0m     \u001b[38;5;28;01mreturn\u001b[39;00m \u001b[43m_read_file_fiona\u001b[49m\u001b[43m(\u001b[49m\n\u001b[1;32m    260\u001b[0m \u001b[43m        \u001b[49m\u001b[43mpath_or_bytes\u001b[49m\u001b[43m,\u001b[49m\u001b[43m \u001b[49m\u001b[43mfrom_bytes\u001b[49m\u001b[43m,\u001b[49m\u001b[43m \u001b[49m\u001b[43mbbox\u001b[49m\u001b[38;5;241;43m=\u001b[39;49m\u001b[43mbbox\u001b[49m\u001b[43m,\u001b[49m\u001b[43m \u001b[49m\u001b[43mmask\u001b[49m\u001b[38;5;241;43m=\u001b[39;49m\u001b[43mmask\u001b[49m\u001b[43m,\u001b[49m\u001b[43m \u001b[49m\u001b[43mrows\u001b[49m\u001b[38;5;241;43m=\u001b[39;49m\u001b[43mrows\u001b[49m\u001b[43m,\u001b[49m\u001b[43m \u001b[49m\u001b[38;5;241;43m*\u001b[39;49m\u001b[38;5;241;43m*\u001b[39;49m\u001b[43mkwargs\u001b[49m\n\u001b[1;32m    261\u001b[0m \u001b[43m    \u001b[49m\u001b[43m)\u001b[49m\n\u001b[1;32m    262\u001b[0m \u001b[38;5;28;01melif\u001b[39;00m engine \u001b[38;5;241m==\u001b[39m \u001b[38;5;124m\"\u001b[39m\u001b[38;5;124mpyogrio\u001b[39m\u001b[38;5;124m\"\u001b[39m:\n\u001b[1;32m    263\u001b[0m     \u001b[38;5;28;01mreturn\u001b[39;00m _read_file_pyogrio(\n\u001b[1;32m    264\u001b[0m         path_or_bytes, bbox\u001b[38;5;241m=\u001b[39mbbox, mask\u001b[38;5;241m=\u001b[39mmask, rows\u001b[38;5;241m=\u001b[39mrows, \u001b[38;5;241m*\u001b[39m\u001b[38;5;241m*\u001b[39mkwargs\n\u001b[1;32m    265\u001b[0m     )\n",
      "File \u001b[0;32m/opt/mamba/lib/python3.10/site-packages/geopandas/io/file.py:360\u001b[0m, in \u001b[0;36m_read_file_fiona\u001b[0;34m(path_or_bytes, from_bytes, bbox, mask, rows, where, **kwargs)\u001b[0m\n\u001b[1;32m    356\u001b[0m     df \u001b[38;5;241m=\u001b[39m pd\u001b[38;5;241m.\u001b[39mDataFrame(\n\u001b[1;32m    357\u001b[0m         [record[\u001b[38;5;124m\"\u001b[39m\u001b[38;5;124mproperties\u001b[39m\u001b[38;5;124m\"\u001b[39m] \u001b[38;5;28;01mfor\u001b[39;00m record \u001b[38;5;129;01min\u001b[39;00m f_filt], columns\u001b[38;5;241m=\u001b[39mcolumns\n\u001b[1;32m    358\u001b[0m     )\n\u001b[1;32m    359\u001b[0m \u001b[38;5;28;01melse\u001b[39;00m:\n\u001b[0;32m--> 360\u001b[0m     df \u001b[38;5;241m=\u001b[39m \u001b[43mGeoDataFrame\u001b[49m\u001b[38;5;241;43m.\u001b[39;49m\u001b[43mfrom_features\u001b[49m\u001b[43m(\u001b[49m\n\u001b[1;32m    361\u001b[0m \u001b[43m        \u001b[49m\u001b[43mf_filt\u001b[49m\u001b[43m,\u001b[49m\u001b[43m \u001b[49m\u001b[43mcrs\u001b[49m\u001b[38;5;241;43m=\u001b[39;49m\u001b[43mcrs\u001b[49m\u001b[43m,\u001b[49m\u001b[43m \u001b[49m\u001b[43mcolumns\u001b[49m\u001b[38;5;241;43m=\u001b[39;49m\u001b[43mcolumns\u001b[49m\u001b[43m \u001b[49m\u001b[38;5;241;43m+\u001b[39;49m\u001b[43m \u001b[49m\u001b[43m[\u001b[49m\u001b[38;5;124;43m\"\u001b[39;49m\u001b[38;5;124;43mgeometry\u001b[39;49m\u001b[38;5;124;43m\"\u001b[39;49m\u001b[43m]\u001b[49m\n\u001b[1;32m    362\u001b[0m \u001b[43m    \u001b[49m\u001b[43m)\u001b[49m\n\u001b[1;32m    363\u001b[0m \u001b[38;5;28;01mfor\u001b[39;00m k \u001b[38;5;129;01min\u001b[39;00m datetime_fields:\n\u001b[1;32m    364\u001b[0m     as_dt \u001b[38;5;241m=\u001b[39m pd\u001b[38;5;241m.\u001b[39mto_datetime(df[k], errors\u001b[38;5;241m=\u001b[39m\u001b[38;5;124m\"\u001b[39m\u001b[38;5;124mignore\u001b[39m\u001b[38;5;124m\"\u001b[39m)\n",
      "\u001b[0;31mKeyboardInterrupt\u001b[0m: "
     ]
    },
    {
     "ename": "KeyboardInterrupt",
     "evalue": "",
     "output_type": "error",
     "traceback": [
      "\u001b[0;31m---------------------------------------------------------------------------\u001b[0m",
      "\u001b[0;31mKeyboardInterrupt\u001b[0m                         Traceback (most recent call last)",
      "Cell \u001b[0;32mIn [1], line 3\u001b[0m\n\u001b[1;32m      1\u001b[0m \u001b[38;5;28;01mimport\u001b[39;00m \u001b[38;5;21;01mpandas\u001b[39;00m \u001b[38;5;28;01mas\u001b[39;00m \u001b[38;5;21;01mpd\u001b[39;00m\n\u001b[1;32m      2\u001b[0m \u001b[38;5;28;01mimport\u001b[39;00m \u001b[38;5;21;01mmatplotlib\u001b[39;00m\u001b[38;5;21;01m.\u001b[39;00m\u001b[38;5;21;01mpyplot\u001b[39;00m \u001b[38;5;28;01mas\u001b[39;00m \u001b[38;5;21;01mplt\u001b[39;00m\n\u001b[0;32m----> 3\u001b[0m \u001b[43mget_ipython\u001b[49m\u001b[43m(\u001b[49m\u001b[43m)\u001b[49m\u001b[38;5;241;43m.\u001b[39;49m\u001b[43mrun_line_magic\u001b[49m\u001b[43m(\u001b[49m\u001b[38;5;124;43m'\u001b[39;49m\u001b[38;5;124;43mrun\u001b[39;49m\u001b[38;5;124;43m'\u001b[39;49m\u001b[43m,\u001b[49m\u001b[43m \u001b[49m\u001b[38;5;124;43m'\u001b[39;49m\u001b[38;5;124;43m\"\u001b[39;49m\u001b[38;5;124;43m~/work/data_science_project/Pré_traitements_carto.ipynb\u001b[39;49m\u001b[38;5;124;43m\"\u001b[39;49m\u001b[38;5;124;43m'\u001b[39;49m\u001b[43m)\u001b[49m\n\u001b[1;32m      4\u001b[0m data_used[\u001b[38;5;124m'\u001b[39m\u001b[38;5;124mEnerg2\u001b[39m\u001b[38;5;124m'\u001b[39m]\u001b[38;5;241m=\u001b[39m\u001b[38;5;241m1\u001b[39m\u001b[38;5;241m-\u001b[39mdata_used[\u001b[38;5;124m'\u001b[39m\u001b[38;5;124mEnerg\u001b[39m\u001b[38;5;124m'\u001b[39m]\n",
      "File \u001b[0;32m/opt/mamba/lib/python3.10/site-packages/IPython/core/interactiveshell.py:2364\u001b[0m, in \u001b[0;36mInteractiveShell.run_line_magic\u001b[0;34m(self, magic_name, line, _stack_depth)\u001b[0m\n\u001b[1;32m   2362\u001b[0m     kwargs[\u001b[38;5;124m'\u001b[39m\u001b[38;5;124mlocal_ns\u001b[39m\u001b[38;5;124m'\u001b[39m] \u001b[38;5;241m=\u001b[39m \u001b[38;5;28mself\u001b[39m\u001b[38;5;241m.\u001b[39mget_local_scope(stack_depth)\n\u001b[1;32m   2363\u001b[0m \u001b[38;5;28;01mwith\u001b[39;00m \u001b[38;5;28mself\u001b[39m\u001b[38;5;241m.\u001b[39mbuiltin_trap:\n\u001b[0;32m-> 2364\u001b[0m     result \u001b[38;5;241m=\u001b[39m \u001b[43mfn\u001b[49m\u001b[43m(\u001b[49m\u001b[38;5;241;43m*\u001b[39;49m\u001b[43margs\u001b[49m\u001b[43m,\u001b[49m\u001b[43m \u001b[49m\u001b[38;5;241;43m*\u001b[39;49m\u001b[38;5;241;43m*\u001b[39;49m\u001b[43mkwargs\u001b[49m\u001b[43m)\u001b[49m\n\u001b[1;32m   2365\u001b[0m \u001b[38;5;28;01mreturn\u001b[39;00m result\n",
      "File \u001b[0;32m/opt/mamba/lib/python3.10/site-packages/IPython/core/magics/execution.py:717\u001b[0m, in \u001b[0;36mExecutionMagics.run\u001b[0;34m(self, parameter_s, runner, file_finder)\u001b[0m\n\u001b[1;32m    715\u001b[0m     \u001b[38;5;28;01mwith\u001b[39;00m preserve_keys(\u001b[38;5;28mself\u001b[39m\u001b[38;5;241m.\u001b[39mshell\u001b[38;5;241m.\u001b[39muser_ns, \u001b[38;5;124m'\u001b[39m\u001b[38;5;124m__file__\u001b[39m\u001b[38;5;124m'\u001b[39m):\n\u001b[1;32m    716\u001b[0m         \u001b[38;5;28mself\u001b[39m\u001b[38;5;241m.\u001b[39mshell\u001b[38;5;241m.\u001b[39muser_ns[\u001b[38;5;124m'\u001b[39m\u001b[38;5;124m__file__\u001b[39m\u001b[38;5;124m'\u001b[39m] \u001b[38;5;241m=\u001b[39m filename\n\u001b[0;32m--> 717\u001b[0m         \u001b[38;5;28;43mself\u001b[39;49m\u001b[38;5;241;43m.\u001b[39;49m\u001b[43mshell\u001b[49m\u001b[38;5;241;43m.\u001b[39;49m\u001b[43msafe_execfile_ipy\u001b[49m\u001b[43m(\u001b[49m\u001b[43mfilename\u001b[49m\u001b[43m,\u001b[49m\u001b[43m \u001b[49m\u001b[43mraise_exceptions\u001b[49m\u001b[38;5;241;43m=\u001b[39;49m\u001b[38;5;28;43;01mTrue\u001b[39;49;00m\u001b[43m)\u001b[49m\n\u001b[1;32m    718\u001b[0m     \u001b[38;5;28;01mreturn\u001b[39;00m\n\u001b[1;32m    720\u001b[0m \u001b[38;5;66;03m# Control the response to exit() calls made by the script being run\u001b[39;00m\n",
      "File \u001b[0;32m/opt/mamba/lib/python3.10/site-packages/IPython/core/interactiveshell.py:2870\u001b[0m, in \u001b[0;36mInteractiveShell.safe_execfile_ipy\u001b[0;34m(self, fname, shell_futures, raise_exceptions)\u001b[0m\n\u001b[1;32m   2868\u001b[0m result \u001b[38;5;241m=\u001b[39m \u001b[38;5;28mself\u001b[39m\u001b[38;5;241m.\u001b[39mrun_cell(cell, silent\u001b[38;5;241m=\u001b[39m\u001b[38;5;28;01mTrue\u001b[39;00m, shell_futures\u001b[38;5;241m=\u001b[39mshell_futures)\n\u001b[1;32m   2869\u001b[0m \u001b[38;5;28;01mif\u001b[39;00m raise_exceptions:\n\u001b[0;32m-> 2870\u001b[0m     \u001b[43mresult\u001b[49m\u001b[38;5;241;43m.\u001b[39;49m\u001b[43mraise_error\u001b[49m\u001b[43m(\u001b[49m\u001b[43m)\u001b[49m\n\u001b[1;32m   2871\u001b[0m \u001b[38;5;28;01melif\u001b[39;00m \u001b[38;5;129;01mnot\u001b[39;00m result\u001b[38;5;241m.\u001b[39msuccess:\n\u001b[1;32m   2872\u001b[0m     \u001b[38;5;28;01mbreak\u001b[39;00m\n",
      "File \u001b[0;32m/opt/mamba/lib/python3.10/site-packages/IPython/core/interactiveshell.py:266\u001b[0m, in \u001b[0;36mExecutionResult.raise_error\u001b[0;34m(self)\u001b[0m\n\u001b[1;32m    264\u001b[0m     \u001b[38;5;28;01mraise\u001b[39;00m \u001b[38;5;28mself\u001b[39m\u001b[38;5;241m.\u001b[39merror_before_exec\n\u001b[1;32m    265\u001b[0m \u001b[38;5;28;01mif\u001b[39;00m \u001b[38;5;28mself\u001b[39m\u001b[38;5;241m.\u001b[39merror_in_exec \u001b[38;5;129;01mis\u001b[39;00m \u001b[38;5;129;01mnot\u001b[39;00m \u001b[38;5;28;01mNone\u001b[39;00m:\n\u001b[0;32m--> 266\u001b[0m     \u001b[38;5;28;01mraise\u001b[39;00m \u001b[38;5;28mself\u001b[39m\u001b[38;5;241m.\u001b[39merror_in_exec\n",
      "    \u001b[0;31m[... skipping hidden 1 frame]\u001b[0m\n",
      "File \u001b[0;32m/tmp/ipykernel_18233/2424511291.py:3\u001b[0m\n\u001b[1;32m      1\u001b[0m \u001b[38;5;28;01mimport\u001b[39;00m \u001b[38;5;21;01mcartiflette\u001b[39;00m\u001b[38;5;21;01m.\u001b[39;00m\u001b[38;5;21;01ms3\u001b[39;00m\n\u001b[0;32m----> 3\u001b[0m communes_IDF \u001b[38;5;241m=\u001b[39m \u001b[43mcartiflette\u001b[49m\u001b[38;5;241;43m.\u001b[39;49m\u001b[43ms3\u001b[49m\u001b[38;5;241;43m.\u001b[39;49m\u001b[43mdownload_vectorfile_url_all\u001b[49m\u001b[43m(\u001b[49m\n\u001b[1;32m      4\u001b[0m \u001b[43m    \u001b[49m\u001b[43mvalues\u001b[49m\u001b[43m \u001b[49m\u001b[38;5;241;43m=\u001b[39;49m\u001b[43m \u001b[49m\u001b[43m[\u001b[49m\u001b[38;5;124;43m\"\u001b[39;49m\u001b[38;5;124;43m75\u001b[39;49m\u001b[38;5;124;43m\"\u001b[39;49m\u001b[43m,\u001b[49m\u001b[38;5;124;43m\"\u001b[39;49m\u001b[38;5;124;43m91\u001b[39;49m\u001b[38;5;124;43m\"\u001b[39;49m\u001b[43m,\u001b[49m\u001b[38;5;124;43m\"\u001b[39;49m\u001b[38;5;124;43m92\u001b[39;49m\u001b[38;5;124;43m\"\u001b[39;49m\u001b[43m,\u001b[49m\u001b[38;5;124;43m\"\u001b[39;49m\u001b[38;5;124;43m93\u001b[39;49m\u001b[38;5;124;43m\"\u001b[39;49m\u001b[43m,\u001b[49m\u001b[38;5;124;43m\"\u001b[39;49m\u001b[38;5;124;43m94\u001b[39;49m\u001b[38;5;124;43m\"\u001b[39;49m\u001b[43m,\u001b[49m\u001b[38;5;124;43m\"\u001b[39;49m\u001b[38;5;124;43m95\u001b[39;49m\u001b[38;5;124;43m\"\u001b[39;49m\u001b[43m,\u001b[49m\u001b[38;5;124;43m\"\u001b[39;49m\u001b[38;5;124;43m77\u001b[39;49m\u001b[38;5;124;43m\"\u001b[39;49m\u001b[43m,\u001b[49m\u001b[38;5;124;43m\"\u001b[39;49m\u001b[38;5;124;43m78\u001b[39;49m\u001b[38;5;124;43m\"\u001b[39;49m\u001b[43m]\u001b[49m\u001b[43m,\u001b[49m\n\u001b[1;32m      5\u001b[0m \u001b[43m    \u001b[49m\u001b[43mlevel\u001b[49m\u001b[38;5;241;43m=\u001b[39;49m\u001b[38;5;124;43m\"\u001b[39;49m\u001b[38;5;124;43mCOMMUNE\u001b[39;49m\u001b[38;5;124;43m\"\u001b[39;49m\u001b[43m,\u001b[49m\n\u001b[1;32m      6\u001b[0m \u001b[43m    \u001b[49m\u001b[43mvectorfile_format\u001b[49m\u001b[38;5;241;43m=\u001b[39;49m\u001b[38;5;124;43m\"\u001b[39;49m\u001b[38;5;124;43mgeojson\u001b[39;49m\u001b[38;5;124;43m\"\u001b[39;49m\u001b[43m,\u001b[49m\n\u001b[1;32m      7\u001b[0m \u001b[43m    \u001b[49m\u001b[43mdecoupage\u001b[49m\u001b[38;5;241;43m=\u001b[39;49m\u001b[38;5;124;43m\"\u001b[39;49m\u001b[38;5;124;43mdepartement\u001b[39;49m\u001b[38;5;124;43m\"\u001b[39;49m\u001b[43m,\u001b[49m\n\u001b[1;32m      8\u001b[0m \u001b[43m    \u001b[49m\u001b[43myear\u001b[49m\u001b[38;5;241;43m=\u001b[39;49m\u001b[38;5;241;43m2022\u001b[39;49m\u001b[43m)\u001b[49m\n\u001b[1;32m     10\u001b[0m \u001b[38;5;66;03m#communes_IDF.head()\u001b[39;00m\n",
      "File \u001b[0;32m~/work/data_science_project/cartogether/cartiflette/s3/s3.py:103\u001b[0m, in \u001b[0;36mdownload_vectorfile_url_all\u001b[0;34m(values, level, vectorfile_format, decoupage, year)\u001b[0m\n\u001b[1;32m    100\u001b[0m \u001b[38;5;28;01mif\u001b[39;00m \u001b[38;5;28misinstance\u001b[39m(values, (\u001b[38;5;28mstr\u001b[39m, \u001b[38;5;28mint\u001b[39m, \u001b[38;5;28mfloat\u001b[39m)):\n\u001b[1;32m    101\u001b[0m     values \u001b[38;5;241m=\u001b[39m [\u001b[38;5;28mstr\u001b[39m(values)]\n\u001b[0;32m--> 103\u001b[0m vectors \u001b[38;5;241m=\u001b[39m [\n\u001b[1;32m    104\u001b[0m     download_vectorfile_url_single(\n\u001b[1;32m    105\u001b[0m         value\u001b[38;5;241m=\u001b[39mval,\n\u001b[1;32m    106\u001b[0m         level\u001b[38;5;241m=\u001b[39mlevel,\n\u001b[1;32m    107\u001b[0m         vectorfile_format\u001b[38;5;241m=\u001b[39mvectorfile_format,\n\u001b[1;32m    108\u001b[0m         decoupage\u001b[38;5;241m=\u001b[39mdecoupage,\n\u001b[1;32m    109\u001b[0m         year\u001b[38;5;241m=\u001b[39myear) \u001b[38;5;28;01mfor\u001b[39;00m val \u001b[38;5;129;01min\u001b[39;00m values\n\u001b[1;32m    110\u001b[0m ]\n\u001b[1;32m    112\u001b[0m vectors \u001b[38;5;241m=\u001b[39m pd\u001b[38;5;241m.\u001b[39mconcat(vectors)\n\u001b[1;32m    114\u001b[0m \u001b[38;5;28;01mreturn\u001b[39;00m vectors\n",
      "File \u001b[0;32m~/work/data_science_project/cartogether/cartiflette/s3/s3.py:104\u001b[0m, in \u001b[0;36m<listcomp>\u001b[0;34m(.0)\u001b[0m\n\u001b[1;32m    100\u001b[0m \u001b[38;5;28;01mif\u001b[39;00m \u001b[38;5;28misinstance\u001b[39m(values, (\u001b[38;5;28mstr\u001b[39m, \u001b[38;5;28mint\u001b[39m, \u001b[38;5;28mfloat\u001b[39m)):\n\u001b[1;32m    101\u001b[0m     values \u001b[38;5;241m=\u001b[39m [\u001b[38;5;28mstr\u001b[39m(values)]\n\u001b[1;32m    103\u001b[0m vectors \u001b[38;5;241m=\u001b[39m [\n\u001b[0;32m--> 104\u001b[0m     \u001b[43mdownload_vectorfile_url_single\u001b[49m\u001b[43m(\u001b[49m\n\u001b[1;32m    105\u001b[0m \u001b[43m        \u001b[49m\u001b[43mvalue\u001b[49m\u001b[38;5;241;43m=\u001b[39;49m\u001b[43mval\u001b[49m\u001b[43m,\u001b[49m\n\u001b[1;32m    106\u001b[0m \u001b[43m        \u001b[49m\u001b[43mlevel\u001b[49m\u001b[38;5;241;43m=\u001b[39;49m\u001b[43mlevel\u001b[49m\u001b[43m,\u001b[49m\n\u001b[1;32m    107\u001b[0m \u001b[43m        \u001b[49m\u001b[43mvectorfile_format\u001b[49m\u001b[38;5;241;43m=\u001b[39;49m\u001b[43mvectorfile_format\u001b[49m\u001b[43m,\u001b[49m\n\u001b[1;32m    108\u001b[0m \u001b[43m        \u001b[49m\u001b[43mdecoupage\u001b[49m\u001b[38;5;241;43m=\u001b[39;49m\u001b[43mdecoupage\u001b[49m\u001b[43m,\u001b[49m\n\u001b[1;32m    109\u001b[0m \u001b[43m        \u001b[49m\u001b[43myear\u001b[49m\u001b[38;5;241;43m=\u001b[39;49m\u001b[43myear\u001b[49m\u001b[43m)\u001b[49m \u001b[38;5;28;01mfor\u001b[39;00m val \u001b[38;5;129;01min\u001b[39;00m values\n\u001b[1;32m    110\u001b[0m ]\n\u001b[1;32m    112\u001b[0m vectors \u001b[38;5;241m=\u001b[39m pd\u001b[38;5;241m.\u001b[39mconcat(vectors)\n\u001b[1;32m    114\u001b[0m \u001b[38;5;28;01mreturn\u001b[39;00m vectors\n",
      "File \u001b[0;32m~/work/data_science_project/cartogether/cartiflette/s3/s3.py:204\u001b[0m, in \u001b[0;36mdownload_vectorfile_url_single\u001b[0;34m(value, level, vectorfile_format, decoupage, year, bucket, path_within_bucket)\u001b[0m\n\u001b[1;32m    202\u001b[0m     tmp \u001b[38;5;241m=\u001b[39m tempfile\u001b[38;5;241m.\u001b[39mNamedTemporaryFile(delete\u001b[38;5;241m=\u001b[39m\u001b[38;5;28;01mFalse\u001b[39;00m)\n\u001b[1;32m    203\u001b[0m     download_pb(url, tmp\u001b[38;5;241m.\u001b[39mname)\n\u001b[0;32m--> 204\u001b[0m     \u001b[38;5;28mobject\u001b[39m \u001b[38;5;241m=\u001b[39m \u001b[43mgpd\u001b[49m\u001b[38;5;241;43m.\u001b[39;49m\u001b[43mread_file\u001b[49m\u001b[43m(\u001b[49m\n\u001b[1;32m    205\u001b[0m \u001b[43m        \u001b[49m\u001b[43murl\u001b[49m\u001b[43m,\u001b[49m\u001b[43m \u001b[49m\u001b[43mdriver\u001b[49m\u001b[38;5;241;43m=\u001b[39;49m\u001b[43mdriver\u001b[49m\n\u001b[1;32m    206\u001b[0m \u001b[43m        \u001b[49m\u001b[43m)\u001b[49m\n\u001b[1;32m    208\u001b[0m \u001b[38;5;28;01mreturn\u001b[39;00m \u001b[38;5;28mobject\u001b[39m\n",
      "File \u001b[0;32m/opt/mamba/lib/python3.10/site-packages/geopandas/io/file.py:259\u001b[0m, in \u001b[0;36m_read_file\u001b[0;34m(filename, bbox, mask, rows, engine, **kwargs)\u001b[0m\n\u001b[1;32m    256\u001b[0m     path_or_bytes \u001b[38;5;241m=\u001b[39m filename\n\u001b[1;32m    258\u001b[0m \u001b[38;5;28;01mif\u001b[39;00m engine \u001b[38;5;241m==\u001b[39m \u001b[38;5;124m\"\u001b[39m\u001b[38;5;124mfiona\u001b[39m\u001b[38;5;124m\"\u001b[39m:\n\u001b[0;32m--> 259\u001b[0m     \u001b[38;5;28;01mreturn\u001b[39;00m \u001b[43m_read_file_fiona\u001b[49m\u001b[43m(\u001b[49m\n\u001b[1;32m    260\u001b[0m \u001b[43m        \u001b[49m\u001b[43mpath_or_bytes\u001b[49m\u001b[43m,\u001b[49m\u001b[43m \u001b[49m\u001b[43mfrom_bytes\u001b[49m\u001b[43m,\u001b[49m\u001b[43m \u001b[49m\u001b[43mbbox\u001b[49m\u001b[38;5;241;43m=\u001b[39;49m\u001b[43mbbox\u001b[49m\u001b[43m,\u001b[49m\u001b[43m \u001b[49m\u001b[43mmask\u001b[49m\u001b[38;5;241;43m=\u001b[39;49m\u001b[43mmask\u001b[49m\u001b[43m,\u001b[49m\u001b[43m \u001b[49m\u001b[43mrows\u001b[49m\u001b[38;5;241;43m=\u001b[39;49m\u001b[43mrows\u001b[49m\u001b[43m,\u001b[49m\u001b[43m \u001b[49m\u001b[38;5;241;43m*\u001b[39;49m\u001b[38;5;241;43m*\u001b[39;49m\u001b[43mkwargs\u001b[49m\n\u001b[1;32m    261\u001b[0m \u001b[43m    \u001b[49m\u001b[43m)\u001b[49m\n\u001b[1;32m    262\u001b[0m \u001b[38;5;28;01melif\u001b[39;00m engine \u001b[38;5;241m==\u001b[39m \u001b[38;5;124m\"\u001b[39m\u001b[38;5;124mpyogrio\u001b[39m\u001b[38;5;124m\"\u001b[39m:\n\u001b[1;32m    263\u001b[0m     \u001b[38;5;28;01mreturn\u001b[39;00m _read_file_pyogrio(\n\u001b[1;32m    264\u001b[0m         path_or_bytes, bbox\u001b[38;5;241m=\u001b[39mbbox, mask\u001b[38;5;241m=\u001b[39mmask, rows\u001b[38;5;241m=\u001b[39mrows, \u001b[38;5;241m*\u001b[39m\u001b[38;5;241m*\u001b[39mkwargs\n\u001b[1;32m    265\u001b[0m     )\n",
      "File \u001b[0;32m/opt/mamba/lib/python3.10/site-packages/geopandas/io/file.py:360\u001b[0m, in \u001b[0;36m_read_file_fiona\u001b[0;34m(path_or_bytes, from_bytes, bbox, mask, rows, where, **kwargs)\u001b[0m\n\u001b[1;32m    356\u001b[0m     df \u001b[38;5;241m=\u001b[39m pd\u001b[38;5;241m.\u001b[39mDataFrame(\n\u001b[1;32m    357\u001b[0m         [record[\u001b[38;5;124m\"\u001b[39m\u001b[38;5;124mproperties\u001b[39m\u001b[38;5;124m\"\u001b[39m] \u001b[38;5;28;01mfor\u001b[39;00m record \u001b[38;5;129;01min\u001b[39;00m f_filt], columns\u001b[38;5;241m=\u001b[39mcolumns\n\u001b[1;32m    358\u001b[0m     )\n\u001b[1;32m    359\u001b[0m \u001b[38;5;28;01melse\u001b[39;00m:\n\u001b[0;32m--> 360\u001b[0m     df \u001b[38;5;241m=\u001b[39m \u001b[43mGeoDataFrame\u001b[49m\u001b[38;5;241;43m.\u001b[39;49m\u001b[43mfrom_features\u001b[49m\u001b[43m(\u001b[49m\n\u001b[1;32m    361\u001b[0m \u001b[43m        \u001b[49m\u001b[43mf_filt\u001b[49m\u001b[43m,\u001b[49m\u001b[43m \u001b[49m\u001b[43mcrs\u001b[49m\u001b[38;5;241;43m=\u001b[39;49m\u001b[43mcrs\u001b[49m\u001b[43m,\u001b[49m\u001b[43m \u001b[49m\u001b[43mcolumns\u001b[49m\u001b[38;5;241;43m=\u001b[39;49m\u001b[43mcolumns\u001b[49m\u001b[43m \u001b[49m\u001b[38;5;241;43m+\u001b[39;49m\u001b[43m \u001b[49m\u001b[43m[\u001b[49m\u001b[38;5;124;43m\"\u001b[39;49m\u001b[38;5;124;43mgeometry\u001b[39;49m\u001b[38;5;124;43m\"\u001b[39;49m\u001b[43m]\u001b[49m\n\u001b[1;32m    362\u001b[0m \u001b[43m    \u001b[49m\u001b[43m)\u001b[49m\n\u001b[1;32m    363\u001b[0m \u001b[38;5;28;01mfor\u001b[39;00m k \u001b[38;5;129;01min\u001b[39;00m datetime_fields:\n\u001b[1;32m    364\u001b[0m     as_dt \u001b[38;5;241m=\u001b[39m pd\u001b[38;5;241m.\u001b[39mto_datetime(df[k], errors\u001b[38;5;241m=\u001b[39m\u001b[38;5;124m\"\u001b[39m\u001b[38;5;124mignore\u001b[39m\u001b[38;5;124m\"\u001b[39m)\n",
      "\u001b[0;31mKeyboardInterrupt\u001b[0m: "
     ]
    }
   ],
   "source": [
    "import pandas as pd\n",
    "import matplotlib.pyplot as plt\n",
    "%run \"~/work/data_science_project/Pré_traitements_carto.ipynb\"\n",
    "data_used['Energ2']=1-data_used['Energ']"
   ]
  },
  {
   "cell_type": "markdown",
   "id": "905df615-0c15-4730-886e-6494f431a59b",
   "metadata": {},
   "source": [
    "## A) Importation du dataframe Filosofi_dpe_IDF_com et quelques retraitements"
   ]
  },
  {
   "cell_type": "code",
   "execution_count": null,
   "id": "981bff55-b52c-4ae5-b8cb-4f0120fb3bb1",
   "metadata": {},
   "outputs": [],
   "source": [
    "Filosofi_dpe_IDF_com = pd.read_csv(\"~/work/data_science_project/Filosofi_dpe_IDF_com.csv\")"
   ]
  },
  {
   "cell_type": "code",
   "execution_count": null,
   "id": "9e441f0b-0a24-4550-a59c-d5bd0014c11d",
   "metadata": {},
   "outputs": [],
   "source": [
    "# Calcul du ratio \"nombre de DPE/nombre de ménages fiscaux\":\n",
    "Filosofi_dpe_IDF_com[\"ratio_DPE_menage\"]=Filosofi_dpe_IDF_com[\"nombre_dpe\"]/Filosofi_dpe_IDF_com[\"NBMENFISC16\"]\n",
    "Filosofi_dpe_IDF_com2=Filosofi_dpe_IDF_com[Filosofi_dpe_IDF_com[\"ratio_DPE_menage\"]>0.05].reset_index()"
   ]
  },
  {
   "cell_type": "code",
   "execution_count": null,
   "id": "cc995251-9b1a-48c7-a5e4-9eacd051afd1",
   "metadata": {},
   "outputs": [],
   "source": [
    "# 1) Codage de la variable \"proportions de logements énergivores\":\n",
    "Filosofi_dpe_IDF_com2[\"proportion_energivores\"]=Filosofi_dpe_IDF_com2.loc[:,['classe_consommation_energie_F','classe_consommation_energie_G']].sum(axis=1)"
   ]
  },
  {
   "cell_type": "code",
   "execution_count": null,
   "id": "aa23b2e7-bf79-41bf-8ebf-f45ce9b3bc51",
   "metadata": {},
   "outputs": [],
   "source": [
    "# Fonction qui calcule la classe d'énergie majoritaire dans une commune\n",
    "def maj(x):\n",
    "    dic = 'A B C D E F G'.split()\n",
    "    list = [x.classe_consommation_energie_A, x.classe_consommation_energie_B, x.classe_consommation_energie_C, \n",
    "            x.classe_consommation_energie_D, x.classe_consommation_energie_E, x.classe_consommation_energie_F,\n",
    "            x.classe_consommation_energie_G]\n",
    "    indice = [i for i, item in enumerate(list) if item == max(list)]\n",
    "    if len(indice) != 0:\n",
    "        return([ dic[j] for j in indice][len(indice)-1])\n",
    "    else:\n",
    "        return 'N'"
   ]
  },
  {
   "cell_type": "code",
   "execution_count": null,
   "id": "ca90185b-5be2-4ba7-a3c9-59b9d8d6d0e5",
   "metadata": {},
   "outputs": [],
   "source": [
    "# Création d'une colonne avec ce maximum\n",
    "Filosofi_dpe_IDF_com2['CE_Maj'] = Filosofi_dpe_IDF_com2.apply(lambda z: maj(z),  axis=1)"
   ]
  },
  {
   "cell_type": "markdown",
   "id": "df6bddd5-22b6-4091-ae4a-739a0a4b33a2",
   "metadata": {},
   "source": [
    "## B) Téléchargement des coordonnées géographiques des communes d'Ile-de-France:"
   ]
  },
  {
   "cell_type": "code",
   "execution_count": null,
   "id": "f05046d8-9820-48ff-8845-60b780ad59c6",
   "metadata": {},
   "outputs": [],
   "source": [
    "!pip install --upgrade botocore==1.23.26  \n",
    "!pip install --upgrade urllib3==1.22.0 \n",
    "!pip install py7zr \n",
    "!pip install s3fs \n",
    "!git clone https://github.com/InseeFrLab/cartogether.git\n",
    "%cd ./cartogether\n",
    "!pip install -r requirements.txt\n",
    "!pip install ."
   ]
  },
  {
   "cell_type": "code",
   "execution_count": null,
   "id": "e46cd3c8-c8df-4f2c-bf07-2bd8c4491221",
   "metadata": {},
   "outputs": [],
   "source": [
    "import cartiflette.s3\n",
    "\n",
    "communes_IDF = cartiflette.s3.download_vectorfile_url_all(\n",
    "    values = [\"75\",\"91\",\"92\",\"93\",\"94\",\"95\",\"77\",\"78\"],\n",
    "    level=\"COMMUNE\",\n",
    "    vectorfile_format=\"geojson\",\n",
    "    decoupage=\"departement\",\n",
    "    year=2022)"
   ]
  },
  {
   "cell_type": "code",
   "execution_count": null,
   "id": "c384d510-c3c5-4f0f-a5cb-2f482d42a47d",
   "metadata": {},
   "outputs": [],
   "source": [
    "communes_IDF = communes_IDF[['NOM','INSEE_COM','geometry']]"
   ]
  },
  {
   "cell_type": "code",
   "execution_count": null,
   "id": "031cb357-b9b0-4e86-9303-a9887f420ae5",
   "metadata": {},
   "outputs": [],
   "source": [
    "communes_IDF['INSEE_COM'] = communes_IDF['INSEE_COM'].apply(lambda n: int(n))"
   ]
  },
  {
   "cell_type": "code",
   "execution_count": null,
   "id": "e3351bc4-447d-4189-adc4-fde5e2e09f8f",
   "metadata": {},
   "outputs": [],
   "source": [
    "# Jointure avec le dataframe Filosofi_dpe_IDF_com2:\n",
    "\n",
    "Filosofi_dpe_IDF_com3=pd.merge(communes_IDF,Filosofi_dpe_IDF_com2,left_on=\"INSEE_COM\",right_on=\"CODGEO\",how=\"left\")"
   ]
  },
  {
   "cell_type": "code",
   "execution_count": null,
   "id": "08499e87-499f-444f-a6af-b82be4b056be",
   "metadata": {},
   "outputs": [],
   "source": [
    "Filosofi_dpe_IDF_com4 = Filosofi_dpe_IDF_com3.dropna(subset=[\"geometry\"])"
   ]
  },
  {
   "cell_type": "markdown",
   "id": "cada0694-8a8a-4568-a4e3-5b5eddb17749",
   "metadata": {},
   "source": [
    "## C) Création des cartes interactives"
   ]
  },
  {
   "cell_type": "code",
   "execution_count": null,
   "id": "15d72dd8-0c60-447b-9940-548b38f3cd6d",
   "metadata": {},
   "outputs": [],
   "source": [
    "pip install folium"
   ]
  },
  {
   "cell_type": "code",
   "execution_count": null,
   "id": "f14528f6-63ed-47fe-97d0-eaeb5909f0e5",
   "metadata": {},
   "outputs": [],
   "source": [
    "# Calcul des points centraux des communes afin de centrer la carte\n",
    "data_geo2 = communes_IDF[['INSEE_COM', 'geometry']]\n",
    "data_geo2['Center_point'] = data_geo2['geometry'].centroid"
   ]
  },
  {
   "cell_type": "code",
   "execution_count": null,
   "id": "968cd271-bb12-4665-abf9-5505fd3da350",
   "metadata": {},
   "outputs": [],
   "source": [
    "#Extraction de la latitude et de la longitude de ces points centraux\n",
    "data_geo2[\"lat\"] = data_geo2.Center_point.map(lambda p: p.x)\n",
    "data_geo2[\"long\"] = data_geo2.Center_point.map(lambda p: p.y)"
   ]
  },
  {
   "cell_type": "code",
   "execution_count": null,
   "id": "d30285a2-2033-4a24-9c79-eb4db0b374a3",
   "metadata": {},
   "outputs": [],
   "source": [
    "# Première visualisation\n",
    "\n",
    "import folium\n",
    "\n",
    "# Calcul du centre de la carte\n",
    "data_geo2 = communes_IDF[['INSEE_COM', 'geometry']]\n",
    "data_geo2['Center_point'] = data_geo2['geometry'].centroid\n",
    "#Extract lat and lon from the centerpoint\n",
    "data_geo2[\"lat\"] = data_geo2.Center_point.map(lambda p: p.x)\n",
    "data_geo2[\"long\"] = data_geo2.Center_point.map(lambda p: p.y)\n",
    "\n",
    "# Sortie de la carte primaire\n",
    "m = folium.Map(location=[data_geo2['long'].mean(), data_geo2['lat'].mean()],\n",
    "               zoom_start=9, tiles='cartodbpositron')\n",
    "# m \n",
    "# (Visualisation non nécessaire)"
   ]
  },
  {
   "cell_type": "code",
   "execution_count": null,
   "id": "aeb36cdf-d111-435d-bf59-722489216266",
   "metadata": {},
   "outputs": [],
   "source": [
    "# Première carte relative aux revenus\n",
    "\n",
    "folium.Choropleth(\n",
    "    geo_data=communes_IDF,\n",
    "    data = data_used,\n",
    "    #data = f_data,\n",
    "    columns = ['INSEE_COM', 'MED16'],\n",
    "    key_on = 'feature.properties.INSEE_COM',\n",
    "    nan_fill_color='White',\n",
    "    fill_color=\"YlGn\",\n",
    "    fill_opacity=0.8,\n",
    "    line_opacity=0.5,\n",
    "    legend_name=\"Revenu médian (€)\"\n",
    "    ).add_to(m)\n",
    "# Ajout des infos bulles sur la carte\n",
    "\n",
    "folium.features.GeoJson(\n",
    "                    data=data_used,\n",
    "                    name='Revenu median des ménages',\n",
    "                    smooth_factor=2,\n",
    "                    style_function=lambda x: {'color':'black','fillColor':'transparent','weight':0.5},\n",
    "                    tooltip=folium.features.GeoJsonTooltip(\n",
    "                        fields=['NOM',\n",
    "                                'NBMENFISC16',\n",
    "                                'NBPERSMENFISC16',\n",
    "                                'MED16'\n",
    "                               ],\n",
    "                        aliases=[\"<br>Commmune :\",\n",
    "                                 \"<br>Nombre de ménages :\",\n",
    "                                 \"<br>Population :\",\n",
    "                                 \"<br>Revenu médian :\"\n",
    "                                ], \n",
    "                        localize=True,\n",
    "                        sticky=False,\n",
    "                        labels=True,\n",
    "                        style=\"\"\"\n",
    "                            background-color: #F0EFEF;\n",
    "                            border: 2px solid black;\n",
    "                            border-radius: 3px;\n",
    "                            box-shadow: 3px;\n",
    "                        \"\"\",\n",
    "                        max_width=800,),\n",
    "                            highlight_function=lambda x: {'weight':3,'fillColor':'grey'},\n",
    "                        ).add_to(m)   \n",
    "\n",
    "#m"
   ]
  },
  {
   "cell_type": "markdown",
   "id": "0492c415-5f6e-4675-954a-8782db868ca2",
   "metadata": {},
   "source": [
    "### On construit la carte avec toutes ses thématiques. Quatre étapes sont nécessaires"
   ]
  },
  {
   "cell_type": "code",
   "execution_count": null,
   "id": "d36e57dc-a9eb-446c-a258-57664cd1cf2f",
   "metadata": {},
   "outputs": [],
   "source": [
    "'''\n",
    "Etape 1: On créée la carte de base et les deux couches séparément, \n",
    "Mais sans information au départ\n",
    "'''\n",
    "carte_fin = folium.Map(location=[data_geo2['long'].mean(), data_geo2['lat'].mean()],\n",
    "               zoom_start=9.2, tiles=None)\n",
    "cart_demo = folium.FeatureGroup(name='Données démographiques',overlay=False).add_to(carte_fin)\n",
    "cart_dpe = folium.FeatureGroup(name='Diagnostics de performance énergétique',overlay=False).add_to(carte_fin)"
   ]
  },
  {
   "cell_type": "code",
   "execution_count": null,
   "id": "31664579-cda7-4e8c-9ec1-0cd70e448eba",
   "metadata": {},
   "outputs": [],
   "source": [
    "'''\n",
    "Etape 2\n",
    "On ajoute la première couche de carte à la carte \"cart_demo\n",
    "'''\n",
    "\n",
    "# La carte choropleth\n",
    "echelle = (data_used['MED16'].quantile((0,0.2,0.4,0.6,0.8,1))).tolist()\n",
    "nouv = folium.Choropleth(\n",
    "    geo_data=communes_IDF,\n",
    "    #geo_data=communes_IDF,\n",
    "    data = data_used,\n",
    "    columns = ['INSEE_COM', 'MED16'],\n",
    "    key_on = 'feature.properties.INSEE_COM',\n",
    "    fill_color='YlOrRd',\n",
    "    nan_fill_color = 'White', # Couleur pour les données manquantes\n",
    "    fill_opacity=0.7,\n",
    "    line_opacity=0.5,\n",
    "    legend_name=\"Revenu médian (€)\",\n",
    "    line_color = 'black',\n",
    "    highlight = True\n",
    "    ).geojson.add_to(cart_demo)\n",
    "\n",
    "# Ajout des infos-bulles\n",
    "folium.features.GeoJson(\n",
    "                    data=data_used,\n",
    "                    name='Revenu median des ménages',\n",
    "                    smooth_factor=2,\n",
    "                    style_function=lambda x: {'color':'black','fillColor':'transparent','weight':0.5},\n",
    "                    tooltip=folium.features.GeoJsonTooltip(\n",
    "                        fields=['NOM',\n",
    "                                'NBMENFISC16',\n",
    "                                'NBPERSMENFISC16',\n",
    "                                'MED16'\n",
    "                               ],\n",
    "                        aliases=[\"<br>Commmune :\",\n",
    "                                 \"<br>Nombre de ménages :\",\n",
    "                                 \"<br>Population :\",\n",
    "                                 \"<br>Revenu médian :\"\n",
    "                                ], \n",
    "                        localize=True,\n",
    "                        sticky=False,\n",
    "                        labels=True,\n",
    "                        style=\"\"\"\n",
    "                            background-color: #F0EFEF;\n",
    "                            border: 2px solid black;\n",
    "                            border-radius: 3px;\n",
    "                            box-shadow: 3px;\n",
    "                        \"\"\",\n",
    "                        max_width=800,),\n",
    "                            highlight_function=lambda x: {'weight':3,'fillColor':'grey'},\n",
    "                        ).add_to(nouv)"
   ]
  },
  {
   "cell_type": "code",
   "execution_count": null,
   "id": "ca391ff2-6cf7-4445-85ea-a979f47c0461",
   "metadata": {},
   "outputs": [],
   "source": [
    "'''\n",
    "Etape 3:\n",
    "On ajoute la deuxième couche choroplèthe à la carte \"cart_demo\n",
    "'''\n",
    "# La carte choropleth\n",
    "nouv2 = folium.Choropleth(\n",
    "    geo_data=communes_IDF,\n",
    "    data = data_used,\n",
    "    columns = ['INSEE_COM', 'Energ2'],\n",
    "    key_on = 'feature.properties.INSEE_COM',\n",
    "    fill_color='YlGn',\n",
    "    nan_fill_color = 'White', # Couleur pour les données manquantes\n",
    "    fill_opacity=0.7,\n",
    "    line_opacity=0.5,\n",
    "    legend_name=\"Classe d'énergie majoritaire\",\n",
    "    line_color = 'black',\n",
    "    highlight = True\n",
    "    ).geojson.add_to(cart_dpe)\n",
    "\n",
    "# Ajout des infos-bulles\n",
    "folium.features.GeoJson(\n",
    "                    data=data_used,\n",
    "                    name=\"Proportion de ménages énergivores\",\n",
    "                    smooth_factor=2,\n",
    "                    style_function=lambda x: {'color':'black','fillColor':'transparent','weight':0.5},\n",
    "                    tooltip=folium.features.GeoJsonTooltip(\n",
    "                        fields=['NOM',\n",
    "                                'Energ',\n",
    "                                'classe_consommation_energie_A',\n",
    "                                'classe_consommation_energie_B',\n",
    "                                'classe_consommation_energie_C', \n",
    "                                'classe_consommation_energie_D',  \n",
    "                                'CE_Maj'\n",
    "                               ],\n",
    "                        aliases=[\"<br>Commmune :\",\n",
    "                                 \"<br>Proportion ménages énergivores :\",\n",
    "                                 \"<br>Proportion de A :\",\n",
    "                                 \"<br>Proportion de B :\",\n",
    "                                 \"<br>Proportion de C :\",\n",
    "                                 \"<br>Proportion de D :\",\n",
    "                                 \"<br>Classe majoritaire :\",\n",
    "                                ], \n",
    "                        localize=True,\n",
    "                        sticky=False,\n",
    "                        labels=True,\n",
    "                        style=\"\"\"\n",
    "                            background-color: #F0EFEF;\n",
    "                            border: 2px solid black;\n",
    "                            border-radius: 3px;\n",
    "                            box-shadow: 3px;\n",
    "                        \"\"\",\n",
    "                        max_width=800,),\n",
    "                            highlight_function=lambda x: {'weight':3,'fillColor':'grey'},\n",
    "                        ).add_to(nouv2)"
   ]
  },
  {
   "cell_type": "code",
   "execution_count": null,
   "id": "752249d1-13e7-49c3-afd6-cd68dfccb313",
   "metadata": {},
   "outputs": [],
   "source": [
    "'''\n",
    "Etape 4:\n",
    "On ajoute des composantes à la carte: des tuiles et une barre de controle\n",
    "'''\n",
    "folium.TileLayer('cartodbdark_matter',overlay=True,name=\"View in Dark Mode\").add_to(carte_fin)\n",
    "folium.TileLayer('cartodbpositron',overlay=True,name=\"View in Light Mode\").add_to(carte_fin)\n",
    "folium.LayerControl(collapsed=False).add_to(carte_fin)"
   ]
  }
 ],
 "metadata": {
  "kernelspec": {
   "display_name": "Python 3 (ipykernel)",
   "language": "python",
   "name": "python3"
  },
  "language_info": {
   "codemirror_mode": {
    "name": "ipython",
    "version": 3
   },
   "file_extension": ".py",
   "mimetype": "text/x-python",
   "name": "python",
   "nbconvert_exporter": "python",
   "pygments_lexer": "ipython3",
   "version": "3.10.4"
  }
 },
 "nbformat": 4,
 "nbformat_minor": 5
}
