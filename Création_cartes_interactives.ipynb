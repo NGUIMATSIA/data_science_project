{
 "cells": [
  {
   "cell_type": "markdown",
   "id": "08218470-a49b-491c-a7b4-7fdb0357bbab",
   "metadata": {},
   "source": [
    "# Création de cartes interactives relatives à la performance énergétique des logements et au niveau de vie des ménage (visualisation à l'échelle des communes d'Ile-de-France)"
   ]
  },
  {
   "cell_type": "code",
   "execution_count": null,
   "id": "51db3bfd-b6ee-4bda-91f5-2e3b494b9da5",
   "metadata": {},
   "outputs": [],
   "source": [
    "import pandas as pd\n",
    "import matplotlib.pyplot as plt"
   ]
  },
  {
   "cell_type": "markdown",
   "id": "905df615-0c15-4730-886e-6494f431a59b",
   "metadata": {},
   "source": [
    "## A) Importation du dataframe Filosofi_dpe_IDF_com et quelques retraitements"
   ]
  },
  {
   "cell_type": "code",
   "execution_count": null,
   "id": "981bff55-b52c-4ae5-b8cb-4f0120fb3bb1",
   "metadata": {},
   "outputs": [],
   "source": [
    "Filosofi_dpe_IDF_com = pd.read_csv(\"~/work/data_science_project/Filosofi_dpe_IDF_com.csv\")"
   ]
  },
  {
   "cell_type": "code",
   "execution_count": null,
   "id": "9e441f0b-0a24-4550-a59c-d5bd0014c11d",
   "metadata": {},
   "outputs": [],
   "source": [
    "# Calcul du ratio \"nombre de DPE/nombre de ménages fiscaux\":\n",
    "Filosofi_dpe_IDF_com[\"ratio_DPE_menage\"]=Filosofi_dpe_IDF_com[\"nombre_dpe\"]/Filosofi_dpe_IDF_com[\"NBMENFISC16\"]\n",
    "Filosofi_dpe_IDF_com2=Filosofi_dpe_IDF_com[Filosofi_dpe_IDF_com[\"ratio_DPE_menage\"]>0.05].reset_index()"
   ]
  },
  {
   "cell_type": "code",
   "execution_count": null,
   "id": "cc995251-9b1a-48c7-a5e4-9eacd051afd1",
   "metadata": {},
   "outputs": [],
   "source": [
    "# 1) Codage de la variable \"proportions de logements énergivores\":\n",
    "Filosofi_dpe_IDF_com2[\"proportion_energivores\"]=Filosofi_dpe_IDF_com2.loc[:,['classe_consommation_energie_F','classe_consommation_energie_G']].sum(axis=1)"
   ]
  },
  {
   "cell_type": "code",
   "execution_count": null,
   "id": "aa23b2e7-bf79-41bf-8ebf-f45ce9b3bc51",
   "metadata": {},
   "outputs": [],
   "source": [
    "# Fonction qui calcule la classe d'énergie majoritaire dans une commune\n",
    "def maj(x):\n",
    "    dic = 'A B C D E F G'.split()\n",
    "    list = [x.classe_consommation_energie_A, x.classe_consommation_energie_B, x.classe_consommation_energie_C, \n",
    "            x.classe_consommation_energie_D, x.classe_consommation_energie_E, x.classe_consommation_energie_F,\n",
    "            x.classe_consommation_energie_G]\n",
    "    indice = [i for i, item in enumerate(list) if item == max(list)]\n",
    "    if len(indice) != 0:\n",
    "        return([ dic[j] for j in indice][len(indice)-1])\n",
    "    else:\n",
    "        return 'N'"
   ]
  },
  {
   "cell_type": "code",
   "execution_count": null,
   "id": "ca90185b-5be2-4ba7-a3c9-59b9d8d6d0e5",
   "metadata": {},
   "outputs": [],
   "source": [
    "# Création d'une colonne avec ce maximum\n",
    "Filosofi_dpe_IDF_com2['CE_Maj'] = Filosofi_dpe_IDF_com2.apply(lambda z: maj(z),  axis=1)"
   ]
  },
  {
   "cell_type": "markdown",
   "id": "df6bddd5-22b6-4091-ae4a-739a0a4b33a2",
   "metadata": {},
   "source": [
    "## B) Téléchargement des coordonnées géographiques des communes d'Ile-de-France:"
   ]
  },
  {
   "cell_type": "code",
   "execution_count": null,
   "id": "f05046d8-9820-48ff-8845-60b780ad59c6",
   "metadata": {},
   "outputs": [],
   "source": [
    "!pip install --upgrade botocore==1.23.26  \n",
    "!pip install --upgrade urllib3==1.22.0 \n",
    "!pip install py7zr \n",
    "!pip install s3fs \n",
    "!git clone https://github.com/InseeFrLab/cartogether.git\n",
    "%cd ./cartogether\n",
    "!pip install -r requirements.txt\n",
    "!pip install ."
   ]
  },
  {
   "cell_type": "code",
   "execution_count": null,
   "id": "e46cd3c8-c8df-4f2c-bf07-2bd8c4491221",
   "metadata": {},
   "outputs": [],
   "source": [
    "import cartiflette.s3\n",
    "\n",
    "communes_IDF = cartiflette.s3.download_vectorfile_url_all(\n",
    "    values = [\"75\",\"91\",\"92\",\"93\",\"94\",\"95\",\"77\",\"78\"],\n",
    "    level=\"COMMUNE\",\n",
    "    vectorfile_format=\"geojson\",\n",
    "    decoupage=\"departement\",\n",
    "    year=2022)"
   ]
  },
  {
   "cell_type": "code",
   "execution_count": null,
   "id": "c384d510-c3c5-4f0f-a5cb-2f482d42a47d",
   "metadata": {},
   "outputs": [],
   "source": [
    "communes_IDF = communes_IDF[['NOM','INSEE_COM','geometry']]"
   ]
  },
  {
   "cell_type": "code",
   "execution_count": null,
   "id": "031cb357-b9b0-4e86-9303-a9887f420ae5",
   "metadata": {},
   "outputs": [],
   "source": [
    "communes_IDF['INSEE_COM'] = communes_IDF['INSEE_COM'].apply(lambda n: int(n))"
   ]
  },
  {
   "cell_type": "code",
   "execution_count": null,
   "id": "e3351bc4-447d-4189-adc4-fde5e2e09f8f",
   "metadata": {},
   "outputs": [],
   "source": [
    "# Jointure avec le dataframe Filosofi_dpe_IDF_com2:\n",
    "\n",
    "Filosofi_dpe_IDF_com3=pd.merge(communes_IDF,Filosofi_dpe_IDF_com2,left_on=\"INSEE_COM\",right_on=\"CODGEO\",how=\"left\")"
   ]
  },
  {
   "cell_type": "code",
   "execution_count": null,
   "id": "08499e87-499f-444f-a6af-b82be4b056be",
   "metadata": {},
   "outputs": [],
   "source": [
    "Filosofi_dpe_IDF_com4 = Filosofi_dpe_IDF_com3.dropna(subset=[\"geometry\"])"
   ]
  },
  {
   "cell_type": "markdown",
   "id": "cada0694-8a8a-4568-a4e3-5b5eddb17749",
   "metadata": {},
   "source": [
    "## C) Création des cartes interactives"
   ]
  },
  {
   "cell_type": "code",
   "execution_count": null,
   "id": "15d72dd8-0c60-447b-9940-548b38f3cd6d",
   "metadata": {},
   "outputs": [],
   "source": [
    "pip install folium"
   ]
  },
  {
   "cell_type": "code",
   "execution_count": null,
   "id": "f14528f6-63ed-47fe-97d0-eaeb5909f0e5",
   "metadata": {},
   "outputs": [],
   "source": [
    "# Calcul des points centraux des communes afin de centrer la carte\n",
    "data_geo2 = communes_IDF[['INSEE_COM', 'geometry']]\n",
    "data_geo2['Center_point'] = data_geo2['geometry'].centroid"
   ]
  },
  {
   "cell_type": "code",
   "execution_count": null,
   "id": "968cd271-bb12-4665-abf9-5505fd3da350",
   "metadata": {},
   "outputs": [],
   "source": [
    "#Extraction de la latitude et de la longitude de ces points centraux\n",
    "data_geo2[\"lat\"] = data_geo2.Center_point.map(lambda p: p.x)\n",
    "data_geo2[\"long\"] = data_geo2.Center_point.map(lambda p: p.y)"
   ]
  },
  {
   "cell_type": "code",
   "execution_count": null,
   "id": "d30285a2-2033-4a24-9c79-eb4db0b374a3",
   "metadata": {},
   "outputs": [],
   "source": [
    "# Première visualisation\n",
    "\n",
    "import folium\n",
    "\n",
    "# Calcul du centre de la carte\n",
    "data_geo2 = communes_IDF[['INSEE_COM', 'geometry']]\n",
    "data_geo2['Center_point'] = data_geo2['geometry'].centroid\n",
    "#Extract lat and lon from the centerpoint\n",
    "data_geo2[\"lat\"] = data_geo2.Center_point.map(lambda p: p.x)\n",
    "data_geo2[\"long\"] = data_geo2.Center_point.map(lambda p: p.y)\n",
    "\n",
    "# Sortie de la carte primaire\n",
    "m = folium.Map(location=[data_geo2['long'].mean(), data_geo2['lat'].mean()],\n",
    "               zoom_start=9, tiles='cartodbpositron')\n",
    "m \n",
    "# (Visualisation non nécessaire)"
   ]
  },
  {
   "cell_type": "code",
   "execution_count": null,
   "id": "aeb36cdf-d111-435d-bf59-722489216266",
   "metadata": {},
   "outputs": [],
   "source": [
    "# @Marc: il ne manquerait pas la suite du code pour produire les cartes intéractives?"
   ]
  }
 ],
 "metadata": {
  "kernelspec": {
   "display_name": "Python 3 (ipykernel)",
   "language": "python",
   "name": "python3"
  },
  "language_info": {
   "codemirror_mode": {
    "name": "ipython",
    "version": 3
   },
   "file_extension": ".py",
   "mimetype": "text/x-python",
   "name": "python",
   "nbconvert_exporter": "python",
   "pygments_lexer": "ipython3",
   "version": "3.10.4"
  }
 },
 "nbformat": 4,
 "nbformat_minor": 5
}
