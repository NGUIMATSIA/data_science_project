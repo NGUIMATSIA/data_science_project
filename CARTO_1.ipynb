{
 "cells": [
  {
   "cell_type": "markdown",
   "metadata": {},
   "source": [
    "###  Visulisation des données géographiques"
   ]
  },
  {
   "cell_type": "code",
   "execution_count": 30,
   "metadata": {},
   "outputs": [],
   "source": [
    "import os\n",
    "os.chdir(\"C:\\\\Users\\\\HP\")\n",
    "os.getcwd()"
   ]
  },
  {
   "cell_type": "code",
   "execution_count": null,
   "metadata": {},
   "outputs": [],
   "source": []
  },
  {
   "cell_type": "code",
   "execution_count": 31,
   "metadata": {},
   "outputs": [
    {
     "name": "stdout",
     "output_type": "stream",
     "text": [
      "Collecting botocore==1.23.26Note: you may need to restart the kernel to use updated packages.\n"
     ]
    },
    {
     "name": "stderr",
     "output_type": "stream",
     "text": [
      "ERROR: After October 2020 you may experience errors when installing or updating packages. This is because pip will change the way that it resolves dependency conflicts.\n",
      "\n",
      "We recommend you use --use-feature=2020-resolver to test your packages with the new resolver before it becomes the default.\n",
      "\n",
      "aiobotocore 2.4.1 requires botocore<1.27.60,>=1.27.59, but you'll have botocore 1.23.26 which is incompatible.\n"
     ]
    },
    {
     "name": "stdout",
     "output_type": "stream",
     "text": [
      "\n",
      "  Using cached botocore-1.23.26-py3-none-any.whl (8.5 MB)\n",
      "Requirement already satisfied, skipping upgrade: python-dateutil<3.0.0,>=2.1 in c:\\users\\hp\\anaconda3\\lib\\site-packages (from botocore==1.23.26) (2.8.1)\n",
      "Requirement already satisfied, skipping upgrade: jmespath<1.0.0,>=0.7.1 in c:\\users\\hp\\anaconda3\\lib\\site-packages (from botocore==1.23.26) (0.10.0)\n",
      "Requirement already satisfied, skipping upgrade: urllib3<1.27,>=1.25.4 in c:\\users\\hp\\anaconda3\\lib\\site-packages (from botocore==1.23.26) (1.25.4)\n",
      "Requirement already satisfied, skipping upgrade: six>=1.5 in c:\\users\\hp\\anaconda3\\lib\\site-packages (from python-dateutil<3.0.0,>=2.1->botocore==1.23.26) (1.16.0)\n",
      "Installing collected packages: botocore\n",
      "  Attempting uninstall: botocore\n",
      "    Found existing installation: botocore 1.27.59\n",
      "    Uninstalling botocore-1.27.59:\n",
      "      Successfully uninstalled botocore-1.27.59\n",
      "Successfully installed botocore-1.23.26\n"
     ]
    }
   ],
   "source": [
    "pip install --upgrade botocore==1.23.26"
   ]
  },
  {
   "cell_type": "code",
   "execution_count": 32,
   "metadata": {},
   "outputs": [
    {
     "name": "stdout",
     "output_type": "stream",
     "text": [
      "Requirement already up-to-date: urllib3==1.25.4 in c:\\users\\hp\\anaconda3\\lib\\site-packages (1.25.4)\n",
      "Note: you may need to restart the kernel to use updated packages.\n"
     ]
    }
   ],
   "source": [
    "pip install --upgrade urllib3==1.25.4 "
   ]
  },
  {
   "cell_type": "code",
   "execution_count": 33,
   "metadata": {},
   "outputs": [
    {
     "name": "stdout",
     "output_type": "stream",
     "text": [
      "Requirement already satisfied: py7zr in c:\\users\\hp\\anaconda3\\lib\\site-packages (0.20.2)\n",
      "Requirement already satisfied: pyppmd<1.1.0,>=0.18.1 in c:\\users\\hp\\anaconda3\\lib\\site-packages (from py7zr) (1.0.0)\n",
      "Requirement already satisfied: multivolumefile>=0.2.3 in c:\\users\\hp\\anaconda3\\lib\\site-packages (from py7zr) (0.2.3)\n",
      "Requirement already satisfied: pybcj>=0.6.0 in c:\\users\\hp\\anaconda3\\lib\\site-packages (from py7zr) (1.0.1)\n",
      "Requirement already satisfied: psutil in c:\\users\\hp\\anaconda3\\lib\\site-packages (from py7zr) (5.7.2)\n",
      "Requirement already satisfied: inflate64>=0.3.1; python_version > \"3.6\" in c:\\users\\hp\\anaconda3\\lib\\site-packages (from py7zr) (0.3.1)\n",
      "Requirement already satisfied: pycryptodomex>=3.6.6 in c:\\users\\hp\\anaconda3\\lib\\site-packages (from py7zr) (3.16.0)\n",
      "Requirement already satisfied: pyzstd>=0.14.4 in c:\\users\\hp\\anaconda3\\lib\\site-packages (from py7zr) (0.15.3)\n",
      "Requirement already satisfied: brotli>=1.0.9; platform_python_implementation == \"CPython\" in c:\\users\\hp\\anaconda3\\lib\\site-packages (from py7zr) (1.0.9)\n",
      "Requirement already satisfied: texttable in c:\\users\\hp\\anaconda3\\lib\\site-packages (from py7zr) (1.6.7)\n",
      "Note: you may need to restart the kernel to use updated packages.\n"
     ]
    }
   ],
   "source": [
    "pip install py7zr"
   ]
  },
  {
   "cell_type": "code",
   "execution_count": 34,
   "metadata": {},
   "outputs": [
    {
     "name": "stdout",
     "output_type": "stream",
     "text": [
      "Requirement already satisfied: s3fs in c:\\users\\hp\\anaconda3\\lib\\site-packages (2022.11.0)\n",
      "Requirement already satisfied: aiobotocore~=2.4.0 in c:\\users\\hp\\anaconda3\\lib\\site-packages (from s3fs) (2.4.1)\n",
      "Requirement already satisfied: aiohttp!=4.0.0a0,!=4.0.0a1 in c:\\users\\hp\\anaconda3\\lib\\site-packages (from s3fs) (3.8.3)\n",
      "Requirement already satisfied: fsspec==2022.11.0 in c:\\users\\hp\\anaconda3\\lib\\site-packages (from s3fs) (2022.11.0)\n",
      "Collecting botocore<1.27.60,>=1.27.59\n",
      "  Using cached botocore-1.27.59-py3-none-any.whl (9.1 MB)\n",
      "Requirement already satisfied: wrapt>=1.10.10 in c:\\users\\hp\\anaconda3\\lib\\site-packages (from aiobotocore~=2.4.0->s3fs) (1.11.2)\n",
      "Requirement already satisfied: aioitertools>=0.5.1 in c:\\users\\hp\\anaconda3\\lib\\site-packages (from aiobotocore~=2.4.0->s3fs) (0.11.0)\n",
      "Requirement already satisfied: frozenlist>=1.1.1 in c:\\users\\hp\\anaconda3\\lib\\site-packages (from aiohttp!=4.0.0a0,!=4.0.0a1->s3fs) (1.3.3)\n",
      "Requirement already satisfied: aiosignal>=1.1.2 in c:\\users\\hp\\anaconda3\\lib\\site-packages (from aiohttp!=4.0.0a0,!=4.0.0a1->s3fs) (1.3.1)\n",
      "Requirement already satisfied: yarl<2.0,>=1.0 in c:\\users\\hp\\anaconda3\\lib\\site-packages (from aiohttp!=4.0.0a0,!=4.0.0a1->s3fs) (1.8.2)\n",
      "Requirement already satisfied: attrs>=17.3.0 in c:\\users\\hp\\anaconda3\\lib\\site-packages (from aiohttp!=4.0.0a0,!=4.0.0a1->s3fs) (20.3.0)\n",
      "Requirement already satisfied: charset-normalizer<3.0,>=2.0 in c:\\users\\hp\\anaconda3\\lib\\site-packages (from aiohttp!=4.0.0a0,!=4.0.0a1->s3fs) (2.1.1)\n",
      "Requirement already satisfied: multidict<7.0,>=4.5 in c:\\users\\hp\\anaconda3\\lib\\site-packages (from aiohttp!=4.0.0a0,!=4.0.0a1->s3fs) (6.0.3)\n",
      "Requirement already satisfied: async-timeout<5.0,>=4.0.0a3 in c:\\users\\hp\\anaconda3\\lib\\site-packages (from aiohttp!=4.0.0a0,!=4.0.0a1->s3fs) (4.0.2)\n",
      "Requirement already satisfied: python-dateutil<3.0.0,>=2.1 in c:\\users\\hp\\anaconda3\\lib\\site-packages (from botocore<1.27.60,>=1.27.59->aiobotocore~=2.4.0->s3fs) (2.8.1)\n",
      "Requirement already satisfied: urllib3<1.27,>=1.25.4 in c:\\users\\hp\\anaconda3\\lib\\site-packages (from botocore<1.27.60,>=1.27.59->aiobotocore~=2.4.0->s3fs) (1.25.4)\n",
      "Requirement already satisfied: jmespath<2.0.0,>=0.7.1 in c:\\users\\hp\\anaconda3\\lib\\site-packages (from botocore<1.27.60,>=1.27.59->aiobotocore~=2.4.0->s3fs) (0.10.0)\n",
      "Requirement already satisfied: typing_extensions>=4.0; python_version < \"3.10\" in c:\\users\\hp\\anaconda3\\lib\\site-packages (from aioitertools>=0.5.1->aiobotocore~=2.4.0->s3fs) (4.4.0)\n",
      "Requirement already satisfied: idna>=2.0 in c:\\users\\hp\\anaconda3\\lib\\site-packages (from yarl<2.0,>=1.0->aiohttp!=4.0.0a0,!=4.0.0a1->s3fs) (2.10)\n",
      "Requirement already satisfied: six>=1.5 in c:\\users\\hp\\anaconda3\\lib\\site-packages (from python-dateutil<3.0.0,>=2.1->botocore<1.27.60,>=1.27.59->aiobotocore~=2.4.0->s3fs) (1.16.0)\n",
      "Installing collected packages: botocore\n",
      "  Attempting uninstall: botocore\n",
      "    Found existing installation: botocore 1.23.26\n",
      "    Uninstalling botocore-1.23.26:\n",
      "      Successfully uninstalled botocore-1.23.26\n",
      "Successfully installed botocore-1.27.59\n",
      "Note: you may need to restart the kernel to use updated packages.\n"
     ]
    }
   ],
   "source": [
    "pip install s3fs"
   ]
  },
  {
   "cell_type": "code",
   "execution_count": 35,
   "metadata": {},
   "outputs": [
    {
     "name": "stderr",
     "output_type": "stream",
     "text": [
      "Cloning into 'cartogether'...\n"
     ]
    }
   ],
   "source": [
    "! git clone https://github.com/InseeFrLab/cartogether.git"
   ]
  },
  {
   "cell_type": "code",
   "execution_count": 36,
   "metadata": {},
   "outputs": [
    {
     "name": "stdout",
     "output_type": "stream",
     "text": [
      "C:\\Users\\HP\\cartogether\n"
     ]
    }
   ],
   "source": [
    "%cd ./cartogether"
   ]
  },
  {
   "cell_type": "code",
   "execution_count": 37,
   "metadata": {},
   "outputs": [
    {
     "name": "stdout",
     "output_type": "stream",
     "text": [
      "Requirement already satisfied: requests in c:\\users\\hp\\anaconda3\\lib\\site-packages (from -r requirements.txt (line 1)) (2.24.0)\n",
      "Requirement already satisfied: py7zr in c:\\users\\hp\\anaconda3\\lib\\site-packages (from -r requirements.txt (line 2)) (0.20.2)\n",
      "Requirement already satisfied: geopandas in c:\\users\\hp\\anaconda3\\lib\\site-packages (from -r requirements.txt (line 3)) (0.12.1)\n",
      "Requirement already satisfied: openpyxl in c:\\users\\hp\\anaconda3\\lib\\site-packages (from -r requirements.txt (line 4)) (3.0.5)\n",
      "Requirement already satisfied: tqdm in c:\\users\\hp\\anaconda3\\lib\\site-packages (from -r requirements.txt (line 5)) (4.50.2)\n",
      "Requirement already satisfied: s3fs in c:\\users\\hp\\anaconda3\\lib\\site-packages (from -r requirements.txt (line 6)) (2022.11.0)\n",
      "Requirement already satisfied: PyYAML in c:\\users\\hp\\anaconda3\\lib\\site-packages (from -r requirements.txt (line 7)) (5.3.1)\n",
      "Requirement already satisfied: xlrd in c:\\users\\hp\\anaconda3\\lib\\site-packages (from -r requirements.txt (line 8)) (2.0.1)\n",
      "Requirement already satisfied: chardet<4,>=3.0.2 in c:\\users\\hp\\anaconda3\\lib\\site-packages (from requests->-r requirements.txt (line 1)) (3.0.4)\n",
      "Requirement already satisfied: idna<3,>=2.5 in c:\\users\\hp\\anaconda3\\lib\\site-packages (from requests->-r requirements.txt (line 1)) (2.10)\n",
      "Requirement already satisfied: certifi>=2017.4.17 in c:\\users\\hp\\anaconda3\\lib\\site-packages (from requests->-r requirements.txt (line 1)) (2020.6.20)\n",
      "Requirement already satisfied: urllib3!=1.25.0,!=1.25.1,<1.26,>=1.21.1 in c:\\users\\hp\\anaconda3\\lib\\site-packages (from requests->-r requirements.txt (line 1)) (1.25.4)\n",
      "Requirement already satisfied: brotli>=1.0.9; platform_python_implementation == \"CPython\" in c:\\users\\hp\\anaconda3\\lib\\site-packages (from py7zr->-r requirements.txt (line 2)) (1.0.9)\n",
      "Requirement already satisfied: pybcj>=0.6.0 in c:\\users\\hp\\anaconda3\\lib\\site-packages (from py7zr->-r requirements.txt (line 2)) (1.0.1)\n",
      "Requirement already satisfied: inflate64>=0.3.1; python_version > \"3.6\" in c:\\users\\hp\\anaconda3\\lib\\site-packages (from py7zr->-r requirements.txt (line 2)) (0.3.1)\n",
      "Requirement already satisfied: pycryptodomex>=3.6.6 in c:\\users\\hp\\anaconda3\\lib\\site-packages (from py7zr->-r requirements.txt (line 2)) (3.16.0)\n",
      "Requirement already satisfied: multivolumefile>=0.2.3 in c:\\users\\hp\\anaconda3\\lib\\site-packages (from py7zr->-r requirements.txt (line 2)) (0.2.3)\n",
      "Requirement already satisfied: pyzstd>=0.14.4 in c:\\users\\hp\\anaconda3\\lib\\site-packages (from py7zr->-r requirements.txt (line 2)) (0.15.3)\n",
      "Requirement already satisfied: psutil in c:\\users\\hp\\anaconda3\\lib\\site-packages (from py7zr->-r requirements.txt (line 2)) (5.7.2)\n",
      "Requirement already satisfied: pyppmd<1.1.0,>=0.18.1 in c:\\users\\hp\\anaconda3\\lib\\site-packages (from py7zr->-r requirements.txt (line 2)) (1.0.0)\n",
      "Requirement already satisfied: texttable in c:\\users\\hp\\anaconda3\\lib\\site-packages (from py7zr->-r requirements.txt (line 2)) (1.6.7)\n",
      "Requirement already satisfied: pyproj>=2.6.1.post1 in c:\\users\\hp\\anaconda3\\lib\\site-packages (from geopandas->-r requirements.txt (line 3)) (3.4.0)\n",
      "Requirement already satisfied: pandas>=1.0.0 in c:\\users\\hp\\anaconda3\\lib\\site-packages (from geopandas->-r requirements.txt (line 3)) (1.1.3)\n",
      "Requirement already satisfied: shapely>=1.7 in c:\\users\\hp\\anaconda3\\lib\\site-packages (from geopandas->-r requirements.txt (line 3)) (1.8.4)\n",
      "Requirement already satisfied: fiona>=1.8 in c:\\users\\hp\\anaconda3\\lib\\site-packages (from geopandas->-r requirements.txt (line 3)) (1.8.22)\n",
      "Requirement already satisfied: packaging in c:\\users\\hp\\anaconda3\\lib\\site-packages (from geopandas->-r requirements.txt (line 3)) (20.4)\n",
      "Requirement already satisfied: jdcal in c:\\users\\hp\\anaconda3\\lib\\site-packages (from openpyxl->-r requirements.txt (line 4)) (1.4.1)\n",
      "Requirement already satisfied: et-xmlfile in c:\\users\\hp\\anaconda3\\lib\\site-packages (from openpyxl->-r requirements.txt (line 4)) (1.0.1)\n",
      "Requirement already satisfied: aiobotocore~=2.4.0 in c:\\users\\hp\\anaconda3\\lib\\site-packages (from s3fs->-r requirements.txt (line 6)) (2.4.1)\n",
      "Requirement already satisfied: aiohttp!=4.0.0a0,!=4.0.0a1 in c:\\users\\hp\\anaconda3\\lib\\site-packages (from s3fs->-r requirements.txt (line 6)) (3.8.3)\n",
      "Requirement already satisfied: fsspec==2022.11.0 in c:\\users\\hp\\anaconda3\\lib\\site-packages (from s3fs->-r requirements.txt (line 6)) (2022.11.0)\n",
      "Requirement already satisfied: numpy>=1.15.4 in c:\\users\\hp\\anaconda3\\lib\\site-packages (from pandas>=1.0.0->geopandas->-r requirements.txt (line 3)) (1.19.2)\n",
      "Requirement already satisfied: python-dateutil>=2.7.3 in c:\\users\\hp\\anaconda3\\lib\\site-packages (from pandas>=1.0.0->geopandas->-r requirements.txt (line 3)) (2.8.1)\n",
      "Requirement already satisfied: pytz>=2017.2 in c:\\users\\hp\\anaconda3\\lib\\site-packages (from pandas>=1.0.0->geopandas->-r requirements.txt (line 3)) (2022.6)\n",
      "Requirement already satisfied: setuptools in c:\\users\\hp\\anaconda3\\lib\\site-packages (from fiona>=1.8->geopandas->-r requirements.txt (line 3)) (50.3.1.post20201107)\n",
      "Requirement already satisfied: munch in c:\\users\\hp\\anaconda3\\lib\\site-packages (from fiona>=1.8->geopandas->-r requirements.txt (line 3)) (2.5.0)\n",
      "Requirement already satisfied: click-plugins>=1.0 in c:\\users\\hp\\anaconda3\\lib\\site-packages (from fiona>=1.8->geopandas->-r requirements.txt (line 3)) (1.1.1)\n",
      "Requirement already satisfied: cligj>=0.5 in c:\\users\\hp\\anaconda3\\lib\\site-packages (from fiona>=1.8->geopandas->-r requirements.txt (line 3)) (0.7.2)\n",
      "Requirement already satisfied: click>=4.0 in c:\\users\\hp\\anaconda3\\lib\\site-packages (from fiona>=1.8->geopandas->-r requirements.txt (line 3)) (7.1.2)\n",
      "Requirement already satisfied: six>=1.7 in c:\\users\\hp\\anaconda3\\lib\\site-packages (from fiona>=1.8->geopandas->-r requirements.txt (line 3)) (1.16.0)\n",
      "Requirement already satisfied: attrs>=17 in c:\\users\\hp\\anaconda3\\lib\\site-packages (from fiona>=1.8->geopandas->-r requirements.txt (line 3)) (20.3.0)\n",
      "Requirement already satisfied: pyparsing>=2.0.2 in c:\\users\\hp\\anaconda3\\lib\\site-packages (from packaging->geopandas->-r requirements.txt (line 3)) (2.4.7)\n",
      "Requirement already satisfied: wrapt>=1.10.10 in c:\\users\\hp\\anaconda3\\lib\\site-packages (from aiobotocore~=2.4.0->s3fs->-r requirements.txt (line 6)) (1.11.2)\n",
      "Requirement already satisfied: botocore<1.27.60,>=1.27.59 in c:\\users\\hp\\anaconda3\\lib\\site-packages (from aiobotocore~=2.4.0->s3fs->-r requirements.txt (line 6)) (1.27.59)\n",
      "Requirement already satisfied: aioitertools>=0.5.1 in c:\\users\\hp\\anaconda3\\lib\\site-packages (from aiobotocore~=2.4.0->s3fs->-r requirements.txt (line 6)) (0.11.0)\n",
      "Requirement already satisfied: charset-normalizer<3.0,>=2.0 in c:\\users\\hp\\anaconda3\\lib\\site-packages (from aiohttp!=4.0.0a0,!=4.0.0a1->s3fs->-r requirements.txt (line 6)) (2.1.1)\n",
      "Requirement already satisfied: frozenlist>=1.1.1 in c:\\users\\hp\\anaconda3\\lib\\site-packages (from aiohttp!=4.0.0a0,!=4.0.0a1->s3fs->-r requirements.txt (line 6)) (1.3.3)\n",
      "Requirement already satisfied: aiosignal>=1.1.2 in c:\\users\\hp\\anaconda3\\lib\\site-packages (from aiohttp!=4.0.0a0,!=4.0.0a1->s3fs->-r requirements.txt (line 6)) (1.3.1)\n",
      "Requirement already satisfied: yarl<2.0,>=1.0 in c:\\users\\hp\\anaconda3\\lib\\site-packages (from aiohttp!=4.0.0a0,!=4.0.0a1->s3fs->-r requirements.txt (line 6)) (1.8.2)\n",
      "Requirement already satisfied: async-timeout<5.0,>=4.0.0a3 in c:\\users\\hp\\anaconda3\\lib\\site-packages (from aiohttp!=4.0.0a0,!=4.0.0a1->s3fs->-r requirements.txt (line 6)) (4.0.2)\n",
      "Requirement already satisfied: multidict<7.0,>=4.5 in c:\\users\\hp\\anaconda3\\lib\\site-packages (from aiohttp!=4.0.0a0,!=4.0.0a1->s3fs->-r requirements.txt (line 6)) (6.0.3)\n",
      "Requirement already satisfied: jmespath<2.0.0,>=0.7.1 in c:\\users\\hp\\anaconda3\\lib\\site-packages (from botocore<1.27.60,>=1.27.59->aiobotocore~=2.4.0->s3fs->-r requirements.txt (line 6)) (0.10.0)\n",
      "Requirement already satisfied: typing_extensions>=4.0; python_version < \"3.10\" in c:\\users\\hp\\anaconda3\\lib\\site-packages (from aioitertools>=0.5.1->aiobotocore~=2.4.0->s3fs->-r requirements.txt (line 6)) (4.4.0)\n",
      "Note: you may need to restart the kernel to use updated packages.\n"
     ]
    }
   ],
   "source": [
    "pip install -r requirements.txt"
   ]
  },
  {
   "cell_type": "code",
   "execution_count": 38,
   "metadata": {},
   "outputs": [
    {
     "name": "stdout",
     "output_type": "stream",
     "text": [
      "Processing c:\\users\\hp\\cartogether\n",
      "  Installing build dependencies: started\n",
      "  Installing build dependencies: finished with status 'done'\n",
      "  Getting requirements to build wheel: started\n",
      "  Getting requirements to build wheel: finished with status 'done'\n",
      "    Preparing wheel metadata: started\n",
      "    Preparing wheel metadata: finished with status 'done'\n",
      "Building wheels for collected packages: cartiflette\n",
      "  Building wheel for cartiflette (PEP 517): started\n",
      "  Building wheel for cartiflette (PEP 517): finished with status 'done'\n",
      "  Created wheel for cartiflette: filename=cartiflette-0.0.1-py3-none-any.whl size=19738 sha256=bed4e1ea0dccad1c4eced41bb799e5f00cb28b3ff31d364dcd87abde65b9f155\n",
      "  Stored in directory: C:\\Users\\HP\\AppData\\Local\\Temp\\pip-ephem-wheel-cache-ip6b7jrc\\wheels\\a6\\a3\\85\\8db43ab18a25aeeeb3e71ea315ce1e44376b0547da6c2c6797Note: you may need to restart the kernel to use updated packages.\n",
      "\n",
      "Successfully built cartiflette\n",
      "Installing collected packages: cartiflette\n",
      "  Attempting uninstall: cartiflette\n",
      "    Found existing installation: cartiflette 0.0.1\n",
      "    Uninstalling cartiflette-0.0.1:\n",
      "      Successfully uninstalled cartiflette-0.0.1\n",
      "Successfully installed cartiflette-0.0.1\n"
     ]
    }
   ],
   "source": [
    "pip install ."
   ]
  },
  {
   "cell_type": "code",
   "execution_count": 39,
   "metadata": {},
   "outputs": [
    {
     "name": "stdout",
     "output_type": "stream",
     "text": [
      "Collecting package metadata (current_repodata.json): ...working... done\n",
      "\n",
      "Note: you may need to restart the kernel to use updated packages.Solving environment: ...working... done\n",
      "\n",
      "\n",
      "# All requested packages already installed.\n",
      "\n",
      "Retrieving notices: ...working... done\n"
     ]
    }
   ],
   "source": [
    "conda install shapely"
   ]
  },
  {
   "cell_type": "code",
   "execution_count": 40,
   "metadata": {},
   "outputs": [
    {
     "name": "stdout",
     "output_type": "stream",
     "text": [
      "Collecting package metadata (current_repodata.json): ...working... done\n",
      "Solving environment: ...working... done\n",
      "\n",
      "# All requested packages already installed.\n",
      "\n",
      "Retrieving notices: ...working... done\n",
      "\n",
      "Note: you may need to restart the kernel to use updated packages.\n"
     ]
    }
   ],
   "source": [
    "conda install -c conda-forge shapely"
   ]
  },
  {
   "cell_type": "code",
   "execution_count": 41,
   "metadata": {},
   "outputs": [
    {
     "name": "stdout",
     "output_type": "stream",
     "text": [
      "Collecting package metadata (current_repodata.json): ...working... done\n",
      "Solving environment: ...working... done\n",
      "\n",
      "# All requested packages already installed.\n",
      "\n",
      "Retrieving notices: ...working... done\n",
      "\n",
      "Note: you may need to restart the kernel to use updated packages.\n"
     ]
    }
   ],
   "source": [
    "conda update -n base -c defaults conda"
   ]
  },
  {
   "cell_type": "code",
   "execution_count": null,
   "metadata": {},
   "outputs": [],
   "source": []
  },
  {
   "cell_type": "code",
   "execution_count": 15,
   "metadata": {},
   "outputs": [],
   "source": [
    "import pandas as pd\n",
    "import geopandas"
   ]
  },
  {
   "cell_type": "code",
   "execution_count": 20,
   "metadata": {},
   "outputs": [],
   "source": [
    "world = geopandas.read_file(geopandas.datasets.get_path('naturalearth_lowres'))"
   ]
  },
  {
   "cell_type": "code",
   "execution_count": 44,
   "metadata": {},
   "outputs": [
    {
     "data": {
      "text/html": [
       "<div>\n",
       "<style scoped>\n",
       "    .dataframe tbody tr th:only-of-type {\n",
       "        vertical-align: middle;\n",
       "    }\n",
       "\n",
       "    .dataframe tbody tr th {\n",
       "        vertical-align: top;\n",
       "    }\n",
       "\n",
       "    .dataframe thead th {\n",
       "        text-align: right;\n",
       "    }\n",
       "</style>\n",
       "<table border=\"1\" class=\"dataframe\">\n",
       "  <thead>\n",
       "    <tr style=\"text-align: right;\">\n",
       "      <th></th>\n",
       "      <th>pop_est</th>\n",
       "      <th>continent</th>\n",
       "      <th>name</th>\n",
       "      <th>iso_a3</th>\n",
       "      <th>gdp_md_est</th>\n",
       "      <th>geometry</th>\n",
       "    </tr>\n",
       "  </thead>\n",
       "  <tbody>\n",
       "    <tr>\n",
       "      <th>0</th>\n",
       "      <td>889953.0</td>\n",
       "      <td>Oceania</td>\n",
       "      <td>Fiji</td>\n",
       "      <td>FJI</td>\n",
       "      <td>5496</td>\n",
       "      <td>MULTIPOLYGON (((180.00000 -16.06713, 180.00000...</td>\n",
       "    </tr>\n",
       "    <tr>\n",
       "      <th>1</th>\n",
       "      <td>58005463.0</td>\n",
       "      <td>Africa</td>\n",
       "      <td>Tanzania</td>\n",
       "      <td>TZA</td>\n",
       "      <td>63177</td>\n",
       "      <td>POLYGON ((33.90371 -0.95000, 34.07262 -1.05982...</td>\n",
       "    </tr>\n",
       "    <tr>\n",
       "      <th>2</th>\n",
       "      <td>603253.0</td>\n",
       "      <td>Africa</td>\n",
       "      <td>W. Sahara</td>\n",
       "      <td>ESH</td>\n",
       "      <td>907</td>\n",
       "      <td>POLYGON ((-8.66559 27.65643, -8.66512 27.58948...</td>\n",
       "    </tr>\n",
       "    <tr>\n",
       "      <th>3</th>\n",
       "      <td>37589262.0</td>\n",
       "      <td>North America</td>\n",
       "      <td>Canada</td>\n",
       "      <td>CAN</td>\n",
       "      <td>1736425</td>\n",
       "      <td>MULTIPOLYGON (((-122.84000 49.00000, -122.9742...</td>\n",
       "    </tr>\n",
       "    <tr>\n",
       "      <th>4</th>\n",
       "      <td>328239523.0</td>\n",
       "      <td>North America</td>\n",
       "      <td>United States of America</td>\n",
       "      <td>USA</td>\n",
       "      <td>21433226</td>\n",
       "      <td>MULTIPOLYGON (((-122.84000 49.00000, -120.0000...</td>\n",
       "    </tr>\n",
       "  </tbody>\n",
       "</table>\n",
       "</div>"
      ],
      "text/plain": [
       "       pop_est      continent                      name iso_a3  gdp_md_est  \\\n",
       "0     889953.0        Oceania                      Fiji    FJI        5496   \n",
       "1   58005463.0         Africa                  Tanzania    TZA       63177   \n",
       "2     603253.0         Africa                 W. Sahara    ESH         907   \n",
       "3   37589262.0  North America                    Canada    CAN     1736425   \n",
       "4  328239523.0  North America  United States of America    USA    21433226   \n",
       "\n",
       "                                            geometry  \n",
       "0  MULTIPOLYGON (((180.00000 -16.06713, 180.00000...  \n",
       "1  POLYGON ((33.90371 -0.95000, 34.07262 -1.05982...  \n",
       "2  POLYGON ((-8.66559 27.65643, -8.66512 27.58948...  \n",
       "3  MULTIPOLYGON (((-122.84000 49.00000, -122.9742...  \n",
       "4  MULTIPOLYGON (((-122.84000 49.00000, -120.0000...  "
      ]
     },
     "execution_count": 44,
     "metadata": {},
     "output_type": "execute_result"
    }
   ],
   "source": [
    "world.head()"
   ]
  },
  {
   "cell_type": "code",
   "execution_count": null,
   "metadata": {},
   "outputs": [],
   "source": []
  },
  {
   "cell_type": "markdown",
   "metadata": {},
   "source": [
    "### Import des carreaux de filosofi transformés"
   ]
  },
  {
   "cell_type": "code",
   "execution_count": 49,
   "metadata": {},
   "outputs": [],
   "source": [
    "import pandas as pd\n",
    "import numpy as np"
   ]
  },
  {
   "cell_type": "code",
   "execution_count": 50,
   "metadata": {},
   "outputs": [],
   "source": [
    "os.chdir(\"C:\\\\Users\\\\HP\")"
   ]
  },
  {
   "cell_type": "code",
   "execution_count": 55,
   "metadata": {},
   "outputs": [
    {
     "data": {
      "text/html": [
       "<div>\n",
       "<style scoped>\n",
       "    .dataframe tbody tr th:only-of-type {\n",
       "        vertical-align: middle;\n",
       "    }\n",
       "\n",
       "    .dataframe tbody tr th {\n",
       "        vertical-align: top;\n",
       "    }\n",
       "\n",
       "    .dataframe thead th {\n",
       "        text-align: right;\n",
       "    }\n",
       "</style>\n",
       "<table border=\"1\" class=\"dataframe\">\n",
       "  <thead>\n",
       "    <tr style=\"text-align: right;\">\n",
       "      <th></th>\n",
       "      <th>Id_carr_n</th>\n",
       "    </tr>\n",
       "  </thead>\n",
       "  <tbody>\n",
       "    <tr>\n",
       "      <th>0</th>\n",
       "      <td>CRS3035RES1000mN2034000E4252000</td>\n",
       "    </tr>\n",
       "    <tr>\n",
       "      <th>1</th>\n",
       "      <td>CRS3035RES1000mN2034000E4253000</td>\n",
       "    </tr>\n",
       "    <tr>\n",
       "      <th>2</th>\n",
       "      <td>CRS3035RES1000mN2035000E4252000</td>\n",
       "    </tr>\n",
       "    <tr>\n",
       "      <th>3</th>\n",
       "      <td>CRS3035RES1000mN2035000E4253000</td>\n",
       "    </tr>\n",
       "    <tr>\n",
       "      <th>4</th>\n",
       "      <td>CRS3035RES1000mN2044000E4253000</td>\n",
       "    </tr>\n",
       "  </tbody>\n",
       "</table>\n",
       "</div>"
      ],
      "text/plain": [
       "                         Id_carr_n\n",
       "0  CRS3035RES1000mN2034000E4252000\n",
       "1  CRS3035RES1000mN2034000E4253000\n",
       "2  CRS3035RES1000mN2035000E4252000\n",
       "3  CRS3035RES1000mN2035000E4253000\n",
       "4  CRS3035RES1000mN2044000E4253000"
      ]
     },
     "execution_count": 55,
     "metadata": {},
     "output_type": "execute_result"
    }
   ],
   "source": [
    "carr = pd.read_csv(\"Carreaux.csv\")\n",
    "carr.head()"
   ]
  },
  {
   "cell_type": "code",
   "execution_count": 52,
   "metadata": {},
   "outputs": [],
   "source": [
    "# Création des points des rectangles"
   ]
  },
  {
   "cell_type": "code",
   "execution_count": 63,
   "metadata": {},
   "outputs": [],
   "source": [
    "# Le premier point\n",
    "carr[\"px_1\"] = carr[\"Id_carr_n\"].apply(lambda x: int(x.split('N')[1].split('E')[1]))\n",
    "carr[\"py_1\"] = carr[\"Id_carr_n\"].apply(lambda x: int(x.split('N')[1].split('E')[0]))"
   ]
  },
  {
   "cell_type": "code",
   "execution_count": 66,
   "metadata": {},
   "outputs": [
    {
     "data": {
      "text/html": [
       "<div>\n",
       "<style scoped>\n",
       "    .dataframe tbody tr th:only-of-type {\n",
       "        vertical-align: middle;\n",
       "    }\n",
       "\n",
       "    .dataframe tbody tr th {\n",
       "        vertical-align: top;\n",
       "    }\n",
       "\n",
       "    .dataframe thead th {\n",
       "        text-align: right;\n",
       "    }\n",
       "</style>\n",
       "<table border=\"1\" class=\"dataframe\">\n",
       "  <thead>\n",
       "    <tr style=\"text-align: right;\">\n",
       "      <th></th>\n",
       "      <th>Id_carr_n</th>\n",
       "      <th>px_1</th>\n",
       "      <th>py_1</th>\n",
       "      <th>px_2</th>\n",
       "      <th>py_2</th>\n",
       "    </tr>\n",
       "  </thead>\n",
       "  <tbody>\n",
       "    <tr>\n",
       "      <th>0</th>\n",
       "      <td>CRS3035RES1000mN2034000E4252000</td>\n",
       "      <td>4252000</td>\n",
       "      <td>2034000</td>\n",
       "      <td>4253000</td>\n",
       "      <td>2035000</td>\n",
       "    </tr>\n",
       "    <tr>\n",
       "      <th>1</th>\n",
       "      <td>CRS3035RES1000mN2034000E4253000</td>\n",
       "      <td>4253000</td>\n",
       "      <td>2034000</td>\n",
       "      <td>4254000</td>\n",
       "      <td>2035000</td>\n",
       "    </tr>\n",
       "    <tr>\n",
       "      <th>2</th>\n",
       "      <td>CRS3035RES1000mN2035000E4252000</td>\n",
       "      <td>4252000</td>\n",
       "      <td>2035000</td>\n",
       "      <td>4253000</td>\n",
       "      <td>2036000</td>\n",
       "    </tr>\n",
       "    <tr>\n",
       "      <th>3</th>\n",
       "      <td>CRS3035RES1000mN2035000E4253000</td>\n",
       "      <td>4253000</td>\n",
       "      <td>2035000</td>\n",
       "      <td>4254000</td>\n",
       "      <td>2036000</td>\n",
       "    </tr>\n",
       "    <tr>\n",
       "      <th>4</th>\n",
       "      <td>CRS3035RES1000mN2044000E4253000</td>\n",
       "      <td>4253000</td>\n",
       "      <td>2044000</td>\n",
       "      <td>4254000</td>\n",
       "      <td>2045000</td>\n",
       "    </tr>\n",
       "  </tbody>\n",
       "</table>\n",
       "</div>"
      ],
      "text/plain": [
       "                         Id_carr_n     px_1     py_1     px_2     py_2\n",
       "0  CRS3035RES1000mN2034000E4252000  4252000  2034000  4253000  2035000\n",
       "1  CRS3035RES1000mN2034000E4253000  4253000  2034000  4254000  2035000\n",
       "2  CRS3035RES1000mN2035000E4252000  4252000  2035000  4253000  2036000\n",
       "3  CRS3035RES1000mN2035000E4253000  4253000  2035000  4254000  2036000\n",
       "4  CRS3035RES1000mN2044000E4253000  4253000  2044000  4254000  2045000"
      ]
     },
     "execution_count": 66,
     "metadata": {},
     "output_type": "execute_result"
    }
   ],
   "source": [
    "carr.head()"
   ]
  },
  {
   "cell_type": "code",
   "execution_count": 65,
   "metadata": {},
   "outputs": [],
   "source": [
    "# Les autres coordonnées\n",
    "carr[\"px_2\"] = carr[\"px_1\"] + carr[\"Id_carr_n\"].apply(lambda x: int(x.split('mN')[0].split('RES')[1]))\n",
    "carr[\"py_2\"] = carr[\"py_1\"] + carr[\"Id_carr_n\"].apply(lambda x: int(x.split('mN')[0].split('RES')[1]))"
   ]
  },
  {
   "cell_type": "code",
   "execution_count": 73,
   "metadata": {},
   "outputs": [],
   "source": [
    "# Création de la variable geometry\n",
    "    #Bibliothèques nécessaires\n",
    "import geopandas\n",
    "from geopandas import GeoSeries\n",
    "from shapely.geometry import Polygon    "
   ]
  },
  {
   "cell_type": "code",
   "execution_count": 80,
   "metadata": {},
   "outputs": [],
   "source": [
    "carr[\"geometry\"] = carr.apply(lambda a : Polygon([(a['px_1'], a['py_1']), (a['px_2'], a['py_1']), \n",
    "                                                  (a['px_2'], a['py_2']), (a['px_1'], a['py_2'])]), axis = 1)"
   ]
  },
  {
   "cell_type": "code",
   "execution_count": 82,
   "metadata": {},
   "outputs": [
    {
     "data": {
      "text/html": [
       "<div>\n",
       "<style scoped>\n",
       "    .dataframe tbody tr th:only-of-type {\n",
       "        vertical-align: middle;\n",
       "    }\n",
       "\n",
       "    .dataframe tbody tr th {\n",
       "        vertical-align: top;\n",
       "    }\n",
       "\n",
       "    .dataframe thead th {\n",
       "        text-align: right;\n",
       "    }\n",
       "</style>\n",
       "<table border=\"1\" class=\"dataframe\">\n",
       "  <thead>\n",
       "    <tr style=\"text-align: right;\">\n",
       "      <th></th>\n",
       "      <th>Id_carr_n</th>\n",
       "      <th>px_1</th>\n",
       "      <th>py_1</th>\n",
       "      <th>px_2</th>\n",
       "      <th>py_2</th>\n",
       "      <th>geometry</th>\n",
       "    </tr>\n",
       "  </thead>\n",
       "  <tbody>\n",
       "    <tr>\n",
       "      <th>0</th>\n",
       "      <td>CRS3035RES1000mN2034000E4252000</td>\n",
       "      <td>4252000</td>\n",
       "      <td>2034000</td>\n",
       "      <td>4253000</td>\n",
       "      <td>2035000</td>\n",
       "      <td>POLYGON ((4252000 2034000, 4253000 2034000, 42...</td>\n",
       "    </tr>\n",
       "    <tr>\n",
       "      <th>1</th>\n",
       "      <td>CRS3035RES1000mN2034000E4253000</td>\n",
       "      <td>4253000</td>\n",
       "      <td>2034000</td>\n",
       "      <td>4254000</td>\n",
       "      <td>2035000</td>\n",
       "      <td>POLYGON ((4253000 2034000, 4254000 2034000, 42...</td>\n",
       "    </tr>\n",
       "    <tr>\n",
       "      <th>2</th>\n",
       "      <td>CRS3035RES1000mN2035000E4252000</td>\n",
       "      <td>4252000</td>\n",
       "      <td>2035000</td>\n",
       "      <td>4253000</td>\n",
       "      <td>2036000</td>\n",
       "      <td>POLYGON ((4252000 2035000, 4253000 2035000, 42...</td>\n",
       "    </tr>\n",
       "    <tr>\n",
       "      <th>3</th>\n",
       "      <td>CRS3035RES1000mN2035000E4253000</td>\n",
       "      <td>4253000</td>\n",
       "      <td>2035000</td>\n",
       "      <td>4254000</td>\n",
       "      <td>2036000</td>\n",
       "      <td>POLYGON ((4253000 2035000, 4254000 2035000, 42...</td>\n",
       "    </tr>\n",
       "    <tr>\n",
       "      <th>4</th>\n",
       "      <td>CRS3035RES1000mN2044000E4253000</td>\n",
       "      <td>4253000</td>\n",
       "      <td>2044000</td>\n",
       "      <td>4254000</td>\n",
       "      <td>2045000</td>\n",
       "      <td>POLYGON ((4253000 2044000, 4254000 2044000, 42...</td>\n",
       "    </tr>\n",
       "  </tbody>\n",
       "</table>\n",
       "</div>"
      ],
      "text/plain": [
       "                         Id_carr_n     px_1     py_1     px_2     py_2  \\\n",
       "0  CRS3035RES1000mN2034000E4252000  4252000  2034000  4253000  2035000   \n",
       "1  CRS3035RES1000mN2034000E4253000  4253000  2034000  4254000  2035000   \n",
       "2  CRS3035RES1000mN2035000E4252000  4252000  2035000  4253000  2036000   \n",
       "3  CRS3035RES1000mN2035000E4253000  4253000  2035000  4254000  2036000   \n",
       "4  CRS3035RES1000mN2044000E4253000  4253000  2044000  4254000  2045000   \n",
       "\n",
       "                                            geometry  \n",
       "0  POLYGON ((4252000 2034000, 4253000 2034000, 42...  \n",
       "1  POLYGON ((4253000 2034000, 4254000 2034000, 42...  \n",
       "2  POLYGON ((4252000 2035000, 4253000 2035000, 42...  \n",
       "3  POLYGON ((4253000 2035000, 4254000 2035000, 42...  \n",
       "4  POLYGON ((4253000 2044000, 4254000 2044000, 42...  "
      ]
     },
     "execution_count": 82,
     "metadata": {},
     "output_type": "execute_result"
    }
   ],
   "source": [
    "carr.head()"
   ]
  },
  {
   "cell_type": "code",
   "execution_count": 84,
   "metadata": {},
   "outputs": [],
   "source": [
    "# Création d'un géodataframe\n",
    "gcarr = geopandas.GeoDataFrame(carr, geometry='geometry', crs=\"EPSG:3035\")"
   ]
  },
  {
   "cell_type": "code",
   "execution_count": 86,
   "metadata": {},
   "outputs": [
    {
     "data": {
      "text/plain": [
       "<AxesSubplot:>"
      ]
     },
     "execution_count": 86,
     "metadata": {},
     "output_type": "execute_result"
    },
    {
     "data": {
      "image/png": "[encoded data removed]",
      "text/plain": [
       "<Figure size 1080x1080 with 1 Axes>"
      ]
     },
     "metadata": {
      "needs_background": "light"
     },
     "output_type": "display_data"
    }
   ],
   "source": [
    "gcarr.plot(figsize=(15,15))"
   ]
  },
  {
   "cell_type": "code",
   "execution_count": 87,
   "metadata": {},
   "outputs": [],
   "source": [
    "# Export du fichier en csvvv\n",
    "gcarr.to_csv(\"Géographiques_carreaux.csv\", index = False)"
   ]
  },
  {
   "cell_type": "code",
   "execution_count": null,
   "metadata": {},
   "outputs": [],
   "source": [
    "v"
   ]
  },
  {
   "cell_type": "code",
   "execution_count": null,
   "metadata": {},
   "outputs": [],
   "source": []
  }
 ],
 "metadata": {
  "kernelspec": {
   "display_name": "Python 3",
   "language": "python",
   "name": "python3"
  },
  "language_info": {
   "codemirror_mode": {
    "name": "ipython",
    "version": 3
   },
   "file_extension": ".py",
   "mimetype": "text/x-python",
   "name": "python",
   "nbconvert_exporter": "python",
   "pygments_lexer": "ipython3",
   "version": "3.8.5"
  }
 },
 "nbformat": 4,
 "nbformat_minor": 4
}
