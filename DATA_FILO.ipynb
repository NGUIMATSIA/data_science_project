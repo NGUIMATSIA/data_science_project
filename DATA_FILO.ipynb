{
 "cells": [
  {
   "cell_type": "markdown",
   "metadata": {},
   "source": [
    "## IMPORTATION DES DONNEES CARROYEES ET AJOUT DE LA COMPOSANTE GEOGRAPHIQUE"
   ]
  },
  {
   "cell_type": "markdown",
   "metadata": {},
   "source": [
    " *Le but de ce code est d'importer les données sur le revenu et le niveau de vie des ménages en France*\n",
    " \n",
    "   Ces données ne sont disponibles que de façon agrégée pour des zones géographiques ayant les tailles les plus petites possibles, mais comportant au moins 11 ménages. Cette double contrainte permet d'avoir des données fines, tout en respectant le secret statistique. \n",
    "   \n",
    "   Le territoire France a été découpé en petits carreaux de tailles variables, les plus grands avec 32 km de  côté, et les plus petits 200m."
   ]
  },
  {
   "cell_type": "markdown",
   "metadata": {},
   "source": [
    "### 1- Importation des données de filosofi"
   ]
  },
  {
   "cell_type": "markdown",
   "metadata": {},
   "source": [
    "#### A. Importation et Inspection des données "
   ]
  },
  {
   "cell_type": "code",
   "execution_count": 1,
   "metadata": {},
   "outputs": [
    {
     "name": "stdout",
     "output_type": "stream",
     "text": [
      "Collecting py7zr\n",
      "  Downloading py7zr-0.20.2-py3-none-any.whl (65 kB)\n",
      "\u001b[2K     \u001b[90m━━━━━━━━━━━━━━━━━━━━━━━━━━━━━━━━━━━━━━━━\u001b[0m \u001b[32m65.8/65.8 kB\u001b[0m \u001b[31m4.7 MB/s\u001b[0m eta \u001b[36m0:00:00\u001b[0m\n",
      "\u001b[?25hRequirement already satisfied: psutil in /opt/mamba/lib/python3.10/site-packages (from py7zr) (5.9.4)\n",
      "Collecting brotli>=1.0.9\n",
      "  Downloading Brotli-1.0.9-cp310-cp310-manylinux_2_5_x86_64.manylinux1_x86_64.manylinux_2_12_x86_64.manylinux2010_x86_64.whl (2.7 MB)\n",
      "\u001b[2K     \u001b[90m━━━━━━━━━━━━━━━━━━━━━━━━━━━━━━━━━━━━━━━━\u001b[0m \u001b[32m2.7/2.7 MB\u001b[0m \u001b[31m22.0 MB/s\u001b[0m eta \u001b[36m0:00:00\u001b[0m00:01\u001b[0m00:01\u001b[0m\n",
      "\u001b[?25hCollecting texttable\n",
      "  Downloading texttable-1.6.7-py2.py3-none-any.whl (10 kB)\n",
      "Collecting pybcj>=0.6.0\n",
      "  Downloading pybcj-1.0.1-cp310-cp310-manylinux_2_17_x86_64.manylinux2014_x86_64.whl (49 kB)\n",
      "\u001b[2K     \u001b[90m━━━━━━━━━━━━━━━━━━━━━━━━━━━━━━━━━━━━━━━━\u001b[0m \u001b[32m49.8/49.8 kB\u001b[0m \u001b[31m24.9 MB/s\u001b[0m eta \u001b[36m0:00:00\u001b[0m\n",
      "\u001b[?25hCollecting pyzstd>=0.14.4\n",
      "  Downloading pyzstd-0.15.3-cp310-cp310-manylinux_2_17_x86_64.manylinux2014_x86_64.whl (379 kB)\n",
      "\u001b[2K     \u001b[90m━━━━━━━━━━━━━━━━━━━━━━━━━━━━━━━━━━━━━━\u001b[0m \u001b[32m379.0/379.0 kB\u001b[0m \u001b[31m12.0 MB/s\u001b[0m eta \u001b[36m0:00:00\u001b[0m\n",
      "\u001b[?25hCollecting pycryptodomex>=3.6.6\n",
      "  Downloading pycryptodomex-3.16.0-cp35-abi3-manylinux_2_5_x86_64.manylinux1_x86_64.manylinux_2_12_x86_64.manylinux2010_x86_64.whl (2.3 MB)\n",
      "\u001b[2K     \u001b[90m━━━━━━━━━━━━━━━━━━━━━━━━━━━━━━━━━━━━━━━━\u001b[0m \u001b[32m2.3/2.3 MB\u001b[0m \u001b[31m16.5 MB/s\u001b[0m eta \u001b[36m0:00:00\u001b[0ma \u001b[36m0:00:01\u001b[0m\n",
      "\u001b[?25hCollecting multivolumefile>=0.2.3\n",
      "  Downloading multivolumefile-0.2.3-py3-none-any.whl (17 kB)\n",
      "Collecting pyppmd<1.1.0,>=0.18.1\n",
      "  Downloading pyppmd-1.0.0-cp310-cp310-manylinux_2_17_x86_64.manylinux2014_x86_64.whl (138 kB)\n",
      "\u001b[2K     \u001b[90m━━━━━━━━━━━━━━━━━━━━━━━━━━━━━━━━━━━━━━\u001b[0m \u001b[32m138.8/138.8 kB\u001b[0m \u001b[31m28.2 MB/s\u001b[0m eta \u001b[36m0:00:00\u001b[0m\n",
      "\u001b[?25hCollecting inflate64>=0.3.1\n",
      "  Downloading inflate64-0.3.1-cp310-cp310-manylinux_2_17_x86_64.manylinux2014_x86_64.whl (93 kB)\n",
      "\u001b[2K     \u001b[90m━━━━━━━━━━━━━━━━━━━━━━━━━━━━━━━━━━━━━━━━\u001b[0m \u001b[32m93.1/93.1 kB\u001b[0m \u001b[31m32.9 MB/s\u001b[0m eta \u001b[36m0:00:00\u001b[0m\n",
      "\u001b[?25hInstalling collected packages: texttable, brotli, pyzstd, pyppmd, pycryptodomex, pybcj, multivolumefile, inflate64, py7zr\n",
      "Successfully installed brotli-1.0.9 inflate64-0.3.1 multivolumefile-0.2.3 py7zr-0.20.2 pybcj-1.0.1 pycryptodomex-3.16.0 pyppmd-1.0.0 pyzstd-0.15.3 texttable-1.6.7\n",
      "Note: you may need to restart the kernel to use updated packages.\n"
     ]
    }
   ],
   "source": [
    " pip install py7zr"
   ]
  },
  {
   "cell_type": "code",
   "execution_count": 2,
   "metadata": {},
   "outputs": [
    {
     "data": {
      "text/plain": [
       "'/home/onyxia/work/data_science_project/Filosofi2015_carreaux_niveau_naturel_metropole_csv.7z'"
      ]
     },
     "execution_count": 2,
     "metadata": {},
     "output_type": "execute_result"
    }
   ],
   "source": [
    "import os\n",
    "from urllib.request import urlopen\n",
    "import io \n",
    "from zipfile import ZipFile\n",
    "\n",
    "data_url = \"https://www.insee.fr/fr/statistiques/fichier/4176281/Filosofi2015_carreaux_niveau_naturel_csv.zip\"\n",
    "\n",
    "# Transformation de l'url des données en données texte lisible\n",
    "zippedfile = urlopen(data_url).read()\n",
    "\n",
    "# Le fiichier texte est coverti en fichiers\n",
    "opened_zipfile = ZipFile(io.BytesIO(zippedfile))\n",
    "\n",
    "# Les fichiers sont extraits\n",
    "opened_zipfile.extract(member=opened_zipfile.namelist()[2],path= os. getcwd())"
   ]
  },
  {
   "cell_type": "code",
   "execution_count": 3,
   "metadata": {},
   "outputs": [],
   "source": [
    "# Extraction du fichier csv final\n",
    "import py7zr\n",
    "with py7zr.SevenZipFile(\"Filosofi2015_carreaux_niveau_naturel_metropole_csv.7z\", \n",
    "                        'r') as archive:\n",
    "    archive.extractall()"
   ]
  },
  {
   "cell_type": "code",
   "execution_count": 20,
   "metadata": {},
   "outputs": [],
   "source": [
    "# Lecture de la base de données des niveaux de vie\n",
    "import pandas as pd\n",
    "import numpy as np\n",
    "\n",
    "data = pd.read_csv(archive.filename.split(\"_csv\")[0]+\".csv\", delimiter=\",\")"
   ]
  },
  {
   "cell_type": "code",
   "execution_count": 21,
   "metadata": {},
   "outputs": [
    {
     "data": {
      "text/html": [
       "<div>\n",
       "<style scoped>\n",
       "    .dataframe tbody tr th:only-of-type {\n",
       "        vertical-align: middle;\n",
       "    }\n",
       "\n",
       "    .dataframe tbody tr th {\n",
       "        vertical-align: top;\n",
       "    }\n",
       "\n",
       "    .dataframe thead th {\n",
       "        text-align: right;\n",
       "    }\n",
       "</style>\n",
       "<table border=\"1\" class=\"dataframe\">\n",
       "  <thead>\n",
       "    <tr style=\"text-align: right;\">\n",
       "      <th></th>\n",
       "      <th>Id_carr_n</th>\n",
       "      <th>Ind</th>\n",
       "      <th>Men</th>\n",
       "      <th>Men_pauv</th>\n",
       "      <th>Men_1ind</th>\n",
       "      <th>Men_5ind</th>\n",
       "      <th>Men_prop</th>\n",
       "      <th>Men_fmp</th>\n",
       "      <th>Ind_snv</th>\n",
       "      <th>Men_surf</th>\n",
       "      <th>...</th>\n",
       "      <th>Ind_11_17</th>\n",
       "      <th>Ind_18_24</th>\n",
       "      <th>Ind_25_39</th>\n",
       "      <th>Ind_40_54</th>\n",
       "      <th>Ind_55_64</th>\n",
       "      <th>Ind_65_79</th>\n",
       "      <th>Ind_80p</th>\n",
       "      <th>Ind_inc</th>\n",
       "      <th>I_pauv</th>\n",
       "      <th>t_maille</th>\n",
       "    </tr>\n",
       "  </thead>\n",
       "  <tbody>\n",
       "    <tr>\n",
       "      <th>0</th>\n",
       "      <td>CRS3035RES1000mN2034000E4252000</td>\n",
       "      <td>144.0</td>\n",
       "      <td>57.0</td>\n",
       "      <td>9.0</td>\n",
       "      <td>17.0</td>\n",
       "      <td>4.9</td>\n",
       "      <td>33.2</td>\n",
       "      <td>5.0</td>\n",
       "      <td>3352210.9</td>\n",
       "      <td>4874.9</td>\n",
       "      <td>...</td>\n",
       "      <td>9.3</td>\n",
       "      <td>8.1</td>\n",
       "      <td>32.3</td>\n",
       "      <td>23.1</td>\n",
       "      <td>19.7</td>\n",
       "      <td>19.8</td>\n",
       "      <td>5.9</td>\n",
       "      <td>2.1</td>\n",
       "      <td>0</td>\n",
       "      <td>1000</td>\n",
       "    </tr>\n",
       "    <tr>\n",
       "      <th>1</th>\n",
       "      <td>CRS3035RES1000mN2034000E4253000</td>\n",
       "      <td>45.0</td>\n",
       "      <td>21.0</td>\n",
       "      <td>3.0</td>\n",
       "      <td>6.0</td>\n",
       "      <td>0.0</td>\n",
       "      <td>12.0</td>\n",
       "      <td>3.0</td>\n",
       "      <td>845666.2</td>\n",
       "      <td>1389.0</td>\n",
       "      <td>...</td>\n",
       "      <td>6.0</td>\n",
       "      <td>2.1</td>\n",
       "      <td>12.0</td>\n",
       "      <td>6.0</td>\n",
       "      <td>3.9</td>\n",
       "      <td>9.0</td>\n",
       "      <td>0.9</td>\n",
       "      <td>1.2</td>\n",
       "      <td>0</td>\n",
       "      <td>1000</td>\n",
       "    </tr>\n",
       "    <tr>\n",
       "      <th>2</th>\n",
       "      <td>CRS3035RES1000mN2035000E4252000</td>\n",
       "      <td>81.0</td>\n",
       "      <td>33.8</td>\n",
       "      <td>3.1</td>\n",
       "      <td>11.2</td>\n",
       "      <td>3.1</td>\n",
       "      <td>19.1</td>\n",
       "      <td>9.8</td>\n",
       "      <td>1713668.3</td>\n",
       "      <td>2777.1</td>\n",
       "      <td>...</td>\n",
       "      <td>5.8</td>\n",
       "      <td>6.4</td>\n",
       "      <td>9.7</td>\n",
       "      <td>17.6</td>\n",
       "      <td>16.1</td>\n",
       "      <td>9.8</td>\n",
       "      <td>3.1</td>\n",
       "      <td>3.3</td>\n",
       "      <td>0</td>\n",
       "      <td>1000</td>\n",
       "    </tr>\n",
       "    <tr>\n",
       "      <th>3</th>\n",
       "      <td>CRS3035RES1000mN2035000E4253000</td>\n",
       "      <td>46.0</td>\n",
       "      <td>19.9</td>\n",
       "      <td>4.0</td>\n",
       "      <td>7.1</td>\n",
       "      <td>0.9</td>\n",
       "      <td>13.1</td>\n",
       "      <td>1.9</td>\n",
       "      <td>1013579.4</td>\n",
       "      <td>1765.9</td>\n",
       "      <td>...</td>\n",
       "      <td>3.1</td>\n",
       "      <td>3.1</td>\n",
       "      <td>7.9</td>\n",
       "      <td>13.2</td>\n",
       "      <td>8.0</td>\n",
       "      <td>5.1</td>\n",
       "      <td>1.9</td>\n",
       "      <td>0.9</td>\n",
       "      <td>0</td>\n",
       "      <td>1000</td>\n",
       "    </tr>\n",
       "    <tr>\n",
       "      <th>4</th>\n",
       "      <td>CRS3035RES1000mN2044000E4253000</td>\n",
       "      <td>91.0</td>\n",
       "      <td>41.9</td>\n",
       "      <td>3.1</td>\n",
       "      <td>18.0</td>\n",
       "      <td>3.0</td>\n",
       "      <td>27.9</td>\n",
       "      <td>4.0</td>\n",
       "      <td>2246566.4</td>\n",
       "      <td>3280.0</td>\n",
       "      <td>...</td>\n",
       "      <td>4.0</td>\n",
       "      <td>3.1</td>\n",
       "      <td>16.9</td>\n",
       "      <td>16.9</td>\n",
       "      <td>14.0</td>\n",
       "      <td>19.1</td>\n",
       "      <td>7.9</td>\n",
       "      <td>0.0</td>\n",
       "      <td>0</td>\n",
       "      <td>1000</td>\n",
       "    </tr>\n",
       "    <tr>\n",
       "      <th>5</th>\n",
       "      <td>CRS3035RES1000mN2045000E4253000</td>\n",
       "      <td>72.0</td>\n",
       "      <td>29.0</td>\n",
       "      <td>11.0</td>\n",
       "      <td>12.9</td>\n",
       "      <td>3.9</td>\n",
       "      <td>11.9</td>\n",
       "      <td>3.9</td>\n",
       "      <td>1314913.8</td>\n",
       "      <td>2013.0</td>\n",
       "      <td>...</td>\n",
       "      <td>6.1</td>\n",
       "      <td>5.0</td>\n",
       "      <td>12.9</td>\n",
       "      <td>18.1</td>\n",
       "      <td>5.1</td>\n",
       "      <td>8.0</td>\n",
       "      <td>1.9</td>\n",
       "      <td>1.1</td>\n",
       "      <td>0</td>\n",
       "      <td>1000</td>\n",
       "    </tr>\n",
       "    <tr>\n",
       "      <th>6</th>\n",
       "      <td>CRS3035RES1000mN2047000E4243000</td>\n",
       "      <td>21.0</td>\n",
       "      <td>12.0</td>\n",
       "      <td>3.0</td>\n",
       "      <td>6.0</td>\n",
       "      <td>0.9</td>\n",
       "      <td>8.1</td>\n",
       "      <td>0.9</td>\n",
       "      <td>540135.3</td>\n",
       "      <td>1407.9</td>\n",
       "      <td>...</td>\n",
       "      <td>0.9</td>\n",
       "      <td>0.0</td>\n",
       "      <td>0.0</td>\n",
       "      <td>4.0</td>\n",
       "      <td>4.0</td>\n",
       "      <td>8.0</td>\n",
       "      <td>3.0</td>\n",
       "      <td>1.1</td>\n",
       "      <td>0</td>\n",
       "      <td>1000</td>\n",
       "    </tr>\n",
       "    <tr>\n",
       "      <th>7</th>\n",
       "      <td>CRS3035RES1000mN2054000E4253000</td>\n",
       "      <td>60.0</td>\n",
       "      <td>24.9</td>\n",
       "      <td>4.9</td>\n",
       "      <td>6.0</td>\n",
       "      <td>2.1</td>\n",
       "      <td>14.1</td>\n",
       "      <td>3.0</td>\n",
       "      <td>1231959.7</td>\n",
       "      <td>2462.1</td>\n",
       "      <td>...</td>\n",
       "      <td>6.0</td>\n",
       "      <td>6.0</td>\n",
       "      <td>4.9</td>\n",
       "      <td>19.2</td>\n",
       "      <td>8.1</td>\n",
       "      <td>6.0</td>\n",
       "      <td>3.1</td>\n",
       "      <td>2.1</td>\n",
       "      <td>0</td>\n",
       "      <td>1000</td>\n",
       "    </tr>\n",
       "    <tr>\n",
       "      <th>8</th>\n",
       "      <td>CRS3035RES1000mN2054000E4260000</td>\n",
       "      <td>1907.5</td>\n",
       "      <td>895.0</td>\n",
       "      <td>219.1</td>\n",
       "      <td>381.9</td>\n",
       "      <td>47.1</td>\n",
       "      <td>292.2</td>\n",
       "      <td>105.9</td>\n",
       "      <td>36851261.6</td>\n",
       "      <td>61480.9</td>\n",
       "      <td>...</td>\n",
       "      <td>157.5</td>\n",
       "      <td>90.4</td>\n",
       "      <td>373.1</td>\n",
       "      <td>434.1</td>\n",
       "      <td>227.9</td>\n",
       "      <td>221.9</td>\n",
       "      <td>133.2</td>\n",
       "      <td>21.0</td>\n",
       "      <td>0</td>\n",
       "      <td>1000</td>\n",
       "    </tr>\n",
       "    <tr>\n",
       "      <th>9</th>\n",
       "      <td>CRS3035RES1000mN2054000E4261000</td>\n",
       "      <td>246.0</td>\n",
       "      <td>116.0</td>\n",
       "      <td>32.0</td>\n",
       "      <td>46.0</td>\n",
       "      <td>5.0</td>\n",
       "      <td>35.0</td>\n",
       "      <td>14.0</td>\n",
       "      <td>4692112.5</td>\n",
       "      <td>7103.0</td>\n",
       "      <td>...</td>\n",
       "      <td>12.0</td>\n",
       "      <td>16.1</td>\n",
       "      <td>72.0</td>\n",
       "      <td>44.0</td>\n",
       "      <td>18.0</td>\n",
       "      <td>32.0</td>\n",
       "      <td>7.0</td>\n",
       "      <td>3.0</td>\n",
       "      <td>0</td>\n",
       "      <td>1000</td>\n",
       "    </tr>\n",
       "  </tbody>\n",
       "</table>\n",
       "<p>10 rows × 31 columns</p>\n",
       "</div>"
      ],
      "text/plain": [
       "                         Id_carr_n     Ind    Men  Men_pauv  Men_1ind  \\\n",
       "0  CRS3035RES1000mN2034000E4252000   144.0   57.0       9.0      17.0   \n",
       "1  CRS3035RES1000mN2034000E4253000    45.0   21.0       3.0       6.0   \n",
       "2  CRS3035RES1000mN2035000E4252000    81.0   33.8       3.1      11.2   \n",
       "3  CRS3035RES1000mN2035000E4253000    46.0   19.9       4.0       7.1   \n",
       "4  CRS3035RES1000mN2044000E4253000    91.0   41.9       3.1      18.0   \n",
       "5  CRS3035RES1000mN2045000E4253000    72.0   29.0      11.0      12.9   \n",
       "6  CRS3035RES1000mN2047000E4243000    21.0   12.0       3.0       6.0   \n",
       "7  CRS3035RES1000mN2054000E4253000    60.0   24.9       4.9       6.0   \n",
       "8  CRS3035RES1000mN2054000E4260000  1907.5  895.0     219.1     381.9   \n",
       "9  CRS3035RES1000mN2054000E4261000   246.0  116.0      32.0      46.0   \n",
       "\n",
       "   Men_5ind  Men_prop  Men_fmp     Ind_snv  Men_surf  ...  Ind_11_17  \\\n",
       "0       4.9      33.2      5.0   3352210.9    4874.9  ...        9.3   \n",
       "1       0.0      12.0      3.0    845666.2    1389.0  ...        6.0   \n",
       "2       3.1      19.1      9.8   1713668.3    2777.1  ...        5.8   \n",
       "3       0.9      13.1      1.9   1013579.4    1765.9  ...        3.1   \n",
       "4       3.0      27.9      4.0   2246566.4    3280.0  ...        4.0   \n",
       "5       3.9      11.9      3.9   1314913.8    2013.0  ...        6.1   \n",
       "6       0.9       8.1      0.9    540135.3    1407.9  ...        0.9   \n",
       "7       2.1      14.1      3.0   1231959.7    2462.1  ...        6.0   \n",
       "8      47.1     292.2    105.9  36851261.6   61480.9  ...      157.5   \n",
       "9       5.0      35.0     14.0   4692112.5    7103.0  ...       12.0   \n",
       "\n",
       "   Ind_18_24  Ind_25_39  Ind_40_54  Ind_55_64  Ind_65_79  Ind_80p  Ind_inc  \\\n",
       "0        8.1       32.3       23.1       19.7       19.8      5.9      2.1   \n",
       "1        2.1       12.0        6.0        3.9        9.0      0.9      1.2   \n",
       "2        6.4        9.7       17.6       16.1        9.8      3.1      3.3   \n",
       "3        3.1        7.9       13.2        8.0        5.1      1.9      0.9   \n",
       "4        3.1       16.9       16.9       14.0       19.1      7.9      0.0   \n",
       "5        5.0       12.9       18.1        5.1        8.0      1.9      1.1   \n",
       "6        0.0        0.0        4.0        4.0        8.0      3.0      1.1   \n",
       "7        6.0        4.9       19.2        8.1        6.0      3.1      2.1   \n",
       "8       90.4      373.1      434.1      227.9      221.9    133.2     21.0   \n",
       "9       16.1       72.0       44.0       18.0       32.0      7.0      3.0   \n",
       "\n",
       "   I_pauv  t_maille  \n",
       "0       0      1000  \n",
       "1       0      1000  \n",
       "2       0      1000  \n",
       "3       0      1000  \n",
       "4       0      1000  \n",
       "5       0      1000  \n",
       "6       0      1000  \n",
       "7       0      1000  \n",
       "8       0      1000  \n",
       "9       0      1000  \n",
       "\n",
       "[10 rows x 31 columns]"
      ]
     },
     "execution_count": 21,
     "metadata": {},
     "output_type": "execute_result"
    }
   ],
   "source": [
    "# PREMIERES INFORMATIONS SUR LA BASE\n",
    "    #1 - Vue globale\n",
    "data.head(10)"
   ]
  },
  {
   "cell_type": "code",
   "execution_count": 7,
   "metadata": {},
   "outputs": [
    {
     "name": "stdout",
     "output_type": "stream",
     "text": [
      "<class 'pandas.core.frame.DataFrame'>\n",
      "RangeIndex: 142921 entries, 0 to 142920\n",
      "Data columns (total 31 columns):\n",
      " #   Column     Non-Null Count   Dtype  \n",
      "---  ------     --------------   -----  \n",
      " 0   Id_carr_n  142921 non-null  object \n",
      " 1   Ind        142921 non-null  float64\n",
      " 2   Men        142921 non-null  float64\n",
      " 3   Men_pauv   142921 non-null  float64\n",
      " 4   Men_1ind   142921 non-null  float64\n",
      " 5   Men_5ind   142921 non-null  float64\n",
      " 6   Men_prop   142921 non-null  float64\n",
      " 7   Men_fmp    142921 non-null  float64\n",
      " 8   Ind_snv    142921 non-null  float64\n",
      " 9   Men_surf   142921 non-null  float64\n",
      " 10  Men_coll   142921 non-null  float64\n",
      " 11  Men_mais   142921 non-null  float64\n",
      " 12  Log_av45   142921 non-null  float64\n",
      " 13  Log_45_70  142921 non-null  float64\n",
      " 14  Log_70_90  142921 non-null  float64\n",
      " 15  Log_ap90   142921 non-null  float64\n",
      " 16  Log_inc    142921 non-null  float64\n",
      " 17  Log_soc    142921 non-null  float64\n",
      " 18  Ind_0_3    142921 non-null  float64\n",
      " 19  Ind_4_5    142921 non-null  float64\n",
      " 20  Ind_6_10   142921 non-null  float64\n",
      " 21  Ind_11_17  142921 non-null  float64\n",
      " 22  Ind_18_24  142921 non-null  float64\n",
      " 23  Ind_25_39  142921 non-null  float64\n",
      " 24  Ind_40_54  142921 non-null  float64\n",
      " 25  Ind_55_64  142921 non-null  float64\n",
      " 26  Ind_65_79  142921 non-null  float64\n",
      " 27  Ind_80p    142921 non-null  float64\n",
      " 28  Ind_inc    142921 non-null  float64\n",
      " 29  I_pauv     142921 non-null  int64  \n",
      " 30  t_maille   142921 non-null  int64  \n",
      "dtypes: float64(28), int64(2), object(1)\n",
      "memory usage: 33.8+ MB\n"
     ]
    }
   ],
   "source": [
    "    #- Caractéristiques des variables \n",
    "data.info(verbose=True)"
   ]
  },
  {
   "cell_type": "code",
   "execution_count": 19,
   "metadata": {},
   "outputs": [
    {
     "data": {
      "text/html": [
       "<div>\n",
       "<style scoped>\n",
       "    .dataframe tbody tr th:only-of-type {\n",
       "        vertical-align: middle;\n",
       "    }\n",
       "\n",
       "    .dataframe tbody tr th {\n",
       "        vertical-align: top;\n",
       "    }\n",
       "\n",
       "    .dataframe thead th {\n",
       "        text-align: right;\n",
       "    }\n",
       "</style>\n",
       "<table border=\"1\" class=\"dataframe\">\n",
       "  <thead>\n",
       "    <tr style=\"text-align: right;\">\n",
       "      <th></th>\n",
       "      <th>Ind</th>\n",
       "      <th>Men</th>\n",
       "      <th>Men_pauv</th>\n",
       "      <th>Men_1ind</th>\n",
       "      <th>Men_5ind</th>\n",
       "      <th>Men_prop</th>\n",
       "      <th>Men_fmp</th>\n",
       "      <th>Ind_snv</th>\n",
       "      <th>Men_surf</th>\n",
       "      <th>Men_coll</th>\n",
       "      <th>...</th>\n",
       "      <th>Ind_11_17</th>\n",
       "      <th>Ind_18_24</th>\n",
       "      <th>Ind_25_39</th>\n",
       "      <th>Ind_40_54</th>\n",
       "      <th>Ind_55_64</th>\n",
       "      <th>Ind_65_79</th>\n",
       "      <th>Ind_80p</th>\n",
       "      <th>Ind_inc</th>\n",
       "      <th>I_pauv</th>\n",
       "      <th>t_maille</th>\n",
       "    </tr>\n",
       "  </thead>\n",
       "  <tbody>\n",
       "    <tr>\n",
       "      <th>count</th>\n",
       "      <td>142921.000000</td>\n",
       "      <td>142921.000000</td>\n",
       "      <td>142921.000000</td>\n",
       "      <td>142921.000000</td>\n",
       "      <td>142921.000000</td>\n",
       "      <td>142921.000000</td>\n",
       "      <td>142921.000000</td>\n",
       "      <td>1.429210e+05</td>\n",
       "      <td>1.429210e+05</td>\n",
       "      <td>142921.000000</td>\n",
       "      <td>...</td>\n",
       "      <td>142921.000000</td>\n",
       "      <td>142921.000000</td>\n",
       "      <td>142921.000000</td>\n",
       "      <td>142921.000000</td>\n",
       "      <td>142921.000000</td>\n",
       "      <td>142921.000000</td>\n",
       "      <td>142921.000000</td>\n",
       "      <td>142921.000000</td>\n",
       "      <td>142921.000000</td>\n",
       "      <td>142921.000000</td>\n",
       "    </tr>\n",
       "    <tr>\n",
       "      <th>mean</th>\n",
       "      <td>440.030268</td>\n",
       "      <td>189.836740</td>\n",
       "      <td>26.628798</td>\n",
       "      <td>63.916494</td>\n",
       "      <td>13.564019</td>\n",
       "      <td>111.554105</td>\n",
       "      <td>20.081176</td>\n",
       "      <td>9.915979e+06</td>\n",
       "      <td>1.649677e+04</td>\n",
       "      <td>81.453188</td>\n",
       "      <td>...</td>\n",
       "      <td>38.216948</td>\n",
       "      <td>24.537172</td>\n",
       "      <td>80.850675</td>\n",
       "      <td>89.849518</td>\n",
       "      <td>55.506004</td>\n",
       "      <td>57.685971</td>\n",
       "      <td>24.205273</td>\n",
       "      <td>9.816569</td>\n",
       "      <td>0.000357</td>\n",
       "      <td>1508.716004</td>\n",
       "    </tr>\n",
       "    <tr>\n",
       "      <th>std</th>\n",
       "      <td>1340.169403</td>\n",
       "      <td>599.783099</td>\n",
       "      <td>101.600309</td>\n",
       "      <td>236.403297</td>\n",
       "      <td>46.631815</td>\n",
       "      <td>314.575821</td>\n",
       "      <td>71.323038</td>\n",
       "      <td>3.007951e+07</td>\n",
       "      <td>4.793861e+04</td>\n",
       "      <td>399.357504</td>\n",
       "      <td>...</td>\n",
       "      <td>115.628934</td>\n",
       "      <td>79.181603</td>\n",
       "      <td>261.731971</td>\n",
       "      <td>267.880250</td>\n",
       "      <td>167.338328</td>\n",
       "      <td>183.865965</td>\n",
       "      <td>81.677161</td>\n",
       "      <td>31.464917</td>\n",
       "      <td>0.035781</td>\n",
       "      <td>1224.362136</td>\n",
       "    </tr>\n",
       "    <tr>\n",
       "      <th>min</th>\n",
       "      <td>12.000000</td>\n",
       "      <td>10.500000</td>\n",
       "      <td>0.000000</td>\n",
       "      <td>0.000000</td>\n",
       "      <td>0.000000</td>\n",
       "      <td>0.000000</td>\n",
       "      <td>0.000000</td>\n",
       "      <td>1.750614e+05</td>\n",
       "      <td>3.399000e+02</td>\n",
       "      <td>0.000000</td>\n",
       "      <td>...</td>\n",
       "      <td>0.000000</td>\n",
       "      <td>0.000000</td>\n",
       "      <td>0.000000</td>\n",
       "      <td>0.000000</td>\n",
       "      <td>0.000000</td>\n",
       "      <td>0.000000</td>\n",
       "      <td>0.000000</td>\n",
       "      <td>0.000000</td>\n",
       "      <td>0.000000</td>\n",
       "      <td>200.000000</td>\n",
       "    </tr>\n",
       "    <tr>\n",
       "      <th>25%</th>\n",
       "      <td>71.500000</td>\n",
       "      <td>29.200000</td>\n",
       "      <td>3.000000</td>\n",
       "      <td>7.000000</td>\n",
       "      <td>1.900000</td>\n",
       "      <td>22.100000</td>\n",
       "      <td>2.000000</td>\n",
       "      <td>1.547329e+06</td>\n",
       "      <td>3.151100e+03</td>\n",
       "      <td>0.000000</td>\n",
       "      <td>...</td>\n",
       "      <td>5.900000</td>\n",
       "      <td>3.000000</td>\n",
       "      <td>10.100000</td>\n",
       "      <td>14.900000</td>\n",
       "      <td>10.000000</td>\n",
       "      <td>10.000000</td>\n",
       "      <td>3.800000</td>\n",
       "      <td>1.000000</td>\n",
       "      <td>0.000000</td>\n",
       "      <td>1000.000000</td>\n",
       "    </tr>\n",
       "    <tr>\n",
       "      <th>50%</th>\n",
       "      <td>156.000000</td>\n",
       "      <td>64.000000</td>\n",
       "      <td>7.000000</td>\n",
       "      <td>16.100000</td>\n",
       "      <td>4.100000</td>\n",
       "      <td>46.700000</td>\n",
       "      <td>5.000000</td>\n",
       "      <td>3.459699e+06</td>\n",
       "      <td>6.525000e+03</td>\n",
       "      <td>2.700000</td>\n",
       "      <td>...</td>\n",
       "      <td>13.300000</td>\n",
       "      <td>7.900000</td>\n",
       "      <td>24.800000</td>\n",
       "      <td>32.900000</td>\n",
       "      <td>21.100000</td>\n",
       "      <td>21.000000</td>\n",
       "      <td>8.100000</td>\n",
       "      <td>3.100000</td>\n",
       "      <td>0.000000</td>\n",
       "      <td>1000.000000</td>\n",
       "    </tr>\n",
       "    <tr>\n",
       "      <th>75%</th>\n",
       "      <td>381.000000</td>\n",
       "      <td>161.100000</td>\n",
       "      <td>18.200000</td>\n",
       "      <td>47.000000</td>\n",
       "      <td>11.000000</td>\n",
       "      <td>106.000000</td>\n",
       "      <td>15.000000</td>\n",
       "      <td>8.639900e+06</td>\n",
       "      <td>1.505190e+04</td>\n",
       "      <td>27.000000</td>\n",
       "      <td>...</td>\n",
       "      <td>33.500000</td>\n",
       "      <td>20.500000</td>\n",
       "      <td>67.000000</td>\n",
       "      <td>79.200000</td>\n",
       "      <td>49.000000</td>\n",
       "      <td>49.900000</td>\n",
       "      <td>20.000000</td>\n",
       "      <td>8.800000</td>\n",
       "      <td>0.000000</td>\n",
       "      <td>2000.000000</td>\n",
       "    </tr>\n",
       "    <tr>\n",
       "      <th>max</th>\n",
       "      <td>191932.500000</td>\n",
       "      <td>89976.800000</td>\n",
       "      <td>11101.900000</td>\n",
       "      <td>35064.500000</td>\n",
       "      <td>4876.200000</td>\n",
       "      <td>57953.400000</td>\n",
       "      <td>9093.100000</td>\n",
       "      <td>4.203147e+09</td>\n",
       "      <td>8.228394e+06</td>\n",
       "      <td>35958.000000</td>\n",
       "      <td>...</td>\n",
       "      <td>15722.700000</td>\n",
       "      <td>10387.300000</td>\n",
       "      <td>29667.600000</td>\n",
       "      <td>38211.600000</td>\n",
       "      <td>27065.900000</td>\n",
       "      <td>31131.200000</td>\n",
       "      <td>13562.500000</td>\n",
       "      <td>4806.500000</td>\n",
       "      <td>9.000000</td>\n",
       "      <td>32000.000000</td>\n",
       "    </tr>\n",
       "  </tbody>\n",
       "</table>\n",
       "<p>8 rows × 30 columns</p>\n",
       "</div>"
      ],
      "text/plain": [
       "                 Ind            Men       Men_pauv       Men_1ind  \\\n",
       "count  142921.000000  142921.000000  142921.000000  142921.000000   \n",
       "mean      440.030268     189.836740      26.628798      63.916494   \n",
       "std      1340.169403     599.783099     101.600309     236.403297   \n",
       "min        12.000000      10.500000       0.000000       0.000000   \n",
       "25%        71.500000      29.200000       3.000000       7.000000   \n",
       "50%       156.000000      64.000000       7.000000      16.100000   \n",
       "75%       381.000000     161.100000      18.200000      47.000000   \n",
       "max    191932.500000   89976.800000   11101.900000   35064.500000   \n",
       "\n",
       "            Men_5ind       Men_prop        Men_fmp       Ind_snv  \\\n",
       "count  142921.000000  142921.000000  142921.000000  1.429210e+05   \n",
       "mean       13.564019     111.554105      20.081176  9.915979e+06   \n",
       "std        46.631815     314.575821      71.323038  3.007951e+07   \n",
       "min         0.000000       0.000000       0.000000  1.750614e+05   \n",
       "25%         1.900000      22.100000       2.000000  1.547329e+06   \n",
       "50%         4.100000      46.700000       5.000000  3.459699e+06   \n",
       "75%        11.000000     106.000000      15.000000  8.639900e+06   \n",
       "max      4876.200000   57953.400000    9093.100000  4.203147e+09   \n",
       "\n",
       "           Men_surf       Men_coll  ...      Ind_11_17      Ind_18_24  \\\n",
       "count  1.429210e+05  142921.000000  ...  142921.000000  142921.000000   \n",
       "mean   1.649677e+04      81.453188  ...      38.216948      24.537172   \n",
       "std    4.793861e+04     399.357504  ...     115.628934      79.181603   \n",
       "min    3.399000e+02       0.000000  ...       0.000000       0.000000   \n",
       "25%    3.151100e+03       0.000000  ...       5.900000       3.000000   \n",
       "50%    6.525000e+03       2.700000  ...      13.300000       7.900000   \n",
       "75%    1.505190e+04      27.000000  ...      33.500000      20.500000   \n",
       "max    8.228394e+06   35958.000000  ...   15722.700000   10387.300000   \n",
       "\n",
       "           Ind_25_39      Ind_40_54      Ind_55_64      Ind_65_79  \\\n",
       "count  142921.000000  142921.000000  142921.000000  142921.000000   \n",
       "mean       80.850675      89.849518      55.506004      57.685971   \n",
       "std       261.731971     267.880250     167.338328     183.865965   \n",
       "min         0.000000       0.000000       0.000000       0.000000   \n",
       "25%        10.100000      14.900000      10.000000      10.000000   \n",
       "50%        24.800000      32.900000      21.100000      21.000000   \n",
       "75%        67.000000      79.200000      49.000000      49.900000   \n",
       "max     29667.600000   38211.600000   27065.900000   31131.200000   \n",
       "\n",
       "             Ind_80p        Ind_inc         I_pauv       t_maille  \n",
       "count  142921.000000  142921.000000  142921.000000  142921.000000  \n",
       "mean       24.205273       9.816569       0.000357    1508.716004  \n",
       "std        81.677161      31.464917       0.035781    1224.362136  \n",
       "min         0.000000       0.000000       0.000000     200.000000  \n",
       "25%         3.800000       1.000000       0.000000    1000.000000  \n",
       "50%         8.100000       3.100000       0.000000    1000.000000  \n",
       "75%        20.000000       8.800000       0.000000    2000.000000  \n",
       "max     13562.500000    4806.500000       9.000000   32000.000000  \n",
       "\n",
       "[8 rows x 30 columns]"
      ]
     },
     "execution_count": 19,
     "metadata": {},
     "output_type": "execute_result"
    }
   ],
   "source": [
    "data.describe()"
   ]
  },
  {
   "cell_type": "markdown",
   "metadata": {},
   "source": [
    "* Chacune des variables présente une forte disparité. Les maximales s'écartent fortement de l'ensemble des autres; ceci est signe des grandes différences de caractéristiques (démographiques, sociales, économiques) entre les carreaux. "
   ]
  },
  {
   "cell_type": "markdown",
   "metadata": {},
   "source": [
    "*  Le fichier semble ne pas contenir de valeurs manquantes. Un graphique permettra d'en avoir la confirmation"
   ]
  },
  {
   "cell_type": "code",
   "execution_count": 9,
   "metadata": {},
   "outputs": [
    {
     "name": "stdout",
     "output_type": "stream",
     "text": [
      "Collecting missingno\n",
      "  Downloading missingno-0.5.1-py3-none-any.whl (8.7 kB)\n",
      "Requirement already satisfied: matplotlib in /opt/mamba/lib/python3.10/site-packages (from missingno) (3.6.2)\n",
      "Requirement already satisfied: numpy in /opt/mamba/lib/python3.10/site-packages (from missingno) (1.23.5)\n",
      "Requirement already satisfied: scipy in /opt/mamba/lib/python3.10/site-packages (from missingno) (1.9.3)\n",
      "Requirement already satisfied: seaborn in /opt/mamba/lib/python3.10/site-packages (from missingno) (0.12.1)\n",
      "Requirement already satisfied: fonttools>=4.22.0 in /opt/mamba/lib/python3.10/site-packages (from matplotlib->missingno) (4.38.0)\n",
      "Requirement already satisfied: cycler>=0.10 in /opt/mamba/lib/python3.10/site-packages (from matplotlib->missingno) (0.11.0)\n",
      "Requirement already satisfied: pillow>=6.2.0 in /opt/mamba/lib/python3.10/site-packages (from matplotlib->missingno) (9.2.0)\n",
      "Requirement already satisfied: packaging>=20.0 in /opt/mamba/lib/python3.10/site-packages (from matplotlib->missingno) (21.3)\n",
      "Requirement already satisfied: contourpy>=1.0.1 in /opt/mamba/lib/python3.10/site-packages (from matplotlib->missingno) (1.0.6)\n",
      "Requirement already satisfied: pyparsing>=2.2.1 in /opt/mamba/lib/python3.10/site-packages (from matplotlib->missingno) (3.0.9)\n",
      "Requirement already satisfied: python-dateutil>=2.7 in /opt/mamba/lib/python3.10/site-packages (from matplotlib->missingno) (2.8.2)\n",
      "Requirement already satisfied: kiwisolver>=1.0.1 in /opt/mamba/lib/python3.10/site-packages (from matplotlib->missingno) (1.4.4)\n",
      "Requirement already satisfied: pandas>=0.25 in /opt/mamba/lib/python3.10/site-packages (from seaborn->missingno) (1.5.1)\n",
      "Requirement already satisfied: pytz>=2020.1 in /opt/mamba/lib/python3.10/site-packages (from pandas>=0.25->seaborn->missingno) (2022.6)\n",
      "Requirement already satisfied: six>=1.5 in /opt/mamba/lib/python3.10/site-packages (from python-dateutil>=2.7->matplotlib->missingno) (1.16.0)\n",
      "Installing collected packages: missingno\n",
      "Successfully installed missingno-0.5.1\n",
      "Note: you may need to restart the kernel to use updated packages.\n"
     ]
    }
   ],
   "source": [
    "pip install missingno"
   ]
  },
  {
   "cell_type": "code",
   "execution_count": 13,
   "metadata": {},
   "outputs": [
    {
     "data": {
      "text/plain": [
       "<AxesSubplot: >"
      ]
     },
     "execution_count": 13,
     "metadata": {},
     "output_type": "execute_result"
    },
    {
     "data": {
      "image/png": "[encoded data removed]",
      "text/plain": [
       "<Figure size 2500x1000 with 2 Axes>"
      ]
     },
     "metadata": {},
     "output_type": "display_data"
    }
   ],
   "source": [
    "import seaborn as sns\n",
    "import missingno as msno\n",
    "%matplotlib inline\n",
    "\n",
    "msno.matrix(data, color=(0.4,0.8,0.6))"
   ]
  },
  {
   "cell_type": "markdown",
   "metadata": {},
   "source": [
    "#### B. Description de quelques variables "
   ]
  },
  {
   "cell_type": "markdown",
   "metadata": {},
   "source": [
    "* Taille en mètres des carreaux"
   ]
  },
  {
   "cell_type": "code",
   "execution_count": 12,
   "metadata": {},
   "outputs": [
    {
     "data": {
      "text/plain": [
       "<AxesSubplot:xlabel='t_maille', ylabel='count'>"
      ]
     },
     "execution_count": 12,
     "metadata": {},
     "output_type": "execute_result"
    },
    {
     "data": {
      "image/png": "[encoded data removed]",
      "text/plain": [
       "<Figure size 432x288 with 1 Axes>"
      ]
     },
     "metadata": {
      "needs_background": "light"
     },
     "output_type": "display_data"
    }
   ],
   "source": [
    "# La variable t_mail : tailles en mètres des carreaux\n",
    "sns.countplot(data=data, x=\"t_maille\")"
   ]
  },
  {
   "cell_type": "markdown",
   "metadata": {},
   "source": [
    "* Nombre d'individus du carreau"
   ]
  },
  {
   "cell_type": "code",
   "execution_count": 28,
   "metadata": {},
   "outputs": [
    {
     "data": {
      "text/plain": [
       "<AxesSubplot: xlabel='Ind', ylabel='Count'>"
      ]
     },
     "execution_count": 28,
     "metadata": {},
     "output_type": "execute_result"
    },
    {
     "data": {
      "image/png": "[encoded data removed]",
      "text/plain": [
       "<Figure size 640x480 with 1 Axes>"
      ]
     },
     "metadata": {},
     "output_type": "display_data"
    }
   ],
   "source": [
    "# La variable \"Ind\" renvoie à ce nombre\n",
    "sns.histplot(data = data.loc[data['Ind']<np.quantile(data['Ind'],0.95)], x='Ind', kde=False, bins = 60)"
   ]
  },
  {
   "cell_type": "markdown",
   "metadata": {},
   "source": [
    "*  Nombre de ménages par carreau"
   ]
  },
  {
   "cell_type": "code",
   "execution_count": 29,
   "metadata": {},
   "outputs": [
    {
     "data": {
      "text/plain": [
       "<AxesSubplot: xlabel='Men', ylabel='Count'>"
      ]
     },
     "execution_count": 29,
     "metadata": {},
     "output_type": "execute_result"
    },
    {
     "data": {
      "image/png": "[encoded data removed]",
      "text/plain": [
       "<Figure size 640x480 with 1 Axes>"
      ]
     },
     "metadata": {},
     "output_type": "display_data"
    }
   ],
   "source": [
    "sns.histplot(data = data.loc[data['Ind']<np.quantile(data['Ind'],0.95)], x='Men', kde=False, bins=60)"
   ]
  },
  {
   "cell_type": "markdown",
   "metadata": {},
   "source": [
    "*  Proportion des ménages pauvres"
   ]
  },
  {
   "cell_type": "code",
   "execution_count": 41,
   "metadata": {},
   "outputs": [
    {
     "data": {
      "text/plain": [
       "Index(['Id_carr_n', 'Ind', 'Men', 'Men_pauv', 'Men_1ind', 'Men_5ind',\n",
       "       'Men_prop', 'Men_fmp', 'Ind_snv', 'Men_surf', 'Men_coll', 'Men_mais',\n",
       "       'Log_av45', 'Log_45_70', 'Log_70_90', 'Log_ap90', 'Log_inc', 'Log_soc',\n",
       "       'Ind_0_3', 'Ind_4_5', 'Ind_6_10', 'Ind_11_17', 'Ind_18_24', 'Ind_25_39',\n",
       "       'Ind_40_54', 'Ind_55_64', 'Ind_65_79', 'Ind_80p', 'Ind_inc', 'I_pauv',\n",
       "       't_maille', 'prop'],\n",
       "      dtype='object')"
      ]
     },
     "execution_count": 41,
     "metadata": {},
     "output_type": "execute_result"
    }
   ],
   "source": [
    "data_2 = data.copy()\n",
    "data_2['prop'] = data_2['Men_pauv']/data_2['Men']\n",
    "data_2.columns"
   ]
  },
  {
   "cell_type": "code",
   "execution_count": 44,
   "metadata": {},
   "outputs": [
    {
     "data": {
      "text/plain": [
       "<AxesSubplot: xlabel='prop', ylabel='Count'>"
      ]
     },
     "execution_count": 44,
     "metadata": {},
     "output_type": "execute_result"
    },
    {
     "data": {
      "image/png": "[encoded data removed]",
      "text/plain": [
       "<Figure size 640x480 with 1 Axes>"
      ]
     },
     "metadata": {},
     "output_type": "display_data"
    }
   ],
   "source": [
    "sns.histplot(data = data_2, x='prop', kde=False, bins=60)"
   ]
  },
  {
   "cell_type": "code",
   "execution_count": 52,
   "metadata": {},
   "outputs": [
    {
     "name": "stdout",
     "output_type": "stream",
     "text": [
      "<enumerate object at 0x000002390B5DE600>\n"
     ]
    }
   ],
   "source": []
  },
  {
   "cell_type": "code",
   "execution_count": null,
   "metadata": {},
   "outputs": [],
   "source": [
    "# Distributions des autres variables\n",
    " ''''   n_cols=3\n",
    "    n_rows = (data.shape[1]-5)-10//n_cols + 1\n",
    "    cols = data.columns[5:]\n",
    "    data2 = data[cols]\n",
    "    # Create the subplots\n",
    "    fig, axes = plt.subplots(nrows=n_rows, ncols=n_cols, figsize=(10, 20))\n",
    "    for i, column in enumerate(cols,1):\n",
    "        sns.histplot(data2[column], ax=axes[i // n_cols, i % n_cols]).set_title(column)\n",
    " ''''\n",
    "# code gourmand en temps et mémoire "
   ]
  },
  {
   "cell_type": "markdown",
   "metadata": {},
   "source": [
    "\n",
    "A ce stade, le dataframe ne comprend pas de composante géographique. Cette dernière est néanmoins cachée dans la variable *Id_carr_n*  qui donne les coordonnées Nord et Est du coin inférieur gauche de chaque carreau dans le système Lambert-93.\n",
    "\n",
    "Dans la suite on ajoute à notre base cette composante géographique en utilisant cette information"
   ]
  },
  {
   "cell_type": "markdown",
   "metadata": {},
   "source": [
    "### 2. Intégration de la composante géographiques"
   ]
  },
  {
   "cell_type": "markdown",
   "metadata": {},
   "source": [
    "Comme mentionné plus haut, L'identifiant comporte des informations sur la géolocalisation des carreaux. Un data frame est créé pour extraire cette information.\n",
    "Ce data_frame intermédiaire permet de créer une dimension géographique à la base de données"
   ]
  },
  {
   "cell_type": "code",
   "execution_count": 48,
   "metadata": {},
   "outputs": [
    {
     "data": {
      "text/html": [
       "<div>\n",
       "<style scoped>\n",
       "    .dataframe tbody tr th:only-of-type {\n",
       "        vertical-align: middle;\n",
       "    }\n",
       "\n",
       "    .dataframe tbody tr th {\n",
       "        vertical-align: top;\n",
       "    }\n",
       "\n",
       "    .dataframe thead th {\n",
       "        text-align: right;\n",
       "    }\n",
       "</style>\n",
       "<table border=\"1\" class=\"dataframe\">\n",
       "  <thead>\n",
       "    <tr style=\"text-align: right;\">\n",
       "      <th></th>\n",
       "      <th>Id_carr_n</th>\n",
       "    </tr>\n",
       "  </thead>\n",
       "  <tbody>\n",
       "    <tr>\n",
       "      <th>0</th>\n",
       "      <td>CRS3035RES1000mN2034000E4252000</td>\n",
       "    </tr>\n",
       "    <tr>\n",
       "      <th>1</th>\n",
       "      <td>CRS3035RES1000mN2034000E4253000</td>\n",
       "    </tr>\n",
       "    <tr>\n",
       "      <th>2</th>\n",
       "      <td>CRS3035RES1000mN2035000E4252000</td>\n",
       "    </tr>\n",
       "    <tr>\n",
       "      <th>3</th>\n",
       "      <td>CRS3035RES1000mN2035000E4253000</td>\n",
       "    </tr>\n",
       "    <tr>\n",
       "      <th>4</th>\n",
       "      <td>CRS3035RES1000mN2044000E4253000</td>\n",
       "    </tr>\n",
       "  </tbody>\n",
       "</table>\n",
       "</div>"
      ],
      "text/plain": [
       "                         Id_carr_n\n",
       "0  CRS3035RES1000mN2034000E4252000\n",
       "1  CRS3035RES1000mN2034000E4253000\n",
       "2  CRS3035RES1000mN2035000E4252000\n",
       "3  CRS3035RES1000mN2035000E4253000\n",
       "4  CRS3035RES1000mN2044000E4253000"
      ]
     },
     "execution_count": 48,
     "metadata": {},
     "output_type": "execute_result"
    }
   ],
   "source": [
    "data[data.columns[0]].to_csv(\"Carreaux.csv\", index=False)\n",
    "carr = pd.read_csv(\"Carreaux.csv\")\n",
    "carr.head()"
   ]
  },
  {
   "cell_type": "markdown",
   "metadata": {},
   "source": [
    "Chaque ayant 4 points, et chacun des  points ayant 2 coordonnées, pour identifier chaque rectangle on aura besoin de 8 coordonnées. \n",
    "Mais, compte tenu de la symétrie des carrés, juste 4 coordonnées suffisent: 2 sur l'axe de la lattitude et 2 sur l'axe du méridien."
   ]
  },
  {
   "cell_type": "code",
   "execution_count": 49,
   "metadata": {},
   "outputs": [],
   "source": [
    "# Le premier point (Le coin inférieur gauche du carré)\n",
    "carr[\"px_1\"] = carr[\"Id_carr_n\"].apply(lambda x: int(x.split('N')[1].split('E')[1]))\n",
    "carr[\"py_1\"] = carr[\"Id_carr_n\"].apply(lambda x: int(x.split('N')[1].split('E')[0]))"
   ]
  },
  {
   "cell_type": "code",
   "execution_count": 50,
   "metadata": {},
   "outputs": [],
   "source": [
    "# Les deux autres coordonnées, connaissant le coté du carreau\n",
    "carr[\"px_2\"] = carr[\"px_1\"] + carr[\"Id_carr_n\"].apply(lambda x: int(x.split('mN')[0].split('RES')[1]))\n",
    "carr[\"py_2\"] = carr[\"py_1\"] + carr[\"Id_carr_n\"].apply(lambda x: int(x.split('mN')[0].split('RES')[1]))"
   ]
  },
  {
   "cell_type": "code",
   "execution_count": 52,
   "metadata": {},
   "outputs": [
    {
     "data": {
      "text/html": [
       "<div>\n",
       "<style scoped>\n",
       "    .dataframe tbody tr th:only-of-type {\n",
       "        vertical-align: middle;\n",
       "    }\n",
       "\n",
       "    .dataframe tbody tr th {\n",
       "        vertical-align: top;\n",
       "    }\n",
       "\n",
       "    .dataframe thead th {\n",
       "        text-align: right;\n",
       "    }\n",
       "</style>\n",
       "<table border=\"1\" class=\"dataframe\">\n",
       "  <thead>\n",
       "    <tr style=\"text-align: right;\">\n",
       "      <th></th>\n",
       "      <th>Id_carr_n</th>\n",
       "      <th>px_1</th>\n",
       "      <th>py_1</th>\n",
       "      <th>px_2</th>\n",
       "      <th>py_2</th>\n",
       "    </tr>\n",
       "  </thead>\n",
       "  <tbody>\n",
       "    <tr>\n",
       "      <th>0</th>\n",
       "      <td>CRS3035RES1000mN2034000E4252000</td>\n",
       "      <td>4252000</td>\n",
       "      <td>2034000</td>\n",
       "      <td>4253000</td>\n",
       "      <td>2035000</td>\n",
       "    </tr>\n",
       "    <tr>\n",
       "      <th>1</th>\n",
       "      <td>CRS3035RES1000mN2034000E4253000</td>\n",
       "      <td>4253000</td>\n",
       "      <td>2034000</td>\n",
       "      <td>4254000</td>\n",
       "      <td>2035000</td>\n",
       "    </tr>\n",
       "    <tr>\n",
       "      <th>2</th>\n",
       "      <td>CRS3035RES1000mN2035000E4252000</td>\n",
       "      <td>4252000</td>\n",
       "      <td>2035000</td>\n",
       "      <td>4253000</td>\n",
       "      <td>2036000</td>\n",
       "    </tr>\n",
       "    <tr>\n",
       "      <th>3</th>\n",
       "      <td>CRS3035RES1000mN2035000E4253000</td>\n",
       "      <td>4253000</td>\n",
       "      <td>2035000</td>\n",
       "      <td>4254000</td>\n",
       "      <td>2036000</td>\n",
       "    </tr>\n",
       "    <tr>\n",
       "      <th>4</th>\n",
       "      <td>CRS3035RES1000mN2044000E4253000</td>\n",
       "      <td>4253000</td>\n",
       "      <td>2044000</td>\n",
       "      <td>4254000</td>\n",
       "      <td>2045000</td>\n",
       "    </tr>\n",
       "  </tbody>\n",
       "</table>\n",
       "</div>"
      ],
      "text/plain": [
       "                         Id_carr_n     px_1     py_1     px_2     py_2\n",
       "0  CRS3035RES1000mN2034000E4252000  4252000  2034000  4253000  2035000\n",
       "1  CRS3035RES1000mN2034000E4253000  4253000  2034000  4254000  2035000\n",
       "2  CRS3035RES1000mN2035000E4252000  4252000  2035000  4253000  2036000\n",
       "3  CRS3035RES1000mN2035000E4253000  4253000  2035000  4254000  2036000\n",
       "4  CRS3035RES1000mN2044000E4253000  4253000  2044000  4254000  2045000"
      ]
     },
     "execution_count": 52,
     "metadata": {},
     "output_type": "execute_result"
    }
   ],
   "source": [
    "carr.head()"
   ]
  },
  {
   "cell_type": "markdown",
   "metadata": {},
   "source": [
    "A partir de ces coordonnées, on peut à présent créer la composante géométrique de chaque carreau"
   ]
  },
  {
   "cell_type": "code",
   "execution_count": 53,
   "metadata": {},
   "outputs": [],
   "source": [
    "    #Bibliothèques nécessaires\n",
    "import geopandas\n",
    "from geopandas import GeoSeries\n",
    "from shapely.geometry import Polygon "
   ]
  },
  {
   "cell_type": "code",
   "execution_count": 54,
   "metadata": {},
   "outputs": [],
   "source": [
    "    # Création de la variable\n",
    "carr[\"geometry\"] = carr.apply(lambda a : Polygon([(a['px_1'], a['py_1']), (a['px_2'], a['py_1']), \n",
    "                                                  (a['px_2'], a['py_2']), (a['px_1'], a['py_2'])]), axis = 1)"
   ]
  },
  {
   "cell_type": "code",
   "execution_count": 60,
   "metadata": {},
   "outputs": [
    {
     "data": {
      "text/plain": [
       "Index(['Id_carr_n', 'Ind', 'Men', 'Men_pauv', 'Men_1ind', 'Men_5ind',\n",
       "       'Men_prop', 'Men_fmp', 'Ind_snv', 'Men_surf', 'Men_coll', 'Men_mais',\n",
       "       'Log_av45', 'Log_45_70', 'Log_70_90', 'Log_ap90', 'Log_inc', 'Log_soc',\n",
       "       'Ind_0_3', 'Ind_4_5', 'Ind_6_10', 'Ind_11_17', 'Ind_18_24', 'Ind_25_39',\n",
       "       'Ind_40_54', 'Ind_55_64', 'Ind_65_79', 'Ind_80p', 'Ind_inc', 'I_pauv',\n",
       "       't_maille', 'geometry'],\n",
       "      dtype='object')"
      ]
     },
     "execution_count": 60,
     "metadata": {},
     "output_type": "execute_result"
    }
   ],
   "source": [
    "    # Association au data_frame initial\n",
    "carr_2 = carr[['Id_carr_n', 'geometry']]\n",
    "g_data = pd.merge(left=data, right=carr_2, left_on='Id_carr_n', right_on='Id_carr_n')\n",
    "g_data.columns"
   ]
  },
  {
   "cell_type": "code",
   "execution_count": 57,
   "metadata": {},
   "outputs": [],
   "source": [
    "# Création du géodataframe final\n",
    "geo_data = geopandas.GeoDataFrame(g_data, geometry='geometry', crs=\"EPSG:3035\")"
   ]
  },
  {
   "cell_type": "code",
   "execution_count": 58,
   "metadata": {},
   "outputs": [
    {
     "name": "stdout",
     "output_type": "stream",
     "text": [
      "<class 'geopandas.geodataframe.GeoDataFrame'>\n",
      "Int64Index: 142921 entries, 0 to 142920\n",
      "Data columns (total 32 columns):\n",
      " #   Column     Non-Null Count   Dtype   \n",
      "---  ------     --------------   -----   \n",
      " 0   Id_carr_n  142921 non-null  object  \n",
      " 1   Ind        142921 non-null  float64 \n",
      " 2   Men        142921 non-null  float64 \n",
      " 3   Men_pauv   142921 non-null  float64 \n",
      " 4   Men_1ind   142921 non-null  float64 \n",
      " 5   Men_5ind   142921 non-null  float64 \n",
      " 6   Men_prop   142921 non-null  float64 \n",
      " 7   Men_fmp    142921 non-null  float64 \n",
      " 8   Ind_snv    142921 non-null  float64 \n",
      " 9   Men_surf   142921 non-null  float64 \n",
      " 10  Men_coll   142921 non-null  float64 \n",
      " 11  Men_mais   142921 non-null  float64 \n",
      " 12  Log_av45   142921 non-null  float64 \n",
      " 13  Log_45_70  142921 non-null  float64 \n",
      " 14  Log_70_90  142921 non-null  float64 \n",
      " 15  Log_ap90   142921 non-null  float64 \n",
      " 16  Log_inc    142921 non-null  float64 \n",
      " 17  Log_soc    142921 non-null  float64 \n",
      " 18  Ind_0_3    142921 non-null  float64 \n",
      " 19  Ind_4_5    142921 non-null  float64 \n",
      " 20  Ind_6_10   142921 non-null  float64 \n",
      " 21  Ind_11_17  142921 non-null  float64 \n",
      " 22  Ind_18_24  142921 non-null  float64 \n",
      " 23  Ind_25_39  142921 non-null  float64 \n",
      " 24  Ind_40_54  142921 non-null  float64 \n",
      " 25  Ind_55_64  142921 non-null  float64 \n",
      " 26  Ind_65_79  142921 non-null  float64 \n",
      " 27  Ind_80p    142921 non-null  float64 \n",
      " 28  Ind_inc    142921 non-null  float64 \n",
      " 29  I_pauv     142921 non-null  int64   \n",
      " 30  t_maille   142921 non-null  int64   \n",
      " 31  geometry   142921 non-null  geometry\n",
      "dtypes: float64(28), geometry(1), int64(2), object(1)\n",
      "memory usage: 36.0+ MB\n"
     ]
    }
   ],
   "source": [
    "geo_data.info()"
   ]
  },
  {
   "cell_type": "markdown",
   "metadata": {},
   "source": [
    "A ce Stade, nous avons bien un géopanda dataframe. Pour en avoir le coeur net, on peut faire une première visualisation"
   ]
  },
  {
   "cell_type": "code",
   "execution_count": 62,
   "metadata": {},
   "outputs": [
    {
     "data": {
      "text/plain": [
       "<AxesSubplot: >"
      ]
     },
     "execution_count": 62,
     "metadata": {},
     "output_type": "execute_result"
    },
    {
     "data": {
      "image/png": "[encoded data removed]",
      "text/plain": [
       "<Figure size 1500x1500 with 1 Axes>"
      ]
     },
     "metadata": {},
     "output_type": "display_data"
    }
   ],
   "source": [
    "geo_data.plot(figsize=(15,15))"
   ]
  },
  {
   "cell_type": "code",
   "execution_count": null,
   "metadata": {},
   "outputs": [],
   "source": []
  },
  {
   "cell_type": "code",
   "execution_count": null,
   "metadata": {},
   "outputs": [],
   "source": []
  },
  {
   "cell_type": "code",
   "execution_count": null,
   "metadata": {},
   "outputs": [],
   "source": []
  }
 ],
 "metadata": {
  "kernelspec": {
   "display_name": "Python 3 (ipykernel)",
   "language": "python",
   "name": "python3"
  },
  "language_info": {
   "codemirror_mode": {
    "name": "ipython",
    "version": 3
   },
   "file_extension": ".py",
   "mimetype": "text/x-python",
   "name": "python",
   "nbconvert_exporter": "python",
   "pygments_lexer": "ipython3",
   "version": "3.10.4"
  }
 },
 "nbformat": 4,
 "nbformat_minor": 4
}
