{
 "cells": [
  {
   "cell_type": "markdown",
   "id": "5407ba19-65cb-402a-8025-d8d341ac4c3d",
   "metadata": {},
   "source": [
    "# Performance énergétique des logements et niveau de vie des ménages en Ile-de-France"
   ]
  },
  {
   "cell_type": "markdown",
   "id": "3e7a8f57-c66b-4fff-8000-fbe270b0839f",
   "metadata": {},
   "source": [
    "#### **Projet Python 2A ENSAE (année 2022-2023)**"
   ]
  },
  {
   "cell_type": "markdown",
   "id": "e5411010-4664-4f33-9463-e28c5dc90aa7",
   "metadata": {},
   "source": [
    "#### Franki Nguimatsia Tiofak, Marc jodel Simo Noubissi, Gabriel Sklénard"
   ]
  },
  {
   "cell_type": "markdown",
   "id": "3030470e-3949-43be-be8e-ed40390c0b6f",
   "metadata": {},
   "source": [
    "## **Introduction**"
   ]
  },
  {
   "cell_type": "markdown",
   "id": "14c1b1e0-1dd7-4256-9bb5-8a2e2b350e0b",
   "metadata": {},
   "source": [
    "### **Problématique:** \n",
    " \n",
    "Dans le contexte de la crise énergétique affectant un grand nombre de pays en 2022, il nous est apparu particulièrement intéressant d'étudier le lien entre performance énergétique des logements et niveau de vie des ménages. En effet, dans une période où la facture énergétique s'alourdit et atteint même des plus haut (en particulier pour le gaz), les ménages les plus défavorisés apparaissent plus vulnérables, et ce d'autant plus si leurs logements sont en moyenne plus énergivores que les ménages plus aisés. Notre projet Python cherche précisément à documenter cette vulnérabilité. Nous avons opté pour une approche géographique centrée sur l'Ile-de-France: il s'agit donc ici d'analyser la performance énergétique des logements franciliens en lien avec le niveau de vie mesuré dans chaque commune. La visualisation géographique pourrait contribuer à aider les décideurs publics à mieux cibler les éventuelles mesures de soutien à mettre en place pour atténuer le choc de la crise énergétique en Ile-de-France."
   ]
  },
  {
   "cell_type": "markdown",
   "id": "f82aa45c-1d17-4a2c-9317-3fb93d550d4f",
   "metadata": {},
   "source": [
    "### **Principales étapes du projet:**\n",
    "1. Récupération des données relatives aux diagnostics de performance énergétique (DPE) des logements franciliens (à partir de l'API de l'open data de l'ADEME.\n",
    "2. Récupération des données de niveau de vie par commune à partir des fichiers de Filosofi 2016 disponibles sur Insee.fr\n",
    "3. Retraitement des données.\n",
    "4. Premières statistiques descriptives\n",
    "5. Visualisations géographiques\n",
    "6. Modélisation: quantification du rôle explicatif du niveau de vie médian de la commune sur: \n",
    "    a. la structure des logements par classe de consommation d'énergie; \n",
    "    b. le niveau moyen de consommation d'énergie par logement;\n",
    "7. Principales limites et perspectives d'approfondissment"
   ]
  },
  {
   "cell_type": "markdown",
   "id": "f3265f80-369c-4bac-a998-5745fe30326b",
   "metadata": {},
   "source": [
    "### **Principaux résultats et principales limites:**\n",
    "\n",
    "#### Résulats de l'étude\n",
    "\n",
    "1. Résultat 1: \n",
    "2. Résultat 2:\n",
    "3. Résultat 3:\n",
    "\n",
    "#### Limites de l'étude\n",
    "\n",
    "1. Limite 1:\n",
    "2. Limite 2:\n",
    "3. Limite 3:\n"
   ]
  },
  {
   "cell_type": "markdown",
   "id": "60770eb1-0c18-478f-b2b0-1c59b08bd7ac",
   "metadata": {},
   "source": [
    "## **Importation des données retraitées**"
   ]
  },
  {
   "cell_type": "code",
   "execution_count": null,
   "id": "8ab41f2a-a80b-4a12-930f-ccb2700952f4",
   "metadata": {},
   "outputs": [],
   "source": []
  }
 ],
 "metadata": {
  "kernelspec": {
   "display_name": "Python 3 (ipykernel)",
   "language": "python",
   "name": "python3"
  },
  "language_info": {
   "codemirror_mode": {
    "name": "ipython",
    "version": 3
   },
   "file_extension": ".py",
   "mimetype": "text/x-python",
   "name": "python",
   "nbconvert_exporter": "python",
   "pygments_lexer": "ipython3",
   "version": "3.10.4"
  }
 },
 "nbformat": 4,
 "nbformat_minor": 5
}
