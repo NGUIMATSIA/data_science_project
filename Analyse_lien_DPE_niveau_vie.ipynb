{
 "cells": [
  {
   "cell_type": "markdown",
   "id": "dbdb20dd-33bd-4363-8869-e5ae718e95c4",
   "metadata": {},
   "source": [
    "# Performance énergétique des logements et niveau de vie des ménages en Ile-de-France¶"
   ]
  },
  {
   "cell_type": "markdown",
   "id": "b001574a-c8a7-4a5c-8e36-ab6dd3b26cb0",
   "metadata": {},
   "source": [
    "#### **Projet Python 2A ENSAE (année 2022-2023)**"
   ]
  },
  {
   "cell_type": "markdown",
   "id": "80b9004b-720c-44d5-ae0e-5b80beb4908f",
   "metadata": {},
   "source": [
    "#### Franki Nguimatsia Tiofak, Marc jodel Simo Noubissi, Gabriel Sklénard"
   ]
  },
  {
   "cell_type": "markdown",
   "id": "58bcad3e-a2cb-4c06-b14a-c241a461bdd0",
   "metadata": {},
   "source": [
    "## **Introduction**"
   ]
  },
  {
   "cell_type": "markdown",
   "id": "6a39309b-145f-4565-a4a2-8bc80d75c05e",
   "metadata": {},
   "source": [
    "### **Problématique:** \n",
    " \n",
    "Dans le contexte de la crise énergétique affectant un grand nombre de pays en 2022, il nous est apparu particulièrement intéressant d'étudier le lien entre performance énergétique des logements et niveau de vie des ménages. En effet, dans une période où la facture énergétique s'alourdit et atteint même des plus haut (en particulier pour le gaz), les ménages les plus défavorisés apparaissent plus vulnérables, et ce d'autant plus si leurs logements sont en moyenne plus énergivores que les ménages plus aisés. Notre projet Python cherche précisément à documenter cette vulnérabilité, avec notamment l'idée que la performance énergétique des logements ont un coût et bute nécessairement contre la contrainte budgétaire des ménages, mesurée ici par le niveau de vie médian au niveau de la commune. Qui plus est, un cercle vicieux pourrait s'instaurer: les ménages les moins aisés ont des difficultés à accéder à un logement économe en énergie, ce qui accroît la charge financière du logement et les appauvrit encore davantage. \n",
    "\n",
    "Pour avoir une volumétrie de données raisonnable, nous avons opté pour une approche géographique centrée sur l'Ile-de-France: il s'agit donc ici d'analyser la performance énergétique des logements franciliens en lien avec le niveau de vie mesuré dans chaque commune. La visualisation géographique pourrait contribuer à aider les décideurs publics à mieux cibler les éventuelles mesures de soutien à mettre en place pour atténuer le choc de la crise énergétique en Ile-de-France."
   ]
  },
  {
   "cell_type": "markdown",
   "id": "43df4697-1792-4bf2-96e2-877800c8d22f",
   "metadata": {},
   "source": [
    "### **Principales étapes du projet:**\n",
    "1. Récupération des données relatives aux diagnostics de performance énergétique (DPE) des logements franciliens (à partir de l'API de l'open data de l'ADEME.\n",
    "2. Récupération des données de niveau de vie par commune à partir des fichiers de Filosofi 2016 disponibles sur Insee.fr\n",
    "3. Retraitement des données.\n",
    "4. Premières statistiques descriptives\n",
    "5. Visualisations géographiques\n",
    "6. Modélisation pour prédir: \n",
    "    a. la proportion de logements énergivores d'une commune en Ile-de-France; \n",
    "    b. le niveau médian de consommation d'énergie d'un logement d'une commune en Ile-de-France;\n",
    "7. Principales limites et perspectives d'approfondissment"
   ]
  },
  {
   "cell_type": "markdown",
   "id": "6fa72ad2-127b-4511-85dd-948a9d3f1931",
   "metadata": {},
   "source": [
    "### **Principaux résultats et principales limites:**\n",
    "\n",
    "#### Résulats de l'étude\n",
    "\n",
    "1. Résultat 1: \n",
    "2. Résultat 2:\n",
    "3. Résultat 3:\n",
    "\n",
    "#### Limites de l'étude\n",
    "\n",
    "1. Limite 1: les DPE observés dans chaque commune d'Ile-de-France ne résultent pas d'un échantillonage reposant sur un\n",
    "plal de sondage garantissant la représentativité statistique des données à l'échelle de chaque commune. On ne dispose\n",
    "en effet que d'une liste de DPE versés automatiquement dans la base de données de l'ADEME, dès lors qu'un diagnostic est validé numériquement. Par conséquent, on peut très bien imaginer que nos résultats sont affectés par des biais statistiques importants. Le nombre de DPE enregistrés dans une commune dépend du nombre de locations ou ventes de logements ayant eu lieu dans cette commune.\n",
    "2. Limite 2: la maille géographique \"commune\" reste assez grossière pour bien localiser les zones de vulnérabilité socio-économique, et d'autant plus en Ile-de-France, une région très contrastée où il y a souvent coexistence de types de ménages très différents d'une rue à une autre.\n",
    "3. Limite 3:"
   ]
  },
  {
   "cell_type": "code",
   "execution_count": 1,
   "id": "5c6ad809-685a-4701-bd8a-bd50f35cde21",
   "metadata": {},
   "outputs": [
    {
     "ename": "KeyboardInterrupt",
     "evalue": "",
     "output_type": "error",
     "traceback": [
      "\u001b[0;31m---------------------------------------------------------------------------\u001b[0m",
      "\u001b[0;31mKeyboardInterrupt\u001b[0m                         Traceback (most recent call last)",
      "Cell \u001b[0;32mIn [1], line 3\u001b[0m\n\u001b[1;32m      1\u001b[0m \u001b[38;5;28;01mimport\u001b[39;00m \u001b[38;5;21;01mpandas\u001b[39;00m \u001b[38;5;28;01mas\u001b[39;00m \u001b[38;5;21;01mpd\u001b[39;00m\n\u001b[1;32m      2\u001b[0m \u001b[38;5;28;01mimport\u001b[39;00m \u001b[38;5;21;01mnumpy\u001b[39;00m \u001b[38;5;28;01mas\u001b[39;00m \u001b[38;5;21;01mnp\u001b[39;00m\n\u001b[0;32m----> 3\u001b[0m \u001b[38;5;28;01mimport\u001b[39;00m \u001b[38;5;21;01mmatplotlib\u001b[39;00m\u001b[38;5;21;01m.\u001b[39;00m\u001b[38;5;21;01mpyplot\u001b[39;00m \u001b[38;5;28;01mas\u001b[39;00m \u001b[38;5;21;01mplt\u001b[39;00m\n\u001b[1;32m      4\u001b[0m \u001b[38;5;28;01mimport\u001b[39;00m \u001b[38;5;21;01mplotly\u001b[39;00m\n\u001b[1;32m      5\u001b[0m \u001b[38;5;28;01mimport\u001b[39;00m \u001b[38;5;21;01mre\u001b[39;00m\n",
      "File \u001b[0;32m/opt/mamba/lib/python3.10/site-packages/matplotlib/pyplot.py:60\u001b[0m\n\u001b[1;32m     58\u001b[0m \u001b[38;5;28;01mfrom\u001b[39;00m \u001b[38;5;21;01mmatplotlib\u001b[39;00m \u001b[38;5;28;01mimport\u001b[39;00m _docstring\n\u001b[1;32m     59\u001b[0m \u001b[38;5;28;01mfrom\u001b[39;00m \u001b[38;5;21;01mmatplotlib\u001b[39;00m\u001b[38;5;21;01m.\u001b[39;00m\u001b[38;5;21;01mbackend_bases\u001b[39;00m \u001b[38;5;28;01mimport\u001b[39;00m FigureCanvasBase, MouseButton\n\u001b[0;32m---> 60\u001b[0m \u001b[38;5;28;01mfrom\u001b[39;00m \u001b[38;5;21;01mmatplotlib\u001b[39;00m\u001b[38;5;21;01m.\u001b[39;00m\u001b[38;5;21;01mfigure\u001b[39;00m \u001b[38;5;28;01mimport\u001b[39;00m Figure, FigureBase, figaspect\n\u001b[1;32m     61\u001b[0m \u001b[38;5;28;01mfrom\u001b[39;00m \u001b[38;5;21;01mmatplotlib\u001b[39;00m\u001b[38;5;21;01m.\u001b[39;00m\u001b[38;5;21;01mgridspec\u001b[39;00m \u001b[38;5;28;01mimport\u001b[39;00m GridSpec, SubplotSpec\n\u001b[1;32m     62\u001b[0m \u001b[38;5;28;01mfrom\u001b[39;00m \u001b[38;5;21;01mmatplotlib\u001b[39;00m \u001b[38;5;28;01mimport\u001b[39;00m rcParams, rcParamsDefault, get_backend, rcParamsOrig\n",
      "File \u001b[0;32m/opt/mamba/lib/python3.10/site-packages/matplotlib/figure.py:26\u001b[0m\n\u001b[1;32m     23\u001b[0m \u001b[38;5;28;01mimport\u001b[39;00m \u001b[38;5;21;01mnumpy\u001b[39;00m \u001b[38;5;28;01mas\u001b[39;00m \u001b[38;5;21;01mnp\u001b[39;00m\n\u001b[1;32m     25\u001b[0m \u001b[38;5;28;01mimport\u001b[39;00m \u001b[38;5;21;01mmatplotlib\u001b[39;00m \u001b[38;5;28;01mas\u001b[39;00m \u001b[38;5;21;01mmpl\u001b[39;00m\n\u001b[0;32m---> 26\u001b[0m \u001b[38;5;28;01mfrom\u001b[39;00m \u001b[38;5;21;01mmatplotlib\u001b[39;00m \u001b[38;5;28;01mimport\u001b[39;00m _blocking_input, backend_bases, _docstring, projections\n\u001b[1;32m     27\u001b[0m \u001b[38;5;28;01mfrom\u001b[39;00m \u001b[38;5;21;01mmatplotlib\u001b[39;00m\u001b[38;5;21;01m.\u001b[39;00m\u001b[38;5;21;01martist\u001b[39;00m \u001b[38;5;28;01mimport\u001b[39;00m (\n\u001b[1;32m     28\u001b[0m     Artist, allow_rasterization, _finalize_rasterization)\n\u001b[1;32m     29\u001b[0m \u001b[38;5;28;01mfrom\u001b[39;00m \u001b[38;5;21;01mmatplotlib\u001b[39;00m\u001b[38;5;21;01m.\u001b[39;00m\u001b[38;5;21;01mbackend_bases\u001b[39;00m \u001b[38;5;28;01mimport\u001b[39;00m (\n\u001b[1;32m     30\u001b[0m     DrawEvent, FigureCanvasBase, NonGuiException, MouseButton, _get_renderer)\n",
      "File \u001b[0;32m/opt/mamba/lib/python3.10/site-packages/matplotlib/projections/__init__.py:58\u001b[0m\n\u001b[1;32m     56\u001b[0m \u001b[38;5;28;01mfrom\u001b[39;00m \u001b[38;5;21;01m.\u001b[39;00m\u001b[38;5;21;01mgeo\u001b[39;00m \u001b[38;5;28;01mimport\u001b[39;00m AitoffAxes, HammerAxes, LambertAxes, MollweideAxes\n\u001b[1;32m     57\u001b[0m \u001b[38;5;28;01mfrom\u001b[39;00m \u001b[38;5;21;01m.\u001b[39;00m\u001b[38;5;21;01mpolar\u001b[39;00m \u001b[38;5;28;01mimport\u001b[39;00m PolarAxes\n\u001b[0;32m---> 58\u001b[0m \u001b[38;5;28;01mfrom\u001b[39;00m \u001b[38;5;21;01mmpl_toolkits\u001b[39;00m\u001b[38;5;21;01m.\u001b[39;00m\u001b[38;5;21;01mmplot3d\u001b[39;00m \u001b[38;5;28;01mimport\u001b[39;00m Axes3D\n\u001b[1;32m     61\u001b[0m \u001b[38;5;28;01mclass\u001b[39;00m \u001b[38;5;21;01mProjectionRegistry\u001b[39;00m:\n\u001b[1;32m     62\u001b[0m     \u001b[38;5;124;03m\"\"\"A mapping of registered projection names to projection classes.\"\"\"\u001b[39;00m\n",
      "File \u001b[0;32m/opt/mamba/lib/python3.10/site-packages/mpl_toolkits/mplot3d/__init__.py:1\u001b[0m\n\u001b[0;32m----> 1\u001b[0m \u001b[38;5;28;01mfrom\u001b[39;00m \u001b[38;5;21;01m.\u001b[39;00m\u001b[38;5;21;01maxes3d\u001b[39;00m \u001b[38;5;28;01mimport\u001b[39;00m Axes3D\n\u001b[1;32m      3\u001b[0m __all__ \u001b[38;5;241m=\u001b[39m [\u001b[38;5;124m'\u001b[39m\u001b[38;5;124mAxes3D\u001b[39m\u001b[38;5;124m'\u001b[39m]\n",
      "File \u001b[0;32m/opt/mamba/lib/python3.10/site-packages/mpl_toolkits/mplot3d/axes3d.py:39\u001b[0m\n\u001b[1;32m     37\u001b[0m \u001b[38;5;28;01mfrom\u001b[39;00m \u001b[38;5;21;01m.\u001b[39;00m \u001b[38;5;28;01mimport\u001b[39;00m art3d\n\u001b[1;32m     38\u001b[0m \u001b[38;5;28;01mfrom\u001b[39;00m \u001b[38;5;21;01m.\u001b[39;00m \u001b[38;5;28;01mimport\u001b[39;00m proj3d\n\u001b[0;32m---> 39\u001b[0m \u001b[38;5;28;01mfrom\u001b[39;00m \u001b[38;5;21;01m.\u001b[39;00m \u001b[38;5;28;01mimport\u001b[39;00m axis3d\n\u001b[1;32m     42\u001b[0m \u001b[38;5;129m@_docstring\u001b[39m\u001b[38;5;241m.\u001b[39minterpd\n\u001b[1;32m     43\u001b[0m \u001b[38;5;129m@_api\u001b[39m\u001b[38;5;241m.\u001b[39mdefine_aliases({\n\u001b[1;32m     44\u001b[0m     \u001b[38;5;124m\"\u001b[39m\u001b[38;5;124mxlim\u001b[39m\u001b[38;5;124m\"\u001b[39m: [\u001b[38;5;124m\"\u001b[39m\u001b[38;5;124mxlim3d\u001b[39m\u001b[38;5;124m\"\u001b[39m], \u001b[38;5;124m\"\u001b[39m\u001b[38;5;124mylim\u001b[39m\u001b[38;5;124m\"\u001b[39m: [\u001b[38;5;124m\"\u001b[39m\u001b[38;5;124mylim3d\u001b[39m\u001b[38;5;124m\"\u001b[39m], \u001b[38;5;124m\"\u001b[39m\u001b[38;5;124mzlim\u001b[39m\u001b[38;5;124m\"\u001b[39m: [\u001b[38;5;124m\"\u001b[39m\u001b[38;5;124mzlim3d\u001b[39m\u001b[38;5;124m\"\u001b[39m]})\n\u001b[1;32m     45\u001b[0m \u001b[38;5;28;01mclass\u001b[39;00m \u001b[38;5;21;01mAxes3D\u001b[39;00m(Axes):\n\u001b[1;32m     46\u001b[0m     \u001b[38;5;124;03m\"\"\"\u001b[39;00m\n\u001b[1;32m     47\u001b[0m \u001b[38;5;124;03m    3D Axes object.\u001b[39;00m\n\u001b[1;32m     48\u001b[0m \u001b[38;5;124;03m    \"\"\"\u001b[39;00m\n",
      "File \u001b[0;32m/opt/mamba/lib/python3.10/site-packages/mpl_toolkits/mplot3d/axis3d.py:17\u001b[0m\n\u001b[1;32m     10\u001b[0m \u001b[38;5;28;01mfrom\u001b[39;00m \u001b[38;5;21;01mmatplotlib\u001b[39;00m \u001b[38;5;28;01mimport\u001b[39;00m (\n\u001b[1;32m     11\u001b[0m     _api, artist, lines \u001b[38;5;28;01mas\u001b[39;00m mlines, axis \u001b[38;5;28;01mas\u001b[39;00m maxis, patches \u001b[38;5;28;01mas\u001b[39;00m mpatches,\n\u001b[1;32m     12\u001b[0m     transforms \u001b[38;5;28;01mas\u001b[39;00m mtransforms, colors \u001b[38;5;28;01mas\u001b[39;00m mcolors)\n\u001b[1;32m     13\u001b[0m \u001b[38;5;28;01mfrom\u001b[39;00m \u001b[38;5;21;01m.\u001b[39;00m \u001b[38;5;28;01mimport\u001b[39;00m art3d, proj3d\n\u001b[1;32m     16\u001b[0m \u001b[38;5;129;43m@_api\u001b[39;49m\u001b[38;5;241;43m.\u001b[39;49m\u001b[43mdeprecated\u001b[49m\u001b[43m(\u001b[49m\u001b[38;5;124;43m\"\u001b[39;49m\u001b[38;5;124;43m3.6\u001b[39;49m\u001b[38;5;124;43m\"\u001b[39;49m\u001b[43m,\u001b[49m\u001b[43m \u001b[49m\u001b[43malternative\u001b[49m\u001b[38;5;241;43m=\u001b[39;49m\u001b[38;5;124;43m\"\u001b[39;49m\u001b[38;5;124;43ma vendored copy of _move_from_center\u001b[39;49m\u001b[38;5;124;43m\"\u001b[39;49m\u001b[43m)\u001b[49m\n\u001b[0;32m---> 17\u001b[0m \u001b[38;5;28;43;01mdef\u001b[39;49;00m\u001b[43m \u001b[49m\u001b[38;5;21;43mmove_from_center\u001b[39;49m\u001b[43m(\u001b[49m\u001b[43mcoord\u001b[49m\u001b[43m,\u001b[49m\u001b[43m \u001b[49m\u001b[43mcenters\u001b[49m\u001b[43m,\u001b[49m\u001b[43m \u001b[49m\u001b[43mdeltas\u001b[49m\u001b[43m,\u001b[49m\u001b[43m \u001b[49m\u001b[43maxmask\u001b[49m\u001b[38;5;241;43m=\u001b[39;49m\u001b[43m(\u001b[49m\u001b[38;5;28;43;01mTrue\u001b[39;49;00m\u001b[43m,\u001b[49m\u001b[43m \u001b[49m\u001b[38;5;28;43;01mTrue\u001b[39;49;00m\u001b[43m,\u001b[49m\u001b[43m \u001b[49m\u001b[38;5;28;43;01mTrue\u001b[39;49;00m\u001b[43m)\u001b[49m\u001b[43m)\u001b[49m\u001b[43m:\u001b[49m\n\u001b[1;32m     18\u001b[0m \u001b[43m    \u001b[49m\u001b[38;5;124;43;03m\"\"\"\u001b[39;49;00m\n\u001b[1;32m     19\u001b[0m \u001b[38;5;124;43;03m    For each coordinate where *axmask* is True, move *coord* away from\u001b[39;49;00m\n\u001b[1;32m     20\u001b[0m \u001b[38;5;124;43;03m    *centers* by *deltas*.\u001b[39;49;00m\n\u001b[1;32m     21\u001b[0m \u001b[38;5;124;43;03m    \"\"\"\u001b[39;49;00m\n\u001b[1;32m     22\u001b[0m \u001b[43m    \u001b[49m\u001b[38;5;28;43;01mreturn\u001b[39;49;00m\u001b[43m \u001b[49m\u001b[43m_move_from_center\u001b[49m\u001b[43m(\u001b[49m\u001b[43mcoord\u001b[49m\u001b[43m,\u001b[49m\u001b[43m \u001b[49m\u001b[43mcenters\u001b[49m\u001b[43m,\u001b[49m\u001b[43m \u001b[49m\u001b[43mdeltas\u001b[49m\u001b[43m,\u001b[49m\u001b[43m \u001b[49m\u001b[43maxmask\u001b[49m\u001b[38;5;241;43m=\u001b[39;49m\u001b[43maxmask\u001b[49m\u001b[43m)\u001b[49m\n",
      "File \u001b[0;32m/opt/mamba/lib/python3.10/site-packages/matplotlib/_api/deprecation.py:218\u001b[0m, in \u001b[0;36mdeprecated.<locals>.deprecate\u001b[0;34m(obj, message, name, alternative, pending, obj_type, addendum)\u001b[0m\n\u001b[1;32m    213\u001b[0m \u001b[38;5;28;01mif\u001b[39;00m \u001b[38;5;129;01mnot\u001b[39;00m old_doc:\n\u001b[1;32m    214\u001b[0m     \u001b[38;5;66;03m# This is to prevent a spurious 'unexpected unindent' warning from\u001b[39;00m\n\u001b[1;32m    215\u001b[0m     \u001b[38;5;66;03m# docutils when the original docstring was blank.\u001b[39;00m\n\u001b[1;32m    216\u001b[0m     new_doc \u001b[38;5;241m+\u001b[39m\u001b[38;5;241m=\u001b[39m \u001b[38;5;124mr\u001b[39m\u001b[38;5;124m'\u001b[39m\u001b[38;5;124m\\\u001b[39m\u001b[38;5;124m \u001b[39m\u001b[38;5;124m'\u001b[39m\n\u001b[0;32m--> 218\u001b[0m \u001b[38;5;28;01mreturn\u001b[39;00m \u001b[43mfinalize\u001b[49m\u001b[43m(\u001b[49m\u001b[43mwrapper\u001b[49m\u001b[43m,\u001b[49m\u001b[43m \u001b[49m\u001b[43mnew_doc\u001b[49m\u001b[43m)\u001b[49m\n",
      "File \u001b[0;32m/opt/mamba/lib/python3.10/site-packages/matplotlib/_api/deprecation.py:188\u001b[0m, in \u001b[0;36mdeprecated.<locals>.deprecate.<locals>.finalize\u001b[0;34m(wrapper, new_doc)\u001b[0m\n\u001b[1;32m    187\u001b[0m \u001b[38;5;28;01mdef\u001b[39;00m \u001b[38;5;21mfinalize\u001b[39m(wrapper, new_doc):\n\u001b[0;32m--> 188\u001b[0m     wrapper \u001b[38;5;241m=\u001b[39m \u001b[43mfunctools\u001b[49m\u001b[38;5;241;43m.\u001b[39;49m\u001b[43mwraps\u001b[49m\u001b[43m(\u001b[49m\u001b[43mfunc\u001b[49m\u001b[43m)\u001b[49m\u001b[43m(\u001b[49m\u001b[43mwrapper\u001b[49m\u001b[43m)\u001b[49m\n\u001b[1;32m    189\u001b[0m     wrapper\u001b[38;5;241m.\u001b[39m\u001b[38;5;18m__doc__\u001b[39m \u001b[38;5;241m=\u001b[39m new_doc\n\u001b[1;32m    190\u001b[0m     \u001b[38;5;28;01mreturn\u001b[39;00m wrapper\n",
      "\u001b[0;31mKeyboardInterrupt\u001b[0m: "
     ]
    }
   ],
   "source": [
    "import pandas as pd\n",
    "import numpy as np\n",
    "import matplotlib.pyplot as plt\n",
    "import plotly\n",
    "import re\n",
    "import matplotlib\n",
    "import plotly.express as px\n",
    "import seaborn as sns\n",
    "\n",
    "import sklearn\n",
    "from sklearn.linear_model import Lasso\n",
    "from sklearn.datasets import make_classification\n",
    "from sklearn.preprocessing import StandardScaler\n",
    "from sklearn.linear_model import LogisticRegression\n",
    "from sklearn.model_selection import train_test_split\n",
    "from sklearn.model_selection import train_test_split\n",
    "from sklearn.metrics import roc_curve\n",
    "from sklearn.metrics import roc_auc_score\n",
    "from sklearn.metrics import confusion_matrix\n",
    "from sklearn.metrics import classification_report\n",
    "from sklearn.decomposition import PCA\n",
    "from sklearn import metrics\n",
    "from sklearn.discriminant_analysis import LinearDiscriminantAnalysis\n",
    "import statsmodels.api as sm\n",
    "import scipy\n",
    "from scipy.stats import chi2_contingency as chi2_contingency\n",
    "from sklearn.linear_model import LassoCV\n",
    "from sklearn.metrics import mean_squared_error"
   ]
  },
  {
   "cell_type": "code",
   "execution_count": null,
   "id": "126648ea-61c7-456e-8e73-506c35ad5b30",
   "metadata": {},
   "outputs": [],
   "source": [
    "import matplotlib.pyplot as plt\n",
    "import seaborn as sns\n",
    "\n",
    "from plotly.offline import init_notebook_mode\n",
    "init_notebook_mode(connected = True)\n",
    "\n",
    "import plotly\n",
    "import plotly.express as px\n",
    "from IPython.display import HTML #pour afficher les graphs\n",
    "# dans une cellule de notebook"
   ]
  },
  {
   "cell_type": "code",
   "execution_count": null,
   "id": "852fb878-1ab1-4dc8-a8cc-e77cab5863ae",
   "metadata": {},
   "outputs": [],
   "source": [
    "# Pour que les graphiques apparaissent dans le Notebook Jupyter:\n",
    "%matplotlib inline"
   ]
  },
  {
   "cell_type": "markdown",
   "id": "21f9fbc7-ccc7-4f32-a9f2-0511595d0f1d",
   "metadata": {},
   "source": [
    "## **Importation des données retraitées**"
   ]
  },
  {
   "cell_type": "code",
   "execution_count": null,
   "id": "053b1564-e62a-42a2-8a75-01150b367488",
   "metadata": {},
   "outputs": [],
   "source": [
    "pd.options.display.max_colwidth = 50"
   ]
  },
  {
   "cell_type": "markdown",
   "id": "01f9b190-31d1-4c1c-b9d8-9a865cdc2705",
   "metadata": {},
   "source": [
    "On importe les données récupérées et traitées dans le notebook récup&retraitement_données.ipynb:"
   ]
  },
  {
   "cell_type": "code",
   "execution_count": null,
   "id": "bfe1c379-ce4c-4d6a-9787-dfa3be871307",
   "metadata": {},
   "outputs": [],
   "source": [
    "# 1) Dataframe rassemblant tous les dpe réalisés dans les communes d'Ile-de-France (principales caractéristiques relatives \n",
    "# à la performance énergétique des logements):\n",
    "# WARNING: pour lire ce csv, pensez à exécuter au préalable le notebook récup&retraitement_données.ipynb\n",
    "# en effet le fichier dpe_IDF.csv est trop volumineux pour être stocké dans le repository Github \"data_science_project\"!\n",
    "#dpe_idf = pd.read_csv(\"~/work/data_science_project/dpe_IDF.csv\")\n",
    "\n",
    "# 2) Dataframe rassemblant les communes d'IDF avec leur caractéristiques en terme de performance énergétique des logements\n",
    "# ainsi que quelques données socio-économiques (Filosofi):\n",
    "Filosofi_dpe_IDF_com= pd.read_csv(\"~/work/data_science_project/Filosofi_dpe_IDF_com.csv\")"
   ]
  },
  {
   "cell_type": "markdown",
   "id": "a6cf7bd7-8725-4d39-8306-1233e530fdd4",
   "metadata": {},
   "source": [
    "## **I) Datavisualisation**"
   ]
  },
  {
   "cell_type": "markdown",
   "id": "9faca04b-09c5-4ee8-ad07-9cc80488e390",
   "metadata": {},
   "source": [
    "### **A) Statistiques descriptives sur la performance énergétique des logements à l'échelle des communes d'Ile-de-France:**"
   ]
  },
  {
   "cell_type": "markdown",
   "id": "2c690a86-2725-43ed-850d-725cd9ace7db",
   "metadata": {},
   "source": [
    "#### 1) Etape préliminaire: on exclut de l'analyse les communes pour lesquelles le nombre de DPE s'avère trop faible au regard du nombre de ménages fiscaux renseignés dans Filosofi:"
   ]
  },
  {
   "cell_type": "markdown",
   "id": "97b00e4a-fbed-4436-84d5-7770109e5a15",
   "metadata": {},
   "source": [
    "L'interprétabilité des résultats est conditionnée par le fait que l'on dispose d'un nombre suffisant de DPE dans chaque commune. Pour tester cette condition, on calcule le ratio \"nombre de DPE/nombre de ménages fiscaux\" pour chaque commune, avec l'idée que le nombre de ménages fiscaux est un bon proxi du nombre total de logements dans une commune donnée."
   ]
  },
  {
   "cell_type": "code",
   "execution_count": null,
   "id": "0a9a6b10-fdef-458c-8223-28d45c39e326",
   "metadata": {},
   "outputs": [],
   "source": [
    "# Calcul du ratio \"nombre de DPE/nombre de ménages fiscaux\":\n",
    "Filosofi_dpe_IDF_com[\"ratio_DPE_menage\"]=Filosofi_dpe_IDF_com[\"nombre_dpe\"]/Filosofi_dpe_IDF_com[\"NBMENFISC16\"]\n",
    "Filosofi_dpe_IDF_com[\"ratio_DPE_menage\"].describe()"
   ]
  },
  {
   "cell_type": "markdown",
   "id": "dffdcd30-1ae6-46c2-950d-f21a2452acf6",
   "metadata": {},
   "source": [
    "Pour chaque commune, nous disposons en moyenne d'un nombre de DPE représentant près de 33% du nombre total de logements de la commune. Mais il y a de l'hétérogénéité.\n",
    "\n",
    "Au vue de la distribution de ce ratio, on peut décider d'exclure de l'analyse les communes qui présentent un nombre de DPE inférieur à 5% du nombre de ménages fiscaux déclarés dans cette commune:"
   ]
  },
  {
   "cell_type": "code",
   "execution_count": null,
   "id": "91083437-aa9f-4fe1-8138-f7e7c54058b7",
   "metadata": {},
   "outputs": [],
   "source": [
    "Filosofi_dpe_IDF_com2=Filosofi_dpe_IDF_com[Filosofi_dpe_IDF_com[\"ratio_DPE_menage\"]>0.05].reset_index()\n",
    "Filosofi_dpe_IDF_com2.shape"
   ]
  },
  {
   "cell_type": "code",
   "execution_count": null,
   "id": "1910821f-72a0-4d80-b5da-1b28ab079d0c",
   "metadata": {},
   "outputs": [],
   "source": [
    "Filosofi_dpe_IDF_com.shape"
   ]
  },
  {
   "cell_type": "markdown",
   "id": "4861ca3d-23c2-44d3-91c2-fece2624ba23",
   "metadata": {},
   "source": [
    "On a donc exclu de l'analyse 327 communes, pour lesquelles le nombre de dpe disponibles dans la base était trop faible au regard du nombre de ménages fiscaux."
   ]
  },
  {
   "cell_type": "markdown",
   "id": "89d0cb27-a077-448e-8c25-34ffe8a5e97e",
   "metadata": {},
   "source": [
    "#### 2) Création de variables supplémentaires pour les besoins de l'analyse"
   ]
  },
  {
   "cell_type": "markdown",
   "id": "d21cca5e-2fc2-417a-b559-e6a22b005ba2",
   "metadata": {},
   "source": [
    "##### a) Création d'une indicatrice pour repérer les communes avec une proportion élevée de logements énergivores"
   ]
  },
  {
   "cell_type": "markdown",
   "id": "78ce2718-5bae-4fbf-9c64-6fbe1a99a9aa",
   "metadata": {},
   "source": [
    "Nous disposons pour chaque commune de la répartition des logements diagnostiqués selon leur catégorie de consommation énergétique (des plus économes en énergie A aux plus énergivores G). Notre analyse se focalisera en grande partie sur la répartition géographique des logements énergivores en Ile-de-France ainsi que sur les variables suceptibles d'expliquer qu'une commune présente une proportion plus ou moins élevée de logements énergivores. En accord avec les conventions de l'ADEME, nous qualifierons d'énergivores les logements dont la classe de consommation énergétique est F ou G.\n",
    "\n",
    "Dans ce qui suit, nous commençons par créer une variable donnant la proportion de logements diagnostiqués classés en F ou G (dits \"énergivores\"):"
   ]
  },
  {
   "cell_type": "code",
   "execution_count": null,
   "id": "59d0e29d-3b86-4703-a4c5-c4bff361c5bb",
   "metadata": {},
   "outputs": [],
   "source": [
    "# 1) Codage de la variable \"proportions de logements énergivores\":\n",
    "Filosofi_dpe_IDF_com2[\"proportion_energivores\"]=Filosofi_dpe_IDF_com2.loc[:,['classe_consommation_energie_F','classe_consommation_energie_G']].sum(axis=1)\n",
    "\n",
    "Filosofi_dpe_IDF_com2[\"proportion_energivores\"].describe()\n"
   ]
  },
  {
   "cell_type": "markdown",
   "id": "aeca5b22-7020-45dc-b19b-b8a149b5b3d8",
   "metadata": {},
   "source": [
    "En moyenne, pour les communes d'Ile-de-France qui ont bénéficié d'un dpe, 14,6% des logements sont classés \"énergivores\". Par ailleurs, un quart des communes présentent une part de logements énergivores inférieure à 8,7% et un autre quart une part supérieure à 19,3%. \n",
    "\n",
    "On peut vérifier rapidement que les proportions élevées ne sont pas liées au fait que le nombre de dpe réalisés dans la commune est faible:"
   ]
  },
  {
   "cell_type": "code",
   "execution_count": null,
   "id": "614ed820-3eb6-4501-a5ba-9806d2a7f281",
   "metadata": {},
   "outputs": [],
   "source": [
    "\n",
    "plt.figure()\n",
    "plt.scatter(Filosofi_dpe_IDF_com2[\"ratio_DPE_menage\"],Filosofi_dpe_IDF_com2[\"proportion_energivores\"])\n",
    "plt.xlabel(\"Ratio nombre de dpe/nombre de ménages dans la commune\")\n",
    "plt.ylabel(\"Proportions de logements énergivores\")\n",
    "plt.title(\"Proportion de logements énergivores dans les communes d'Ile-de-France et nombre de DPE réalisés\")"
   ]
  },
  {
   "cell_type": "markdown",
   "id": "f57983f3-a77e-43a1-b56e-408d3592d2e0",
   "metadata": {},
   "source": [
    "On peut voir que pour les quelques communes présentant une forte proportion de logements énergivores (>0,5), le ratio nombre de dpe/nombre de ménages est proche de zéro. Dans ces communes, le fait qu'une majorité de logements serait énergivore s'expliquerait donc plutôt par le fait que peu de diagnostics dpe y ont été réalisés au regard du nombre total de logements. Il ne faudra donc pas surinterpréter ces proportions très élevées de logements énergivores dans l'analyse qui va suivre. \n",
    "\n",
    "Pour rappel, le nombre de DPE enregistrés n'est en aucun cas le résultat d'un échantillonage, mais ne résulte que des réalisations de locations/ventes de logements privatifs depuis 2013 ayant fait l'objet d'un DPE.\n",
    "\n",
    "Afin de mieux repérer les communes présentant une proportion \"élevée\" de logements énergivores, on code l'indicatrice suivante:"
   ]
  },
  {
   "cell_type": "code",
   "execution_count": null,
   "id": "380b5d7d-9d20-4688-b5e8-dccbeafd07e3",
   "metadata": {},
   "outputs": [],
   "source": [
    "# Codage de l'indicatrice permettant de repérer les communes présentant plus de 20% des logements diagnostiqués \"énergivores\":\n",
    "Filosofi_dpe_IDF_com2['com_prop_energivores'] =pd.cut(Filosofi_dpe_IDF_com2['proportion_energivores'],\\\n",
    "                                                      bins=[Filosofi_dpe_IDF_com2['proportion_energivores'].min(),\n",
    "                                                            0.2,Filosofi_dpe_IDF_com2['proportion_energivores'].max()],\\\n",
    "                                                          labels=[\"Moins de 20%\",\n",
    "                                                                  \"Plus de 20%\"],include_lowest=True)\n",
    "Filosofi_dpe_IDF_com2['com_prop_energivores'].value_counts()"
   ]
  },
  {
   "cell_type": "markdown",
   "id": "926337f8-0ccd-4045-8e95-062410046c4d",
   "metadata": {},
   "source": [
    "##### b) Création d'une variable catégorielle relative aux tailles des communes selon leur nombre d'habitants"
   ]
  },
  {
   "cell_type": "markdown",
   "id": "9a198718-5e99-4a75-8a05-975b30334ced",
   "metadata": {},
   "source": [
    "Pour l'analyse, il sera intéressant de distinguer les communes selon leur taille (nombre d'habitants)."
   ]
  },
  {
   "cell_type": "code",
   "execution_count": null,
   "id": "662260e8-5fa9-45b7-aebc-5d7e9cb61fec",
   "metadata": {},
   "outputs": [],
   "source": [
    "# Classes de taille de commune basées sur le nombre de personnes vivant dans les ménages fiscaux en 2016: \n",
    "Filosofi_dpe_IDF_com2['classe_taille_com'] = pd.cut(Filosofi_dpe_IDF_com2['NBPERSMENFISC16'],bins=[Filosofi_dpe_IDF_com2['NBPERSMENFISC16'].min(),\n",
    "                                                            200,10000,Filosofi_dpe_IDF_com2['NBPERSMENFISC16'].max()],\\\n",
    "                                                          labels=[\"Moins de 200 hab.\",\n",
    "                                                                  \"Entre 200 et 10 000 hab.\",\n",
    "                                              \"Plus de 10 000 hab.\"],\\\n",
    "                                     include_lowest=True)\n",
    "Filosofi_dpe_IDF_com2['classe_taille_com'].value_counts()"
   ]
  },
  {
   "cell_type": "markdown",
   "id": "e9fc899d-fcba-4489-a2b3-db4ecfdb382c",
   "metadata": {},
   "source": [
    "#### 3) Premières statistiques descriptives uni et bi-variées sur les variables quantitatives et qualitatives de la base Filosofi_dpe_IDF_com:"
   ]
  },
  {
   "cell_type": "markdown",
   "id": "e948774f-639f-499e-b1db-7d32cbe38360",
   "metadata": {},
   "source": [
    "##### a) Indicateurs statistiques élémentaires (moyenne, variance et quartiles) sur les variables quantitatives:"
   ]
  },
  {
   "cell_type": "code",
   "execution_count": null,
   "id": "8e7eff66-0a52-4a74-82c8-e4cfeb070f06",
   "metadata": {},
   "outputs": [],
   "source": [
    "Filosofi_dpe_IDF_com3=Filosofi_dpe_IDF_com2.loc[:,~Filosofi_dpe_IDF_com2.columns.isin([\"index\",\"CODGEO\",\"LIBGEO\",\"DEP\",\"code_insee_commune_actualise\",\"MED16_quintiles\"\n",
    "                                                                                      \"com_prop_energivores\",\"classe_taille_com\"])]\n",
    "round(Filosofi_dpe_IDF_com3.describe(), 3)"
   ]
  },
  {
   "cell_type": "markdown",
   "id": "527d4d68-c5f5-4421-bd64-3535587d4f5d",
   "metadata": {},
   "source": [
    "##### b) Répartition des communes présentant une proportion élevée de logements diagnostoqués énergivores"
   ]
  },
  {
   "cell_type": "code",
   "execution_count": null,
   "id": "94c0e6d3-73e0-43da-83a6-9c9bc733d948",
   "metadata": {},
   "outputs": [],
   "source": [
    "pd.crosstab(Filosofi_dpe_IDF_com2[\"DEP\"],Filosofi_dpe_IDF_com2[\"com_prop_energivores\"],\\\n",
    "            normalize='index').plot.bar(stacked=True,title=\"Répartition des communes selon leur département d'appartenance\")"
   ]
  },
  {
   "cell_type": "markdown",
   "id": "0d0e7736-53a2-4107-bb37-2275d7642e60",
   "metadata": {},
   "source": [
    "On peut remarquer que c'est à Paris que l'on trouve la plus forte proportion de communes (en l'occurrence il s'agit ici des 20 arrondissements) affichant plus de 20% de logements diagostiqués énergivores. On peut imaginer que la dimension historique d'une partie importante des logements parisiens (immeubles haussmaniens) peut contribuer à ce résultat. \n",
    "\n",
    "A contrario, les départements du 92, 93 ou du 94 ne présentent  presque pas de communes avec plus de 20% de logements diagnostiqués F ou G. On peut intuiter que cela pourrait refléter que ces départements possèdent un parc immobilier beaucoup plus récent (ces départements se sont urbanisés durant la deuxième moitié du XXème siècle, avec des normes énergétiques plus exigeantes que celles qui avaient cours au XIXe siècle avec Haussmann!)."
   ]
  },
  {
   "cell_type": "code",
   "execution_count": null,
   "id": "2291a6ee-25cb-4abc-b8f8-70a208b4bf08",
   "metadata": {},
   "outputs": [],
   "source": [
    "pd.crosstab(Filosofi_dpe_IDF_com2[\"classe_taille_com\"],Filosofi_dpe_IDF_com2[\"com_prop_energivores\"],\\\n",
    "            normalize='index').plot.bar(stacked=True,title=\"Répartition des communes selon leur taille\")"
   ]
  },
  {
   "cell_type": "markdown",
   "id": "fb4e53c1-f211-469e-bcd7-03f753734f28",
   "metadata": {},
   "source": [
    "En moyenne, il apparaît que plus la commune est de grande taille, plus la part de communes avec plus de 20% de logements énergivores est faible. Il semble que les catégories F et G concernent davantage des petites communes, souvent en milieu plus rural."
   ]
  },
  {
   "cell_type": "code",
   "execution_count": null,
   "id": "245c7727-f5d9-4eab-addf-82075c01792b",
   "metadata": {},
   "outputs": [],
   "source": [
    "pd.crosstab(Filosofi_dpe_IDF_com2[\"MED16_quintiles\"],Filosofi_dpe_IDF_com2[\"com_prop_energivores\"],\\\n",
    "            normalize='index').plot.bar(stacked=True,title=\"Répartition des communes selon leur niveau de vie\",\\\n",
    "                                       xlabel=\"Niveau de vie médian (quintiles)\")"
   ]
  },
  {
   "cell_type": "markdown",
   "id": "d6005375-540e-4065-9c37-0cb8a7c7f096",
   "metadata": {},
   "source": [
    "A première vue, il ne semble pas qu'il y ait un lien très net entre le niveau de vie de la commune et la forte proportion de logements énergivores dans cette commune. Certes, on peut voir que dans les communes les plus défavorisés (Q1 et Q2 du niveau de vie) la proportion de communes présentant plus de 20% de logements énergivores est légèrement plus élevée que dans les quintiles de niveau de vie supérieurs, mais la différence reste assez légère."
   ]
  },
  {
   "cell_type": "markdown",
   "id": "ed522526-75cf-4bf2-8cc2-ba9035a3b0c2",
   "metadata": {},
   "source": [
    "##### c) Distribution de la proportion de logements énergivores dans les communes d'Ile-de-France en fonction de différentes variables catégorielles caractéristiques des communes"
   ]
  },
  {
   "cell_type": "code",
   "execution_count": null,
   "id": "31ba8520-1f09-4c4d-acb1-76b96a16914a",
   "metadata": {},
   "outputs": [],
   "source": [
    "Filosofi_dpe_IDF_com2[\"proportion_energivores_pct\"]=Filosofi_dpe_IDF_com2[\"proportion_energivores\"].apply(lambda x: x*100)"
   ]
  },
  {
   "cell_type": "markdown",
   "id": "050bb10d-871a-4f9e-b061-f401718acd21",
   "metadata": {},
   "source": [
    "**Distribution selon le département de la commune**"
   ]
  },
  {
   "cell_type": "code",
   "execution_count": null,
   "id": "ade77005-f5ac-4ce2-bced-22482065a08d",
   "metadata": {},
   "outputs": [],
   "source": [
    "# Distribution selon le département:\n",
    "\n",
    "sns.boxplot(data=Filosofi_dpe_IDF_com2,y=\"proportion_energivores_pct\",x=\"DEP\")\n",
    "plt.title(\"Distribution selon le département de la commune\")\n",
    "plt.ylabel(\"Part de logements énergivores (en %)\")\n",
    "plt.xlabel(\"Département\")"
   ]
  },
  {
   "cell_type": "markdown",
   "id": "5e025166-f4d8-4cb1-bbce-627c60003493",
   "metadata": {},
   "source": [
    "Dans les départements 75, 92, 93 et 94, il ressort que l'hétérogénéité entre les communes est relativement faible en termes de proportion de logements énergivores: les écarts inter-quartiles sont particulièrement faibles. Mais tandis que les départements 92, 93 et 94 affichent les Q3 et les Q2 les plus faibles d'Ile-de-France, le 75 se distingue par des quantiles élevés (attention: il y a peu de communes dans le 75, donc les quantiles n'ont pas forcément beaucoup de sens!).\n",
    "\n",
    "A contrario, la dispersion des proportions de logements énergivores est beaucoup plus prononcée dans les départements 77, 95 et 91. Il s'agit peut-être de départements moins urbanisés, avec un mélange de zones rurales et de zones urbaines, et donc des types de constructions plus hétérogènes...?"
   ]
  },
  {
   "cell_type": "markdown",
   "id": "59f7e6ac-f251-4a9f-ab12-9699f0dea6c7",
   "metadata": {},
   "source": [
    "**Distribution selon la taille de la commune**"
   ]
  },
  {
   "cell_type": "code",
   "execution_count": null,
   "id": "c497edf0-dec3-4388-b95f-b0c2d000d9c0",
   "metadata": {},
   "outputs": [],
   "source": [
    "# Distribution selon la taille des communes:\n",
    "\n",
    "sns.boxplot(data=Filosofi_dpe_IDF_com2,y=\"proportion_energivores_pct\",x=\"classe_taille_com\")\n",
    "plt.title(\"Distribution selon la taille des communes\")\n",
    "plt.ylabel(\"Part de logements énergivores (en %)\")\n",
    "plt.xlabel(\"Taille des communes\")"
   ]
  },
  {
   "cell_type": "markdown",
   "id": "4ef36264-153f-4852-b72d-40ca2e20a621",
   "metadata": {},
   "source": [
    "Tout d'abord, comme il n'y a que 40 communes de moins de 200 habitants dans notre base, le premier boxplot bleu n'est pas très interprétable et comparable avec les deux autres catégories. Lorsque l'on compare, les petites communes (entre 200 et 10 000 habitants) et les grandes communes (>10 000 habitants), on remarque que les quartiles Q1, Q2 et Q3 sont plus faibles lorsque la commune est de grande taille. On peut penser que les logements y sont plus récents et plus de type \"appartements\" que \"maisons\"."
   ]
  },
  {
   "cell_type": "markdown",
   "id": "464fc26e-8497-40b6-8cfd-704fbc2acc5c",
   "metadata": {},
   "source": [
    "**Distribution selon le niveau de vie médian de la commune**"
   ]
  },
  {
   "cell_type": "code",
   "execution_count": null,
   "id": "4b0280c7-2a5c-4c6e-8271-4e0132c55024",
   "metadata": {},
   "outputs": [],
   "source": [
    "# Distribution selon le niveau de vie des communes:\n",
    "\n",
    "sns.boxplot(data=Filosofi_dpe_IDF_com2,y=\"proportion_energivores_pct\",x=\"MED16_quintiles\",order=[\"Q1\",\"Q2\",\"Q3\",\"Q4\",\"Q5\"])\n",
    "plt.title(\"Distribution selon le niveau de vie médian des ménages habitant la commune\")\n",
    "plt.ylabel(\"Part de logements énergivores (en %)\")\n",
    "plt.xlabel(\"Niveau de vie médian dans les communes\")"
   ]
  },
  {
   "cell_type": "markdown",
   "id": "76bcb340-93ce-4e70-ab11-b6ea6cefb231",
   "metadata": {},
   "source": [
    "Encore une fois, nous constatons que la distribution de la part des logements énergivores varie peu selon les quintiles de niveau de vie médian. Par exemple, parmi les 20% des communes les plus défavorisées, il y a la moitié de ces communes avec peu plus de 12% de logements énergivores. Et il en va de même pour les 20% des communes les plus favorisées. On peut penser que l'Ile-de-France est un peu une région atypique, au sens où l'on trouve en milieu urbain à la fois des ménages très aisés dans des logements très anciens (du type \"beaux quartier haussmaniens parisien\") et à la fois dans des logements neufs ou récents dans certaines banlieues chics du 92 (du type \"éco-quartier d'Issy-les-Moulineaux). Et de même, les plus populations défavorisées sont massivement dans des logements sociaux, qui peuvent être plus ou moins récents et mis aux normes énergétiques actuelles.\n",
    "\n",
    "Il faut également penser au fait que l'information sur le niveau de vie n'est pas disponible avec la même granularité que celle sur la performance énergétique des logements d'une commune. En effet, le niveau de vie n'est donné qu'au niveau de la commune. Or il y a de l'hétérogénéité au sein d'une commune, selon les quartiers ou même parfois les rues. Dans l'idéal, il faudrait regarder le lien entre proportion de logements énergovores et niveau de vie à une maille géographique beaucoup plus fine (du type données carroyées de Filosofi)."
   ]
  },
  {
   "cell_type": "markdown",
   "id": "a1fabc55-5e32-4db0-b135-fda60d401c4a",
   "metadata": {},
   "source": [
    "#### 3) Quelles corrélations statistiques entre les différentes variables quantitatives de la base?"
   ]
  },
  {
   "cell_type": "markdown",
   "id": "262657b0-263c-4447-a8a2-68a095c29d51",
   "metadata": {},
   "source": [
    "##### a) Matrice de corrélation des principales variables quantitatives disponibles au niveau communal dans la base"
   ]
  },
  {
   "cell_type": "code",
   "execution_count": null,
   "id": "e5c04e3d-0544-4c56-ba26-99ce55f3b4f6",
   "metadata": {},
   "outputs": [],
   "source": [
    "\n",
    "matrice_corr = Filosofi_dpe_IDF_com2[[\"proportion_energivores\", \"MED16\" , \"age_logement_median\",\"surface_thermique_lot_median\", \"consommation_energie_median\", \"estimation_ges_median\"]].corr(method='spearman').round(1)\n",
    "f, ax = plt.subplots(figsize=(13, 9))\n",
    "sns.heatmap(data=matrice_corr, annot=True, center=None)\n",
    "plt.title(\"Matrice de corrélation\")"
   ]
  },
  {
   "cell_type": "markdown",
   "id": "6588f9d3-6657-48aa-946c-c7cbc7142ed6",
   "metadata": {},
   "source": [
    "Les corrélations positives entre variables les plus élevées:\n",
    "    - **la proportion de logements énergivores dans la commune et la consommation d'énergie médiane dans la commune (corrélation de Pearson à 0,7).** Cela semble raisonnable, car quasi tautologique (le critère de la consommation d'énergie rentrant directement dans l'algorithme de détermination de l'attribution de la classe de consommation énergétique d'un logement).\n",
    "    - **la consommation d'énergie médiane d'une commune et l'âge médian de ses logements (corrélation de Pearson à 0,6).** Ceci semble attendu: plus un logement est ancien, plus il va consommer de l'énergie.\n",
    "    - **la proportion de logements énergivores dans la commune et l'âge médian de ses logements (corrélation de Pearson à 0,5).** Plus une commune présente une proportion élevée de logements diagnostiqués énergivores, plus l'âge médian de ces logements diagnostiqués est élevé.\n",
    "    -**l'estimation médiane d'émission de GES des logements d'une commune et leur âge médian (corrélation de Pearson à 0,5).** L'empreinte carbonne des logements augmente avec leur âge.\n",
    "    \n",
    "En revanche, **on observe l'absence de corrélation entre le niveau de vie médian d'une commune et la proportion de logements énergivores**. \n",
    "\n",
    "Cela rejoint ce que l'on a pu constaté dans les figures précédentes. Il restera à voir si cela ne cache pas une relation non linéaire entre niveau de vie et performance énergétique des logemets, ou bien s'il n'y a pas malgré tout une corrélation partielle entre niveau de vie et performance énergétique des logements à l'échelle communale, une fois que l'on a pris en compte les autres variables explicatives. "
   ]
  },
  {
   "cell_type": "markdown",
   "id": "eb1d9e0b-d275-4065-9596-7346ed5ead7d",
   "metadata": {},
   "source": [
    "##### b) Nuages de points au niveau communal: proportions de logements énergivores et niveau de vie médian"
   ]
  },
  {
   "cell_type": "code",
   "execution_count": null,
   "id": "bdc362f7-09c8-4769-9262-92e7041d71d7",
   "metadata": {},
   "outputs": [],
   "source": [
    "# Nuage de points: niveau de vie médian de la commune vs proportion de logements énergivores (classes F ou G)\n",
    "plt.figure()\n",
    "plt.scatter(Filosofi_dpe_IDF_com2[\"MED16\"],Filosofi_dpe_IDF_com2[\"proportion_energivores_pct\"])\n",
    "plt.xlabel(\"Niveau de vie médian de la commune (en euros)\")\n",
    "plt.ylabel(\"Proportions de logements énergivores (en %)\")\n",
    "plt.title(\"Poids des logements énergivores dans les communes d'Ile-de-France en fonction de leur niveau de vie médian\")"
   ]
  },
  {
   "cell_type": "markdown",
   "id": "66ad8567-a631-4a60-86e4-a711990508b0",
   "metadata": {},
   "source": [
    "Au niveau de l'ensemble des communes d'Ile-de-France, il ne ressort pas de relation linéaire évidente entre la proportion de logements énergivores dans la commune et son niveau de vie médian."
   ]
  },
  {
   "cell_type": "code",
   "execution_count": null,
   "id": "6c149071-4cbf-49d4-8db3-db9f44561890",
   "metadata": {},
   "outputs": [],
   "source": [
    "#import numpy as np\n",
    "#import matplotlib.pyplot as plt\n",
    "\n",
    "# Fixing random state for reproducibility\n",
    "#np.random.seed(19680801)\n",
    "\n",
    "#x = np.random.rand(10)\n",
    "#y = np.random.rand(10)\n",
    "#z = np.sqrt(x**2 + y**2)\n",
    "\n",
    "Filosofi_DPE_75=Filosofi_dpe_IDF_com2[Filosofi_dpe_IDF_com2[\"DEP\"]==75]\n",
    "Filosofi_DPE_77=Filosofi_dpe_IDF_com2[Filosofi_dpe_IDF_com2[\"DEP\"]==77]\n",
    "Filosofi_DPE_91=Filosofi_dpe_IDF_com2[Filosofi_dpe_IDF_com2[\"DEP\"]==91]\n",
    "Filosofi_DPE_92=Filosofi_dpe_IDF_com2[Filosofi_dpe_IDF_com2[\"DEP\"]==92]\n",
    "Filosofi_DPE_93=Filosofi_dpe_IDF_com2[Filosofi_dpe_IDF_com2[\"DEP\"]==93]\n",
    "Filosofi_DPE_94=Filosofi_dpe_IDF_com2[Filosofi_dpe_IDF_com2[\"DEP\"]==94]\n",
    "Filosofi_DPE_95=Filosofi_dpe_IDF_com2[Filosofi_dpe_IDF_com2[\"DEP\"]==95]\n",
    "\n",
    "Filosofi_DPE_75\n",
    "\n",
    "plt.figure()\n",
    "\n",
    "fig, axs = plt.subplots(4,2, sharex=True, sharey=False)\n",
    "\n",
    "# Ile-de-France:\n",
    "axs[0, 0].scatter(Filosofi_dpe_IDF_com2[\"MED16\"],Filosofi_dpe_IDF_com2[\"proportion_energivores_pct\"])\n",
    "axs[0, 0].set_title(\"Ile-de-France\")\n",
    "\n",
    "# Paris (75):\n",
    "axs[0, 1].scatter(Filosofi_DPE_75[\"MED16\"],Filosofi_DPE_75[\"proportion_energivores_pct\"])\n",
    "axs[0, 1].set_title(\"Paris (75)\")\n",
    "\n",
    "# Seine-et-Marne (77):\n",
    "axs[1, 0].scatter(Filosofi_DPE_77[\"MED16\"],Filosofi_DPE_77[\"proportion_energivores_pct\"])\n",
    "axs[1, 0].set_title(\"Seine-et-Marne (77)\")\n",
    "\n",
    "# Essonne (91):\n",
    "axs[1, 1].scatter(Filosofi_DPE_91[\"MED16\"],Filosofi_DPE_91[\"proportion_energivores_pct\"])\n",
    "axs[1, 1].set_title(\"Essonne (91)\")\n",
    "\n",
    "# Hauts-de-Seine (92):\n",
    "axs[2, 0].scatter(Filosofi_DPE_92[\"MED16\"],Filosofi_DPE_92[\"proportion_energivores_pct\"])\n",
    "axs[2, 0].set_title(\"Hauts-de-Seine (92)\")\n",
    "\n",
    "# Seine-Saint-Denis (93):\n",
    "axs[2, 1].scatter(Filosofi_DPE_93[\"MED16\"],Filosofi_DPE_93[\"proportion_energivores_pct\"])\n",
    "axs[2, 1].set_title(\"Seine-Saint_Denis (93)\")\n",
    "\n",
    "# Val-de-Marne (94):\n",
    "axs[3, 0].scatter(Filosofi_DPE_94[\"MED16\"],Filosofi_DPE_94[\"proportion_energivores_pct\"])\n",
    "axs[3, 0].set_title(\"Val-de-Marne (94)\")\n",
    "\n",
    "# Seine-et-Marne (95):\n",
    "axs[3, 1].scatter(Filosofi_DPE_95[\"MED16\"],Filosofi_DPE_95[\"proportion_energivores_pct\"])\n",
    "axs[3, 1].set_title(\"Seine-et-Marne (95)\")\n",
    "\n",
    "for ax in axs.flat:\n",
    "    ax.set(xlabel='Niveau de vie médian (en euros)', ylabel='en %')\n",
    "\n",
    "# Hide x labels and tick labels for top plots and y ticks for right plots.\n",
    "for ax in axs.flat:\n",
    "    ax.label_outer()\n",
    "\n",
    "plt.tight_layout()\n",
    "#plt.show()"
   ]
  },
  {
   "cell_type": "markdown",
   "id": "f7da9bc1-2e5a-49a0-8168-82708236eba5",
   "metadata": {},
   "source": [
    "On a décliné le nuage de point par départements pour vérifier que l'absence de relation linéaire entre proportion de logements énergivores et niveau de vie se vérifie bien dans chaque département d'Ile-de-France. Effectivement, on  n'observe pas de relation linéaire évidente, à l'exception peut-être du département 92."
   ]
  },
  {
   "cell_type": "markdown",
   "id": "77f306ce-f34a-4ca0-9c67-19e2ec6120c1",
   "metadata": {},
   "source": [
    "##### c) Quelles sont les communes défavorisées avec une proportion élévée de logements énergivores?"
   ]
  },
  {
   "cell_type": "code",
   "execution_count": null,
   "id": "6797c168-02d0-412a-886a-ddeaa790813c",
   "metadata": {},
   "outputs": [],
   "source": [
    "#on regarde quelles sont les communes défavorisées avec plus de 20% de logements énergivores:\n",
    "filtre=(Filosofi_dpe_IDF_com2[\"MED16_quintiles\"].isin ([\"Q1\",\"Q2\"]))&(Filosofi_dpe_IDF_com2[\"proportion_energivores_pct\"]>20)\n",
    "communes_energivores_pauvres=Filosofi_dpe_IDF_com2[filtre]\n",
    "communes_energivores_pauvres.sort_values(by=\"NBMENFISC16\",ascending=False).head(20)"
   ]
  },
  {
   "cell_type": "markdown",
   "id": "42ae3448-6eec-4dbd-8999-4e5abbb8b56d",
   "metadata": {},
   "source": [
    "On comptabilise 108 communes d'Ile-de-France qui se situent dans les deux premiers quintiles de niveau de vie et qui présentent une proportion de logements énergivores supérieure à 20%. Ci-dessus, la liste des 20 communes les plus grandes (en nombre d'habitants).\n",
    "\n",
    "Dans le contexte de la crise énergétique actuelle, ces communes pourraient présenter un risque de vulnérabilité sociale accrue, du fait qu'elles rassemblent une proportion importante de ménages avec à la fois une contrainte budgétaire forte (faible niveau de vie en euros) et une performance énergétique des logements plus faible, ce qui induit un renchérissement plus marqué de la facture énergétique pour ces communes. Un travail d'approfondissement de cette question pourrait consister à décrire à une maille géographique plus fine (données carroyées de l'Insee par exemple) ces zones de vulnérabilité \"socio-énergétique\". Mais un tel raffinement exigerait de disposer de suffisamment de dpe à ces niveaux géographiques plus fins, ce qui n'est pas garanti."
   ]
  },
  {
   "cell_type": "markdown",
   "id": "5b6244d9-38a3-44e5-91a7-ae4572d840dd",
   "metadata": {},
   "source": [
    "### **B) Un peu de cartographie...**"
   ]
  },
  {
   "cell_type": "markdown",
   "id": "d9d385c9-fa15-477b-9d41-464b2415edfd",
   "metadata": {},
   "source": [
    "#### 1) Cartes statiques:"
   ]
  },
  {
   "cell_type": "code",
   "execution_count": null,
   "id": "9b9647b2-9cee-4659-bf4c-ba6c1db70068",
   "metadata": {},
   "outputs": [],
   "source": [
    "\n",
    "# On exécute le notebook appelé ci-dessous qui prépare les données nécessaires et génèrent deux cartes statiques:\n",
    "# 1. une première carte sur les niveaux de vie médian par commune d'Ile-de-France\n",
    "# 2. une deuxième carte sur les proportions de logements énergivores par commune d'Ile-de-France\n",
    "# 3. une troisième carte sur les niveaux de vie médian par arrondissement de Paris\n",
    "# 4. une quatrième carte sur les proportions de logements énergivores par arrondissement de Paris\n",
    "%run \"~/work/data_science_project/Création_cartes_statiques.ipynb\""
   ]
  },
  {
   "cell_type": "markdown",
   "id": "94732b64-de82-4874-9f6e-2ed0f80780e1",
   "metadata": {},
   "source": [
    "Principaux messages à retenir:\n",
    " 1. Tout d'abord, on remarque bien ici l'absence du département des Yvelines sur les deux premières cartes. Cela était attendu, dans la mesure où l'on ne dispose pas de classe de consommation énergétique renseignée pour les logements diagnistiqués dans ce département.\n",
    "2. Sur la première carte, on retrouve bien ce que l'on attendait, à savoir; les départements du nord parisien qui concentrent le plus de ménages à faible niveau de vie, tandis qu'à l'ouest, le 92 et le 91 concentrent les ménages les plus aisés. Des situations plus intermédiaires en termes de niveau de vie sont relevées dans les départements à l'est, notamment dans le 77.\n",
    "3. Sur la carte 2, il apparaît que les communes dans les départements de la petite couronne proches de Paris affichent une faible proportion de logements énergivores, comme si le caractère très urbanisé de ces territoires avec une prédominance d'appartements contribuait à garantir une certaine performance énergétique. Puis plus on s'éloigne de la petite couronne, et en particulier à l'est, plus les logements énergivores ont nombreux dans les communes. Le caractère plus rural de ces communes avec une prédominance de maisons pourrait expliquer en partie ce phénomène.\n",
    "4. Sur la carte 3, on observe des variations de niveau de vie assez nettes entre arrondissements parisiens, avec un ouest et centre parisien très aisé et un nord est parisien plus défavorisé. Naturellement, on ne capte pas ici toute l'hétérogénéité qui existe au sein même de certains de ces arrondissements, à l'instar du XVIIIème par exemple.\n",
    "5. Sur la carte 4, on remarque un coeur parisien (arrondissements I à VIII) qui se distingue par son niveau élevé de logements énergivores, et qui contraste avec les arrondissements plus périphériques qui ont une proportion de logements énergivores moins élevés. Mis en regard avec la carte 3, on observe ainsi que les quartiers les plus aisés du coeur parisien concentrent le plus de logements énergivores, ce qui pourrait être le reflet du développement historique du bâtit parisien, avec une prédominance de grands immeubles haussmaniens du XIXème siècles beaucoup plus énergivores que les immeubles récents du fait de leur vétusté. Paris semble donc assez atypique et aller contre la logique microéconomique standard: un ménage avec une contrainte budgétaire plus forte serait davantage exposé aux problèmes de performance énergétique des logements, ces derniers ne pouvant financer l'achat d'appartements bien isolés ou réaliser les travaux nécessaires pour que ce soit le cas."
   ]
  },
  {
   "cell_type": "markdown",
   "id": "560daa3e-c701-4995-8f9a-c20d77381c30",
   "metadata": {},
   "source": [
    "#### 2) Cartes interactives:"
   ]
  },
  {
   "cell_type": "code",
   "execution_count": null,
   "id": "09532c58-f4a0-45e7-a260-bc616ff841dc",
   "metadata": {
    "tags": []
   },
   "outputs": [],
   "source": [
    "%run \"~/work/data_science_project/Création_cartes_interactives.ipynb\""
   ]
  },
  {
   "cell_type": "code",
   "execution_count": null,
   "id": "dbe32ecf-6878-4025-ae1e-1fc92a2bd617",
   "metadata": {},
   "outputs": [],
   "source": [
    "# Sortie de la carte\n",
    "carte_fin"
   ]
  },
  {
   "cell_type": "code",
   "execution_count": null,
   "id": "e6c81960-f09f-44bb-ba2b-da125baf55fa",
   "metadata": {},
   "outputs": [],
   "source": [
    "# TODO: @Marc: je pense qu'il manque un bout de code à la fin du notebook appelé ici pour générer\n",
    "# les cartes interactives..., tu peux vérifier stp? merci!"
   ]
  },
  {
   "cell_type": "markdown",
   "id": "67f0eb66-fa14-44c9-adb3-4d32560f5524",
   "metadata": {},
   "source": [
    "## **II) Modélisation: prédiction de la proportion de logements énergivores des communes d'Ile-de-France**"
   ]
  },
  {
   "cell_type": "markdown",
   "id": "26d91e65-caba-4341-8a5f-c6bc00b9e468",
   "metadata": {},
   "source": [
    "### 1) D'abord, une analyse par composante principale (ACP) pour y voir un peu plus clair en ce qui concerne les variables pertinentes..."
   ]
  },
  {
   "cell_type": "code",
   "execution_count": null,
   "id": "9f486743-6210-4792-8f49-3d202228ee3f",
   "metadata": {},
   "outputs": [],
   "source": [
    "# On commence par faire une ACP\n",
    "\n",
    "# Etape 0 : choix des variables\n",
    "Filosofi_dpe_IDF_com1=Filosofi_dpe_IDF_com.dropna()\n",
    "variable=['nombre_dpe','surface_thermique_lot_median','age_logement_median','NBPERSMENFISC16','classe_age_Neuf (<5ans)'\n",
    "         ,'classe_age_Entre 50 et 100 ans','classe_age_Récent (entre 5 et 10 ans)','classe_age_Entre 10 et 25 ans',\n",
    "          \"classe_age_Entre 25 et 50 ans\",\"classe_age_Plus de 100 ans\",\"MED16\",\"surface_thermique_lot_median\"]\n",
    "\n",
    "use_dpe=Filosofi_dpe_IDF_com1[variable]\n",
    "use_dpe.head()"
   ]
  },
  {
   "cell_type": "code",
   "execution_count": null,
   "id": "666af873-9016-4df1-b112-78b08a95c897",
   "metadata": {},
   "outputs": [],
   "source": []
  },
  {
   "cell_type": "code",
   "execution_count": null,
   "id": "4d6e739a-9aa8-4642-be77-efb2a7de7be7",
   "metadata": {},
   "outputs": [],
   "source": [
    "# Standardisation \n",
    "scaler = StandardScaler()\n",
    "scaler.fit(use_dpe)"
   ]
  },
  {
   "cell_type": "code",
   "execution_count": null,
   "id": "d9eaadcf-062a-4db9-a715-b7f3bd9fbbcf",
   "metadata": {},
   "outputs": [],
   "source": [
    "use_dpe.head()"
   ]
  },
  {
   "cell_type": "code",
   "execution_count": null,
   "id": "8d2bd14b-bf3a-4cb7-a38d-79b5d25fcd00",
   "metadata": {},
   "outputs": [],
   "source": [
    "sc_dpe =pd.DataFrame(data=scaler.transform(use_dpe),index=Filosofi_dpe_IDF_com1[\"CODGEO\"],columns=variable)"
   ]
  },
  {
   "cell_type": "code",
   "execution_count": null,
   "id": "b6ddbffd-875b-43be-b116-764ddc1adfc6",
   "metadata": {},
   "outputs": [],
   "source": [
    "# Choix du nombre de composantes\n",
    "\n",
    "pca = PCA().fit(sc_dpe)\n",
    "plt.plot(np.cumsum(pca.explained_variance_ratio_))\n",
    "plt.xlabel('Nombre de composantes')\n",
    "plt.ylabel('Variance cumulative expliquée')"
   ]
  },
  {
   "cell_type": "markdown",
   "id": "d8284cf2-017c-48af-b2d9-c7a541daf15a",
   "metadata": {},
   "source": [
    "**On choisit d'implémenter avec 5 composantes principales qui contiennent de 85% de l'inertie total**"
   ]
  },
  {
   "cell_type": "code",
   "execution_count": null,
   "id": "68de99ce-3d6d-4712-abfe-365c4344c951",
   "metadata": {},
   "outputs": [],
   "source": [
    "pca=PCA(n_components=5)"
   ]
  },
  {
   "cell_type": "code",
   "execution_count": null,
   "id": "0e6bff73-bf97-4236-b34d-d2cb031e390b",
   "metadata": {},
   "outputs": [],
   "source": [
    "pca.fit(sc_dpe)"
   ]
  },
  {
   "cell_type": "code",
   "execution_count": null,
   "id": "b4d72d43-ead3-4db7-8a15-0303f6c9ec6c",
   "metadata": {},
   "outputs": [],
   "source": [
    "x_pca=pca.transform(sc_dpe)"
   ]
  },
  {
   "cell_type": "code",
   "execution_count": null,
   "id": "ddf3ac7c-3556-456c-bd9a-789bc4ca3f0c",
   "metadata": {},
   "outputs": [],
   "source": [
    "x_pca.shape"
   ]
  },
  {
   "cell_type": "code",
   "execution_count": null,
   "id": "dcfa0e0f-0be5-46a6-9d8d-459dfbd1be23",
   "metadata": {},
   "outputs": [],
   "source": [
    "# On choisir la couleur comme la proportion des logement énervore E,F et G\n",
    "energivore=Filosofi_dpe_IDF_com1[\"classe_consommation_energie_G\"]+Filosofi_dpe_IDF_com1[\"classe_consommation_energie_F\"]+Filosofi_dpe_IDF_com1[\"classe_consommation_energie_E\"]"
   ]
  },
  {
   "cell_type": "code",
   "execution_count": null,
   "id": "4571c7a0-2a49-4d09-9a07-74b5387f3aac",
   "metadata": {},
   "outputs": [],
   "source": [
    "result=pd.DataFrame(x_pca,columns=['PCA%i' % i for i in range(5)],index=use_dpe.index)\n",
    "result[\"energivore\"]=energivore\n",
    "result[\"consommation_energie_median\"]=Filosofi_dpe_IDF_com1[\"consommation_energie_median\"]\n",
    "result.head()"
   ]
  },
  {
   "cell_type": "code",
   "execution_count": null,
   "id": "549482fc-6a69-4c6c-bf91-93dfba81043a",
   "metadata": {},
   "outputs": [],
   "source": [
    "for i in list(result.columns):\n",
    "    result=result[(result[i]!= max(result[i]))]   \n",
    "result.info()"
   ]
  },
  {
   "cell_type": "code",
   "execution_count": null,
   "id": "83606ed7-d820-4750-a55e-03c60f4f2d07",
   "metadata": {},
   "outputs": [],
   "source": [
    "#Plot initialisation\n",
    "#fig = plt.figure(figsize=(10,10))\n",
    "#ax = fig.add_subplot(111, projection='3d')\n",
    "#ax.scatter(result['PCA0'], result['PCA1'], result['PCA2'], c=result[\"energivore\"], cmap=\"Set2_r\", s=30)\n",
    "\n",
    "# make simple, bare axis lines through space:\n",
    "#xAxisLine = ((min(result['PCA0']), max(result['PCA0'])), (0, 0), (0,0))\n",
    "#ax.plot(xAxisLine[0], xAxisLine[1], xAxisLine[2], 'r')\n",
    "#yAxisLine = ((0, 0), (min(result['PCA1']), max(result['PCA1'])), (0,0))\n",
    "#ax.plot(yAxisLine[0], yAxisLine[1], yAxisLine[2], 'r')\n",
    "#zAxisLine = ((0, 0), (0,0), (min(result['PCA2']), max(result['PCA2'])))\n",
    "#ax.plot(zAxisLine[0], zAxisLine[1], zAxisLine[2], 'r')\n",
    "\n",
    "# label the axes\n",
    "#ax.set_xlabel(\"PC1\")\n",
    "#ax.set_ylabel(\"PC2\")\n",
    "#ax.set_zlabel(\"PC3\")\n",
    "#ax.set_title(\"PCA\")\n",
    "#plt.show()'''"
   ]
  },
  {
   "cell_type": "code",
   "execution_count": null,
   "id": "e9bb4654-a26b-4bf1-ba52-1db209753fe3",
   "metadata": {},
   "outputs": [],
   "source": [
    "# Provoir explicatif du model\n",
    "print(pca.explained_variance_ratio_)\n",
    "print(pca.explained_variance_ratio_.sum())"
   ]
  },
  {
   "cell_type": "code",
   "execution_count": null,
   "id": "05e41d51-c018-4de8-ae0a-6ed9650b4995",
   "metadata": {},
   "outputs": [],
   "source": [
    "# Observation des ressembles sur les axes factorielles en fonction de la proportion\n",
    "# de logements energivores\n",
    "\n",
    "fig=plt.figure(figsize=(9,9))\n",
    "plt.subplot(2,2,1)\n",
    "plt.scatter(result[\"PCA0\"],result[\"PCA0\"], c=result['energivore'] , cmap = 'plasma')\n",
    "plt.xlabel('Comp 1')\n",
    "plt.ylabel('Comp 1')\n",
    "plt.colorbar(label=\"proportion de logements energivores\")\n",
    "\n",
    "plt.subplot(2,2,2)\n",
    "plt.scatter(result[\"PCA0\"],result[\"PCA1\"], c=result['energivore'] , cmap = 'plasma')\n",
    "plt.xlabel('Comp 1')\n",
    "plt.ylabel('Comp 2')\n",
    "plt.colorbar(label=\"proportion de logements energivores\")\n",
    "\n",
    "plt.subplot(2,2,3)\n",
    "plt.scatter(result[\"PCA1\"],result[\"PCA0\"], c=result['energivore'] , cmap = 'plasma')\n",
    "plt.xlabel('Comp 2')\n",
    "plt.ylabel('Comp 1')\n",
    "plt.colorbar(label=\"proportion de logements energivores\")\n",
    "\n",
    "plt.subplot(2,2,4)\n",
    "plt.scatter(result[\"PCA1\"],result[\"PCA1\"], c=result['energivore'] , cmap = 'plasma')\n",
    "plt.xlabel('Comp 2')\n",
    "plt.ylabel('Comp 2')\n",
    "plt.colorbar(label=\"proportion de logements energivores\")"
   ]
  },
  {
   "cell_type": "markdown",
   "id": "d7733481-43a4-43d3-9cba-342bd6a13882",
   "metadata": {},
   "source": [
    "**Ceci nous donne une première apercue sur l'idée selon laquelle les caractéristiques des logements et le niveau\n",
    "de revenu pourons expliquer la proportion des logements energivore dans une commune (Les deux premiers axes representent près de 50% de l'inertie total **"
   ]
  },
  {
   "cell_type": "markdown",
   "id": "921825e5-7c0d-4e70-852a-7765d1e168bc",
   "metadata": {},
   "source": [
    "Pour appréhender cette idée, nous representons les premiers axes factorials"
   ]
  },
  {
   "cell_type": "code",
   "execution_count": null,
   "id": "13547a29-6e79-43af-ae50-7ba0031a05f6",
   "metadata": {
    "tags": []
   },
   "outputs": [],
   "source": [
    "# Représentation dynamique en 3D  des axes factorielles en fonction de la proportion\n",
    "# de logements energivores\n",
    "#components = pca.fit_transform(sc_dpe)\n",
    "var = pca.explained_variance_ratio_.sum() # variance expliquée\n",
    "# Plot de la figure\n",
    "fig = px.scatter_3d(data_frame=result[['PCA0','PCA1','PCA2']], x = 'PCA0', y='PCA1', z='PCA2',\n",
    "                   color=result['energivore'],width=900,height=900)\n",
    "fig.add_annotation()\n",
    "fig.show()"
   ]
  },
  {
   "cell_type": "code",
   "execution_count": null,
   "id": "319b7d28-bda6-4fbc-adcb-2d0d6ceec077",
   "metadata": {},
   "outputs": [],
   "source": [
    "\n",
    "# Observation des ressembles sur les axes factorielles en fonction de la consommmation d'énergie médian\n",
    "\n",
    "fig=plt.figure(figsize=(9,9))\n",
    "plt.subplot(2,2,1)\n",
    "plt.scatter(result[\"PCA0\"],result[\"PCA0\"], c=result['consommation_energie_median'] , cmap = 'plasma')\n",
    "plt.xlabel('Comp 1')\n",
    "plt.ylabel('Comp 1')\n",
    "plt.colorbar(label=\"consommation energie mediane\")\n",
    "\n",
    "plt.subplot(2,2,2)\n",
    "plt.scatter(result[\"PCA0\"],result[\"PCA1\"], c=result['consommation_energie_median'] , cmap = 'plasma')\n",
    "plt.xlabel('Comp 1')\n",
    "plt.ylabel('Comp 2')\n",
    "plt.colorbar(label=\"consommation energie mediane\")\n",
    "\n",
    "plt.subplot(2,2,3)\n",
    "plt.scatter(result[\"PCA1\"],result[\"PCA0\"], c=result['consommation_energie_median'] , cmap = 'plasma')\n",
    "plt.xlabel('Comp 2')\n",
    "plt.ylabel('Comp 1')\n",
    "plt.colorbar(label=\"consommation energie mediane\")\n",
    "\n",
    "plt.subplot(2,2,4)\n",
    "plt.scatter(result[\"PCA1\"],result[\"PCA1\"], c=result['consommation_energie_median'] , cmap = 'plasma')\n",
    "plt.xlabel('Comp 2')\n",
    "plt.ylabel('Comp 2')\n",
    "plt.colorbar(label=\"consommation energie mediane\")"
   ]
  },
  {
   "cell_type": "code",
   "execution_count": null,
   "id": "6d627c40-f107-44c7-908f-b6d8b200794f",
   "metadata": {},
   "outputs": [],
   "source": [
    "# Représentation dynamique en 3D  des axes factorielles en fonction de le consommation d'energie median\n",
    "var = pca.explained_variance_ratio_.sum() # variance expliquée\n",
    "# Plot de la figure\n",
    "fig = px.scatter_3d(data_frame=result[['PCA0','PCA1','PCA2']], x = 'PCA0', y='PCA1', z='PCA2',\n",
    "                   color=result['consommation_energie_median'],width=900,height=900)\n",
    "fig.add_annotation()\n",
    "fig.show()"
   ]
  },
  {
   "cell_type": "markdown",
   "id": "b7f9664a-f91d-4a41-ad51-51889aa6eca0",
   "metadata": {
    "tags": []
   },
   "source": [
    "**L'analyse factorielle précédente conforte l'hypothèse selon laquelle les caractéristiques des batiments telles que l'age, la surface thermique, le revevenu médian dans la commune etc... pouront bien expliquer la proportion des logements énergivores ainsi que le niveau de consommmation d' energie dans une commune.**"
   ]
  },
  {
   "cell_type": "markdown",
   "id": "499fe7f0-1dd6-4a4e-9b14-09252515099e",
   "metadata": {},
   "source": [
    "Dans la suite, nous implémentons une régression Lasso. Celle-ci nous permettra non seulement de prédire ces deux variables (consommmation d' energie median et proportion des logements énergivores), mais égalemant de selectionner les variables les plus pertinentes pour une telle prédiction."
   ]
  },
  {
   "cell_type": "markdown",
   "id": "409e8e01-f1e6-42bf-b8d2-12756670d801",
   "metadata": {},
   "source": [
    "### 2) Implémentation d'une régression Lasso pour prédire au mieux la proportion de logements énergivores dans une commune d'Ile-de-France"
   ]
  },
  {
   "cell_type": "code",
   "execution_count": null,
   "id": "41582f01-7474-44a1-b4c4-9ad42b5401b2",
   "metadata": {},
   "outputs": [],
   "source": [
    "# Variables potientielles\n",
    "variable=['nombre_dpe','age_logement_median','NBPERSMENFISC16','classe_age_Neuf (<5ans)'\n",
    "         ,'classe_age_Entre 50 et 100 ans','classe_age_Récent (entre 5 et 10 ans)','classe_age_Entre 10 et 25 ans',\n",
    "          \"classe_age_Entre 25 et 50 ans\",\"MED16\",\"surface_thermique_lot_median\",\n",
    "          \"classe_surface_Moins de 30 m2\",\"classe_surface_Entre 30 et 60 m2\",\"classe_surface_Entre 60 et 100 m2\",'classe_surface_Plus de 100 m2']"
   ]
  },
  {
   "cell_type": "code",
   "execution_count": null,
   "id": "6329abcc-d2a4-4394-ab11-fabdb927082b",
   "metadata": {},
   "outputs": [],
   "source": [
    "X=Filosofi_dpe_IDF_com1[variable]\n",
    "y=Filosofi_dpe_IDF_com1['classe_consommation_energie_E']+Filosofi_dpe_IDF_com1['classe_consommation_energie_F']+Filosofi_dpe_IDF_com1['classe_consommation_energie_G']"
   ]
  },
  {
   "cell_type": "code",
   "execution_count": null,
   "id": "30483687-d2b5-45b7-988a-96f727b939aa",
   "metadata": {},
   "outputs": [],
   "source": [
    "# Echantillon d'apprentissage et echantillon de test 70% et 30% respectivement\n",
    "X_train, X_test, y_train, y_test = train_test_split(X, y, test_size=0.3, random_state=10)"
   ]
  },
  {
   "cell_type": "code",
   "execution_count": null,
   "id": "3f04d073-14d3-4b3c-8539-8694ff298961",
   "metadata": {},
   "outputs": [],
   "source": [
    "# Standartissation des variables pour éviter les effets de taille et d'échèlle\n",
    "scaler = StandardScaler().fit(X_train[variable])\n",
    "X_train[variable] = scaler.transform(X_train[variable])\n",
    "X_test[variable] = scaler.transform(X_test[variable])"
   ]
  },
  {
   "cell_type": "markdown",
   "id": "003435d7-1a80-4030-b401-2f2c7f73798f",
   "metadata": {},
   "source": [
    "#### a) Choix du alpha optimal:"
   ]
  },
  {
   "cell_type": "code",
   "execution_count": null,
   "id": "0c8aa3ef-97d2-4c6e-a143-67cf742df3ea",
   "metadata": {},
   "outputs": [],
   "source": [
    "# Lasso with 20 fold cross-validation\n",
    "model = LassoCV(cv=20, random_state=0, max_iter=10000)"
   ]
  },
  {
   "cell_type": "code",
   "execution_count": null,
   "id": "2570a15e-961e-4d03-9e7f-a9c5734ec7a0",
   "metadata": {},
   "outputs": [],
   "source": [
    "# Fit model\n",
    "model.fit(X_train, y_train)"
   ]
  },
  {
   "cell_type": "code",
   "execution_count": null,
   "id": "b507c626-0aef-4087-8617-982f11226744",
   "metadata": {},
   "outputs": [],
   "source": [
    "LassoCV(cv=20, max_iter=10000, random_state=0)"
   ]
  },
  {
   "cell_type": "code",
   "execution_count": null,
   "id": "a35f5d60-c8aa-4b73-ac8b-12f193efb2a5",
   "metadata": {},
   "outputs": [],
   "source": [
    "model.alpha_"
   ]
  },
  {
   "cell_type": "code",
   "execution_count": null,
   "id": "1a26c55e-5847-4722-9ed5-238a56bc635b",
   "metadata": {},
   "outputs": [],
   "source": [
    "# Set best alpha\n",
    "lasso_best = Lasso(alpha=model.alpha_)\n",
    "lasso_best.fit(X_train, y_train)"
   ]
  },
  {
   "cell_type": "code",
   "execution_count": null,
   "id": "4da7ef28-7098-497a-9910-9ddb7d800098",
   "metadata": {},
   "outputs": [],
   "source": [
    "Lasso(alpha=model.alpha_)"
   ]
  },
  {
   "cell_type": "markdown",
   "id": "b1fcb49e-2598-415c-a69c-df7ab674c569",
   "metadata": {},
   "source": [
    "#### b) Coefficients estimés du modèle retenu"
   ]
  },
  {
   "cell_type": "code",
   "execution_count": null,
   "id": "515cee15-6b79-4c5b-a0ca-89eeeef595df",
   "metadata": {},
   "outputs": [],
   "source": [
    "#Show model coefficients and names:\n",
    "\n",
    "print(list(zip(lasso_best.coef_, X)))"
   ]
  },
  {
   "cell_type": "markdown",
   "id": "bd3e9258-1973-42f8-9a61-98c7062f8a54",
   "metadata": {},
   "source": [
    "Il resort que les variables telles que la  proportion des batiments agés entre 50 et 100 ans ('classe_age_Entre 50 et 100 ans'), la  proportion des batiments agés entre 10 et 25 ans (classe_age_Entre 10 et 25 ans), entre 25 et 50 ans ('classe_age_Entre 25 et 50 ans') contribuent à la hausse de la proportion des batiments énergivore. Par contre la  proportion des batiments recents (classe_age_Récent (entre 5 et 10 ans)) contribue à la baisse du niveau de cette proportion. "
   ]
  },
  {
   "cell_type": "code",
   "execution_count": null,
   "id": "b24b0266-8d0f-4ba0-a6bb-c3ddd9071228",
   "metadata": {},
   "outputs": [],
   "source": [
    "print('R squared training set', round(lasso_best.score(X_train, y_train)*100, 2))\n",
    "print('R squared test set', round(lasso_best.score(X_test, y_test)*100, 2))"
   ]
  },
  {
   "cell_type": "code",
   "execution_count": null,
   "id": "0833c96b-8c4d-4154-b080-09cb8ccd3b96",
   "metadata": {},
   "outputs": [],
   "source": [
    "mean_squared_error(y_test, lasso_best.predict(X_test))"
   ]
  },
  {
   "cell_type": "code",
   "execution_count": null,
   "id": "a98d95bb-15b8-4a17-a060-f6d459bb386d",
   "metadata": {},
   "outputs": [],
   "source": [
    "plt.semilogx(model.alphas_, model.mse_path_, \":\")\n",
    "plt.plot(\n",
    "    model.alphas_ ,\n",
    "    model.mse_path_.mean(axis=-1),\n",
    "    \"k\",\n",
    "    label=\"Average across the folds\",\n",
    "    linewidth=2,\n",
    ")\n",
    "plt.axvline(\n",
    "    model.alpha_, linestyle=\"--\", color=\"k\", label=\"alpha: CV estimate\"\n",
    ")\n",
    "\n",
    "plt.legend()\n",
    "plt.xlabel(\"alphas\")\n",
    "plt.ylabel(\"Mean square error\")\n",
    "plt.title(\"Mean square error on each fold\")\n",
    "plt.axis(\"tight\")"
   ]
  },
  {
   "cell_type": "markdown",
   "id": "402f42b9-336b-472b-af8e-574e65bac3d6",
   "metadata": {},
   "source": [
    "### 3) Variante de modélisation: implémentation d'une régression Lasso pour prédire au mieux la consommation d'énergie médiane des logements dans une commune d'Ile-de-France"
   ]
  },
  {
   "cell_type": "code",
   "execution_count": null,
   "id": "1dca7889-3920-4051-b1ab-a0787f5b6728",
   "metadata": {},
   "outputs": [],
   "source": [
    "X=Filosofi_dpe_IDF_com1[variable]\n",
    "y=Filosofi_dpe_IDF_com1['consommation_energie_median']"
   ]
  },
  {
   "cell_type": "code",
   "execution_count": null,
   "id": "62a232d2-d0fc-4e93-9abb-ee597f583819",
   "metadata": {},
   "outputs": [],
   "source": [
    "X_train, X_test, y_train, y_test = train_test_split(X, y, test_size=0.3, random_state=10)"
   ]
  },
  {
   "cell_type": "code",
   "execution_count": null,
   "id": "440867ec-9ef9-463d-b4ef-3c6f0f872594",
   "metadata": {},
   "outputs": [],
   "source": [
    "scaler = StandardScaler().fit(X_train[variable])\n",
    "X_train[variable] = scaler.transform(X_train[variable])\n",
    "X_test[variable] = scaler.transform(X_test[variable])"
   ]
  },
  {
   "cell_type": "markdown",
   "id": "011bb6ce-f093-4956-94b7-0bd779ca67f0",
   "metadata": {},
   "source": [
    "#### a) Choix du alpha optimal:"
   ]
  },
  {
   "cell_type": "code",
   "execution_count": null,
   "id": "dbc21cea-2a5b-41d6-bbae-9b9d63cad1a7",
   "metadata": {},
   "outputs": [],
   "source": [
    "# Lasso with 5 fold cross-validation\n",
    "model = LassoCV(cv=20, random_state=0, max_iter=10000)"
   ]
  },
  {
   "cell_type": "code",
   "execution_count": null,
   "id": "7a60134e-59a5-437c-8359-fd2b7b328e6d",
   "metadata": {},
   "outputs": [],
   "source": [
    "# Fit model\n",
    "model.fit(X_train, y_train)"
   ]
  },
  {
   "cell_type": "code",
   "execution_count": null,
   "id": "2846199a-5b9a-490a-9d88-c8159e426608",
   "metadata": {},
   "outputs": [],
   "source": [
    "LassoCV(cv=20, max_iter=10000, random_state=0)"
   ]
  },
  {
   "cell_type": "code",
   "execution_count": null,
   "id": "44bfff07-6c8a-4da2-8172-819be63904c8",
   "metadata": {},
   "outputs": [],
   "source": [
    "model.alpha_"
   ]
  },
  {
   "cell_type": "code",
   "execution_count": null,
   "id": "d335201e-c716-4344-8cc2-a688c060e6d5",
   "metadata": {},
   "outputs": [],
   "source": [
    "# Set best alpha\n",
    "lasso_best = Lasso(alpha=model.alpha_)\n",
    "lasso_best.fit(X_train, y_train)"
   ]
  },
  {
   "cell_type": "code",
   "execution_count": null,
   "id": "ff66d09f-8734-44b0-9098-00371fd782e1",
   "metadata": {},
   "outputs": [],
   "source": [
    "Lasso(alpha=model.alpha_)"
   ]
  },
  {
   "cell_type": "markdown",
   "id": "300cdbd4-ae1e-4328-9be0-82ba74dccc50",
   "metadata": {},
   "source": [
    "#### b) Coefficients estimés du modèle retenu"
   ]
  },
  {
   "cell_type": "code",
   "execution_count": null,
   "id": "6fef9b48-9ea9-4251-9ea1-da5ccc464eb8",
   "metadata": {},
   "outputs": [],
   "source": [
    "#Show model coefficients and names:\n",
    "\n",
    "print(list(zip(lasso_best.coef_, X)))"
   ]
  },
  {
   "cell_type": "markdown",
   "id": "cd7a989c-8a25-4b06-afc8-f3264f59d19d",
   "metadata": {},
   "source": [
    "**On obtient les mêmes conclusions que celles de la modélisation précédante**"
   ]
  },
  {
   "cell_type": "code",
   "execution_count": null,
   "id": "43449167-f349-4dd4-8d52-aa0741d5f775",
   "metadata": {},
   "outputs": [],
   "source": [
    "print('R squared training set', round(lasso_best.score(X_train, y_train)*100, 2))\n",
    "print('R squared test set', round(lasso_best.score(X_test, y_test)*100, 2))"
   ]
  },
  {
   "cell_type": "code",
   "execution_count": null,
   "id": "0774cf67-227b-454d-9b2b-e8a500e8e7b7",
   "metadata": {},
   "outputs": [],
   "source": [
    "mean_squared_error(y_test, lasso_best.predict(X_test))"
   ]
  },
  {
   "cell_type": "code",
   "execution_count": null,
   "id": "818b64fa-b521-4fd3-a751-75bdab278546",
   "metadata": {},
   "outputs": [],
   "source": [
    "plt.semilogx(model.alphas_, model.mse_path_, \":\")\n",
    "plt.plot(\n",
    "    model.alphas_ ,\n",
    "    model.mse_path_.mean(axis=-1),\n",
    "    \"k\",\n",
    "    label=\"Average across the folds\",\n",
    "    linewidth=2,\n",
    ")\n",
    "plt.axvline(\n",
    "    model.alpha_, linestyle=\"--\", color=\"k\", label=\"alpha: CV estimate\"\n",
    ")\n",
    "\n",
    "plt.legend()\n",
    "plt.xlabel(\"alphas\")\n",
    "plt.ylabel(\"Mean square error\")\n",
    "plt.title(\"Mean square error on each fold\")\n",
    "plt.axis(\"tight\")"
   ]
  }
 ],
 "metadata": {
  "kernelspec": {
   "display_name": "Python 3 (ipykernel)",
   "language": "python",
   "name": "python3"
  },
  "language_info": {
   "codemirror_mode": {
    "name": "ipython",
    "version": 3
   },
   "file_extension": ".py",
   "mimetype": "text/x-python",
   "name": "python",
   "nbconvert_exporter": "python",
   "pygments_lexer": "ipython3",
   "version": "3.10.4"
  }
 },
 "nbformat": 4,
 "nbformat_minor": 5
}
