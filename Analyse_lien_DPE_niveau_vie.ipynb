{
 "cells": [
  {
   "cell_type": "markdown",
   "id": "dbdb20dd-33bd-4363-8869-e5ae718e95c4",
   "metadata": {},
   "source": [
    "# Performance énergétique des logements et niveau de vie des ménages en Ile-de-France¶"
   ]
  },
  {
   "cell_type": "markdown",
   "id": "b001574a-c8a7-4a5c-8e36-ab6dd3b26cb0",
   "metadata": {},
   "source": [
    "#### **Projet Python 2A ENSAE (année 2022-2023)**"
   ]
  },
  {
   "cell_type": "markdown",
   "id": "80b9004b-720c-44d5-ae0e-5b80beb4908f",
   "metadata": {},
   "source": [
    "#### Franki Nguimatsia Tiofak, Marc jodel Simo Noubissi, Gabriel Sklénard"
   ]
  },
  {
   "cell_type": "markdown",
   "id": "58bcad3e-a2cb-4c06-b14a-c241a461bdd0",
   "metadata": {},
   "source": [
    "## **Introduction**"
   ]
  },
  {
   "cell_type": "markdown",
   "id": "6a39309b-145f-4565-a4a2-8bc80d75c05e",
   "metadata": {},
   "source": [
    "### **Problématique:** \n",
    " \n",
    "Dans le contexte de la crise énergétique affectant un grand nombre de pays en 2022, il nous est apparu particulièrement intéressant d'étudier le lien entre performance énergétique des logements et niveau de vie des ménages. En effet, dans une période où la facture énergétique s'alourdit et atteint même des plus haut (en particulier pour le gaz), les ménages les plus défavorisés apparaissent plus vulnérables, et ce d'autant plus si leurs logements sont en moyenne plus énergivores que les ménages plus aisés. Notre projet Python cherche précisément à documenter cette vulnérabilité, avec notamment l'idée que la performance énergétique des logements ont un coût et bute nécessairement contre la contrainte budgétaire des ménages, mesurée ici par le niveau de vie médian au niveau de la commune. Qui plus est, un cercle vicieux pourrait s'instaurer: les ménages les moins aisés ont des difficultés à accéder à un logement économe en énergie, ce qui accroît la charge financière du logement et les appauvrit encore davantage. \n",
    "\n",
    "Pour avoir une volumétrie de données raisonnable, nous avons opté pour une approche géographique centrée sur l'Ile-de-France: il s'agit donc ici d'analyser la performance énergétique des logements franciliens en lien avec le niveau de vie mesuré dans chaque commune. La visualisation géographique pourrait contribuer à aider les décideurs publics à mieux cibler les éventuelles mesures de soutien à mettre en place pour atténuer le choc de la crise énergétique en Ile-de-France."
   ]
  },
  {
   "cell_type": "markdown",
   "id": "43df4697-1792-4bf2-96e2-877800c8d22f",
   "metadata": {},
   "source": [
    "### **Principales étapes du projet:**\n",
    "1. Récupération des données relatives aux diagnostics de performance énergétique (DPE) des logements franciliens (à partir de l'API de l'open data de l'ADEME.\n",
    "2. Récupération des données de niveau de vie par commune à partir des fichiers de Filosofi 2016 disponibles sur Insee.fr\n",
    "3. Retraitement des données.\n",
    "4. Premières statistiques descriptives\n",
    "5. Visualisations géographiques\n",
    "6. Modélisation: quantification du rôle explicatif du niveau de vie médian de la commune sur: \n",
    "    a. la structure des logements par classe de consommation d'énergie; \n",
    "    b. le niveau moyen de consommation d'énergie par logement;\n",
    "7. Principales limites et perspectives d'approfondissment"
   ]
  },
  {
   "cell_type": "markdown",
   "id": "6fa72ad2-127b-4511-85dd-948a9d3f1931",
   "metadata": {},
   "source": [
    "### **Principaux résultats et principales limites:**\n",
    "\n",
    "#### Résulats de l'étude\n",
    "\n",
    "1. Résultat 1: \n",
    "2. Résultat 2:\n",
    "3. Résultat 3:\n",
    "\n",
    "#### Limites de l'étude\n",
    "\n",
    "1. Limite 1:\n",
    "2. Limite 2:\n",
    "3. Limite 3:"
   ]
  },
  {
   "cell_type": "code",
   "execution_count": null,
   "id": "5c6ad809-685a-4701-bd8a-bd50f35cde21",
   "metadata": {},
   "outputs": [],
   "source": [
    "import pandas as pd\n",
    "import numpy as np\n",
    "import matplotlib.pyplot as plt\n",
    "import plotly\n",
    "import re\n",
    "import matplotlib\n",
    "import plotly.express as px\n",
    "import seaborn as sns\n",
    "\n",
    "import sklearn\n",
    "from sklearn.datasets import make_classification\n",
    "from sklearn.preprocessing import StandardScaler\n",
    "from sklearn.linear_model import LogisticRegression\n",
    "from sklearn.model_selection import train_test_split\n",
    "from sklearn.model_selection import train_test_split\n",
    "from sklearn.metrics import roc_curve\n",
    "from sklearn.metrics import roc_auc_score\n",
    "from sklearn.metrics import confusion_matrix\n",
    "from sklearn.metrics import classification_report\n",
    "from sklearn import metrics\n",
    "from sklearn.discriminant_analysis import LinearDiscriminantAnalysis\n",
    "import statsmodels.api as sm\n",
    "import scipy\n",
    "from scipy.stats import chi2_contingency as chi2_contingency"
   ]
  },
  {
   "cell_type": "markdown",
   "id": "21f9fbc7-ccc7-4f32-a9f2-0511595d0f1d",
   "metadata": {},
   "source": [
    "## **Importation des données retraitées**"
   ]
  },
  {
   "cell_type": "code",
   "execution_count": null,
   "id": "053b1564-e62a-42a2-8a75-01150b367488",
   "metadata": {},
   "outputs": [],
   "source": [
    "pd.options.display.max_colwidth = 50"
   ]
  },
  {
   "cell_type": "code",
   "execution_count": 2,
   "id": "bfe1c379-ce4c-4d6a-9787-dfa3be871307",
   "metadata": {},
   "outputs": [],
   "source": [
    "# On importe les dataframes créés dans le notebook \"récup&retraitement_données.ipynb\":\n",
    "\n",
    "# 1) Dataframe rassemblant les XX dpe réalisés dans les communes d'Ile-de-France et leurs principales caractéristiques\n",
    "#df_dpe = pd.read_csv(\"~/work/data_science_project/dpe_f2.csv\")\n",
    "\n",
    "# 2) Dataframe rassemblant les XX communes d'IDF:\n",
    "#df_dpe_com = pd.read_csv(\"~/work/data_science_project/dpe_com.csv\")\n",
    "\n",
    "# 3) Dataframe Filosofi mergé avec le dataframe précédent:\n",
    "#df_dpe_filo_com = pd.read_csv(\"~/work/data_science_project/filo_dpe_com.csv\")"
   ]
  },
  {
   "cell_type": "markdown",
   "id": "ed5554b6-78ce-45a6-ab4e-1b51c234e11a",
   "metadata": {},
   "source": [
    "### ** Dictionnaire de variables pour le dataframe df_dpe:**\n",
    "\n",
    "- code_commune_actualise:\n",
    "- "
   ]
  },
  {
   "cell_type": "markdown",
   "id": "a6cf7bd7-8725-4d39-8306-1233e530fdd4",
   "metadata": {},
   "source": [
    "## **I) Analyse exploratoire des données et datavisualisation**"
   ]
  },
  {
   "cell_type": "code",
   "execution_count": null,
   "id": "e1106a5b-b884-4b10-a198-d4c4da1e2172",
   "metadata": {},
   "outputs": [],
   "source": [
    "# Analyse aux différents niveaux d'observation: logement/commune/département"
   ]
  },
  {
   "cell_type": "code",
   "execution_count": null,
   "id": "9610af69-6e70-401f-ab75-bfd182ed16e0",
   "metadata": {},
   "outputs": [],
   "source": []
  },
  {
   "cell_type": "code",
   "execution_count": null,
   "id": "6723976f-4920-4bf1-885e-4c9c8ee19842",
   "metadata": {},
   "outputs": [],
   "source": []
  },
  {
   "cell_type": "code",
   "execution_count": null,
   "id": "3ed12c02-3f30-400c-b962-812c58074907",
   "metadata": {},
   "outputs": [],
   "source": []
  },
  {
   "cell_type": "code",
   "execution_count": null,
   "id": "4d884555-ee19-482e-950f-862497895c72",
   "metadata": {},
   "outputs": [],
   "source": []
  },
  {
   "cell_type": "code",
   "execution_count": null,
   "id": "0a9a6b10-fdef-458c-8223-28d45c39e326",
   "metadata": {},
   "outputs": [],
   "source": []
  },
  {
   "cell_type": "code",
   "execution_count": null,
   "id": "9258c2c9-08cd-4693-b9f9-d38125fa50f5",
   "metadata": {},
   "outputs": [],
   "source": []
  },
  {
   "cell_type": "code",
   "execution_count": null,
   "id": "91083437-aa9f-4fe1-8138-f7e7c54058b7",
   "metadata": {},
   "outputs": [],
   "source": []
  },
  {
   "cell_type": "code",
   "execution_count": null,
   "id": "1910821f-72a0-4d80-b5da-1b28ab079d0c",
   "metadata": {},
   "outputs": [],
   "source": []
  },
  {
   "cell_type": "code",
   "execution_count": null,
   "id": "8fc8defc-5ec1-49d8-a05c-94ddac9e5608",
   "metadata": {},
   "outputs": [],
   "source": []
  },
  {
   "cell_type": "code",
   "execution_count": null,
   "id": "70eefde6-6e17-4937-ba4a-7316b3be0187",
   "metadata": {},
   "outputs": [],
   "source": []
  },
  {
   "cell_type": "markdown",
   "id": "67f0eb66-fa14-44c9-adb3-4d32560f5524",
   "metadata": {},
   "source": [
    "## **II) Modélisation: prédiction de la structure des logements d'une commune en classes de consommation énergétique**"
   ]
  },
  {
   "cell_type": "code",
   "execution_count": null,
   "id": "e3fd871b-3209-4db2-b562-ac5ef9054f4b",
   "metadata": {},
   "outputs": [],
   "source": [
    "# Modèle logistique multinomial?\n",
    "# Variable à expliquer: la structure des logements de la commune en termes de consommation énergétique\n",
    "# Variables explicatives: le type de logement, la surface moyenne, l'ancienneté du logement, \n",
    "# le niveau de vie médian de la commune, milieur rural/milieu urbain, etc.\n",
    "\n"
   ]
  }
 ],
 "metadata": {
  "kernelspec": {
   "display_name": "Python 3 (ipykernel)",
   "language": "python",
   "name": "python3"
  },
  "language_info": {
   "codemirror_mode": {
    "name": "ipython",
    "version": 3
   },
   "file_extension": ".py",
   "mimetype": "text/x-python",
   "name": "python",
   "nbconvert_exporter": "python",
   "pygments_lexer": "ipython3",
   "version": "3.10.4"
  }
 },
 "nbformat": 4,
 "nbformat_minor": 5
}
