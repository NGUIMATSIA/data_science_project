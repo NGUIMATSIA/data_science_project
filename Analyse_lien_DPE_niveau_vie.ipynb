{
 "cells": [
  {
   "cell_type": "markdown",
   "id": "dbdb20dd-33bd-4363-8869-e5ae718e95c4",
   "metadata": {},
   "source": [
    "# Performance énergétique des logements et niveau de vie des ménages en Ile-de-France¶"
   ]
  },
  {
   "cell_type": "markdown",
   "id": "b001574a-c8a7-4a5c-8e36-ab6dd3b26cb0",
   "metadata": {},
   "source": [
    "#### **Projet Python 2A ENSAE (année 2022-2023)**"
   ]
  },
  {
   "cell_type": "markdown",
   "id": "80b9004b-720c-44d5-ae0e-5b80beb4908f",
   "metadata": {},
   "source": [
    "#### Franki Nguimatsia Tiofak, Marc jodel Simo Noubissi, Gabriel Sklénard"
   ]
  },
  {
   "cell_type": "markdown",
   "id": "58bcad3e-a2cb-4c06-b14a-c241a461bdd0",
   "metadata": {},
   "source": [
    "## **Introduction**"
   ]
  },
  {
   "cell_type": "markdown",
   "id": "6a39309b-145f-4565-a4a2-8bc80d75c05e",
   "metadata": {},
   "source": [
    "### **Problématique:** \n",
    " \n",
    "Dans le contexte de la crise énergétique affectant un grand nombre de pays en 2022, il nous est apparu particulièrement intéressant d'étudier le lien entre performance énergétique des logements et niveau de vie des ménages. En effet, dans une période où la facture énergétique s'alourdit et atteint même des plus haut (en particulier pour le gaz), les ménages les plus défavorisés apparaissent plus vulnérables, et ce d'autant plus si leurs logements sont en moyenne plus énergivores que les ménages plus aisés. Notre projet Python cherche précisément à documenter cette vulnérabilité, avec notamment l'idée que la performance énergétique des logements ont un coût et bute nécessairement contre la contrainte budgétaire des ménages, mesurée ici par le niveau de vie médian au niveau de la commune. Qui plus est, un cercle vicieux pourrait s'instaurer: les ménages les moins aisés ont des difficultés à accéder à un logement économe en énergie, ce qui accroît la charge financière du logement et les appauvrit encore davantage. \n",
    "\n",
    "Pour avoir une volumétrie de données raisonnable, nous avons opté pour une approche géographique centrée sur l'Ile-de-France: il s'agit donc ici d'analyser la performance énergétique des logements franciliens en lien avec le niveau de vie mesuré dans chaque commune. La visualisation géographique pourrait contribuer à aider les décideurs publics à mieux cibler les éventuelles mesures de soutien à mettre en place pour atténuer le choc de la crise énergétique en Ile-de-France."
   ]
  },
  {
   "cell_type": "markdown",
   "id": "43df4697-1792-4bf2-96e2-877800c8d22f",
   "metadata": {},
   "source": [
    "### **Principales étapes du projet:**\n",
    "1. Récupération des données relatives aux diagnostics de performance énergétique (DPE) des logements franciliens (à partir de l'API de l'open data de l'ADEME.\n",
    "2. Récupération des données de niveau de vie par commune à partir des fichiers de Filosofi 2016 disponibles sur Insee.fr\n",
    "3. Retraitement des données.\n",
    "4. Premières statistiques descriptives\n",
    "5. Visualisations géographiques\n",
    "6. Modélisation: quantification du rôle explicatif du niveau de vie médian de la commune sur: \n",
    "    a. la structure des logements par classe de consommation d'énergie; \n",
    "    b. le niveau moyen de consommation d'énergie par logement;\n",
    "7. Principales limites et perspectives d'approfondissment"
   ]
  },
  {
   "cell_type": "markdown",
   "id": "6fa72ad2-127b-4511-85dd-948a9d3f1931",
   "metadata": {},
   "source": [
    "### **Principaux résultats et principales limites:**\n",
    "\n",
    "#### Résulats de l'étude\n",
    "\n",
    "1. Résultat 1: \n",
    "2. Résultat 2:\n",
    "3. Résultat 3:\n",
    "\n",
    "#### Limites de l'étude\n",
    "\n",
    "1. Limite 1: les DPE observés dans chaque commune d'Ile-de-France ne résultent pas d'un échantillonage reposant sur un\n",
    "plal de sondage garantissant la représentativité statistique des données à l'échelle de chaque commune. On ne dispose\n",
    "en effet que d'une liste de DPE versés automatiquement dans la base de données de l'ADEME, dès lors qu'un diagnostic est validé numériquement. Par conséquent, on peut très bien imaginer que nos résultats sont affectés par des biais statistiques importants. Le nombre de DPE enregistrés dans une commune dépend du nombre de locations ou ventes de logements ayant eu lieu dans cette commune.\n",
    "2. Limite 2:\n",
    "3. Limite 3:"
   ]
  },
  {
   "cell_type": "code",
   "execution_count": 1,
   "id": "5c6ad809-685a-4701-bd8a-bd50f35cde21",
   "metadata": {},
   "outputs": [],
   "source": [
    "import pandas as pd\n",
    "import numpy as np\n",
    "import matplotlib.pyplot as plt\n",
    "import plotly\n",
    "import re\n",
    "import matplotlib\n",
    "import plotly.express as px\n",
    "import seaborn as sns\n",
    "\n",
    "import sklearn\n",
    "from sklearn.datasets import make_classification\n",
    "from sklearn.preprocessing import StandardScaler\n",
    "from sklearn.linear_model import LogisticRegression\n",
    "from sklearn.model_selection import train_test_split\n",
    "from sklearn.model_selection import train_test_split\n",
    "from sklearn.metrics import roc_curve\n",
    "from sklearn.metrics import roc_auc_score\n",
    "from sklearn.metrics import confusion_matrix\n",
    "from sklearn.metrics import classification_report\n",
    "from sklearn import metrics\n",
    "from sklearn.discriminant_analysis import LinearDiscriminantAnalysis\n",
    "import statsmodels.api as sm\n",
    "import scipy\n",
    "from scipy.stats import chi2_contingency as chi2_contingency"
   ]
  },
  {
   "cell_type": "code",
   "execution_count": 10,
   "id": "126648ea-61c7-456e-8e73-506c35ad5b30",
   "metadata": {},
   "outputs": [
    {
     "data": {
      "text/html": [
       "        <script type=\"text/javascript\">\n",
       "        window.PlotlyConfig = {MathJaxConfig: 'local'};\n",
       "        if (window.MathJax && window.MathJax.Hub && window.MathJax.Hub.Config) {window.MathJax.Hub.Config({SVG: {font: \"STIX-Web\"}});}\n",
       "        if (typeof require !== 'undefined') {\n",
       "        require.undef(\"plotly\");\n",
       "        requirejs.config({\n",
       "            paths: {\n",
       "                'plotly': ['https://cdn.plot.ly/plotly-2.16.1.min']\n",
       "            }\n",
       "        });\n",
       "        require(['plotly'], function(Plotly) {\n",
       "            window._Plotly = Plotly;\n",
       "        });\n",
       "        }\n",
       "        </script>\n",
       "        "
      ]
     },
     "metadata": {},
     "output_type": "display_data"
    }
   ],
   "source": [
    "import matplotlib.pyplot as plt\n",
    "import seaborn as sns\n",
    "\n",
    "from plotly.offline import init_notebook_mode\n",
    "init_notebook_mode(connected = True)\n",
    "\n",
    "import plotly\n",
    "import plotly.express as px\n",
    "from IPython.display import HTML #pour afficher les graphs\n",
    "# dans une cellule de notebook"
   ]
  },
  {
   "cell_type": "code",
   "execution_count": 11,
   "id": "852fb878-1ab1-4dc8-a8cc-e77cab5863ae",
   "metadata": {},
   "outputs": [],
   "source": [
    "# Pour que les graphiques apparaissent dans le Notebook Jupyter:\n",
    "%matplotlib inline"
   ]
  },
  {
   "cell_type": "markdown",
   "id": "21f9fbc7-ccc7-4f32-a9f2-0511595d0f1d",
   "metadata": {},
   "source": [
    "## **Importation des données retraitées**"
   ]
  },
  {
   "cell_type": "code",
   "execution_count": 2,
   "id": "053b1564-e62a-42a2-8a75-01150b367488",
   "metadata": {},
   "outputs": [],
   "source": [
    "pd.options.display.max_colwidth = 50"
   ]
  },
  {
   "cell_type": "markdown",
   "id": "01f9b190-31d1-4c1c-b9d8-9a865cdc2705",
   "metadata": {},
   "source": [
    "On importe les données récupérées et traitées dans le notebook récup&retraitement_données.ipynb:"
   ]
  },
  {
   "cell_type": "code",
   "execution_count": 3,
   "id": "bfe1c379-ce4c-4d6a-9787-dfa3be871307",
   "metadata": {},
   "outputs": [
    {
     "name": "stderr",
     "output_type": "stream",
     "text": [
      "/tmp/ipykernel_1166/4118461782.py:3: DtypeWarning: Columns (11) have mixed types. Specify dtype option on import or set low_memory=False.\n",
      "  dpe_idf = pd.read_csv(\"~/work/data_science_project/dpe_IDF.csv\")\n"
     ]
    }
   ],
   "source": [
    "# 1) Dataframe rassemblant tous les dpe réalisés dans les communes d'Ile-de-France (principales caractéristiques relatives \n",
    "# à la performance énergétique des logements):\n",
    "dpe_idf = pd.read_csv(\"~/work/data_science_project/dpe_IDF.csv\")\n",
    "\n",
    "# 2) Dataframe rassemblant les communes d'IDF avec leur caractéristiques en terme de performance énergétique des logements\n",
    "# ainsi que quelques données socio-économiques (Filosofi):\n",
    "Filosofi_dpe_IDF_com= pd.read_csv(\"~/work/data_science_project/Filosofi_dpe_IDF_com.csv\")\n"
   ]
  },
  {
   "cell_type": "markdown",
   "id": "ed5554b6-78ce-45a6-ab4e-1b51c234e11a",
   "metadata": {},
   "source": [
    "### ** Dictionnaire de variables pour le dataframe dpe_idf:**\n",
    "\n",
    "- code_commune_actualise:\n",
    "- "
   ]
  },
  {
   "cell_type": "markdown",
   "id": "a6cf7bd7-8725-4d39-8306-1233e530fdd4",
   "metadata": {},
   "source": [
    "## **I) Analyse exploratoire des données et datavisualisation**"
   ]
  },
  {
   "cell_type": "markdown",
   "id": "9faca04b-09c5-4ee8-ad07-9cc80488e390",
   "metadata": {},
   "source": [
    "### **A)Analyse de la performance énergétique des logements à l'échelle des communes d'Ile-de-France:**"
   ]
  },
  {
   "cell_type": "markdown",
   "id": "2c690a86-2725-43ed-850d-725cd9ace7db",
   "metadata": {},
   "source": [
    "#### 1) Etape préliminaire: on exclut de l'analyse les communes pour lesquelles le nombre de DPE s'avère trop faible au regard du nombre de ménages fiscaux renseignés dans Filosofi:"
   ]
  },
  {
   "cell_type": "markdown",
   "id": "97b00e4a-fbed-4436-84d5-7770109e5a15",
   "metadata": {},
   "source": [
    "L'interprétabilité des résultats est conditionnée par le fait que l'on dispose d'un nombre suffisant de DPE dans chaque commune. Pour tester cette condition, on calcule le ratio \"nombre de DPE/nombre de ménages fiscaux\" pour chaqye commune, avec l'idée que le nombre de ménages fiscaux est un bon proxi du nombre total de logements dans une commune donnée."
   ]
  },
  {
   "cell_type": "code",
   "execution_count": 7,
   "id": "0a9a6b10-fdef-458c-8223-28d45c39e326",
   "metadata": {},
   "outputs": [
    {
     "data": {
      "text/plain": [
       "count    1013.000000\n",
       "mean        0.327655\n",
       "std         0.686188\n",
       "min         0.007556\n",
       "25%         0.097826\n",
       "50%         0.181564\n",
       "75%         0.312899\n",
       "max        11.027027\n",
       "Name: ratio_DPE_menage, dtype: float64"
      ]
     },
     "execution_count": 7,
     "metadata": {},
     "output_type": "execute_result"
    }
   ],
   "source": [
    "# Calcul du ratio \"nombre de DPE/nombre de ménages fiscaux\":\n",
    "Filosofi_dpe_IDF_com[\"ratio_DPE_menage\"]=Filosofi_dpe_IDF_com[\"nombre_dpe\"]/Filosofi_dpe_IDF_com[\"NBMENFISC16\"]\n",
    "Filosofi_dpe_IDF_com[\"ratio_DPE_menage\"].describe()"
   ]
  },
  {
   "cell_type": "markdown",
   "id": "dffdcd30-1ae6-46c2-950d-f21a2452acf6",
   "metadata": {},
   "source": [
    "Au vue de la distribution de ce ratio, on peut décider d'exclure les 25% des communes de l'analyse qui présentent un ratio inférieur à 10%:"
   ]
  },
  {
   "cell_type": "code",
   "execution_count": 8,
   "id": "91083437-aa9f-4fe1-8138-f7e7c54058b7",
   "metadata": {},
   "outputs": [
    {
     "data": {
      "text/plain": [
       "(751, 52)"
      ]
     },
     "execution_count": 8,
     "metadata": {},
     "output_type": "execute_result"
    }
   ],
   "source": [
    "Filosofi_dpe_IDF_com2=Filosofi_dpe_IDF_com[Filosofi_dpe_IDF_com[\"ratio_DPE_menage\"]>0.1].reset_index()\n",
    "Filosofi_dpe_IDF_com2.shape"
   ]
  },
  {
   "cell_type": "code",
   "execution_count": 9,
   "id": "1910821f-72a0-4d80-b5da-1b28ab079d0c",
   "metadata": {},
   "outputs": [
    {
     "data": {
      "text/plain": [
       "(1288, 52)"
      ]
     },
     "execution_count": 9,
     "metadata": {},
     "output_type": "execute_result"
    }
   ],
   "source": [
    "Filosofi_dpe_IDF_com.shape"
   ]
  },
  {
   "cell_type": "markdown",
   "id": "89d0cb27-a077-448e-8c25-34ffe8a5e97e",
   "metadata": {},
   "source": [
    "#### 2) Premières statistiques descriptives sur la performance énergétique des logements dans les communes d'Ile-de-France"
   ]
  },
  {
   "cell_type": "markdown",
   "id": "d21cca5e-2fc2-417a-b559-e6a22b005ba2",
   "metadata": {},
   "source": [
    "##### a) Création d'une indicatrice pour repérer les communes rassemblant le plus de logements énergivores"
   ]
  },
  {
   "cell_type": "code",
   "execution_count": 14,
   "id": "59d0e29d-3b86-4703-a4c5-c4bff361c5bb",
   "metadata": {},
   "outputs": [
    {
     "data": {
      "text/html": [
       "<div>\n",
       "<style scoped>\n",
       "    .dataframe tbody tr th:only-of-type {\n",
       "        vertical-align: middle;\n",
       "    }\n",
       "\n",
       "    .dataframe tbody tr th {\n",
       "        vertical-align: top;\n",
       "    }\n",
       "\n",
       "    .dataframe thead th {\n",
       "        text-align: right;\n",
       "    }\n",
       "</style>\n",
       "<table border=\"1\" class=\"dataframe\">\n",
       "  <thead>\n",
       "    <tr style=\"text-align: right;\">\n",
       "      <th></th>\n",
       "      <th>classe_consommation_energie_F</th>\n",
       "      <th>classe_consommation_energie_G</th>\n",
       "    </tr>\n",
       "  </thead>\n",
       "  <tbody>\n",
       "    <tr>\n",
       "      <th>1</th>\n",
       "      <td>0.142202</td>\n",
       "      <td>0.084862</td>\n",
       "    </tr>\n",
       "    <tr>\n",
       "      <th>3</th>\n",
       "      <td>0.137219</td>\n",
       "      <td>0.086737</td>\n",
       "    </tr>\n",
       "    <tr>\n",
       "      <th>4</th>\n",
       "      <td>0.126366</td>\n",
       "      <td>0.075820</td>\n",
       "    </tr>\n",
       "    <tr>\n",
       "      <th>6</th>\n",
       "      <td>0.146821</td>\n",
       "      <td>0.084763</td>\n",
       "    </tr>\n",
       "    <tr>\n",
       "      <th>7</th>\n",
       "      <td>0.095255</td>\n",
       "      <td>0.052408</td>\n",
       "    </tr>\n",
       "    <tr>\n",
       "      <th>...</th>\n",
       "      <td>...</td>\n",
       "      <td>...</td>\n",
       "    </tr>\n",
       "    <tr>\n",
       "      <th>1281</th>\n",
       "      <td>0.142857</td>\n",
       "      <td>0.000000</td>\n",
       "    </tr>\n",
       "    <tr>\n",
       "      <th>1282</th>\n",
       "      <td>0.002976</td>\n",
       "      <td>0.000000</td>\n",
       "    </tr>\n",
       "    <tr>\n",
       "      <th>1285</th>\n",
       "      <td>0.010179</td>\n",
       "      <td>0.003215</td>\n",
       "    </tr>\n",
       "    <tr>\n",
       "      <th>1286</th>\n",
       "      <td>0.000000</td>\n",
       "      <td>0.000000</td>\n",
       "    </tr>\n",
       "    <tr>\n",
       "      <th>1287</th>\n",
       "      <td>0.312500</td>\n",
       "      <td>0.000000</td>\n",
       "    </tr>\n",
       "  </tbody>\n",
       "</table>\n",
       "<p>751 rows × 2 columns</p>\n",
       "</div>"
      ],
      "text/plain": [
       "      classe_consommation_energie_F  classe_consommation_energie_G\n",
       "1                          0.142202                       0.084862\n",
       "3                          0.137219                       0.086737\n",
       "4                          0.126366                       0.075820\n",
       "6                          0.146821                       0.084763\n",
       "7                          0.095255                       0.052408\n",
       "...                             ...                            ...\n",
       "1281                       0.142857                       0.000000\n",
       "1282                       0.002976                       0.000000\n",
       "1285                       0.010179                       0.003215\n",
       "1286                       0.000000                       0.000000\n",
       "1287                       0.312500                       0.000000\n",
       "\n",
       "[751 rows x 2 columns]"
      ]
     },
     "execution_count": 14,
     "metadata": {},
     "output_type": "execute_result"
    }
   ],
   "source": [
    "# Codage de l'indicatrice \"est énergivore\" (définition 2):\n",
    "x=Filosofi_dpe_IDF_com2[[\"classe_consommation_energie_F\",\"classe_consommation_energie_G\"]]\n",
    "x\n",
    "x[\"proportion_energivores\"]=x.sum(axis=1)\n",
    "#FG=x[[\"proportion_energivores\"]]\n",
    "#Filosofi_dpe_IDF_com3=Filosofi_dpe_IDF_com2.merge(FG,left_index=True,right_index=True)\n",
    "#Filosofi_dpe_IDF_com3.head()"
   ]
  },
  {
   "cell_type": "markdown",
   "id": "a1fabc55-5e32-4db0-b135-fda60d401c4a",
   "metadata": {},
   "source": [
    "#### 3) Quel lien statistique entre performance énergétique des logements d'une commune et le niveau de niveau médian des ménages qui y vivent?"
   ]
  },
  {
   "cell_type": "code",
   "execution_count": null,
   "id": "39f6653f-5944-4026-b0b5-21177c9550e7",
   "metadata": {},
   "outputs": [],
   "source": []
  },
  {
   "cell_type": "markdown",
   "id": "67f0eb66-fa14-44c9-adb3-4d32560f5524",
   "metadata": {},
   "source": [
    "## **II) Modélisation: prédiction de la structure des logements d'une commune en classes de consommation énergétique**"
   ]
  },
  {
   "cell_type": "code",
   "execution_count": null,
   "id": "e3fd871b-3209-4db2-b562-ac5ef9054f4b",
   "metadata": {},
   "outputs": [],
   "source": [
    "# Modèle logistique multinomial?\n",
    "# Variable à expliquer: la structure des logements de la commune en termes de consommation énergétique\n",
    "# Variables explicatives: le type de logement, la surface moyenne, l'ancienneté du logement, \n",
    "# le niveau de vie médian de la commune, milieur rural/milieu urbain, etc.\n",
    "\n"
   ]
  }
 ],
 "metadata": {
  "kernelspec": {
   "display_name": "Python 3 (ipykernel)",
   "language": "python",
   "name": "python3"
  },
  "language_info": {
   "codemirror_mode": {
    "name": "ipython",
    "version": 3
   },
   "file_extension": ".py",
   "mimetype": "text/x-python",
   "name": "python",
   "nbconvert_exporter": "python",
   "pygments_lexer": "ipython3",
   "version": "3.10.4"
  }
 },
 "nbformat": 4,
 "nbformat_minor": 5
}
