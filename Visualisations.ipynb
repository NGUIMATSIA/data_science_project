{
 "cells": [
  {
   "cell_type": "markdown",
   "metadata": {},
   "source": [
    "### Construction de cartes interactives avec folium"
   ]
  },
  {
   "cell_type": "code",
   "execution_count": 4,
   "metadata": {},
   "outputs": [
    {
     "data": {
      "text/plain": [
       "'C:\\\\Users\\\\HP\\\\Downloads'"
      ]
     },
     "execution_count": 4,
     "metadata": {},
     "output_type": "execute_result"
    }
   ],
   "source": [
    "# espace de travail\n",
    "pwd"
   ]
  },
  {
   "cell_type": "code",
   "execution_count": 8,
   "metadata": {},
   "outputs": [],
   "source": [
    "# On exécute le code qui retraite les données\n",
    "\n",
    "%run \"./Pré_traitements_carto.ipynb\""
   ]
  },
  {
   "cell_type": "code",
   "execution_count": null,
   "metadata": {},
   "outputs": [],
   "source": [
    "# Installation du package nécessaire\n",
    "pip install folium"
   ]
  },
  {
   "cell_type": "code",
   "execution_count": null,
   "metadata": {},
   "outputs": [],
   "source": [
    "# Calcul des points centraux des communes afin de centrer la carte\n",
    "data_geo2 = communes_IDF[['INSEE_COM', 'geometry']]\n",
    "data_geo2['Center_point'] = data_geo2['geometry'].centroid"
   ]
  },
  {
   "cell_type": "code",
   "execution_count": null,
   "metadata": {},
   "outputs": [],
   "source": [
    "data_geo2.head()"
   ]
  },
  {
   "cell_type": "code",
   "execution_count": null,
   "metadata": {},
   "outputs": [],
   "source": [
    "#Extraction de la latitude et de la longitude de ces points centraux\n",
    "data_geo2[\"lat\"] = data_geo2.Center_point.map(lambda p: p.x)\n",
    "data_geo2[\"long\"] = data_geo2.Center_point.map(lambda p: p.y)"
   ]
  },
  {
   "cell_type": "code",
   "execution_count": null,
   "metadata": {},
   "outputs": [],
   "source": [
    "data_geo2.head()"
   ]
  },
  {
   "cell_type": "code",
   "execution_count": null,
   "metadata": {},
   "outputs": [],
   "source": [
    "# Première visualisation\n",
    "\n",
    "import folium\n",
    "\n",
    "# Calcul du centre de la carte\n",
    "data_geo2 = communes_IDF[['INSEE_COM', 'geometry']]\n",
    "data_geo2['Center_point'] = data_geo2['geometry'].centroid\n",
    "#Extract lat and lon from the centerpoint\n",
    "data_geo2[\"lat\"] = data_geo2.Center_point.map(lambda p: p.x)\n",
    "data_geo2[\"long\"] = data_geo2.Center_point.map(lambda p: p.y)\n",
    "\n",
    "# Sortie de la carte primaire\n",
    "m = folium.Map(location=[data_geo2['long'].mean(), data_geo2['lat'].mean()],\n",
    "               zoom_start=9, tiles='cartodbpositron')\n",
    "# m \n",
    "# (Visualisation non nécessaire)"
   ]
  },
  {
   "cell_type": "code",
   "execution_count": null,
   "metadata": {},
   "outputs": [],
   "source": [
    "# Première carte relative aux revenus\n",
    "\n",
    "folium.Choropleth(\n",
    "    geo_data=communes_IDF,\n",
    "    data = data_used,\n",
    "    #data = f_data,\n",
    "    columns = ['INSEE_COM', 'MED16'],\n",
    "    key_on = 'feature.properties.INSEE_COM',\n",
    "    nan_fill_color='White',\n",
    "    fill_color=\"YlGn\",\n",
    "    fill_opacity=0.8,\n",
    "    line_opacity=0.5,\n",
    "    legend_name=\"Revenu médian (€)\"\n",
    "    ).add_to(m)\n",
    "# Ajout des infos bulles sur la carte\n",
    "\n",
    "folium.features.GeoJson(\n",
    "                    data=data_used,\n",
    "                    name='Revenu median des ménages',\n",
    "                    smooth_factor=2,\n",
    "                    style_function=lambda x: {'color':'black','fillColor':'transparent','weight':0.5},\n",
    "                    tooltip=folium.features.GeoJsonTooltip(\n",
    "                        fields=['NOM',\n",
    "                                'NBMENFISC16',\n",
    "                                'NBPERSMENFISC16',\n",
    "                                'MED16'\n",
    "                               ],\n",
    "                        aliases=[\"<br>Commmune :\",\n",
    "                                 \"<br>Nombre de ménages :\",\n",
    "                                 \"<br>Population :\",\n",
    "                                 \"<br>Revenu médian :\"\n",
    "                                ], \n",
    "                        localize=True,\n",
    "                        sticky=False,\n",
    "                        labels=True,\n",
    "                        style=\"\"\"\n",
    "                            background-color: #F0EFEF;\n",
    "                            border: 2px solid black;\n",
    "                            border-radius: 3px;\n",
    "                            box-shadow: 3px;\n",
    "                        \"\"\",\n",
    "                        max_width=800,),\n",
    "                            highlight_function=lambda x: {'weight':3,'fillColor':'grey'},\n",
    "                        ).add_to(m)   \n",
    "\n",
    "m"
   ]
  },
  {
   "cell_type": "markdown",
   "metadata": {},
   "source": [
    "A ce stade, nous souhaitons afficher deux types d'informations sur une même carte interactive\n",
    "-  La première affichera les données socio-démographiques relatives aux communes\n",
    "-  La seconde renseignera sur les DPE dans les communes"
   ]
  },
  {
   "cell_type": "code",
   "execution_count": null,
   "metadata": {},
   "outputs": [],
   "source": [
    "data_used['Energ2']=1-data_used['Energ']\n",
    "data_used.head()"
   ]
  },
  {
   "cell_type": "markdown",
   "metadata": {},
   "source": [
    "On construit la carte avec toutes ses thématiques. Quatre étapes sont nécessaires"
   ]
  },
  {
   "cell_type": "code",
   "execution_count": null,
   "metadata": {},
   "outputs": [],
   "source": [
    "'''\n",
    "Etape 1: On créée la carte de base et les deux couches séparément, \n",
    "Mais sans information au départ\n",
    "'''\n",
    "carte_fin = folium.Map(location=[data_geo2['long'].mean(), data_geo2['lat'].mean()],\n",
    "               zoom_start=9.2, tiles=None)\n",
    "cart_demo = folium.FeatureGroup(name='Données démographiques',overlay=False).add_to(carte_fin)\n",
    "cart_dpe = folium.FeatureGroup(name='Diagnostics de performance énergétique',overlay=False).add_to(carte_fin)"
   ]
  },
  {
   "cell_type": "code",
   "execution_count": null,
   "metadata": {},
   "outputs": [],
   "source": [
    "'''\n",
    "Etape 2\n",
    "On ajoute la première couche de carte à la carte \"cart_demo\n",
    "'''\n",
    "\n",
    "# La carte choropleth\n",
    "echelle = (f_data['MED16'].quantile((0,0.2,0.4,0.6,0.8,1))).tolist()\n",
    "nouv = folium.Choropleth(\n",
    "    geo_data=communes_IDF,\n",
    "    #geo_data=communes_IDF,\n",
    "    data = data_used,\n",
    "    columns = ['INSEE_COM', 'MED16'],\n",
    "    key_on = 'feature.properties.INSEE_COM',\n",
    "    fill_color='YlOrRd',\n",
    "    nan_fill_color = 'White', # Couleur pour les données manquantes\n",
    "    fill_opacity=0.7,\n",
    "    line_opacity=0.5,\n",
    "    legend_name=\"Revenu médian (€)\",\n",
    "    line_color = 'black',\n",
    "    highlight = True\n",
    "    ).geojson.add_to(cart_demo)\n",
    "\n",
    "# Ajout des infos-bulles\n",
    "folium.features.GeoJson(\n",
    "                    data=data_used,\n",
    "                    name='Revenu median des ménages',\n",
    "                    smooth_factor=2,\n",
    "                    style_function=lambda x: {'color':'black','fillColor':'transparent','weight':0.5},\n",
    "                    tooltip=folium.features.GeoJsonTooltip(\n",
    "                        fields=['NOM',\n",
    "                                'NBMENFISC16',\n",
    "                                'NBPERSMENFISC16',\n",
    "                                'MED16'\n",
    "                               ],\n",
    "                        aliases=[\"<br>Commmune :\",\n",
    "                                 \"<br>Nombre de ménages :\",\n",
    "                                 \"<br>Population :\",\n",
    "                                 \"<br>Revenu médian :\"\n",
    "                                ], \n",
    "                        localize=True,\n",
    "                        sticky=False,\n",
    "                        labels=True,\n",
    "                        style=\"\"\"\n",
    "                            background-color: #F0EFEF;\n",
    "                            border: 2px solid black;\n",
    "                            border-radius: 3px;\n",
    "                            box-shadow: 3px;\n",
    "                        \"\"\",\n",
    "                        max_width=800,),\n",
    "                            highlight_function=lambda x: {'weight':3,'fillColor':'grey'},\n",
    "                        ).add_to(nouv)"
   ]
  },
  {
   "cell_type": "code",
   "execution_count": null,
   "metadata": {},
   "outputs": [],
   "source": [
    "'''\n",
    "Etape 3:\n",
    "On ajoute la deuxième couche choroplèthe à la carte \"cart_demo\n",
    "'''\n",
    "# La carte choropleth\n",
    "nouv2 = folium.Choropleth(\n",
    "    geo_data=communes_IDF,\n",
    "    data = data_used,\n",
    "    columns = ['INSEE_COM', 'Energ2'],\n",
    "    key_on = 'feature.properties.INSEE_COM',\n",
    "    fill_color='YlGn',\n",
    "    nan_fill_color = 'White', # Couleur pour les données manquantes\n",
    "    fill_opacity=0.7,\n",
    "    line_opacity=0.5,\n",
    "    legend_name=\"Classe d'énergie majoritaire\",\n",
    "    line_color = 'black',\n",
    "    highlight = True\n",
    "    ).geojson.add_to(cart_dpe)\n",
    "\n",
    "# Ajout des infos-bulles\n",
    "folium.features.GeoJson(\n",
    "                    data=data_used,\n",
    "                    name=\"Proportion de ménages énergivores\",\n",
    "                    smooth_factor=2,\n",
    "                    style_function=lambda x: {'color':'black','fillColor':'transparent','weight':0.5},\n",
    "                    tooltip=folium.features.GeoJsonTooltip(\n",
    "                        fields=['NOM',\n",
    "                                'Energ',\n",
    "                                'classe_consommation_energie_A',\n",
    "                                'classe_consommation_energie_B',\n",
    "                                'classe_consommation_energie_C', \n",
    "                                'classe_consommation_energie_D',  \n",
    "                                'CE_Maj'\n",
    "                               ],\n",
    "                        aliases=[\"<br>Commmune :\",\n",
    "                                 \"<br>Proportion ménages énergivores :\",\n",
    "                                 \"<br>Proportion de A :\",\n",
    "                                 \"<br>Proportion de B :\",\n",
    "                                 \"<br>Proportion de C :\",\n",
    "                                 \"<br>Proportion de D :\",\n",
    "                                 \"<br>Classe majoritaire :\",\n",
    "                                ], \n",
    "                        localize=True,\n",
    "                        sticky=False,\n",
    "                        labels=True,\n",
    "                        style=\"\"\"\n",
    "                            background-color: #F0EFEF;\n",
    "                            border: 2px solid black;\n",
    "                            border-radius: 3px;\n",
    "                            box-shadow: 3px;\n",
    "                        \"\"\",\n",
    "                        max_width=800,),\n",
    "                            highlight_function=lambda x: {'weight':3,'fillColor':'grey'},\n",
    "                        ).add_to(nouv2)"
   ]
  },
  {
   "cell_type": "code",
   "execution_count": null,
   "metadata": {},
   "outputs": [],
   "source": [
    "'''\n",
    "Etape 4:\n",
    "On ajoute des composantes à la carte: des tuiles et une barre de controle\n",
    "'''\n",
    "folium.TileLayer('cartodbdark_matter',overlay=True,name=\"View in Dark Mode\").add_to(carte_fin)\n",
    "folium.TileLayer('cartodbpositron',overlay=True,name=\"Viw in Light Mode\").add_to(carte_fin)\n",
    "folium.LayerControl(collapsed=False).add_to(carte_fin)"
   ]
  },
  {
   "cell_type": "code",
   "execution_count": null,
   "metadata": {},
   "outputs": [],
   "source": [
    "# Affichage de la carte\n",
    "carte_fin"
   ]
  },
  {
   "cell_type": "code",
   "execution_count": null,
   "metadata": {},
   "outputs": [],
   "source": []
  }
 ],
 "metadata": {
  "kernelspec": {
   "display_name": "Python 3 (ipykernel)",
   "language": "python",
   "name": "python3"
  },
  "language_info": {
   "codemirror_mode": {
    "name": "ipython",
    "version": 3
   },
   "file_extension": ".py",
   "mimetype": "text/x-python",
   "name": "python",
   "nbconvert_exporter": "python",
   "pygments_lexer": "ipython3",
   "version": "3.10.4"
  }
 },
 "nbformat": 4,
 "nbformat_minor": 4
}
